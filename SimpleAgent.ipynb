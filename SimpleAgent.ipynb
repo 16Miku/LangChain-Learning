{
 "cells": [
  {
   "cell_type": "code",
   "execution_count": null,
   "id": "ca8e12f6-8537-479a-b622-fde1513f175c",
   "metadata": {},
   "outputs": [],
   "source": [
    "# LangChain官方文档教程\n",
    "# https://python.langchain.com/docs/tutorials/agents/\n"
   ]
  },
  {
   "cell_type": "code",
   "execution_count": null,
   "id": "7f5020a5-e562-4883-9e52-ca1d37014709",
   "metadata": {},
   "outputs": [],
   "source": [
    "# Build an Agent（构建代理）\n",
    "# LangChain 支持创建代理 ，即使用 LLM 作为推理引擎的系统，以确定要采取的操作以及执行操作所需的输入。执行操作后，结果可以反馈给 LLM，以确定是否需要执行更多操作，或者是否可以完成。这通常通过工具调用来实现。\n",
    "# 在本教程中，我们将构建一个可以与搜索引擎交互的代理。您将能够向该代理提问，观察它如何调用搜索工具，并与其进行对话。\n"
   ]
  },
  {
   "cell_type": "code",
   "execution_count": null,
   "id": "36186c50-887d-44e8-a3cd-173f71268f55",
   "metadata": {},
   "outputs": [],
   "source": [
    "# End-to-end agent  端到端代理\n",
    "# 下面的代码片段代表一个功能齐全的代理，它使用 LLM 来决定使用哪些工具。它配备了通用搜索工具。它具有对话记忆功能，这意味着它可以用作多轮聊天机器人。\n",
    "# 在本指南的其余部分，我们将介绍各个组件以及每个部分的功能 - 但如果您只想获取一些代码并开始使用，请随意使用它！\n",
    "\n"
   ]
  },
  {
   "cell_type": "code",
   "execution_count": null,
   "id": "6cfd644d-5efa-482d-9eef-e9ca7586adb1",
   "metadata": {},
   "outputs": [],
   "source": [
    "# Import relevant functionality\n",
    "from langchain.chat_models import init_chat_model\n",
    "from langchain_tavily import TavilySearch\n",
    "from langgraph.checkpoint.memory import MemorySaver\n",
    "from langgraph.prebuilt import create_react_agent\n",
    "\n",
    "# Create the agent\n",
    "memory = MemorySaver()\n",
    "model = init_chat_model(\"anthropic:claude-3-5-sonnet-latest\")\n",
    "search = TavilySearch(max_results=2)\n",
    "tools = [search]\n",
    "agent_executor = create_react_agent(model, tools, checkpointer=memory)"
   ]
  },
  {
   "cell_type": "code",
   "execution_count": null,
   "id": "87f335bb-0972-4199-b2c8-9e3b35e39c89",
   "metadata": {},
   "outputs": [],
   "source": [
    "# Use the agent\n",
    "config = {\"configurable\": {\"thread_id\": \"abc123\"}}\n",
    "\n",
    "input_message = {\n",
    "    \"role\": \"user\",\n",
    "    \"content\": \"Hi, I'm Bob and I live in SF.\",\n",
    "}\n",
    "for step in agent_executor.stream(\n",
    "    {\"messages\": [input_message]}, config, stream_mode=\"values\"\n",
    "):\n",
    "    step[\"messages\"][-1].pretty_print()"
   ]
  },
  {
   "cell_type": "code",
   "execution_count": null,
   "id": "ca64ad66-f3f2-424d-9e7d-464d0570a9c8",
   "metadata": {},
   "outputs": [],
   "source": [
    "input_message = {\n",
    "    \"role\": \"user\",\n",
    "    \"content\": \"What's the weather where I live?\",\n",
    "}\n",
    "\n",
    "for step in agent_executor.stream(\n",
    "    {\"messages\": [input_message]}, config, stream_mode=\"values\"\n",
    "):\n",
    "    step[\"messages\"][-1].pretty_print()"
   ]
  },
  {
   "cell_type": "code",
   "execution_count": null,
   "id": "e83b43d8-5250-4645-b61c-3642da23a51a",
   "metadata": {},
   "outputs": [],
   "source": []
  },
  {
   "cell_type": "code",
   "execution_count": null,
   "id": "2dc9099a-0c0e-4865-b1b9-a48a8f5117f7",
   "metadata": {},
   "outputs": [],
   "source": []
  },
  {
   "cell_type": "code",
   "execution_count": null,
   "id": "aa906327-ee33-4132-8c94-359f4eb1b078",
   "metadata": {},
   "outputs": [],
   "source": [
    "# Setup  设置\n",
    "# Jupyter Notebook\n",
    "# 本指南（以及文档中的大多数其他指南）使用 Jupyter Notebook ，并假设读者也使用 Jupyter Notebook。Jupyter Notebook 是学习如何使用 LLM 系统的理想交互式环境，因为很多情况下可能会出错（例如意外输出、API 故障等），而观察这些情况是更好地理解使用 LLM 进行构建的好方法。\n"
   ]
  },
  {
   "cell_type": "code",
   "execution_count": null,
   "id": "256a0395-f893-42e1-8f2f-c239335d3e8a",
   "metadata": {},
   "outputs": [],
   "source": [
    "# Installation  安装\n",
    "# pip install -U langgraph langchain-tavily langgraph-checkpoint-sqlite"
   ]
  },
  {
   "cell_type": "code",
   "execution_count": null,
   "id": "0d389af2-c15b-4a64-a833-c2d517262125",
   "metadata": {},
   "outputs": [],
   "source": [
    "# LangSmith\n",
    "# 使用 LangChain 构建的许多应用程序都包含多个步骤，需要多次调用 LLM 函数。随着这些应用程序变得越来越复杂，能够检查链或代理内部究竟发生了什么变得至关重要。最好的方法是使用 LangSmith 。\n",
    "\n",
    "# 通过上面的链接注册后，请确保设置环境变量以开始记录跟踪：\n",
    "\n",
    "# export LANGSMITH_TRACING=\"true\"\n",
    "# export LANGSMITH_API_KEY=\"...\"\n",
    "\n",
    "# 或者，如果在笔记本中，您可以使用以下方式设置它们：\n",
    "\n",
    "# import getpass\n",
    "# import os\n",
    "\n",
    "# os.environ[\"LANGSMITH_TRACING\"] = \"true\"\n",
    "# os.environ[\"LANGSMITH_API_KEY\"] = getpass.getpass()\n",
    "\n",
    "\n"
   ]
  },
  {
   "cell_type": "code",
   "execution_count": null,
   "id": "07dc5fc4-235f-4caa-85f7-d311c5c3274c",
   "metadata": {},
   "outputs": [],
   "source": []
  },
  {
   "cell_type": "code",
   "execution_count": 1,
   "id": "e597c270-5778-474f-a65c-cfd3e241e60c",
   "metadata": {},
   "outputs": [],
   "source": [
    "# Tavily\n",
    "# 我们将使用 Tavily （一个搜索引擎）作为工具。为了使用它，您需要获取并设置一个 API 密钥：\n",
    "\n",
    "# export TAVILY_API_KEY=\"...\"\n",
    "\n",
    "\n",
    "# 或者，如果在笔记本中，您可以使用以下方式进行设置：\n",
    "\n",
    "# import getpass\n",
    "# import os\n",
    "\n",
    "# os.environ[\"TAVILY_API_KEY\"] = getpass.getpass()"
   ]
  },
  {
   "cell_type": "code",
   "execution_count": 1,
   "id": "c7df26b1-5c60-4e00-93ee-c940d4601fb9",
   "metadata": {},
   "outputs": [],
   "source": [
    "import getpass\n",
    "import os\n",
    "if not os.environ.get(\"TAVILY_API_KEY\"):\n",
    "  os.environ[\"TAVILY_API_KEY\"] = getpass.getpass()"
   ]
  },
  {
   "cell_type": "code",
   "execution_count": 2,
   "id": "1d217780-f7fb-4014-a998-b0bfdbe30ab3",
   "metadata": {},
   "outputs": [],
   "source": [
    "# Define tools  定义工具\n",
    "\n",
    "# 首先，我们需要创建想要使用的工具。我们主要选择的工具是 Tavily—— 一个搜索引擎。我们可以使用专用的 langchain-tavily 集成包 ，轻松地将 Tavily 搜索引擎作为 LangChain 的工具使用。\n",
    "\n"
   ]
  },
  {
   "cell_type": "code",
   "execution_count": 3,
   "id": "6b28693d-c2b7-4ce9-8ada-2049c0f32ee6",
   "metadata": {},
   "outputs": [
    {
     "name": "stdout",
     "output_type": "stream",
     "text": [
      "{'query': '今天北京的天气如何？', 'follow_up_questions': None, 'answer': None, 'images': [], 'results': [{'url': 'https://www.weather.com.cn/weather/101010100.shtml', 'title': '预报- 北京 - 中国天气网', 'content': '<<返回 全国 全国>北京>城区 31/18℃ <3级 晴转多云 33/20℃ <3级 29/18℃ <3级 26/17℃ <3级 23/16℃ <3级 26/18℃ <3级 27/19℃ <3级 适宜 洗车指数 适宜 洗车指数 较适宜 洗车指数 适宜 洗车指数 适宜 洗车指数 适宜 洗车指数 过去24小时最大风力: 3级 (h)℃(μg/m³)(%)(mm)(级) 40°C 35°C 30°C 25°C 20°C 15°C 10°C 31  18℃  33  20℃  29  18℃  26  17℃  23  16℃  26  18℃  27  19℃  周边地区 | 周边景点 2025-05-19 07:30更新 周边地区 | 周边景点 2025-05-19 07:30更新 5月19日 今年首场大范围高温进入鼎盛阶段 南方降雨陷入“车轮战” --------------------------- 今明两天（5月19至20日），我国首轮大范围高温天气将达到鼎盛，多地将现37℃到39℃的高温，公众请注意防暑。 5月18日 北方首场高温天气将进入鼎盛阶段 江南华南多地需警惕降雨叠加致灾 ------------------------------- 今天北方首场高温过程已开启，明（5月19日）起至22日将进入核心影响时段，多地或经历40℃的高温酷热天气。南方未来一周仍维持多雨模式。 5月17日 南方多轮降水接踵而至 下周初北方高温发展河南陕西局地或达40℃ ------------------------------- 南方未来三天（5月17日至19日）降雨连连，20日至21日、22至24日还将有降雨过程。气温方面，19日至21日我国高温明显增多、增强。 5月16日 南方大部陷入降雨车轮战 北方高温将增多增强 --------------------- 今天（5月16日），西南地区东部、江南、华南等地仍有大范围降雨，局地雨势猛烈，并可能伴有强对流天气。北方多地高温将逐渐发展增多。 5月15日 南方降水频繁暴雨连连 北方高温发展多地或现40°C酷热天气 ----------------------------- 南方今明天（5月15日至16日）降水范围较大。后天起，南方新一轮降水过程将接踵而至。北方大部晴热天气较多，明天起高温将会发展增多。 5月13日 南方再度开启多雨模式 北方将现较大范围高温 --------------------- 今明天（5月13日至14日），我国中东部地区降水增多，南方再度开启多雨模式，需注意防范局地强降雨和强对流天气的不利影响。 5月11日 今明天中东部大部天气晴朗 下周东北华北气温将屡创新高 -------------------------- 今明两天（5月11日至12日），随着南方降雨结束，全国大部都将以晴好天气为主。在阳光的助力下，中东部气温也开始大幅回升。 5月10日 周末中东部地区晴多雨少 北方率先开启升温模式 ---------------------- 预计本周末（5月10日至11日），我国大部地区降水稀少，各地将陆续放晴。与此同时，北方也将率先开启升温模式。 5月8日 南方降雨进入核心影响时段 华北东北多地凉意加重 ----------------------- 今明天（5月8日至9日），中东部将现大范围降雨，南方部分地区雨势较强，当地需警惕次生灾害，公众关注预警预报信息，途经积水路段尽量绕行。 5月6日 明起南方新一轮降雨来袭 全国大部气温波动上升 ---------------------- 今天（5月6日），江南、华南仍有较强降雨，明天起南方地区新一轮降雨过程上线。近期冷空气较为活跃，全国大部气温将呈现波动中上升的趋势。 更多>>高清图集 大理 晴转多云 26/15℃适宜 张家界 晴转多云 33/22℃较适宜', 'score': 0.6897452, 'raw_content': None}, {'url': 'https://www.nmc.cn/publish/forecast/ABJ/beijing.html', 'title': '北京-天气预报 - 中央气象台', 'content': 'Image 3 Image 4 Image 5 Image 6 Image 7 Image 8 Image 9 Image 10 Image 11 Image 12 Image 13 Image 14 Image 15 Image 16 Image 17 Image 18 Image 19 Image 20 Image 21 Image 22 Image 23 Image 24 Image 25 Image 26 Image 27 Image 28 Image 29 Image 30 Image 31 Image 32 Image 33 Image 34 Image 35 Image 36 Image 37 Image 38 Image 39 Image 40 Image 41 Image 42 Image 43 Image 44 Image 45 Image 46 Image 47 Image 48 Image 49 Image 50 Image 51 Image 52 Image 53 Image 54 Image 55 Image 56 Image 57 Image 58 Image 59 Image 60 Image 61 Image 62', 'score': 0.50227106, 'raw_content': None}], 'response_time': 0.9}\n"
     ]
    }
   ],
   "source": [
    "from langchain_tavily import TavilySearch\n",
    "\n",
    "search = TavilySearch(max_results=2)\n",
    "search_results = search.invoke(\"今天北京的天气如何？\")\n",
    "print(search_results)\n",
    "# If we want, we can create other tools.\n",
    "# Once we have all the tools we want, we can put them in a list that we will reference later.\n",
    "tools = [search]"
   ]
  },
  {
   "cell_type": "code",
   "execution_count": null,
   "id": "f8c98d0e-5c9d-4eee-831a-373acda9ef32",
   "metadata": {},
   "outputs": [],
   "source": []
  },
  {
   "cell_type": "code",
   "execution_count": 4,
   "id": "2c6c5728-8c4c-4a2a-b6f0-014e3917039b",
   "metadata": {},
   "outputs": [],
   "source": [
    "# Using Language Models  使用语言模型\n",
    "# 接下来，让我们学习如何使用语言模型来调用工具。LangChain 支持多种不同的语言模型，您可以互换使用 - 请在下方选择您想要使用的模型！\n",
    "\n",
    "# Select chat model:\n",
    "# 选择聊天模型 ：\n",
    "# Google Gemini ▾\n",
    "# pip install -qU \"langchain[google-genai]\"\n"
   ]
  },
  {
   "cell_type": "code",
   "execution_count": 5,
   "id": "57e39a6a-3b43-47f0-9c15-8cd813aa190b",
   "metadata": {},
   "outputs": [],
   "source": [
    "import getpass\n",
    "import os\n",
    "\n",
    "if not os.environ.get(\"GOOGLE_API_KEY\"):\n",
    "  os.environ[\"GOOGLE_API_KEY\"] = getpass.getpass(\"Enter API key for Google Gemini: \")\n",
    "\n",
    "from langchain.chat_models import init_chat_model\n",
    "\n",
    "model = init_chat_model(\"gemini-2.0-flash\", model_provider=\"google_genai\")"
   ]
  },
  {
   "cell_type": "code",
   "execution_count": 6,
   "id": "6d9a2439-99dc-4766-914c-cc14a45f1a50",
   "metadata": {},
   "outputs": [],
   "source": [
    "# 您可以通过传入消息列表来调用语言模型。默认情况下，响应是 content 字符串。\n"
   ]
  },
  {
   "cell_type": "code",
   "execution_count": 7,
   "id": "0152799b-2092-4adb-a18f-17e9aab1fe68",
   "metadata": {},
   "outputs": [
    {
     "data": {
      "text/plain": [
       "'你好！很高兴能和你交流。有什么我可以帮你的吗？'"
      ]
     },
     "execution_count": 7,
     "metadata": {},
     "output_type": "execute_result"
    }
   ],
   "source": [
    "query = \"你好!\"\n",
    "response = model.invoke([{\"role\": \"user\", \"content\": query}])\n",
    "response.text()\n"
   ]
  },
  {
   "cell_type": "code",
   "execution_count": 8,
   "id": "c14c1241-3b7a-44c5-af11-85d1441af689",
   "metadata": {},
   "outputs": [],
   "source": [
    "# 现在我们可以看看如何让这个模型进行工具调用。为了实现这一点，我们使用 .bind_tools 来为语言模型提供这些工具的知识。\n"
   ]
  },
  {
   "cell_type": "code",
   "execution_count": 9,
   "id": "67ea9f92-1f4a-4c74-9708-88ffd4122783",
   "metadata": {},
   "outputs": [],
   "source": [
    "model_with_tools = model.bind_tools(tools)"
   ]
  },
  {
   "cell_type": "code",
   "execution_count": 10,
   "id": "b9a57e7f-a1d8-4548-9b32-e57d1462adc1",
   "metadata": {},
   "outputs": [],
   "source": [
    "# 现在我们可以调用该模型了。我们先用普通消息调用它，看看它是如何响应的。我们可以查看 content 字段和 tool_calls 字段。"
   ]
  },
  {
   "cell_type": "code",
   "execution_count": 11,
   "id": "8734a0a5-0c43-4e94-a8b2-5d98681b0ba8",
   "metadata": {},
   "outputs": [
    {
     "name": "stdout",
     "output_type": "stream",
     "text": [
      "Message content: 你好！很高兴为您服务。有什么我可以帮您的吗？\n",
      "\n",
      "Tool calls: []\n"
     ]
    }
   ],
   "source": [
    "query = \"你好!\"\n",
    "response = model_with_tools.invoke([{\"role\": \"user\", \"content\": query}])\n",
    "\n",
    "print(f\"Message content: {response.text()}\\n\")\n",
    "print(f\"Tool calls: {response.tool_calls}\")"
   ]
  },
  {
   "cell_type": "code",
   "execution_count": 12,
   "id": "b0ac5173-3355-4354-b715-71f337edee79",
   "metadata": {},
   "outputs": [],
   "source": [
    "# 现在，让我们尝试使用一些需要调用工具的输入来调用它。\n"
   ]
  },
  {
   "cell_type": "code",
   "execution_count": 13,
   "id": "12c74a0d-9d1b-469b-a075-b43970dbda05",
   "metadata": {},
   "outputs": [
    {
     "name": "stdout",
     "output_type": "stream",
     "text": [
      "Message content: \n",
      "\n",
      "Tool calls: [{'name': 'tavily_search', 'args': {'query': '北京的天气'}, 'id': '416a996c-51dc-421e-b37a-1754e714c74a', 'type': 'tool_call'}]\n"
     ]
    }
   ],
   "source": [
    "query = \"搜索北京的天气\"\n",
    "response = model_with_tools.invoke([{\"role\": \"user\", \"content\": query}])\n",
    "\n",
    "print(f\"Message content: {response.text()}\\n\")\n",
    "print(f\"Tool calls: {response.tool_calls}\")"
   ]
  },
  {
   "cell_type": "code",
   "execution_count": 14,
   "id": "2fcaf773-dfb3-4a05-8694-f7082b7480a1",
   "metadata": {},
   "outputs": [],
   "source": [
    "# 我们可以看到，现在没有文本内容，但是有一个工具调用！它希望我们调用 Tavily Search 工具。\n",
    "# 这还不算调用那个工具——它只是告诉我们调用它。为了真正调用它，我们需要创建代理。\n"
   ]
  },
  {
   "cell_type": "code",
   "execution_count": null,
   "id": "6d239922-111c-43ea-8f48-43526e1da563",
   "metadata": {},
   "outputs": [],
   "source": []
  },
  {
   "cell_type": "code",
   "execution_count": 15,
   "id": "f0febe50-8b0d-4abb-bedb-4b13812168c2",
   "metadata": {},
   "outputs": [],
   "source": [
    "# Create the agent  创建代理\n",
    "# 现在我们已经定义了工具和 LLM，可以创建代理了。我们将使用 LangGraph 来构建代理。目前，我们使用一个高级接口来构建代理，但 LangGraph 的优点在于，这个高级接口背后有一个低级、高度可控的 API，方便您修改代理逻辑。\n",
    "# 现在，我们可以使用 LLM 和工具初始化代理。\n",
    "# 注意，我们传入的是 model ，而不是 model_with_tools 。这是因为 create_react_agent 会在后台为我们调用 .bind_tools 。\n"
   ]
  },
  {
   "cell_type": "code",
   "execution_count": 16,
   "id": "42d14ea3-84e0-48d6-b85d-b84269f9d001",
   "metadata": {},
   "outputs": [],
   "source": [
    "from langgraph.prebuilt import create_react_agent\n",
    "\n",
    "agent_executor = create_react_agent(model, tools)"
   ]
  },
  {
   "cell_type": "code",
   "execution_count": 17,
   "id": "72bde9aa-bfb5-4b30-a482-02eef0fe718d",
   "metadata": {},
   "outputs": [],
   "source": [
    "# Run the agent  运行代理\n",
    "# 现在，我们可以通过几个查询来运行代理！请注意，目前这些都是无状态查询（它不会记住之前的交互）。需要注意的是，代理将在交互结束时返回最终状态（其中包含所有输入，稍后我们将了解如何仅获取输出）。\n",
    "# 首先，让我们看看当不需要调用工具时它如何响应：\n"
   ]
  },
  {
   "cell_type": "code",
   "execution_count": 18,
   "id": "a33dcbef-7279-4395-892d-5048d2cffcb5",
   "metadata": {},
   "outputs": [
    {
     "name": "stdout",
     "output_type": "stream",
     "text": [
      "================================\u001b[1m Human Message \u001b[0m=================================\n",
      "\n",
      "你好!\n",
      "==================================\u001b[1m Ai Message \u001b[0m==================================\n",
      "\n",
      "你好！有什么我可以帮你的吗？\n"
     ]
    }
   ],
   "source": [
    "input_message = {\"role\": \"user\", \"content\": \"你好!\"}\n",
    "response = agent_executor.invoke({\"messages\": [input_message]})\n",
    "\n",
    "for message in response[\"messages\"]:\n",
    "    message.pretty_print()"
   ]
  },
  {
   "cell_type": "code",
   "execution_count": 19,
   "id": "acc987eb-0cad-404b-ad52-96e954052129",
   "metadata": {},
   "outputs": [],
   "source": [
    "# 为了确切了解幕后发生的事情（并确保它没有调用工具），我们可以查看 LangSmith 跟踪\n"
   ]
  },
  {
   "cell_type": "code",
   "execution_count": 20,
   "id": "91bf08cd-94c8-4461-ab23-ae1cb4c24101",
   "metadata": {},
   "outputs": [],
   "source": [
    "# 现在让我们在一个应该调用该工具的示例上尝试一下\n"
   ]
  },
  {
   "cell_type": "code",
   "execution_count": 22,
   "id": "e4311ad0-43bb-4259-be58-3b18b8f02c46",
   "metadata": {},
   "outputs": [
    {
     "name": "stdout",
     "output_type": "stream",
     "text": [
      "================================\u001b[1m Human Message \u001b[0m=================================\n",
      "\n",
      "搜索北京的天气\n",
      "==================================\u001b[1m Ai Message \u001b[0m==================================\n",
      "Tool Calls:\n",
      "  tavily_search (a692c29a-4062-4900-a2f5-ce382013af91)\n",
      " Call ID: a692c29a-4062-4900-a2f5-ce382013af91\n",
      "  Args:\n",
      "    query: 北京的天气\n",
      "=================================\u001b[1m Tool Message \u001b[0m=================================\n",
      "Name: tavily_search\n",
      "\n",
      "{\"query\": \"北京的天气\", \"follow_up_questions\": null, \"answer\": null, \"images\": [], \"results\": [{\"url\": \"https://www.weather.com.cn/weather/101010100.shtml\", \"title\": \"预报- 北京 - 中国天气网\", \"content\": \"<<返回 全国 全国>北京>城区 31/18℃ <3级 晴转多云 33/20℃ <3级 29/18℃ <3级 26/17℃ <3级 23/16℃ <3级 26/18℃ <3级 27/19℃ <3级 适宜 洗车指数 适宜 洗车指数 较适宜 洗车指数 适宜 洗车指数 适宜 洗车指数 适宜 洗车指数 过去24小时最大风力: 3级 (h)℃(μg/m³)(%)(mm)(级) 40°C 35°C 30°C 25°C 20°C 15°C 10°C 31  18℃  33  20℃  29  18℃  26  17℃  23  16℃  26  18℃  27  19℃  周边地区 | 周边景点 2025-05-19 07:30更新 周边地区 | 周边景点 2025-05-19 07:30更新 5月19日 今年首场大范围高温进入鼎盛阶段 南方降雨陷入“车轮战” --------------------------- 今明两天（5月19至20日），我国首轮大范围高温天气将达到鼎盛，多地将现37℃到39℃的高温，公众请注意防暑。 5月18日 北方首场高温天气将进入鼎盛阶段 江南华南多地需警惕降雨叠加致灾 ------------------------------- 今天北方首场高温过程已开启，明（5月19日）起至22日将进入核心影响时段，多地或经历40℃的高温酷热天气。南方未来一周仍维持多雨模式。 5月17日 南方多轮降水接踵而至 下周初北方高温发展河南陕西局地或达40℃ ------------------------------- 南方未来三天（5月17日至19日）降雨连连，20日至21日、22至24日还将有降雨过程。气温方面，19日至21日我国高温明显增多、增强。 5月16日 南方大部陷入降雨车轮战 北方高温将增多增强 --------------------- 今天（5月16日），西南地区东部、江南、华南等地仍有大范围降雨，局地雨势猛烈，并可能伴有强对流天气。北方多地高温将逐渐发展增多。 5月15日 南方降水频繁暴雨连连 北方高温发展多地或现40°C酷热天气 ----------------------------- 南方今明天（5月15日至16日）降水范围较大。后天起，南方新一轮降水过程将接踵而至。北方大部晴热天气较多，明天起高温将会发展增多。 5月13日 南方再度开启多雨模式 北方将现较大范围高温 --------------------- 今明天（5月13日至14日），我国中东部地区降水增多，南方再度开启多雨模式，需注意防范局地强降雨和强对流天气的不利影响。 5月11日 今明天中东部大部天气晴朗 下周东北华北气温将屡创新高 -------------------------- 今明两天（5月11日至12日），随着南方降雨结束，全国大部都将以晴好天气为主。在阳光的助力下，中东部气温也开始大幅回升。 5月10日 周末中东部地区晴多雨少 北方率先开启升温模式 ---------------------- 预计本周末（5月10日至11日），我国大部地区降水稀少，各地将陆续放晴。与此同时，北方也将率先开启升温模式。 5月8日 南方降雨进入核心影响时段 华北东北多地凉意加重 ----------------------- 今明天（5月8日至9日），中东部将现大范围降雨，南方部分地区雨势较强，当地需警惕次生灾害，公众关注预警预报信息，途经积水路段尽量绕行。 5月6日 明起南方新一轮降雨来袭 全国大部气温波动上升 ---------------------- 今天（5月6日），江南、华南仍有较强降雨，明天起南方地区新一轮降雨过程上线。近期冷空气较为活跃，全国大部气温将呈现波动中上升的趋势。 更多>>高清图集 大理 晴转多云 26/15℃适宜 张家界 晴转多云 33/22℃较适宜\", \"score\": 0.6852132, \"raw_content\": null}, {\"url\": \"https://www.nmc.cn/publish/forecast/ABJ/beijing.html\", \"title\": \"北京-天气预报 - 中央气象台\", \"content\": \"Image 3 Image 4 Image 5 Image 6 Image 7 Image 8 Image 9 Image 10 Image 11 Image 12 Image 13 Image 14 Image 15 Image 16 Image 17 Image 18 Image 19 Image 20 Image 21 Image 22 Image 23 Image 24 Image 25 Image 26 Image 27 Image 28 Image 29 Image 30 Image 31 Image 32 Image 33 Image 34 Image 35 Image 36 Image 37 Image 38 Image 39 Image 40 Image 41 Image 42 Image 43 Image 44 Image 45 Image 46 Image 47 Image 48 Image 49 Image 50 Image 51 Image 52 Image 53 Image 54 Image 55 Image 56 Image 57 Image 58 Image 59 Image 60 Image 61 Image 62\", \"score\": 0.5342973, \"raw_content\": null}], \"response_time\": 1.51}\n",
      "==================================\u001b[1m Ai Message \u001b[0m==================================\n",
      "\n",
      "北京城区的天气是晴转多云，31/18℃，<3级。未来几天的天气预报是：33/20℃ <3级，29/18℃ <3级，26/17℃ <3级，23/16℃ <3级，26/18℃ <3级，27/19℃ <3级。 洗车指数适宜。\n"
     ]
    }
   ],
   "source": [
    "input_message = {\"role\": \"user\", \"content\": \"搜索北京的天气\"}\n",
    "response = agent_executor.invoke({\"messages\": [input_message]})\n",
    "\n",
    "for message in response[\"messages\"]:\n",
    "    message.pretty_print()"
   ]
  },
  {
   "cell_type": "code",
   "execution_count": 23,
   "id": "bfcda49c-ad17-4bd3-acda-97ae4714e5aa",
   "metadata": {},
   "outputs": [],
   "source": [
    "# 我们可以检查 LangSmith 跟踪以确保它有效地调用搜索工具。\n"
   ]
  },
  {
   "cell_type": "code",
   "execution_count": null,
   "id": "96d0f61c-5ffd-416e-a384-3e545ae08783",
   "metadata": {},
   "outputs": [],
   "source": []
  },
  {
   "cell_type": "code",
   "execution_count": 24,
   "id": "ada4b041-62ee-47c3-aedf-9c75928e1046",
   "metadata": {},
   "outputs": [],
   "source": [
    "# Streaming Messages\n",
    "# 我们已经了解了如何使用 .invoke 调用代理来获取最终响应。如果代理执行多个步骤，这可能需要一段时间。为了显示中间进度，我们可以在消息发生时进行流式传输。\n",
    "\n",
    "\n"
   ]
  },
  {
   "cell_type": "code",
   "execution_count": 25,
   "id": "eab99b9a-2821-4cce-96e0-f47e8d8c7490",
   "metadata": {},
   "outputs": [
    {
     "name": "stdout",
     "output_type": "stream",
     "text": [
      "================================\u001b[1m Human Message \u001b[0m=================================\n",
      "\n",
      "搜索北京的天气\n",
      "==================================\u001b[1m Ai Message \u001b[0m==================================\n",
      "Tool Calls:\n",
      "  tavily_search (6874f7e1-ce07-47b6-835b-8cd901b02fcf)\n",
      " Call ID: 6874f7e1-ce07-47b6-835b-8cd901b02fcf\n",
      "  Args:\n",
      "    query: 北京的天气\n",
      "=================================\u001b[1m Tool Message \u001b[0m=================================\n",
      "Name: tavily_search\n",
      "\n",
      "{\"query\": \"北京的天气\", \"follow_up_questions\": null, \"answer\": null, \"images\": [], \"results\": [{\"url\": \"https://www.weather.com.cn/weather/101010100.shtml\", \"title\": \"预报- 北京 - 中国天气网\", \"content\": \"<<返回 全国 全国>北京>城区 31/18℃ <3级 晴转多云 33/20℃ <3级 29/18℃ <3级 26/17℃ <3级 23/16℃ <3级 26/18℃ <3级 27/19℃ <3级 适宜 洗车指数 适宜 洗车指数 较适宜 洗车指数 适宜 洗车指数 适宜 洗车指数 适宜 洗车指数 过去24小时最大风力: 3级 (h)℃(μg/m³)(%)(mm)(级) 40°C 35°C 30°C 25°C 20°C 15°C 10°C 31  18℃  33  20℃  29  18℃  26  17℃  23  16℃  26  18℃  27  19℃  周边地区 | 周边景点 2025-05-19 07:30更新 周边地区 | 周边景点 2025-05-19 07:30更新 5月19日 今年首场大范围高温进入鼎盛阶段 南方降雨陷入“车轮战” --------------------------- 今明两天（5月19至20日），我国首轮大范围高温天气将达到鼎盛，多地将现37℃到39℃的高温，公众请注意防暑。 5月18日 北方首场高温天气将进入鼎盛阶段 江南华南多地需警惕降雨叠加致灾 ------------------------------- 今天北方首场高温过程已开启，明（5月19日）起至22日将进入核心影响时段，多地或经历40℃的高温酷热天气。南方未来一周仍维持多雨模式。 5月17日 南方多轮降水接踵而至 下周初北方高温发展河南陕西局地或达40℃ ------------------------------- 南方未来三天（5月17日至19日）降雨连连，20日至21日、22至24日还将有降雨过程。气温方面，19日至21日我国高温明显增多、增强。 5月16日 南方大部陷入降雨车轮战 北方高温将增多增强 --------------------- 今天（5月16日），西南地区东部、江南、华南等地仍有大范围降雨，局地雨势猛烈，并可能伴有强对流天气。北方多地高温将逐渐发展增多。 5月15日 南方降水频繁暴雨连连 北方高温发展多地或现40°C酷热天气 ----------------------------- 南方今明天（5月15日至16日）降水范围较大。后天起，南方新一轮降水过程将接踵而至。北方大部晴热天气较多，明天起高温将会发展增多。 5月13日 南方再度开启多雨模式 北方将现较大范围高温 --------------------- 今明天（5月13日至14日），我国中东部地区降水增多，南方再度开启多雨模式，需注意防范局地强降雨和强对流天气的不利影响。 5月11日 今明天中东部大部天气晴朗 下周东北华北气温将屡创新高 -------------------------- 今明两天（5月11日至12日），随着南方降雨结束，全国大部都将以晴好天气为主。在阳光的助力下，中东部气温也开始大幅回升。 5月10日 周末中东部地区晴多雨少 北方率先开启升温模式 ---------------------- 预计本周末（5月10日至11日），我国大部地区降水稀少，各地将陆续放晴。与此同时，北方也将率先开启升温模式。 5月8日 南方降雨进入核心影响时段 华北东北多地凉意加重 ----------------------- 今明天（5月8日至9日），中东部将现大范围降雨，南方部分地区雨势较强，当地需警惕次生灾害，公众关注预警预报信息，途经积水路段尽量绕行。 5月6日 明起南方新一轮降雨来袭 全国大部气温波动上升 ---------------------- 今天（5月6日），江南、华南仍有较强降雨，明天起南方地区新一轮降雨过程上线。近期冷空气较为活跃，全国大部气温将呈现波动中上升的趋势。 更多>>高清图集 大理 晴转多云 26/15℃适宜 张家界 晴转多云 33/22℃较适宜\", \"score\": 0.6852132, \"raw_content\": null}, {\"url\": \"https://www.nmc.cn/publish/forecast/ABJ/beijing.html\", \"title\": \"北京-天气预报 - 中央气象台\", \"content\": \"Image 3 Image 4 Image 5 Image 6 Image 7 Image 8 Image 9 Image 10 Image 11 Image 12 Image 13 Image 14 Image 15 Image 16 Image 17 Image 18 Image 19 Image 20 Image 21 Image 22 Image 23 Image 24 Image 25 Image 26 Image 27 Image 28 Image 29 Image 30 Image 31 Image 32 Image 33 Image 34 Image 35 Image 36 Image 37 Image 38 Image 39 Image 40 Image 41 Image 42 Image 43 Image 44 Image 45 Image 46 Image 47 Image 48 Image 49 Image 50 Image 51 Image 52 Image 53 Image 54 Image 55 Image 56 Image 57 Image 58 Image 59 Image 60 Image 61 Image 62\", \"score\": 0.5342973, \"raw_content\": null}], \"response_time\": 0.74}\n",
      "==================================\u001b[1m Ai Message \u001b[0m==================================\n",
      "\n",
      "北京城区今天31/18℃，晴转多云，<3级。\n"
     ]
    }
   ],
   "source": [
    "for step in agent_executor.stream({\"messages\": [input_message]}, stream_mode=\"values\"):\n",
    "    step[\"messages\"][-1].pretty_print()"
   ]
  },
  {
   "cell_type": "code",
   "execution_count": 26,
   "id": "f231ca6d-4ef2-41e6-93b3-5f2f55b33787",
   "metadata": {},
   "outputs": [],
   "source": [
    "# Streaming tokens\n",
    "# 除了流式返回消息之外，流式返回令牌也很有用。我们可以通过指定 stream_mode=\"messages\" 来实现。\n",
    "# 下面我们使用 message.text() ，它需要 langchain-core>=0.3.37 。\n",
    "\n"
   ]
  },
  {
   "cell_type": "code",
   "execution_count": 27,
   "id": "0d510b4d-a036-4b11-8414-54e36e94589e",
   "metadata": {},
   "outputs": [
    {
     "name": "stdout",
     "output_type": "stream",
     "text": [
      "北京|城区今天31/18℃，晴转多云，<3级。|未来几天天气预报：明天33/20℃，<3级；后|天29/18℃，<3级。|"
     ]
    }
   ],
   "source": [
    "for step, metadata in agent_executor.stream(\n",
    "    {\"messages\": [input_message]}, stream_mode=\"messages\"\n",
    "):\n",
    "    if metadata[\"langgraph_node\"] == \"agent\" and (text := step.text()):\n",
    "        print(text, end=\"|\")"
   ]
  },
  {
   "cell_type": "code",
   "execution_count": 28,
   "id": "1fce5fed-ed5c-4505-99ed-8797e725a050",
   "metadata": {},
   "outputs": [],
   "source": [
    "# Adding in memory  添加内存\n",
    "# 如前所述，此代理是无状态的。这意味着它不记得之前的交互。为了赋予它记忆，我们需要传入一个检查点。传入检查点时，我们还必须在调用代理时传入一个 thread_id （以便它知道从哪个线程/对话恢复）。\n",
    "\n"
   ]
  },
  {
   "cell_type": "code",
   "execution_count": 29,
   "id": "84b86092-9f8a-4399-892c-3f6b6f9e3ac3",
   "metadata": {},
   "outputs": [],
   "source": [
    "from langgraph.checkpoint.memory import MemorySaver\n",
    "\n",
    "memory = MemorySaver()"
   ]
  },
  {
   "cell_type": "code",
   "execution_count": 30,
   "id": "9c59d92d-1095-47eb-a2e6-ec326cf33553",
   "metadata": {},
   "outputs": [],
   "source": [
    "agent_executor = create_react_agent(model, tools, checkpointer=memory)\n",
    "\n",
    "config = {\"configurable\": {\"thread_id\": \"abc123\"}}"
   ]
  },
  {
   "cell_type": "code",
   "execution_count": 31,
   "id": "68824ec5-85c1-4a13-b217-791e4424ecec",
   "metadata": {},
   "outputs": [
    {
     "name": "stdout",
     "output_type": "stream",
     "text": [
      "================================\u001b[1m Human Message \u001b[0m=================================\n",
      "\n",
      "你好，我是初音未来!\n",
      "==================================\u001b[1m Ai Message \u001b[0m==================================\n",
      "\n",
      "こんにちは、初音ミクさん！お会いできて嬉しいです！何かお手伝いできることはありますか？\n"
     ]
    }
   ],
   "source": [
    "input_message = {\"role\": \"user\", \"content\": \"你好，我是初音未来!\"}\n",
    "for step in agent_executor.stream(\n",
    "    {\"messages\": [input_message]}, config, stream_mode=\"values\"\n",
    "):\n",
    "    step[\"messages\"][-1].pretty_print()"
   ]
  },
  {
   "cell_type": "code",
   "execution_count": 32,
   "id": "6a9a2a11-ff27-41d4-8cb7-127b6dfd00da",
   "metadata": {},
   "outputs": [
    {
     "name": "stdout",
     "output_type": "stream",
     "text": [
      "================================\u001b[1m Human Message \u001b[0m=================================\n",
      "\n",
      "What's my name?\n",
      "==================================\u001b[1m Ai Message \u001b[0m==================================\n",
      "\n",
      "Your name is 初音ミク (Hatsune Miku).\n"
     ]
    }
   ],
   "source": [
    "input_message = {\"role\": \"user\", \"content\": \"What's my name?\"}\n",
    "for step in agent_executor.stream(\n",
    "    {\"messages\": [input_message]}, config, stream_mode=\"values\"\n",
    "):\n",
    "    step[\"messages\"][-1].pretty_print()"
   ]
  },
  {
   "cell_type": "code",
   "execution_count": null,
   "id": "31eab532-750e-4c9c-b4e9-188a163c2d66",
   "metadata": {},
   "outputs": [],
   "source": []
  },
  {
   "cell_type": "code",
   "execution_count": 33,
   "id": "8679c418-a6b9-47f4-9fb6-d1ee39f27f68",
   "metadata": {},
   "outputs": [],
   "source": [
    "# 如果你想开始一个新的对话，你所要做的就是改变使用的 thread_id"
   ]
  },
  {
   "cell_type": "code",
   "execution_count": 34,
   "id": "5af28fd8-b9d4-4646-9191-8ce142d32ffd",
   "metadata": {},
   "outputs": [
    {
     "name": "stdout",
     "output_type": "stream",
     "text": [
      "================================\u001b[1m Human Message \u001b[0m=================================\n",
      "\n",
      "What's my name?\n",
      "==================================\u001b[1m Ai Message \u001b[0m==================================\n",
      "\n",
      "I do not have access to personal information. I cannot know your name.\n"
     ]
    }
   ],
   "source": [
    "config = {\"configurable\": {\"thread_id\": \"xyz123\"}}\n",
    "\n",
    "input_message = {\"role\": \"user\", \"content\": \"What's my name?\"}\n",
    "for step in agent_executor.stream(\n",
    "    {\"messages\": [input_message]}, config, stream_mode=\"values\"\n",
    "):\n",
    "    step[\"messages\"][-1].pretty_print()"
   ]
  },
  {
   "cell_type": "code",
   "execution_count": null,
   "id": "f150d41a-a981-4dea-81ba-c204ddbf5849",
   "metadata": {},
   "outputs": [],
   "source": []
  },
  {
   "cell_type": "code",
   "execution_count": 35,
   "id": "58c2ec5f-aeeb-471d-a6f2-48b21ed09594",
   "metadata": {},
   "outputs": [],
   "source": [
    "# Conclusion  结论\n",
    "# 好了！在本快速入门中，我们介绍了如何创建一个简单的代理。然后，我们演示了如何流式传输响应——不仅包含中间步骤，还包含令牌！我们还添加了内存，以便您可以与代理进行对话。代理是一个复杂的主题，有很多东西需要学习！\n"
   ]
  },
  {
   "cell_type": "code",
   "execution_count": null,
   "id": "d738b176-7f63-4af1-bb92-7c69afd4c716",
   "metadata": {},
   "outputs": [],
   "source": []
  },
  {
   "cell_type": "code",
   "execution_count": null,
   "id": "d6e32768-4bbf-4126-b4c0-ba8796905d1b",
   "metadata": {},
   "outputs": [],
   "source": []
  }
 ],
 "metadata": {
  "kernelspec": {
   "display_name": "Python 3 (ipykernel)",
   "language": "python",
   "name": "python3"
  },
  "language_info": {
   "codemirror_mode": {
    "name": "ipython",
    "version": 3
   },
   "file_extension": ".py",
   "mimetype": "text/x-python",
   "name": "python",
   "nbconvert_exporter": "python",
   "pygments_lexer": "ipython3",
   "version": "3.10.16"
  }
 },
 "nbformat": 4,
 "nbformat_minor": 5
}
