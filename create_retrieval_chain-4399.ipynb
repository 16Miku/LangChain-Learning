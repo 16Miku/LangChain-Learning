{
 "cells": [
  {
   "cell_type": "code",
   "execution_count": null,
   "id": "7a770dfb-a220-42aa-bbc1-4fe7af7b4e85",
   "metadata": {},
   "outputs": [],
   "source": [
    "\n",
    "\n",
    "\n",
    "# 如何实现对某网站内容作为知识库，实现问答机器人\n",
    "\n",
    "\n"
   ]
  },
  {
   "cell_type": "code",
   "execution_count": null,
   "id": "b7d81101-9eb3-473b-9cf2-1dc0d526d696",
   "metadata": {},
   "outputs": [],
   "source": []
  },
  {
   "cell_type": "code",
   "execution_count": 24,
   "id": "5b13c2b3-76ac-4c95-814d-023179b307bd",
   "metadata": {},
   "outputs": [],
   "source": [
    "from langchain_community.document_loaders import RecursiveUrlLoader\n",
    "\n",
    "loader = RecursiveUrlLoader(\"https://www.4399.com/\", max_depth=1)\n",
    "documents = loader.load()\n"
   ]
  },
  {
   "cell_type": "code",
   "execution_count": 25,
   "id": "71562313-c5f2-4630-884a-15a8b199d3af",
   "metadata": {},
   "outputs": [],
   "source": [
    "from langchain.text_splitter import RecursiveCharacterTextSplitter\n",
    "\n",
    "text_splitter = RecursiveCharacterTextSplitter(chunk_size=1000, chunk_overlap=200)\n",
    "all_splits = text_splitter.split_documents(documents)\n"
   ]
  },
  {
   "cell_type": "code",
   "execution_count": 26,
   "id": "62e47269-2b8c-4333-9afa-04bcb76c5f65",
   "metadata": {},
   "outputs": [],
   "source": [
    "# pip install -qU langchain-google-genai"
   ]
  },
  {
   "cell_type": "code",
   "execution_count": 27,
   "id": "2aac76bf-1e59-43de-a092-55b4f43efb1e",
   "metadata": {},
   "outputs": [],
   "source": [
    "import getpass\n",
    "import os\n",
    "\n",
    "if not os.environ.get(\"GOOGLE_API_KEY\"):\n",
    "  os.environ[\"GOOGLE_API_KEY\"] = getpass.getpass(\"Enter API key for Google Gemini: \")\n",
    "\n",
    "from langchain_google_genai import GoogleGenerativeAIEmbeddings\n",
    "\n",
    "embeddings = GoogleGenerativeAIEmbeddings(model=\"models/embedding-001\")"
   ]
  },
  {
   "cell_type": "code",
   "execution_count": 28,
   "id": "96ad3f57-86bf-477e-a12d-7631db49f784",
   "metadata": {},
   "outputs": [],
   "source": [
    "from langchain_core.vectorstores import InMemoryVectorStore\n",
    "\n",
    "vector_store = InMemoryVectorStore(embeddings)"
   ]
  },
  {
   "cell_type": "code",
   "execution_count": 29,
   "id": "b8162f34-d6c0-4fae-b3c3-c79ec401058d",
   "metadata": {},
   "outputs": [],
   "source": [
    "document_ids = vector_store.add_documents(documents=all_splits)"
   ]
  },
  {
   "cell_type": "code",
   "execution_count": null,
   "id": "575dc46f-8e31-45f7-b0cc-13816a2ea811",
   "metadata": {},
   "outputs": [],
   "source": []
  },
  {
   "cell_type": "code",
   "execution_count": null,
   "id": "fb81cef7-487a-42da-9f1a-6e8c7e2c336c",
   "metadata": {},
   "outputs": [],
   "source": []
  },
  {
   "cell_type": "code",
   "execution_count": null,
   "id": "c16399fb-9354-47ac-bafc-ea16b28d10d9",
   "metadata": {},
   "outputs": [],
   "source": []
  },
  {
   "cell_type": "code",
   "execution_count": 31,
   "id": "7c99f482-f40d-4239-b1d9-63ff7602faa1",
   "metadata": {},
   "outputs": [
    {
     "data": {
      "text/plain": [
       "[Document(id='b21b270b-2507-437a-aceb-0bd9610a5928', metadata={'source': 'https://www.4399.com/', 'content_type': 'text/html', 'title': '小游戏,4399小游戏,小游戏大全,双人小游戏大全 - www.4399.com', 'description': '4399小游戏大全包含连连看 ,连连看小游戏大全,双人小游戏大全,H5在线小游戏,4399洛克王国,4399赛尔号,4399奥拉星,4399奥比岛,4399弹弹堂,4399单人小游戏,奥比岛小游戏,造梦西游online,造梦无双等最新小游戏。', 'language': None}, page_content='<li><a href=\"/special/154.htm\"><img lzimg=\"1\" lz_src=\"//imga4.5054399.com/upload_pic/2020/12/4/4399_10313133912.jpg\">美发</a></li>\\n                \\t\\t\\t\\t<li><a href=\"/special/182.htm\"><img lzimg=\"1\" lz_src=\"//imga4.5054399.com/upload_pic/2020/12/4/4399_10310035640.jpg\">朵拉</a></li>\\n                \\t\\t\\t\\t<li><a href=\"/special/7.htm\"><img lzimg=\"1\" lz_src=\"//imga5.5054399.com/upload_pic/2020/12/4/4399_10302261117.jpg\">做饭</a></li>\\n                \\t\\t\\t\\t<li><a href=\"/special/109.htm\"><img lzimg=\"1\" lz_src=\"//imga3.5054399.com/upload_pic/2020/12/4/4399_13561494453.jpg\">宠物</a></li>\\n                \\t\\t\\t\\t<li><a href=\"/special/23.htm\"><img lzimg=\"1\" lz_src=\"//imga5.5054399.com/upload_pic/2014/5/15/4399_17040312778.jpg\">阿sue</a></li>\\n                            </ul>\\n\\t\\t</div>\\n\\t\\t    </div>\\n</div>')]"
      ]
     },
     "execution_count": 31,
     "metadata": {},
     "output_type": "execute_result"
    }
   ],
   "source": [
    "retriever = vector_store.as_retriever(\n",
    "    search_type=\"mmr\",\n",
    "    search_kwargs={\"k\": 1, \"fetch_k\": 2, \"lambda_mult\": 0.5},\n",
    ")\n",
    "retriever.invoke(\"something\")"
   ]
  },
  {
   "cell_type": "code",
   "execution_count": 32,
   "id": "cf8860dc-64f9-4c34-a8c7-bca737a896a6",
   "metadata": {},
   "outputs": [],
   "source": [
    "import getpass\n",
    "import os\n",
    "\n",
    "if not os.environ.get(\"GOOGLE_API_KEY\"):\n",
    "  os.environ[\"GOOGLE_API_KEY\"] = getpass.getpass(\"Enter API key for Google Gemini: \")\n",
    "\n",
    "from langchain.chat_models import init_chat_model\n",
    "\n",
    "model = init_chat_model(\"gemini-2.0-flash\", model_provider=\"google_genai\")"
   ]
  },
  {
   "cell_type": "code",
   "execution_count": 33,
   "id": "84289cca-89bb-45b8-9680-9215d092564b",
   "metadata": {},
   "outputs": [],
   "source": [
    "# 参考文档：\n",
    "# https://python.langchain.com/api_reference/langchain/chains/langchain.chains.retrieval.create_retrieval_chain.html\n"
   ]
  },
  {
   "cell_type": "code",
   "execution_count": 34,
   "id": "c1e0ebd2-bffa-4024-aa60-c690aa449bc7",
   "metadata": {
    "scrolled": true
   },
   "outputs": [
    {
     "data": {
      "text/plain": [
       "{'input': '...',\n",
       " 'context': [Document(id='6c0c14dc-1b9b-4f00-b09e-335daf07ff5f', metadata={'source': 'https://www.4399.com/', 'content_type': 'text/html', 'title': '小游戏,4399小游戏,小游戏大全,双人小游戏大全 - www.4399.com', 'description': '4399小游戏大全包含连连看 ,连连看小游戏大全,双人小游戏大全,H5在线小游戏,4399洛克王国,4399赛尔号,4399奥拉星,4399奥比岛,4399弹弹堂,4399单人小游戏,奥比岛小游戏,造梦西游online,造梦无双等最新小游戏。', 'language': None}, page_content='<div class=\"more\">\\n\\t\\t\\t\\t\\t\\t\\t<a class=\"game\" href=\"https://my.4399.com/yxsgs/\"><img lz_src=\"//imga5.5054399.com/upload_pic/2025/7/11/4399_14404962067.jpg\" alt=\"\"></a>\\n\\t\\t\\t\\t\\t\\t\\t<div class=\"names\">\\n\\t\\t\\t\\t\\t\\t\\t\\t<a class=\"name\" href=\"https://my.4399.com/yxsgs/\">4399三国杀</a>\\n\\t\\t\\t\\t\\t\\t\\t\\t<a class=\"play\" href=\"https://my.4399.com/yxsgs/\">开始游戏</a>\\n\\t\\t\\t\\t\\t\\t\\t</div>\\n\\t\\t\\t\\t\\t\\t</div>\\n\\t\\t\\t\\t\\t</li>\\n\\t\\t\\t\\t\\t\\t\\t\\t\\t<li class=\"\">\\n\\t\\t\\t\\t\\t\\t<em class=\"bg10\">10</em>\\n\\t\\t\\t\\t\\t\\t<a class=\"btn-name\" href=\"https://my.4399.com/yxmsdzls/\">美食大战老鼠</a>\\n\\t\\t\\t\\t\\t\\t<div class=\"more\">\\n\\t\\t\\t\\t\\t\\t\\t<a class=\"game\" href=\"https://my.4399.com/yxmsdzls/\"><img lz_src=\"//imga3.5054399.com/upload_pic/2025/6/11/4399_17124021204.jpg\" alt=\"\"></a>\\n\\t\\t\\t\\t\\t\\t\\t<div class=\"names\">\\n\\t\\t\\t\\t\\t\\t\\t\\t<a class=\"name\" href=\"https://my.4399.com/yxmsdzls/\">美食大战老鼠</a>\\n\\t\\t\\t\\t\\t\\t\\t\\t<a class=\"play\" href=\"https://my.4399.com/yxmsdzls/\">开始游戏</a>\\n\\t\\t\\t\\t\\t\\t\\t</div>\\n\\t\\t\\t\\t\\t\\t</div>\\n\\t\\t\\t\\t\\t</li>\\n\\t\\t\\t\\t\\t\\t\\t</ul>\\n\\t\\t</div>\\n\\t</div>')],\n",
       " 'answer': 'I am sorry, I cannot answer any questions based on the context you provided. The context contains HTML code for a webpage listing games, but it does not contain any questions or information that I can use to answer a question.'}"
      ]
     },
     "execution_count": 34,
     "metadata": {},
     "output_type": "execute_result"
    }
   ],
   "source": [
    "from langchain.chains.combine_documents import create_stuff_documents_chain\n",
    "from langchain.chains import create_retrieval_chain\n",
    "from langchain import hub\n",
    "\n",
    "\n",
    "retrieval_qa_chat_prompt = hub.pull(\"langchain-ai/retrieval-qa-chat\")\n",
    "\n",
    "\n",
    "combine_docs_chain = create_stuff_documents_chain(\n",
    "    model, retrieval_qa_chat_prompt\n",
    ")\n",
    "\n",
    "retrieval_chain = create_retrieval_chain(retriever, combine_docs_chain)\n",
    "\n",
    "retrieval_chain.invoke({\"input\": \"...\"})"
   ]
  },
  {
   "cell_type": "code",
   "execution_count": 35,
   "id": "087e5230-e145-47d3-8fff-ac8ce78d5320",
   "metadata": {},
   "outputs": [
    {
     "name": "stdout",
     "output_type": "stream",
     "text": [
      "根据提供的内容，我可以检索到以下信息：\n",
      "\n",
      "*   **网站名称：** 4399小游戏\n",
      "*   **网站提供的游戏类型：** 连连看小游戏，双人小游戏，H5在线小游戏，洛克王国，赛尔号，奥拉星，奥比岛，弹弹堂，单人小游戏，造梦西游online，造梦无双等。\n",
      "*   **网站关键词：** 小游戏, 4399小游戏, 在线小游戏, 双人小游戏, 小游戏大全, 双人小游戏大全\n",
      "*   **网站描述：** 4399小游戏大全包含连连看 ,连连看小游戏大全,双人小游戏大全,H5在线小游戏,4399洛克王国,4399赛尔号,4399奥拉星,4399奥比岛,4399弹弹堂,4399单人小游戏,奥比岛小游戏,造梦西游online,造梦无双等最新小游戏。\n"
     ]
    }
   ],
   "source": [
    "query = \"你能检索到什么？\"\n",
    "response = retrieval_chain.invoke({\"input\": query})\n",
    "print(response[\"answer\"])\n"
   ]
  },
  {
   "cell_type": "code",
   "execution_count": 36,
   "id": "dc8fa7c9-4eee-4b75-8342-b71b2f56a24f",
   "metadata": {},
   "outputs": [
    {
     "name": "stdout",
     "output_type": "stream",
     "text": [
      "content='我被设计用来访问和处理来自各种来源的信息，这使我能够检索并提供各种各样的信息，包括：\\n\\n**1. 文本信息：**\\n\\n*   **事实性信息：** 我可以查找和总结事实、日期、统计数据、定义等。\\n*   **新闻和事件：** 我可以提供最新的新闻、事件和趋势的摘要。\\n*   **文章和文档：** 我可以访问和处理各种文章、博客帖子、研究论文、书籍和其他文档。\\n*   **定义和解释：** 我可以提供单词、概念和术语的定义和解释。\\n*   **指令和指南：** 我可以提供如何做事的指导、食谱、教程等。\\n*   **文学作品:** 我可以访问和处理诗歌、小说、戏剧等文学作品。\\n\\n**2. 代码：**\\n\\n*   **编程语言代码：** 我可以理解和生成多种编程语言的代码，例如Python、Java、JavaScript、C++等。\\n*   **算法和数据结构：** 我可以提供算法和数据结构的解释和实现。\\n*   **代码示例：** 我可以提供代码示例来解决特定的编程问题。\\n\\n**3. 多媒体信息 (通过其他工具和 APIs):**\\n\\n*   **图像:**  虽然我不能直接 *显示* 图像，但我可以描述图像内容、识别图像中的物体、或者提供图像搜索链接。\\n*   **音频:**  类似图像，我不能直接播放音频，但我可以描述音频内容或者提供音频搜索链接。\\n*   **视频:**  同样，我可以描述视频内容或者提供视频搜索链接。\\n\\n**4. 常识推理和逻辑推断：**\\n\\n*   **回答复杂问题：** 我可以根据已有的知识和信息回答复杂的问题，并进行推理。\\n*   **解决逻辑问题：** 我可以解决逻辑问题，例如谜题和推理题。\\n*   **生成创意文本格式：** 我可以生成不同创意文本格式的文本内容，例如诗歌、代码、剧本、音乐作品、电子邮件、信件等。\\n\\n**总而言之，我能检索的信息范围非常广泛，涵盖了人类知识的许多领域。  我的能力还在不断发展，未来会更加强大。**\\n\\n**我不能检索的信息包括：**\\n\\n*   **个人身份信息（PII）除非你明确告诉我并要求我处理，我不会主动搜索或存储你的个人信息。**  这包括你的姓名、地址、电话号码、电子邮件地址、社会安全号码等。\\n*   **实时信息：** 虽然我能获取最新的新闻，但我的知识库是定期更新的，所以可能无法提供完全实时的信息。  例如，股票价格可能会有延迟。\\n*   **需要物理交互的信息：** 我无法进行物理操作，例如触摸、闻、或品尝。\\n*   **主观意见和情感：**  我虽然可以分析文本中的情感，但我无法真正体验情感。 我的回答基于模式识别和数据分析，不代表我个人的观点。\\n*   **属于版权保护的信息，如果未获得授权：** 我会尽力避免侵犯版权，并遵守相关法律法规。\\n\\n**请注意：** 我的能力取决于我所接受的训练数据和算法。  我可能会犯错误，提供不准确或不完整的信息。 在使用我提供的信息时，请务必进行验证和批判性思考。 另外，我检索信息的效率取决于我所掌握的工具和API的可用性。' additional_kwargs={} response_metadata={'prompt_feedback': {'block_reason': 0, 'safety_ratings': []}, 'finish_reason': 'STOP', 'model_name': 'gemini-2.0-flash', 'safety_ratings': []} id='run--e6f34fd2-9248-4f8e-a0bf-32bfa9a3e5e7-0' usage_metadata={'input_tokens': 5, 'output_tokens': 747, 'total_tokens': 752, 'input_token_details': {'cache_read': 0}}\n"
     ]
    }
   ],
   "source": [
    "query = \"你能检索到什么？\"\n",
    "response = model.invoke(query)\n",
    "print(response)\n"
   ]
  },
  {
   "cell_type": "code",
   "execution_count": null,
   "id": "d321ac71-58f6-446d-a3f4-b20a8b88848c",
   "metadata": {},
   "outputs": [],
   "source": []
  },
  {
   "cell_type": "code",
   "execution_count": null,
   "id": "4dc324a9-8ebe-4464-94ef-de6d065bbb9d",
   "metadata": {},
   "outputs": [],
   "source": []
  },
  {
   "cell_type": "code",
   "execution_count": null,
   "id": "0b3bdb73-dbcb-483e-858a-079261746ad1",
   "metadata": {},
   "outputs": [],
   "source": []
  },
  {
   "cell_type": "code",
   "execution_count": null,
   "id": "e52819d8-cdda-4521-b498-d666167106a3",
   "metadata": {},
   "outputs": [],
   "source": []
  },
  {
   "cell_type": "code",
   "execution_count": null,
   "id": "3b46aa61-24c3-4203-aa0f-772d03a82bc5",
   "metadata": {},
   "outputs": [],
   "source": []
  },
  {
   "cell_type": "code",
   "execution_count": null,
   "id": "19524a8c-0249-4552-91ab-237501e83e6d",
   "metadata": {},
   "outputs": [],
   "source": []
  },
  {
   "cell_type": "code",
   "execution_count": null,
   "id": "3606c4e5-9801-4eb5-a0f6-297b0837ff00",
   "metadata": {},
   "outputs": [],
   "source": []
  },
  {
   "cell_type": "code",
   "execution_count": null,
   "id": "b5cd49d7-d4f3-44e1-ae69-543416a2633a",
   "metadata": {},
   "outputs": [],
   "source": []
  },
  {
   "cell_type": "code",
   "execution_count": null,
   "id": "73a5c423-6c10-4359-aaa9-8a6fca327823",
   "metadata": {},
   "outputs": [],
   "source": []
  },
  {
   "cell_type": "code",
   "execution_count": null,
   "id": "23e77a9b-f1f1-4aef-a115-fd8df407b94b",
   "metadata": {},
   "outputs": [],
   "source": []
  },
  {
   "cell_type": "code",
   "execution_count": null,
   "id": "b8aa1774-64ca-4783-84d2-8d0687ab1359",
   "metadata": {},
   "outputs": [],
   "source": []
  },
  {
   "cell_type": "code",
   "execution_count": null,
   "id": "a117265c-eaf9-4b22-ad9f-2baf359b9c01",
   "metadata": {},
   "outputs": [],
   "source": []
  },
  {
   "cell_type": "code",
   "execution_count": null,
   "id": "8e9a70e4-c284-4b49-abdc-3a5c4c42ef62",
   "metadata": {},
   "outputs": [],
   "source": []
  },
  {
   "cell_type": "code",
   "execution_count": null,
   "id": "a059358f-6cb9-48be-833f-1a67f986d01e",
   "metadata": {},
   "outputs": [],
   "source": []
  },
  {
   "cell_type": "code",
   "execution_count": null,
   "id": "3b382087-fdcb-4474-b8f0-f4c2477fad55",
   "metadata": {},
   "outputs": [],
   "source": []
  },
  {
   "cell_type": "code",
   "execution_count": null,
   "id": "e26a2dd4-90bb-4bee-87cb-09b495b53ca7",
   "metadata": {},
   "outputs": [],
   "source": []
  },
  {
   "cell_type": "code",
   "execution_count": null,
   "id": "f19d0f9c-b50f-4660-9e7d-53d9adacec94",
   "metadata": {},
   "outputs": [],
   "source": []
  },
  {
   "cell_type": "code",
   "execution_count": null,
   "id": "e38b66ef-3616-4027-b4dd-64a6f6fb63b5",
   "metadata": {},
   "outputs": [],
   "source": []
  },
  {
   "cell_type": "code",
   "execution_count": null,
   "id": "a8a85ee2-bdd7-404e-a6a0-6621260c7f5c",
   "metadata": {},
   "outputs": [],
   "source": []
  },
  {
   "cell_type": "code",
   "execution_count": null,
   "id": "165b6c98-f16b-41b1-915c-cd26321ad67f",
   "metadata": {},
   "outputs": [],
   "source": []
  },
  {
   "cell_type": "code",
   "execution_count": null,
   "id": "62a8daea-7d87-4c56-adcb-1dbad81f0c80",
   "metadata": {},
   "outputs": [],
   "source": []
  },
  {
   "cell_type": "code",
   "execution_count": null,
   "id": "52ba0eb4-470b-47e7-aa83-3856bf1ed151",
   "metadata": {},
   "outputs": [],
   "source": []
  },
  {
   "cell_type": "code",
   "execution_count": null,
   "id": "9672a153-8309-4eea-8b72-b264408efbc8",
   "metadata": {},
   "outputs": [],
   "source": []
  },
  {
   "cell_type": "code",
   "execution_count": null,
   "id": "a855e047-c2ca-458e-b2f4-36d56339266b",
   "metadata": {},
   "outputs": [],
   "source": []
  },
  {
   "cell_type": "code",
   "execution_count": null,
   "id": "ba66bc2c-b999-4c49-8f8d-8d66489ceb14",
   "metadata": {},
   "outputs": [],
   "source": []
  },
  {
   "cell_type": "code",
   "execution_count": null,
   "id": "804df85f-164e-4023-af27-9a41c901b171",
   "metadata": {},
   "outputs": [],
   "source": []
  },
  {
   "cell_type": "code",
   "execution_count": null,
   "id": "aa8ce717-fc2d-4bda-a3a0-ae27d6197c65",
   "metadata": {},
   "outputs": [],
   "source": []
  },
  {
   "cell_type": "code",
   "execution_count": null,
   "id": "041ff45c-7527-46ab-a6be-8ac8dc8e7274",
   "metadata": {},
   "outputs": [],
   "source": []
  },
  {
   "cell_type": "code",
   "execution_count": null,
   "id": "c176dc1d-89df-4056-a2c1-3b36e0652f47",
   "metadata": {},
   "outputs": [],
   "source": []
  },
  {
   "cell_type": "code",
   "execution_count": null,
   "id": "bb21ce6a-af1e-42bb-9037-348c2ec00a37",
   "metadata": {},
   "outputs": [],
   "source": []
  },
  {
   "cell_type": "code",
   "execution_count": null,
   "id": "d75cb8cf-6b66-4046-960f-df5c0ceef889",
   "metadata": {},
   "outputs": [],
   "source": []
  },
  {
   "cell_type": "code",
   "execution_count": null,
   "id": "1e23b42d-a302-4ca1-a86d-b0bd5fd6acc6",
   "metadata": {},
   "outputs": [],
   "source": []
  }
 ],
 "metadata": {
  "kernelspec": {
   "display_name": "Python 3 (ipykernel)",
   "language": "python",
   "name": "python3"
  },
  "language_info": {
   "codemirror_mode": {
    "name": "ipython",
    "version": 3
   },
   "file_extension": ".py",
   "mimetype": "text/x-python",
   "name": "python",
   "nbconvert_exporter": "python",
   "pygments_lexer": "ipython3",
   "version": "3.12.11"
  }
 },
 "nbformat": 4,
 "nbformat_minor": 5
}
