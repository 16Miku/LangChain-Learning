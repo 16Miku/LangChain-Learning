{
 "cells": [
  {
   "cell_type": "code",
   "execution_count": 1,
   "id": "06aa7f2e-3db7-4e84-b533-12f683a6ea99",
   "metadata": {},
   "outputs": [],
   "source": [
    "\n",
    "# LangGraph官方文档教程 \n",
    "# https://langchain-ai.github.io/langgraph/tutorials/get-started/5-customize-state/\n"
   ]
  },
  {
   "cell_type": "code",
   "execution_count": 2,
   "id": "de7942f5-7140-4142-b8ef-00268ee42ed3",
   "metadata": {},
   "outputs": [],
   "source": [
    "# Customize state¶\n",
    "# 自定义状态 ¶\n",
    "# In this tutorial, you will add additional fields to the state to define complex behavior without relying on the message list. The chatbot will use its search tool to find specific information and forward them to a human for review.\n",
    "# 在本教程中，您将向状态添加其他字段，以定义复杂的行为，而无需依赖消息列表。聊天机器人将使用其搜索工具查找特定信息并将其转发给人工审核。"
   ]
  },
  {
   "cell_type": "code",
   "execution_count": 3,
   "id": "560d7e41-4f66-4d40-b58f-b2996bd5b068",
   "metadata": {},
   "outputs": [],
   "source": [
    "# Note  笔记\n",
    "\n",
    "# This tutorial builds on Add human-in-the-loop controls.\n",
    "# 本教程以添加人机交互控制为基础。"
   ]
  },
  {
   "cell_type": "code",
   "execution_count": 4,
   "id": "8135c024-caa0-4e5b-9735-314ac8acec4a",
   "metadata": {},
   "outputs": [],
   "source": [
    "import getpass\n",
    "import os\n",
    "from langchain.chat_models import init_chat_model\n",
    "\n",
    "if not os.environ.get(\"GOOGLE_API_KEY\"):\n",
    "  os.environ[\"GOOGLE_API_KEY\"] = getpass.getpass(\"Enter API key for Google Gemini: \")\n",
    "\n",
    "llm = init_chat_model(\"google_genai:gemini-2.0-flash\")"
   ]
  },
  {
   "cell_type": "code",
   "execution_count": 5,
   "id": "f79576e2-f64f-482e-a937-8667767adefc",
   "metadata": {},
   "outputs": [],
   "source": [
    "# 1. Add keys to the state¶\n",
    "# 1. 向状态添加键 ¶\n",
    "# Update the chatbot to research the birthday of an entity by adding name and birthday keys to the state:\n",
    "# 通过向状态添加 name 和 birthday 键来更新聊天机器人以研究实体的生日：\n",
    "\n",
    "# API Reference: add_messages\n",
    "# API 参考：add_messages\n"
   ]
  },
  {
   "cell_type": "code",
   "execution_count": 6,
   "id": "7a48340e-181a-4a0c-860b-d0cacaaca79a",
   "metadata": {},
   "outputs": [],
   "source": [
    "from typing import Annotated\n",
    "\n",
    "from langchain_tavily import TavilySearch\n",
    "from langchain_core.messages import ToolMessage\n",
    "from langchain_core.tools import InjectedToolCallId, tool\n",
    "from typing_extensions import TypedDict\n",
    "\n",
    "from langgraph.checkpoint.memory import MemorySaver\n",
    "from langgraph.graph import StateGraph, START, END\n",
    "from langgraph.graph.message import add_messages\n",
    "from langgraph.prebuilt import ToolNode, tools_condition\n",
    "from langgraph.types import Command, interrupt\n",
    "\n",
    "\n",
    "class State(TypedDict):\n",
    "    messages: Annotated[list, add_messages]\n",
    "    name: str\n",
    "    birthday: str"
   ]
  },
  {
   "cell_type": "code",
   "execution_count": 7,
   "id": "4158706b-2dc4-43b5-837d-222e93664200",
   "metadata": {},
   "outputs": [],
   "source": [
    "# Adding this information to the state makes it easily accessible by other graph nodes (like a downstream node that stores or processes the information), as well as the graph's persistence layer.\n",
    "# 将此信息添加到状态中，使得其他图形节点（如存储或处理信息的下游节点）以及图形的持久层可以轻松访问它。\n"
   ]
  },
  {
   "cell_type": "code",
   "execution_count": 8,
   "id": "d9e4d70d-4c44-409a-8ebd-7d65ee41490a",
   "metadata": {},
   "outputs": [],
   "source": [
    "# 2. Update the state inside the tool¶\n",
    "# 2. 更新工具内部的状态 ¶\n",
    "# Now, populate the state keys inside of the human_assistance tool. This allows a human to review the information before it is stored in the state. Use Command to issue a state update from inside the tool.\n",
    "# 现在，在 human_assistance 工具中填充状态键。这允许人类在信息存储到状态之前对其进行审核。使用 Command 从工具内部发出状态更新。\n"
   ]
  },
  {
   "cell_type": "code",
   "execution_count": 9,
   "id": "6b8b4880-f2e8-44a3-ae3d-0e0c86b83e67",
   "metadata": {},
   "outputs": [],
   "source": [
    "from langchain_core.messages import ToolMessage\n",
    "from langchain_core.tools import InjectedToolCallId, tool\n",
    "\n",
    "from langgraph.types import Command, interrupt\n",
    "\n",
    "@tool\n",
    "# Note that because we are generating a ToolMessage for a state update, we\n",
    "# generally require the ID of the corresponding tool call. We can use\n",
    "# LangChain's InjectedToolCallId to signal that this argument should not\n",
    "# be revealed to the model in the tool's schema.\n",
    "def human_assistance(\n",
    "    name: str, birthday: str, tool_call_id: Annotated[str, InjectedToolCallId]\n",
    ") -> str:\n",
    "    \"\"\"Request assistance from a human.\"\"\"\n",
    "    human_response = interrupt(\n",
    "        {\n",
    "            \"question\": \"Is this correct?\",\n",
    "            \"name\": name,\n",
    "            \"birthday\": birthday,\n",
    "        },\n",
    "    )\n",
    "    # If the information is correct, update the state as-is.\n",
    "    if human_response.get(\"correct\", \"\").lower().startswith(\"y\"):\n",
    "        verified_name = name\n",
    "        verified_birthday = birthday\n",
    "        response = \"Correct\"\n",
    "    # Otherwise, receive information from the human reviewer.\n",
    "    else:\n",
    "        verified_name = human_response.get(\"name\", name)\n",
    "        verified_birthday = human_response.get(\"birthday\", birthday)\n",
    "        response = f\"Made a correction: {human_response}\"\n",
    "\n",
    "    # This time we explicitly update the state with a ToolMessage inside\n",
    "    # the tool.\n",
    "    state_update = {\n",
    "        \"name\": verified_name,\n",
    "        \"birthday\": verified_birthday,\n",
    "        \"messages\": [ToolMessage(response, tool_call_id=tool_call_id)],\n",
    "    }\n",
    "    # We return a Command object in the tool to update our state.\n",
    "    return Command(update=state_update)"
   ]
  },
  {
   "cell_type": "code",
   "execution_count": 10,
   "id": "3aa4a155-53fa-4bf4-a99c-848e086f93d9",
   "metadata": {},
   "outputs": [],
   "source": [
    "# The rest of the graph stays the same.\n",
    "# 图表的其余部分保持不变。\n"
   ]
  },
  {
   "cell_type": "code",
   "execution_count": 11,
   "id": "9686a733-5354-48f3-885a-c5abb274075c",
   "metadata": {},
   "outputs": [],
   "source": [
    "tool = TavilySearch(max_results=2)\n",
    "tools = [tool, human_assistance]\n",
    "llm_with_tools = llm.bind_tools(tools)\n",
    "\n",
    "def chatbot(state: State):\n",
    "    message = llm_with_tools.invoke(state[\"messages\"])\n",
    "    assert(len(message.tool_calls) <= 1)\n",
    "    return {\"messages\": [message]}\n",
    "\n",
    "graph_builder = StateGraph(State)\n",
    "graph_builder.add_node(\"chatbot\", chatbot)\n",
    "\n",
    "tool_node = ToolNode(tools=tools)\n",
    "graph_builder.add_node(\"tools\", tool_node)\n",
    "\n",
    "graph_builder.add_conditional_edges(\n",
    "    \"chatbot\",\n",
    "    tools_condition,\n",
    ")\n",
    "graph_builder.add_edge(\"tools\", \"chatbot\")\n",
    "graph_builder.add_edge(START, \"chatbot\")\n",
    "\n",
    "memory = MemorySaver()\n",
    "graph = graph_builder.compile(checkpointer=memory)"
   ]
  },
  {
   "cell_type": "code",
   "execution_count": 12,
   "id": "82591366-6cf7-495f-b18e-1aa1a8bae278",
   "metadata": {},
   "outputs": [],
   "source": [
    "# 3. Prompt the chatbot¶\n",
    "# 3. 提示聊天机器人 ¶\n",
    "# Prompt the chatbot to look up the \"birthday\" of the LangGraph library and direct the chatbot to reach out to the human_assistance tool once it has the required information. By setting name and birthday in the arguments for the tool, you force the chatbot to generate proposals for these fields.\n",
    "# 提示聊天机器人查找 LangGraph 库的“生日”，并在获得所需信息后指示聊天机器人联系 human_assistance 工具。通过在该工具的参数中设置 name 和 birthday ，您可以强制聊天机器人为这些字段生成提案。\n",
    "\n"
   ]
  },
  {
   "cell_type": "code",
   "execution_count": 13,
   "id": "58174132-a66f-4f8e-bd94-de24b48a9f40",
   "metadata": {},
   "outputs": [
    {
     "name": "stdout",
     "output_type": "stream",
     "text": [
      "================================\u001b[1m Human Message \u001b[0m=================================\n",
      "\n",
      "Can you look up when LangGraph was released? When you have the answer, use the human_assistance tool for review.\n",
      "==================================\u001b[1m Ai Message \u001b[0m==================================\n",
      "Tool Calls:\n",
      "  tavily_search (1c6ed0f6-1bb7-4452-a5ed-8cd17667b698)\n",
      " Call ID: 1c6ed0f6-1bb7-4452-a5ed-8cd17667b698\n",
      "  Args:\n",
      "    query: LangGraph release date\n",
      "=================================\u001b[1m Tool Message \u001b[0m=================================\n",
      "Name: tavily_search\n",
      "\n",
      "{\"query\": \"LangGraph release date\", \"follow_up_questions\": null, \"answer\": null, \"images\": [], \"results\": [{\"url\": \"https://pypi.org/project/langgraph/\", \"title\": \"langgraph·PyPI\", \"content\": \"langgraph 0.4.8 Image 5: LangGraph Logo Install LangGraph: from langgraph.prebuilt import create_react_agent Or, to learn how to build an agent workflow with a customizable architecture, long-term memory, and other complex task handling, see the LangGraph basics tutorials. LangGraph provides low-level supporting infrastructure for _any_ long-running, stateful workflow or agent. While LangGraph can be used standalone, it also integrates seamlessly with any LangChain product, giving developers a full suite of tools for building agents. *   LangGraph Platform — Deploy and scale agents effortlessly with a purpose-built deployment platform for long running, stateful workflows. 0.3.0 yanked Feb 26, 2025 Reason this release was yanked: Missing dependency on langgraph-prebuilt Details for the file `langgraph-0.4.8.tar.gz`. Details for the file `langgraph-0.4.8-py3-none-any.whl`.\", \"score\": 0.68090034, \"raw_content\": null}, {\"url\": \"https://github.com/langchain-ai/langgraph/releases\", \"title\": \"Releases · langchain-ai/langgraph - GitHub\", \"content\": \"Releases · langchain-ai/langgraph · GitHub *   langgraph[fix]: remove deprecated pydantic logic + fix schema gen behavior for typed dicts (#5296) *   chore: update api ref docs and fix schemas (#5219) *   fix(langgraph): remove deprecated `output` usage in favor of `output_schema` (#5095) *   Remove Checkpoint.writes (#4822) *   Remove Checkpoint.pending_sends (#4820) *   Remove old checkpoint test fixtures (#4814) *   Remove old checkpoint test fixtures *   Preparation for 0.5 release: langgraph-checkpoint (#5124) *   fix(langgraph): remove deprecated `output` usage in favor of `output_schema` (#5095) *   Remove Checkpoint.writes (#4822) *   Remove Checkpoint.writes *   Preparation for 0.5 release: langgraph-checkpoint (#5124) *   fix(langgraph): remove deprecated `output` usage in favor of `output_schema` (#5095) *   Remove Checkpoint.writes (#4822) *   Remove Checkpoint.pending_sends (#4820) *   Remove Checkpoint.writes *   Remove Checkpoint.pending_sends\", \"score\": 0.52393246, \"raw_content\": null}], \"response_time\": 1.15}\n",
      "==================================\u001b[1m Ai Message \u001b[0m==================================\n",
      "\n",
      "Based on the search results, I found information about LangGraph versions and releases on PyPI and GitHub. However, I couldn't find a specific initial release date. I will use the human_assistance tool to get help.\n",
      "Tool Calls:\n",
      "  human_assistance (ab93b97d-dcbd-4c54-8b1a-d95e5369cdab)\n",
      " Call ID: ab93b97d-dcbd-4c54-8b1a-d95e5369cdab\n",
      "  Args:\n",
      "    name: LangGraph Release Date Inquiry\n",
      "    birthday: Unknown\n"
     ]
    }
   ],
   "source": [
    "user_input = (\n",
    "    \"Can you look up when LangGraph was released? \"\n",
    "    \"When you have the answer, use the human_assistance tool for review.\"\n",
    ")\n",
    "config = {\"configurable\": {\"thread_id\": \"1\"}}\n",
    "\n",
    "events = graph.stream(\n",
    "    {\"messages\": [{\"role\": \"user\", \"content\": user_input}]},\n",
    "    config,\n",
    "    stream_mode=\"values\",\n",
    ")\n",
    "for event in events:\n",
    "    if \"messages\" in event:\n",
    "        event[\"messages\"][-1].pretty_print()"
   ]
  },
  {
   "cell_type": "code",
   "execution_count": 14,
   "id": "3a20e615-91d6-406a-b16e-ae8c5a0a1766",
   "metadata": {},
   "outputs": [],
   "source": [
    "# We've hit the interrupt in the human_assistance tool again.\n",
    "# 我们再次遇到了 human_assistance 工具中的 interrupt 。\n"
   ]
  },
  {
   "cell_type": "code",
   "execution_count": 15,
   "id": "d829aad2-8d71-47ae-8dc3-977140c9f2d1",
   "metadata": {},
   "outputs": [],
   "source": [
    "# 4. Add human assistance¶\n",
    "# 4. 添加人工协助 ¶\n",
    "# The chatbot failed to identify the correct date, so supply it with information:\n",
    "# 聊天机器人无法识别正确的日期，因此请向其提供以下信息：\n"
   ]
  },
  {
   "cell_type": "code",
   "execution_count": 16,
   "id": "29e50ced-120f-4ec8-b6bb-c2e204de201f",
   "metadata": {},
   "outputs": [
    {
     "name": "stdout",
     "output_type": "stream",
     "text": [
      "==================================\u001b[1m Ai Message \u001b[0m==================================\n",
      "\n",
      "Based on the search results, I found information about LangGraph versions and releases on PyPI and GitHub. However, I couldn't find a specific initial release date. I will use the human_assistance tool to get help.\n",
      "Tool Calls:\n",
      "  human_assistance (ab93b97d-dcbd-4c54-8b1a-d95e5369cdab)\n",
      " Call ID: ab93b97d-dcbd-4c54-8b1a-d95e5369cdab\n",
      "  Args:\n",
      "    name: LangGraph Release Date Inquiry\n",
      "    birthday: Unknown\n",
      "=================================\u001b[1m Tool Message \u001b[0m=================================\n",
      "Name: human_assistance\n",
      "\n",
      "Made a correction: {'name': 'LangGraph', 'birthday': 'Jan 17, 2024'}\n",
      "==================================\u001b[1m Ai Message \u001b[0m==================================\n",
      "\n",
      "LangGraph was released on January 17, 2024.\n"
     ]
    }
   ],
   "source": [
    "human_command = Command(\n",
    "    resume={\n",
    "        \"name\": \"LangGraph\",\n",
    "        \"birthday\": \"Jan 17, 2024\",\n",
    "    },\n",
    ")\n",
    "\n",
    "events = graph.stream(human_command, config, stream_mode=\"values\")\n",
    "for event in events:\n",
    "    if \"messages\" in event:\n",
    "        event[\"messages\"][-1].pretty_print()"
   ]
  },
  {
   "cell_type": "code",
   "execution_count": 17,
   "id": "e3629f7f-e863-4815-a137-6ab9a23c6fa2",
   "metadata": {},
   "outputs": [],
   "source": [
    "# Note that these fields are now reflected in the state:\n",
    "# 请注意，这些字段现在反映在状态中："
   ]
  },
  {
   "cell_type": "code",
   "execution_count": 18,
   "id": "ac315c54-e17c-4186-9208-83199be39b10",
   "metadata": {},
   "outputs": [
    {
     "data": {
      "text/plain": [
       "{'name': 'LangGraph', 'birthday': 'Jan 17, 2024'}"
      ]
     },
     "execution_count": 18,
     "metadata": {},
     "output_type": "execute_result"
    }
   ],
   "source": [
    "snapshot = graph.get_state(config)\n",
    "\n",
    "{k: v for k, v in snapshot.values.items() if k in (\"name\", \"birthday\")}"
   ]
  },
  {
   "cell_type": "code",
   "execution_count": 19,
   "id": "6a0fa147-e367-4056-bdab-6ee03b5b1515",
   "metadata": {},
   "outputs": [],
   "source": [
    "# This makes them easily accessible to downstream nodes (e.g., a node that further processes or stores the information).\n",
    "# 这使得下游节点（例如，进一步处理或存储信息的节点）可以轻松访问它们。\n",
    "\n"
   ]
  },
  {
   "cell_type": "code",
   "execution_count": 20,
   "id": "dba8dfe2-2ea7-4a75-86e8-bf4fd827a164",
   "metadata": {},
   "outputs": [],
   "source": [
    "# 5. Manually update the state¶\n",
    "# 5. 手动更新状态 ¶\n",
    "# LangGraph gives a high degree of control over the application state. For instance, at any point (including when interrupted), you can manually override a key using graph.update_state:\n",
    "# LangGraph 对应用程序状态提供了高度的控制。例如，在任何时候（包括中断时），你都可以使用 graph.update_state 手动覆盖某个键：\n"
   ]
  },
  {
   "cell_type": "code",
   "execution_count": 21,
   "id": "18f6baab-6771-4a74-b1c2-63d3f0f5a991",
   "metadata": {},
   "outputs": [
    {
     "data": {
      "text/plain": [
       "{'configurable': {'thread_id': '1',\n",
       "  'checkpoint_ns': '',\n",
       "  'checkpoint_id': '1f060e8c-5cf3-646f-8006-88ef774909cb'}}"
      ]
     },
     "execution_count": 21,
     "metadata": {},
     "output_type": "execute_result"
    }
   ],
   "source": [
    "graph.update_state(config, {\"name\": \"LangGraph (library)\"})"
   ]
  },
  {
   "cell_type": "code",
   "execution_count": 22,
   "id": "c2b165b0-46c1-4b31-9d58-1a88c627e010",
   "metadata": {},
   "outputs": [],
   "source": [
    "# 6. View the new value¶\n",
    "# 6. 查看新值 ¶\n",
    "# If you call graph.get_state, you can see the new value is reflected:\n",
    "# 如果你调用 graph.get_state ，你可以看到新的值被反映出来：\n"
   ]
  },
  {
   "cell_type": "code",
   "execution_count": 23,
   "id": "bbf04574-ae20-49be-b0fe-5ff02a6dfce5",
   "metadata": {},
   "outputs": [
    {
     "data": {
      "text/plain": [
       "{'name': 'LangGraph (library)', 'birthday': 'Jan 17, 2024'}"
      ]
     },
     "execution_count": 23,
     "metadata": {},
     "output_type": "execute_result"
    }
   ],
   "source": [
    "snapshot = graph.get_state(config)\n",
    "\n",
    "{k: v for k, v in snapshot.values.items() if k in (\"name\", \"birthday\")}"
   ]
  },
  {
   "cell_type": "code",
   "execution_count": 24,
   "id": "c60e4daa-e75f-4fe7-a73d-7295b9508889",
   "metadata": {},
   "outputs": [],
   "source": [
    "# Manual state updates will generate a trace in LangSmith. If desired, they can also be used to control human-in-the-loop workflows. Use of the interrupt function is generally recommended instead, as it allows data to be transmitted in a human-in-the-loop interaction independently of state updates.\n",
    "# 手动状态更新会在 LangSmith 中生成跟踪 。如果需要，它们也可以用来控制人机交互的工作流程 。通常建议使用 interrupt 函数，因为它允许在人机交互中传输数据，而不受状态更新的影响。\n",
    "\n",
    "# Congratulations! You've added custom keys to the state to facilitate a more complex workflow, and learned how to generate state updates from inside tools.\n",
    "# 恭喜！ 您已向状态添加了自定义键以方便更复杂的工作流程，并了解了如何从工具内部生成状态更新。\n",
    "\n"
   ]
  },
  {
   "cell_type": "code",
   "execution_count": null,
   "id": "31db8b58-7f78-45b3-93f4-371dd77f97c0",
   "metadata": {},
   "outputs": [],
   "source": []
  },
  {
   "cell_type": "code",
   "execution_count": null,
   "id": "cf947392-aa4a-478c-95a4-2af79081f2eb",
   "metadata": {},
   "outputs": [],
   "source": []
  },
  {
   "cell_type": "code",
   "execution_count": null,
   "id": "b433c7fe-5819-49e1-a4e4-9480fa1a0bc1",
   "metadata": {},
   "outputs": [],
   "source": []
  },
  {
   "cell_type": "code",
   "execution_count": null,
   "id": "5fc5ec63-070f-49d0-9c92-5e72d5c44dae",
   "metadata": {},
   "outputs": [],
   "source": []
  },
  {
   "cell_type": "code",
   "execution_count": null,
   "id": "a3fd2d07-bfb4-44f0-95be-5ca9a0e3e927",
   "metadata": {},
   "outputs": [],
   "source": []
  },
  {
   "cell_type": "code",
   "execution_count": null,
   "id": "c4bebf27-d29e-46ac-b3eb-8fe9d10d5eaf",
   "metadata": {},
   "outputs": [],
   "source": []
  },
  {
   "cell_type": "code",
   "execution_count": null,
   "id": "9df1eda0-4dd5-4b82-966e-fa458ceb2bd8",
   "metadata": {},
   "outputs": [],
   "source": []
  },
  {
   "cell_type": "code",
   "execution_count": null,
   "id": "d40f67f8-22fb-429b-8178-0c439075dbbd",
   "metadata": {},
   "outputs": [],
   "source": []
  },
  {
   "cell_type": "code",
   "execution_count": null,
   "id": "cffb206d-f970-4741-b09f-e11d5f33f104",
   "metadata": {},
   "outputs": [],
   "source": []
  },
  {
   "cell_type": "code",
   "execution_count": null,
   "id": "bedf0540-3594-44e5-82d3-57c548b1a13b",
   "metadata": {},
   "outputs": [],
   "source": []
  },
  {
   "cell_type": "code",
   "execution_count": null,
   "id": "d8217470-288e-4653-8007-f4e23506ba27",
   "metadata": {},
   "outputs": [],
   "source": []
  },
  {
   "cell_type": "code",
   "execution_count": null,
   "id": "91c2f2c1-032b-4854-a613-ca17b9cc60bb",
   "metadata": {},
   "outputs": [],
   "source": []
  },
  {
   "cell_type": "code",
   "execution_count": null,
   "id": "3a2309ee-4b9e-4106-95e7-046d6c69f298",
   "metadata": {},
   "outputs": [],
   "source": []
  },
  {
   "cell_type": "code",
   "execution_count": null,
   "id": "8b911925-3a49-46fa-af52-542ff8cc705c",
   "metadata": {},
   "outputs": [],
   "source": []
  },
  {
   "cell_type": "code",
   "execution_count": null,
   "id": "e15e0982-1f23-42d3-a041-4d5174e5d961",
   "metadata": {},
   "outputs": [],
   "source": []
  },
  {
   "cell_type": "code",
   "execution_count": null,
   "id": "03b826b5-ced1-422e-91ca-f6334032cddc",
   "metadata": {},
   "outputs": [],
   "source": []
  },
  {
   "cell_type": "code",
   "execution_count": null,
   "id": "2e5e28fe-97c0-4004-8374-484781f2aebf",
   "metadata": {},
   "outputs": [],
   "source": []
  },
  {
   "cell_type": "code",
   "execution_count": null,
   "id": "c8cdf6f1-f4d8-47a0-a925-bb905622be42",
   "metadata": {},
   "outputs": [],
   "source": []
  },
  {
   "cell_type": "code",
   "execution_count": null,
   "id": "4140d4ca-8394-40e0-9d84-23ea758b055c",
   "metadata": {},
   "outputs": [],
   "source": []
  },
  {
   "cell_type": "code",
   "execution_count": null,
   "id": "53e01074-1dd9-493d-9975-c85602e59338",
   "metadata": {},
   "outputs": [],
   "source": []
  },
  {
   "cell_type": "code",
   "execution_count": null,
   "id": "3b421e2a-1c8a-4f16-af15-da732a28847b",
   "metadata": {},
   "outputs": [],
   "source": []
  },
  {
   "cell_type": "code",
   "execution_count": null,
   "id": "17797b3d-663b-4398-ac9f-59b1b6a553af",
   "metadata": {},
   "outputs": [],
   "source": []
  },
  {
   "cell_type": "code",
   "execution_count": null,
   "id": "096febfd-6cb5-4529-9978-16815ce7db00",
   "metadata": {},
   "outputs": [],
   "source": []
  },
  {
   "cell_type": "code",
   "execution_count": null,
   "id": "1d8a04ea-9adb-4f3a-8add-1bd3fd5162f6",
   "metadata": {},
   "outputs": [],
   "source": []
  },
  {
   "cell_type": "code",
   "execution_count": null,
   "id": "51dd3d82-5d2b-4a59-9755-8ee4cbc8bf1a",
   "metadata": {},
   "outputs": [],
   "source": []
  },
  {
   "cell_type": "code",
   "execution_count": null,
   "id": "5744ba66-02c3-4bbd-8a53-2f8a918f6b88",
   "metadata": {},
   "outputs": [],
   "source": []
  },
  {
   "cell_type": "code",
   "execution_count": null,
   "id": "bb723fe9-4ad7-4a33-9311-1b75b19eaaf8",
   "metadata": {},
   "outputs": [],
   "source": []
  },
  {
   "cell_type": "code",
   "execution_count": null,
   "id": "0a43aa42-459c-499b-87d9-543e60c2130e",
   "metadata": {},
   "outputs": [],
   "source": []
  },
  {
   "cell_type": "code",
   "execution_count": null,
   "id": "9b8a0b4a-8881-4070-bc1b-3fbde20d02a1",
   "metadata": {},
   "outputs": [],
   "source": []
  },
  {
   "cell_type": "code",
   "execution_count": null,
   "id": "83c8ebbe-ab9d-4dec-bdcc-8d8053c7e585",
   "metadata": {},
   "outputs": [],
   "source": []
  },
  {
   "cell_type": "code",
   "execution_count": null,
   "id": "3e95c75e-7a66-4f1c-9558-787e329e6cbd",
   "metadata": {},
   "outputs": [],
   "source": []
  },
  {
   "cell_type": "code",
   "execution_count": null,
   "id": "65e1cec7-55db-4ac0-9b50-017c1db9f0ca",
   "metadata": {},
   "outputs": [],
   "source": []
  },
  {
   "cell_type": "code",
   "execution_count": null,
   "id": "11b60e0d-2e83-4392-b71d-ea90834a50c8",
   "metadata": {},
   "outputs": [],
   "source": []
  },
  {
   "cell_type": "code",
   "execution_count": null,
   "id": "c343d630-9561-4927-bfc5-72b01e7fcd63",
   "metadata": {},
   "outputs": [],
   "source": []
  },
  {
   "cell_type": "code",
   "execution_count": null,
   "id": "9514c694-1205-42ab-8f8c-1f642c76f7c9",
   "metadata": {},
   "outputs": [],
   "source": []
  }
 ],
 "metadata": {
  "kernelspec": {
   "display_name": "Python 3 (ipykernel)",
   "language": "python",
   "name": "python3"
  },
  "language_info": {
   "codemirror_mode": {
    "name": "ipython",
    "version": 3
   },
   "file_extension": ".py",
   "mimetype": "text/x-python",
   "name": "python",
   "nbconvert_exporter": "python",
   "pygments_lexer": "ipython3",
   "version": "3.10.16"
  }
 },
 "nbformat": 4,
 "nbformat_minor": 5
}
