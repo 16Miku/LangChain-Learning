{
 "cells": [
  {
   "cell_type": "code",
   "execution_count": null,
   "id": "76083083-2000-40ee-9b76-f077c9a3b7cc",
   "metadata": {},
   "outputs": [],
   "source": [
    "\n"
   ]
  },
  {
   "cell_type": "code",
   "execution_count": null,
   "id": "7763de38-daeb-4887-b463-7b32d0a687f3",
   "metadata": {},
   "outputs": [],
   "source": []
  },
  {
   "cell_type": "code",
   "execution_count": 1,
   "id": "ced8d202-d8db-4124-ad72-11b926921403",
   "metadata": {},
   "outputs": [],
   "source": [
    "# 构建RAG应用：第一部分\n",
    "# 本教程旨在指导您构建一个基于文本数据源的简单问答（Q&A）应用程序。我们将深入探讨典型的Q&A架构，并重点介绍RAG技术。\n",
    "\n",
    "# 什么是RAG？\n",
    "# RAG（Retrieval Augmented Generation）是一种结合了信息检索和文本生成的技术，用于增强大型语言模型（LLM）的问答能力。它通过在生成答案之前从外部知识库中检索相关信息，从而使LLM能够提供更准确、更具体、更少幻觉的回答。\n",
    "\n",
    "# 典型的RAG应用程序包含两个主要组件：\n",
    "\n",
    "# 索引（Indexing）: 这是一个用于从数据源摄取数据并对其进行索引的管道。这个过程通常是离线进行的。\n",
    "\n",
    "# 检索和生成（Retrieval and Generation）: 这是实际的RAG链，它在运行时接收用户查询，从索引中检索相关数据，然后将这些数据传递给语言模型以生成答案。\n",
    "\n",
    "# 从原始数据到答案的完整序列通常包括以下步骤：\n",
    "\n",
    "# 索引阶段：\n",
    "\n",
    "# 加载（Load）: 使用Document Loaders加载数据。\n",
    "\n",
    "# 分割（Split）: 使用Text Splitters将大型文档分割成更小的块，以便于搜索和适应模型的上下文窗口。\n",
    "\n",
    "# 存储（Store）: 将分割后的文本块存储并索引起来，通常使用VectorStore和Embeddings模型。\n",
    "\n",
    "# 检索和生成阶段：\n",
    "\n",
    "# 检索（Retrieve）: 根据用户输入，使用Retriever从存储中检索相关的文本块。\n",
    "\n",
    "# 生成（Generate）: ChatModel / LLM结合检索到的数据和原始问题，通过一个提示（Prompt）来生成答案。\n",
    "\n",
    "# 我们将使用LangGraph作为编排框架来实现检索和生成步骤。\n",
    "\n",
    "# 环境设置 (Setup)\n",
    "# 在开始之前，我们需要安装一些必要的库并配置LangSmith（可选，但强烈推荐用于跟踪应用）。\n",
    "\n",
    "# Jupyter Notebook: 建议在Jupyter Notebook环境中运行本教程，以获得更好的交互体验。如果您尚未安装，请参考Jupyter官方文档进行安装。\n",
    "\n",
    "# 安装依赖:\n",
    "# 打开您的PowerShell命令行，然后执行以下pip安装命令。\n",
    "\n",
    "# pip install --quiet --upgrade langchain-text-splitters langchain-community langgraph\n",
    "# pip install -qU \"langchain[google-genai]\"\n",
    "# pip install -qU langchain-google-genai\n",
    "# pip install -qU langchain-chroma\n",
    "# 请注意：\n",
    "\n",
    "# --quiet 或 -q 参数是为了在安装过程中减少输出信息。\n",
    "\n",
    "# -U 参数是为了确保安装的库是最新版本。\n"
   ]
  },
  {
   "cell_type": "code",
   "execution_count": null,
   "id": "c5b99f28-7f62-444e-ad3a-27931cd8a0ef",
   "metadata": {},
   "outputs": [],
   "source": []
  },
  {
   "cell_type": "code",
   "execution_count": 2,
   "id": "5889ea1a-a30b-4e6e-a58d-1d892c3ced27",
   "metadata": {},
   "outputs": [],
   "source": [
    "# LangSmith 配置 (可选但推荐):\n",
    "# LangSmith 是 LangChain 应用程序的调试、测试、评估和监控平台。它能帮助我们追踪复杂应用中的LLM调用。\n",
    "\n",
    "# 首先，您需要注册 LangSmith 并获取 LANGSMITH_API_KEY。\n",
    "# 然后，在您的PowerShell环境中设置环境变量：\n",
    "# 请将 `YOUR_LANGSMITH_API_KEY` 替换为您自己的LangSmith API Key。\n",
    "\n",
    "# $env:LANGSMITH_TRACING=\"true\"\n",
    "# $env:LANGSMITH_API_KEY=\"YOUR_LANGSMITH_API_KEY\"\n",
    "\n",
    "\n",
    "# 或者，如果您在Jupyter Notebook中运行，可以使用Python代码设置："
   ]
  },
  {
   "cell_type": "code",
   "execution_count": 3,
   "id": "16960cc8-b9e1-4e8e-beba-77f88ef3d870",
   "metadata": {},
   "outputs": [],
   "source": [
    "import getpass\n",
    "import os\n",
    "\n",
    "os.environ[\"LANGSMITH_TRACING\"] = \"true\"\n",
    "# 如果您已经在PowerShell中设置了LANGSMITH_API_KEY，这里可以省略，\n",
    "# 否则，您可以通过getpass输入或直接赋值\n",
    "if not os.environ.get(\"LANGSMITH_API_KEY\"):\n",
    "    os.environ[\"LANGSMITH_API_KEY\"] = getpass.getpass(\"Enter your LangSmith API Key: \")\n"
   ]
  },
  {
   "cell_type": "code",
   "execution_count": 4,
   "id": "a4141e35-e292-45f4-bd9f-3a0ee5fe2719",
   "metadata": {},
   "outputs": [],
   "source": [
    "# 组件选择:\n",
    "# 我们将从LangChain的集成套件中选择三个核心组件：\n",
    "\n",
    "# 选择聊天模型 (Chat Model):\n",
    "# 我们将使用Google Gemini模型。您需要一个Google Gemini API Key。"
   ]
  },
  {
   "cell_type": "code",
   "execution_count": 5,
   "id": "662ce6dd-f7ba-4d73-8c86-393945110903",
   "metadata": {},
   "outputs": [
    {
     "name": "stdout",
     "output_type": "stream",
     "text": [
      "聊天模型 (LLM) 已初始化。\n"
     ]
    }
   ],
   "source": [
    "import getpass\n",
    "import os\n",
    "from langchain.chat_models import init_chat_model\n",
    "\n",
    "# 确保GOOGLE_API_KEY环境变量已设置\n",
    "if not os.environ.get(\"GOOGLE_API_KEY\"):\n",
    "    os.environ[\"GOOGLE_API_KEY\"] = getpass.getpass(\"Enter API key for Google Gemini: \")\n",
    "\n",
    "# 初始化聊天模型\n",
    "llm = init_chat_model(\"gemini-2.5-flash\", model_provider=\"google_genai\")\n",
    "print(\"聊天模型 (LLM) 已初始化。\")\n"
   ]
  },
  {
   "cell_type": "code",
   "execution_count": 6,
   "id": "55c6dd0d-2d9c-4c5d-a2b8-287218d69e25",
   "metadata": {},
   "outputs": [],
   "source": [
    "# 选择嵌入模型 (Embeddings Model):\n",
    "# 我们将使用Google Generative AI Embeddings。"
   ]
  },
  {
   "cell_type": "code",
   "execution_count": 7,
   "id": "f6147563-cfd0-488f-87b2-3d516c43bdd7",
   "metadata": {},
   "outputs": [
    {
     "name": "stdout",
     "output_type": "stream",
     "text": [
      "嵌入模型 (Embeddings Model) 已初始化。\n"
     ]
    }
   ],
   "source": [
    "import getpass\n",
    "import os\n",
    "from langchain_google_genai import GoogleGenerativeAIEmbeddings\n",
    "\n",
    "# 确保GOOGLE_API_KEY环境变量已设置\n",
    "if not os.environ.get(\"GOOGLE_API_KEY\"):\n",
    "    os.environ[\"GOOGLE_API_KEY\"] = getpass.getpass(\"Enter API key for Google Gemini: \")\n",
    "\n",
    "# 初始化嵌入模型\n",
    "embeddings = GoogleGenerativeAIEmbeddings(model=\"models/gemini-embedding-001\")\n",
    "print(\"嵌入模型 (Embeddings Model) 已初始化。\")\n"
   ]
  },
  {
   "cell_type": "code",
   "execution_count": 8,
   "id": "d287860a-c920-4304-8576-1a8e209ad2a1",
   "metadata": {},
   "outputs": [],
   "source": [
    "# 选择向量存储 (Vector Store):\n",
    "# 我们将使用Chroma作为向量存储，它是一个轻量级的本地向量数据库。"
   ]
  },
  {
   "cell_type": "code",
   "execution_count": 9,
   "id": "18f5dcf3-510f-4f89-ac85-3b82913f7ee5",
   "metadata": {},
   "outputs": [
    {
     "name": "stdout",
     "output_type": "stream",
     "text": [
      "向量存储 (Vector Store) 已初始化。\n"
     ]
    }
   ],
   "source": [
    "from langchain_chroma import Chroma\n",
    "\n",
    "# 初始化向量存储\n",
    "# collection_name 是存储文档的集合名称\n",
    "# embedding_function 指定用于生成嵌入的函数\n",
    "# persist_directory 指定数据本地保存的路径，如果不需要持久化可以移除\n",
    "vector_store = Chroma(\n",
    "    collection_name=\"example_collection\",\n",
    "    embedding_function=embeddings,\n",
    "    persist_directory=\"./chroma_langchain_db\",\n",
    ")\n",
    "print(\"向量存储 (Vector Store) 已初始化。\")\n"
   ]
  },
  {
   "cell_type": "code",
   "execution_count": null,
   "id": "ac99a3ba-ced4-4566-a68d-e2addccd3b56",
   "metadata": {},
   "outputs": [],
   "source": []
  },
  {
   "cell_type": "code",
   "execution_count": null,
   "id": "6fbe8058-64c4-410e-9439-f9c4b597b727",
   "metadata": {},
   "outputs": [],
   "source": [
    "# 在本指南中，我们将构建一个应用程序，该应用程序可以回答关于Lilian Weng的博客文章“LLM Powered Autonomous Agents”的内容的问题。"
   ]
  },
  {
   "cell_type": "code",
   "execution_count": 10,
   "id": "b124eb51-ea10-4d5b-8d82-a8ac1e873950",
   "metadata": {},
   "outputs": [],
   "source": [
    "# 1. 索引 (Indexing)\n",
    "# 这个阶段负责准备我们的数据，使其可以被检索。\n",
    "\n",
    "# 1.1. 加载文档 (Loading documents)\n",
    "\n",
    "# 我们首先需要加载博客文章的内容。DocumentLoaders是用于从各种源加载数据并返回Document对象列表的工具。\n",
    "\n",
    "# 在这个例子中，我们使用WebBaseLoader来加载网页内容。它使用urllib加载HTML，并使用BeautifulSoup解析HTML到文本。通过bs_kwargs参数，我们可以自定义BeautifulSoup的解析行为。这里，我们只关注具有\"post-content\", \"post-title\", 或 \"post-header\" 类的HTML标签，以过滤掉不相关的内容。"
   ]
  },
  {
   "cell_type": "code",
   "execution_count": 11,
   "id": "385c6208-3734-4bcf-8020-a68bc72b50b9",
   "metadata": {},
   "outputs": [
    {
     "name": "stderr",
     "output_type": "stream",
     "text": [
      "USER_AGENT environment variable not set, consider setting it to identify your requests.\n"
     ]
    },
    {
     "name": "stdout",
     "output_type": "stream",
     "text": [
      "加载的文档数量: 1\n",
      "总字符数: 43047\n",
      "\n",
      "\n",
      "      LLM Powered Autonomous Agents\n",
      "    \n",
      "Date: June 23, 2023  |  Estimated Reading Time: 31 min  |  Author: Lilian Weng\n",
      "\n",
      "\n",
      "Building agents with LLM (large language model) as its core controller is a cool concept. Several proof-of-concepts demos, such as AutoGPT, GPT-Engineer and BabyAGI, serve as inspiring examples. The potentiality of LLM extends beyond generating well-written copies, stories, essays and programs; it can be framed as a powerful general problem solver.\n",
      "Agent System Overview#\n",
      "In\n"
     ]
    }
   ],
   "source": [
    "import bs4\n",
    "from langchain_community.document_loaders import WebBaseLoader\n",
    "\n",
    "# 仅保留文章标题、头部和内容的HTML标签\n",
    "bs4_strainer = bs4.SoupStrainer(class_=(\"post-title\", \"post-header\", \"post-content\"))\n",
    "loader = WebBaseLoader(\n",
    "    web_paths=(\"https://lilianweng.github.io/posts/2023-06-23-agent/\",),\n",
    "    bs_kwargs={\"parse_only\": bs4_strainer}, # 将BeautifulSoup的解析参数传递给bs_kwargs\n",
    ")\n",
    "docs = loader.load() # 加载文档\n",
    "\n",
    "print(f\"加载的文档数量: {len(docs)}\")\n",
    "# 验证加载的文档数量是否为1（因为我们只加载了一个网页）\n",
    "assert len(docs) == 1\n",
    "# 打印文档内容的前500个字符\n",
    "print(f\"总字符数: {len(docs[0].page_content)}\")\n",
    "print(docs[0].page_content[:500])\n"
   ]
  },
  {
   "cell_type": "code",
   "execution_count": 12,
   "id": "f4e7a399-5312-40c6-86d7-afab94b8f181",
   "metadata": {},
   "outputs": [],
   "source": [
    "# DocumentLoader: 从源加载数据并返回Document对象列表的工具。\n",
    "\n",
    "# Document: LangChain中的基本数据结构，包含page_content（文本内容）和metadata（关于文档的附加信息）。"
   ]
  },
  {
   "cell_type": "code",
   "execution_count": 13,
   "id": "e81a529c-627c-4551-8a04-622f421c1b1e",
   "metadata": {},
   "outputs": [],
   "source": [
    "# 1.2. 分割文档 (Splitting documents)\n",
    "\n",
    "# 我们加载的文档（超过42k字符）对于许多模型的上下文窗口来说太长了。即使模型能够处理这么长的文本，在非常长的输入中查找信息也可能很困难。\n",
    "\n",
    "# 为了解决这个问题，我们将把Document分割成更小的文本块（chunks），以便进行嵌入和向量存储。这将有助于我们在运行时只检索博客文章中最相关的部分。\n",
    "\n",
    "# 我们使用RecursiveCharacterTextSplitter，它会递归地使用常见的分隔符（如换行符）分割文档，直到每个文本块达到适当的大小。这是通用文本用例推荐的文本分割器。"
   ]
  },
  {
   "cell_type": "code",
   "execution_count": 14,
   "id": "83a1623a-af57-43d5-a860-b05d47fd872d",
   "metadata": {},
   "outputs": [
    {
     "name": "stdout",
     "output_type": "stream",
     "text": [
      "博客文章被分割成 63 个子文档。\n",
      "{'source': 'https://lilianweng.github.io/posts/2023-06-23-agent/', 'start_index': 8}\n"
     ]
    }
   ],
   "source": [
    "from langchain_text_splitters import RecursiveCharacterTextSplitter\n",
    "\n",
    "text_splitter = RecursiveCharacterTextSplitter(\n",
    "    chunk_size=1000,          # 每个文本块的最大字符数\n",
    "    chunk_overlap=200,        # 文本块之间的重叠字符数，有助于保持上下文\n",
    "    add_start_index=True,     # 跟踪原始文档中的起始索引\n",
    ")\n",
    "all_splits = text_splitter.split_documents(docs) # 分割文档\n",
    "\n",
    "print(f\"博客文章被分割成 {len(all_splits)} 个子文档。\")\n",
    "# 打印第一个文本块的元数据，查看起始索引信息\n",
    "print(all_splits[0].metadata)\n"
   ]
  },
  {
   "cell_type": "code",
   "execution_count": 15,
   "id": "8457e966-7798-4599-9834-49f452de67e8",
   "metadata": {},
   "outputs": [],
   "source": [
    "# TextSplitter: 将Document列表分割成更小文本块的工具。\n",
    "\n",
    "# chunk_size: 限制每个文本块的大小，以适应LLM的上下文窗口。\n",
    "\n",
    "# chunk_overlap: 确保文本块之间有重叠，以避免在分割点丢失重要上下文。"
   ]
  },
  {
   "cell_type": "code",
   "execution_count": 16,
   "id": "5e0a00dd-b76a-48a5-874f-9a257822eeff",
   "metadata": {},
   "outputs": [],
   "source": [
    "# 1.3. 存储文档 (Storing documents)\n",
    "\n",
    "# 现在我们需要索引这66个文本块，以便在运行时可以搜索它们。我们的方法是嵌入每个文档分割的内容，并将这些嵌入插入到向量存储中。给定一个输入查询，我们就可以使用向量搜索来检索相关文档。\n",
    "\n",
    "# 我们可以使用在设置阶段选择的向量存储和嵌入模型，通过一个命令嵌入并存储所有文档分割。"
   ]
  },
  {
   "cell_type": "code",
   "execution_count": 17,
   "id": "45ebe339-4ec1-4d79-a24c-760ffab022ca",
   "metadata": {},
   "outputs": [
    {
     "name": "stdout",
     "output_type": "stream",
     "text": [
      "正在将 63 个文本块添加到向量存储...\n",
      "文档添加完成。前3个文档的ID：\n",
      "['1dce4ef9-8f1e-4710-9d12-024f5d70c9c1', '0f1a44d6-a5d5-4c73-908e-b3c9e24d3d0b', 'dffdd592-3a15-4524-8a4b-517f00cfc9ab']\n"
     ]
    }
   ],
   "source": [
    "# 确保 vector_store 和 all_splits 变量在此处可用\n",
    "# 如果您是独立运行此部分，请确保之前已运行过初始化和加载/分割文档的代码\n",
    "\n",
    "print(f\"正在将 {len(all_splits)} 个文本块添加到向量存储...\")\n",
    "document_ids = vector_store.add_documents(documents=all_splits) # 添加文档到向量存储\n",
    "\n",
    "print(\"文档添加完成。前3个文档的ID：\")\n",
    "print(document_ids[:3])\n"
   ]
  },
  {
   "cell_type": "code",
   "execution_count": 18,
   "id": "89e27455-63e9-4b54-aeca-dc924d9a5bf6",
   "metadata": {},
   "outputs": [],
   "source": [
    "# Embeddings: 用于将文本转换为数值向量（嵌入）的模型包装器。这些向量捕获了文本的语义含义。\n",
    "\n",
    "# VectorStore: 向量数据库的包装器，用于存储和查询嵌入。它允许我们通过计算查询嵌入与存储嵌入之间的相似度来执行语义搜索。\n",
    "\n",
    "# 至此，索引部分完成。我们现在拥有一个可查询的向量存储，其中包含我们博客文章的块状内容。给定用户问题，我们应该能够返回回答该问题所需的博客文章片段。"
   ]
  },
  {
   "cell_type": "code",
   "execution_count": 19,
   "id": "1ad0d15a-dd25-4339-93d1-81fedf5350a7",
   "metadata": {},
   "outputs": [],
   "source": [
    "# 2. 检索和生成 (Retrieval and Generation)\n",
    "# 现在，让我们编写实际的应用程序逻辑。我们希望创建一个简单的应用程序，它接收用户问题，搜索与该问题相关的文档，将检索到的文档和原始问题传递给模型，然后返回一个答案。\n",
    "\n",
    "# 2.1. 提示 (Prompt)\n",
    "\n",
    "# 我们将使用在LangChain提示中心（prompt hub）中预定义的RAG提示。"
   ]
  },
  {
   "cell_type": "code",
   "execution_count": 20,
   "id": "de6d37ea-cee4-4e88-aa69-a95ba9894fdd",
   "metadata": {},
   "outputs": [
    {
     "name": "stdout",
     "output_type": "stream",
     "text": [
      "RAG提示模板内容示例:\n",
      "You are an assistant for question-answering tasks. Use the following pieces of retrieved context to answer the question. If you don't know the answer, just say that you don't know. Use three sentences maximum and keep the answer concise.\n",
      "Question: (question goes here) \n",
      "Context: (context goes here) \n",
      "Answer:\n"
     ]
    }
   ],
   "source": [
    "from langchain import hub\n",
    "from langchain_core.prompts import PromptTemplate\n",
    "\n",
    "# 从LangChain Hub拉取RAG提示模板\n",
    "# 注意：对于非美国LangSmith端点，您可能需要在hub.pull中指定api_url=\"https://api.smith.langchain.com\"。\n",
    "prompt = hub.pull(\"rlm/rag-prompt\")\n",
    "\n",
    "# 演示提示模板的结构\n",
    "example_messages = prompt.invoke(\n",
    "    {\"context\": \"(context goes here)\", \"question\": \"(question goes here)\"}\n",
    ").to_messages()\n",
    "\n",
    "assert len(example_messages) == 1\n",
    "print(\"RAG提示模板内容示例:\")\n",
    "print(example_messages[0].content)\n"
   ]
  },
  {
   "cell_type": "code",
   "execution_count": 21,
   "id": "1f07401e-8af9-4781-8d9c-22f27e214d1a",
   "metadata": {},
   "outputs": [],
   "source": [
    "# 这个提示模板指导LLM作为一个问答助手，利用提供的上下文来回答问题，并要求回答简洁。"
   ]
  },
  {
   "cell_type": "code",
   "execution_count": 22,
   "id": "da57a43d-c212-44fb-b0fc-92237817210e",
   "metadata": {},
   "outputs": [],
   "source": [
    "# 2.2. LangGraph 概览 (LangGraph Overview)\n",
    "\n",
    "# 我们将使用LangGraph将检索和生成步骤连接成一个单一的应用程序。LangGraph是一个用于构建多步LLM应用程序的库，它提供了以下好处：\n",
    "\n",
    "# 可以一次定义应用程序逻辑，并自动支持多种调用模式（流式、异步、批处理）。\n",
    "\n",
    "# 通过LangGraph平台简化部署。\n",
    "\n",
    "# LangSmith将自动追踪应用程序的步骤。\n",
    "\n",
    "# 可以轻松地向应用程序添加关键功能，例如持久化和人工审核。\n",
    "\n",
    "# 要使用LangGraph，我们需要定义三件事：\n",
    "\n",
    "# 应用程序的状态 (State)：应用程序的输入、步骤之间传递的数据和应用程序的输出。\n",
    "\n",
    "# 应用程序的节点 (Nodes)：应用程序的各个步骤（函数）。\n",
    "\n",
    "# 应用程序的“控制流” (Control Flow)：步骤的执行顺序。\n",
    "\n",
    "# 2.3. 状态定义 (State Definition)\n",
    "\n",
    "# 应用程序的状态控制着输入到应用程序、在步骤之间传输以及由应用程序输出的数据。它通常是一个TypedDict，也可以是Pydantic BaseModel。\n",
    "\n",
    "# 对于一个简单的RAG应用程序，我们可以只跟踪输入问题、检索到的上下文和生成的答案："
   ]
  },
  {
   "cell_type": "code",
   "execution_count": 23,
   "id": "589f84d0-83bb-4e87-9b07-d166af4fae7d",
   "metadata": {},
   "outputs": [
    {
     "name": "stdout",
     "output_type": "stream",
     "text": [
      "应用程序状态 (State) 已定义。\n"
     ]
    }
   ],
   "source": [
    "from langchain_core.documents import Document\n",
    "from typing_extensions import List, TypedDict\n",
    "\n",
    "# 定义应用程序的状态\n",
    "# question: 用户提出的问题\n",
    "# context: 检索到的相关文档列表\n",
    "# answer: LLM生成的答案\n",
    "class State(TypedDict):\n",
    "    question: str\n",
    "    context: List[Document]\n",
    "    answer: str\n",
    "\n",
    "print(\"应用程序状态 (State) 已定义。\")\n"
   ]
  },
  {
   "cell_type": "code",
   "execution_count": 24,
   "id": "610fb0cc-9330-430c-938d-421dee18b643",
   "metadata": {},
   "outputs": [],
   "source": [
    "# 2.4. 节点 (应用程序步骤) (Nodes (application steps))\n",
    "\n",
    "# 我们从一个包含两个简单步骤的序列开始：检索和生成。"
   ]
  },
  {
   "cell_type": "code",
   "execution_count": 25,
   "id": "6f4720d5-9d12-4e11-8f8c-16b33a35a619",
   "metadata": {},
   "outputs": [
    {
     "name": "stdout",
     "output_type": "stream",
     "text": [
      "检索 (retrieve) 和 生成 (generate) 节点函数已定义。\n"
     ]
    }
   ],
   "source": [
    "# 确保 vector_store, prompt, llm 和 State 变量在此处可用\n",
    "\n",
    "def retrieve(state: State):\n",
    "    \"\"\"\n",
    "    检索步骤：根据问题从向量存储中检索相关文档。\n",
    "    输入: state (包含 'question')\n",
    "    输出: 包含 'context' (检索到的文档列表) 的字典\n",
    "    \"\"\"\n",
    "    print(f\"执行检索节点：正在为问题 '{state['question']}' 检索文档...\")\n",
    "    retrieved_docs = vector_store.similarity_search(state[\"question\"])\n",
    "    print(f\"检索节点完成：检索到 {len(retrieved_docs)} 篇文档。\")\n",
    "    return {\"context\": retrieved_docs}\n",
    "\n",
    "def generate(state: State):\n",
    "    \"\"\"\n",
    "    生成步骤：使用检索到的文档和问题生成答案。\n",
    "    输入: state (包含 'question' 和 'context')\n",
    "    输出: 包含 'answer' (LLM生成的答案) 的字典\n",
    "    \"\"\"\n",
    "    print(\"执行生成节点：正在生成答案...\")\n",
    "    # 将检索到的文档内容合并成一个字符串，作为LLM的上下文\n",
    "    docs_content = \"\\n\\n\".join(doc.page_content for doc in state[\"context\"])\n",
    "    # 使用提示模板和LLM生成答案\n",
    "    messages = prompt.invoke({\"question\": state[\"question\"], \"context\": docs_content})\n",
    "    response = llm.invoke(messages)\n",
    "    print(\"生成节点完成：答案已生成。\")\n",
    "    return {\"answer\": response.content}\n",
    "\n",
    "print(\"检索 (retrieve) 和 生成 (generate) 节点函数已定义。\")\n"
   ]
  },
  {
   "cell_type": "code",
   "execution_count": 26,
   "id": "440fa656-6741-41b8-a901-66dab90f6815",
   "metadata": {},
   "outputs": [],
   "source": [
    "# 我们的检索步骤简单地使用输入问题执行相似性搜索，而生成步骤将检索到的上下文和原始问题格式化为聊天模型的提示。"
   ]
  },
  {
   "cell_type": "code",
   "execution_count": 27,
   "id": "a7c691c1-e803-4cef-a207-93752a5f003f",
   "metadata": {},
   "outputs": [],
   "source": [
    "# 2.5. 控制流 (Control flow)\n",
    "\n",
    "# 最后，我们将应用程序编译成一个单一的图对象。在这个例子中，我们只是将检索和生成步骤连接成一个单一的序列。"
   ]
  },
  {
   "cell_type": "code",
   "execution_count": 28,
   "id": "3597dbd2-729a-47ff-bae3-16d217241575",
   "metadata": {
    "scrolled": true
   },
   "outputs": [
    {
     "name": "stdout",
     "output_type": "stream",
     "text": [
      "LangGraph应用程序控制流已定义并编译完成。\n"
     ]
    }
   ],
   "source": [
    "from langgraph.graph import START, StateGraph\n",
    "\n",
    "# 创建一个StateGraph实例，并指定状态类型\n",
    "graph_builder = StateGraph(State)\n",
    "\n",
    "# 添加序列：定义了retrieve和generate两个节点的执行顺序\n",
    "graph_builder.add_sequence([retrieve, generate])\n",
    "\n",
    "# 定义图的起始点：从START节点开始，直接进入retrieve节点\n",
    "graph_builder.add_edge(START, \"retrieve\")\n",
    "\n",
    "# 编译图，生成可执行的应用程序\n",
    "graph = graph_builder.compile()\n",
    "\n",
    "print(\"LangGraph应用程序控制流已定义并编译完成。\")\n"
   ]
  },
  {
   "cell_type": "code",
   "execution_count": 29,
   "id": "9fccb1b3-429e-4d3b-bfac-de34c9b4e35f",
   "metadata": {},
   "outputs": [],
   "source": [
    "# 遇到的 TypeError: Cannot create a consistent method resolution order (MRO) for bases ABC, Generic 错误是一个典型的Python多重继承问题，尤其在处理抽象基类（ABC）和泛型（Generic）时容易出现。\n",
    "\n",
    "# 错误分析\n",
    "# 错误类型: TypeError\n",
    "\n",
    "# 错误信息: Cannot create a consistent method resolution order (MRO) for bases ABC, Generic\n",
    "\n",
    "# 发生位置: 错误发生在您 Jupyter Notebook 的 In[28] 单元格，当执行 from langgraph.graph import START, StateGraph 这一行时。\n",
    "\n",
    "# 深层原因: 堆栈跟踪显示，这个错误源自 langgraph 内部的代码，具体在 langgraph/pregel/protocol.py 文件的 PregelProtocol 类定义中。该类尝试同时继承 Runnable、Generic 和 ABC。\n",
    "\n",
    "# ABC (Abstract Base Class) 是Python中用于定义抽象类的模块。\n",
    "\n",
    "# Generic 是 typing 模块中用于创建泛型类的。\n",
    "\n",
    "# Runnable 是 langchain_core 中的一个基类。\n",
    "\n",
    "# Python在处理多重继承时会使用C3线性化算法来确定方法解析顺序（MRO）。当多个基类（特别是像 ABC 和 Generic 这样有特殊元类的类）以某种方式组合时，有时会创建出无法解析的MRO，导致Python无法确定方法的查找顺序，从而抛出此 TypeError。\n",
    "\n",
    "# 这通常不是您编写的代码逻辑错误，而是 langgraph 库或其依赖项（如 langchain_core、typing 模块）的版本之间存在不兼容性，或者 langgraph 内部在处理多重继承时存在一个边缘情况问题。\n",
    "\n",
    "# 解决方案\n",
    "# 由于错误发生在库的内部，您需要尝试更新或调整库的版本来解决这个问题。以下是您可以尝试的步骤：\n",
    "\n",
    "# 方案一：更新所有相关库到最新版本（推荐）\n",
    "# 最常见的原因是库版本不匹配。请尝试更新所有相关的 LangChain 和 LangGraph 库到最新版本。\n",
    "\n",
    "# 打开 PowerShell 或您的终端。\n",
    "\n",
    "# 执行以下命令来更新所有相关的库：\n",
    "\n",
    "# pip install --upgrade langchain langchain-core langgraph langchain-text-splitters langchain-community langchain-chroma langchain-google-genai bs4 typing-extensions\n",
    "\n",
    "# --upgrade 会确保安装最新版本。\n",
    "\n",
    "# 添加了 bs4 和 typing-extensions，因为它们是您代码中直接使用的或 langgraph 内部可能依赖的。\n",
    "\n",
    "# 更新完成后，重新启动 Jupyter Notebook 内核，并重新运行所有单元格。"
   ]
  },
  {
   "cell_type": "code",
   "execution_count": 30,
   "id": "6ac1ff72-6eb3-4467-bbbe-4187b9c6ebe5",
   "metadata": {},
   "outputs": [],
   "source": [
    "# LangGraph还内置了用于可视化应用程序控制流的实用程序。"
   ]
  },
  {
   "cell_type": "code",
   "execution_count": 31,
   "id": "3457b8e3-0980-4872-b73f-aedf85e7123e",
   "metadata": {},
   "outputs": [
    {
     "data": {
      "image/png": "[encoded data removed]",
      "text/plain": [
       "<IPython.core.display.Image object>"
      ]
     },
     "metadata": {},
     "output_type": "display_data"
    }
   ],
   "source": [
    "from IPython.display import Image, display\n",
    "\n",
    "# 绘制Mermaid图并显示\n",
    "# 注意：这需要在您的环境中安装Graphviz或类似的工具来渲染图像。\n",
    "# 如果您在JupyterLab中遇到问题，可能需要安装'python-graphviz'和'graphviz'系统包。\n",
    "# 例如：pip install graphviz 和 sudo apt-get install graphviz (Linux) 或 brew install graphviz (macOS)\n",
    "display(Image(graph.get_graph().draw_mermaid_png()))\n"
   ]
  },
  {
   "cell_type": "code",
   "execution_count": 32,
   "id": "bd9850f0-f1b9-4097-8ef2-847250985af0",
   "metadata": {},
   "outputs": [],
   "source": [
    "# 您是否需要使用LangGraph？对于简单的链，您不一定需要LangGraph。然而，当您的应用程序变得更复杂，需要多步骤决策、循环或更复杂的流程时，LangGraph的强大编排能力将变得非常有用。"
   ]
  },
  {
   "cell_type": "code",
   "execution_count": null,
   "id": "0ceb0a28-e76d-47f2-b8b4-100b05a9cdb8",
   "metadata": {},
   "outputs": [],
   "source": []
  },
  {
   "cell_type": "code",
   "execution_count": 33,
   "id": "63fd848e-39da-4eca-a5d3-3bdbee8b7101",
   "metadata": {},
   "outputs": [],
   "source": [
    "# 2.6. 使用 (Usage)\n",
    "\n",
    "# 让我们测试一下我们的应用程序！LangGraph支持多种调用模式，包括同步（sync）、异步（async）和流式（streaming）。"
   ]
  },
  {
   "cell_type": "code",
   "execution_count": 34,
   "id": "83a209df-0c2a-46a5-bfee-12c5a553d55b",
   "metadata": {},
   "outputs": [],
   "source": [
    "# 同步调用 (Invoke):"
   ]
  },
  {
   "cell_type": "code",
   "execution_count": 35,
   "id": "ab3aa749-ff7a-49c3-adfc-3da5e0ad60ad",
   "metadata": {},
   "outputs": [
    {
     "name": "stdout",
     "output_type": "stream",
     "text": [
      "正在同步调用应用程序，问题: 'What is Task Decomposition?'\n",
      "执行检索节点：正在为问题 'What is Task Decomposition?' 检索文档...\n",
      "检索节点完成：检索到 4 篇文档。\n",
      "执行生成节点：正在生成答案...\n",
      "生成节点完成：答案已生成。\n",
      "\n",
      "--- 同步调用结果 ---\n",
      "Context: [Document(id='493c7e21-f9bd-4b09-b583-f731ae043fb2', metadata={'start_index': 2578, 'source': 'https://lilianweng.github.io/posts/2023-06-23-agent/'}, page_content='Task decomposition can be done (1) by LLM with simple prompting like \"Steps for XYZ.\\\\n1.\", \"What are the subgoals for achieving XYZ?\", (2) by using task-specific instructions; e.g. \"Write a story outline.\" for writing a novel, or (3) with human inputs.\\nAnother quite distinct approach, LLM+P (Liu et al. 2023), involves relying on an external classical planner to do long-horizon planning. This approach utilizes the Planning Domain Definition Language (PDDL) as an intermediate interface to describe the planning problem. In this process, LLM (1) translates the problem into “Problem PDDL”, then (2) requests a classical planner to generate a PDDL plan based on an existing “Domain PDDL”, and finally (3) translates the PDDL plan back into natural language. Essentially, the planning step is outsourced to an external tool, assuming the availability of domain-specific PDDL and a suitable planner which is common in certain robotic setups but not in many other domains.\\nSelf-Reflection#'), Document(id='554a505e-9403-498f-a510-ecd7e05b4c2b', metadata={'start_index': 2578, 'source': 'https://lilianweng.github.io/posts/2023-06-23-agent/'}, page_content='Task decomposition can be done (1) by LLM with simple prompting like \"Steps for XYZ.\\\\n1.\", \"What are the subgoals for achieving XYZ?\", (2) by using task-specific instructions; e.g. \"Write a story outline.\" for writing a novel, or (3) with human inputs.\\nAnother quite distinct approach, LLM+P (Liu et al. 2023), involves relying on an external classical planner to do long-horizon planning. This approach utilizes the Planning Domain Definition Language (PDDL) as an intermediate interface to describe the planning problem. In this process, LLM (1) translates the problem into “Problem PDDL”, then (2) requests a classical planner to generate a PDDL plan based on an existing “Domain PDDL”, and finally (3) translates the PDDL plan back into natural language. Essentially, the planning step is outsourced to an external tool, assuming the availability of domain-specific PDDL and a suitable planner which is common in certain robotic setups but not in many other domains.\\nSelf-Reflection#'), Document(id='2c32d6a1-1391-4e1b-8c71-8efb95bdf2f7', metadata={'source': 'https://lilianweng.github.io/posts/2023-06-23-agent/', 'start_index': 2578}, page_content='Task decomposition can be done (1) by LLM with simple prompting like \"Steps for XYZ.\\\\n1.\", \"What are the subgoals for achieving XYZ?\", (2) by using task-specific instructions; e.g. \"Write a story outline.\" for writing a novel, or (3) with human inputs.\\nAnother quite distinct approach, LLM+P (Liu et al. 2023), involves relying on an external classical planner to do long-horizon planning. This approach utilizes the Planning Domain Definition Language (PDDL) as an intermediate interface to describe the planning problem. In this process, LLM (1) translates the problem into “Problem PDDL”, then (2) requests a classical planner to generate a PDDL plan based on an existing “Domain PDDL”, and finally (3) translates the PDDL plan back into natural language. Essentially, the planning step is outsourced to an external tool, assuming the availability of domain-specific PDDL and a suitable planner which is common in certain robotic setups but not in many other domains.\\nSelf-Reflection#'), Document(id='5558df10-4b7a-4b03-8a1a-4062e32344b1', metadata={'source': 'https://lilianweng.github.io/posts/2023-06-23-agent/', 'start_index': 2578}, page_content='Task decomposition can be done (1) by LLM with simple prompting like \"Steps for XYZ.\\\\n1.\", \"What are the subgoals for achieving XYZ?\", (2) by using task-specific instructions; e.g. \"Write a story outline.\" for writing a novel, or (3) with human inputs.\\nAnother quite distinct approach, LLM+P (Liu et al. 2023), involves relying on an external classical planner to do long-horizon planning. This approach utilizes the Planning Domain Definition Language (PDDL) as an intermediate interface to describe the planning problem. In this process, LLM (1) translates the problem into “Problem PDDL”, then (2) requests a classical planner to generate a PDDL plan based on an existing “Domain PDDL”, and finally (3) translates the PDDL plan back into natural language. Essentially, the planning step is outsourced to an external tool, assuming the availability of domain-specific PDDL and a suitable planner which is common in certain robotic setups but not in many other domains.\\nSelf-Reflection#')]\n",
      "\n",
      "\n",
      "Answer: Task decomposition is the process of breaking down a complex task into smaller, more manageable steps or subgoals. This can be achieved by an LLM with simple prompting, by using task-specific instructions, or through human input. Another approach, LLM+P, outsources long-horizon planning to an external classical planner using PDDL.\n"
     ]
    }
   ],
   "source": [
    "# 确保 graph 变量在此处可用\n",
    "test_question = \"What is Task Decomposition?\"\n",
    "print(f\"正在同步调用应用程序，问题: '{test_question}'\")\n",
    "result = graph.invoke({\"question\": test_question})\n",
    "\n",
    "print(\"\\n--- 同步调用结果 ---\")\n",
    "print(f\"Context: {result['context']}\\n\\n\")\n",
    "print(f\"Answer: {result['answer']}\")\n"
   ]
  },
  {
   "cell_type": "code",
   "execution_count": null,
   "id": "4c38af6f-ecfb-4dd2-8e0d-fce35ae44092",
   "metadata": {},
   "outputs": [],
   "source": []
  },
  {
   "cell_type": "code",
   "execution_count": 36,
   "id": "d8ba5628-ea58-4a50-a22e-14f2d6c401c9",
   "metadata": {},
   "outputs": [],
   "source": [
    "# 流式步骤 (Stream steps):流式模式允许您在每个步骤完成时获取更新，这对于长时间运行的应用程序很有用。"
   ]
  },
  {
   "cell_type": "code",
   "execution_count": 37,
   "id": "f9d52ad8-affa-4ba9-a6cd-bfe2db4d610a",
   "metadata": {},
   "outputs": [
    {
     "name": "stdout",
     "output_type": "stream",
     "text": [
      "正在流式获取应用程序步骤更新，问题: 'What is Task Decomposition?'\n",
      "执行检索节点：正在为问题 'What is Task Decomposition?' 检索文档...\n",
      "检索节点完成：检索到 4 篇文档。\n",
      "{'retrieve': {'context': [Document(id='493c7e21-f9bd-4b09-b583-f731ae043fb2', metadata={'source': 'https://lilianweng.github.io/posts/2023-06-23-agent/', 'start_index': 2578}, page_content='Task decomposition can be done (1) by LLM with simple prompting like \"Steps for XYZ.\\\\n1.\", \"What are the subgoals for achieving XYZ?\", (2) by using task-specific instructions; e.g. \"Write a story outline.\" for writing a novel, or (3) with human inputs.\\nAnother quite distinct approach, LLM+P (Liu et al. 2023), involves relying on an external classical planner to do long-horizon planning. This approach utilizes the Planning Domain Definition Language (PDDL) as an intermediate interface to describe the planning problem. In this process, LLM (1) translates the problem into “Problem PDDL”, then (2) requests a classical planner to generate a PDDL plan based on an existing “Domain PDDL”, and finally (3) translates the PDDL plan back into natural language. Essentially, the planning step is outsourced to an external tool, assuming the availability of domain-specific PDDL and a suitable planner which is common in certain robotic setups but not in many other domains.\\nSelf-Reflection#'), Document(id='554a505e-9403-498f-a510-ecd7e05b4c2b', metadata={'start_index': 2578, 'source': 'https://lilianweng.github.io/posts/2023-06-23-agent/'}, page_content='Task decomposition can be done (1) by LLM with simple prompting like \"Steps for XYZ.\\\\n1.\", \"What are the subgoals for achieving XYZ?\", (2) by using task-specific instructions; e.g. \"Write a story outline.\" for writing a novel, or (3) with human inputs.\\nAnother quite distinct approach, LLM+P (Liu et al. 2023), involves relying on an external classical planner to do long-horizon planning. This approach utilizes the Planning Domain Definition Language (PDDL) as an intermediate interface to describe the planning problem. In this process, LLM (1) translates the problem into “Problem PDDL”, then (2) requests a classical planner to generate a PDDL plan based on an existing “Domain PDDL”, and finally (3) translates the PDDL plan back into natural language. Essentially, the planning step is outsourced to an external tool, assuming the availability of domain-specific PDDL and a suitable planner which is common in certain robotic setups but not in many other domains.\\nSelf-Reflection#'), Document(id='2c32d6a1-1391-4e1b-8c71-8efb95bdf2f7', metadata={'source': 'https://lilianweng.github.io/posts/2023-06-23-agent/', 'start_index': 2578}, page_content='Task decomposition can be done (1) by LLM with simple prompting like \"Steps for XYZ.\\\\n1.\", \"What are the subgoals for achieving XYZ?\", (2) by using task-specific instructions; e.g. \"Write a story outline.\" for writing a novel, or (3) with human inputs.\\nAnother quite distinct approach, LLM+P (Liu et al. 2023), involves relying on an external classical planner to do long-horizon planning. This approach utilizes the Planning Domain Definition Language (PDDL) as an intermediate interface to describe the planning problem. In this process, LLM (1) translates the problem into “Problem PDDL”, then (2) requests a classical planner to generate a PDDL plan based on an existing “Domain PDDL”, and finally (3) translates the PDDL plan back into natural language. Essentially, the planning step is outsourced to an external tool, assuming the availability of domain-specific PDDL and a suitable planner which is common in certain robotic setups but not in many other domains.\\nSelf-Reflection#'), Document(id='5558df10-4b7a-4b03-8a1a-4062e32344b1', metadata={'source': 'https://lilianweng.github.io/posts/2023-06-23-agent/', 'start_index': 2578}, page_content='Task decomposition can be done (1) by LLM with simple prompting like \"Steps for XYZ.\\\\n1.\", \"What are the subgoals for achieving XYZ?\", (2) by using task-specific instructions; e.g. \"Write a story outline.\" for writing a novel, or (3) with human inputs.\\nAnother quite distinct approach, LLM+P (Liu et al. 2023), involves relying on an external classical planner to do long-horizon planning. This approach utilizes the Planning Domain Definition Language (PDDL) as an intermediate interface to describe the planning problem. In this process, LLM (1) translates the problem into “Problem PDDL”, then (2) requests a classical planner to generate a PDDL plan based on an existing “Domain PDDL”, and finally (3) translates the PDDL plan back into natural language. Essentially, the planning step is outsourced to an external tool, assuming the availability of domain-specific PDDL and a suitable planner which is common in certain robotic setups but not in many other domains.\\nSelf-Reflection#')]}}\n",
      "\n",
      "----------------\n",
      "\n",
      "执行生成节点：正在生成答案...\n",
      "生成节点完成：答案已生成。\n",
      "{'generate': {'answer': 'Task decomposition is a process that breaks down a task into smaller, more manageable parts or subgoals. This can be achieved by an LLM using simple prompts like \"Steps for XYZ\" or \"What are the subgoals for achieving XYZ?\". Alternatively, it can be done through task-specific instructions or human input.'}}\n",
      "\n",
      "----------------\n",
      "\n"
     ]
    }
   ],
   "source": [
    "# 确保 graph 变量在此处可用\n",
    "test_question = \"What is Task Decomposition?\"\n",
    "print(f\"正在流式获取应用程序步骤更新，问题: '{test_question}'\")\n",
    "for step in graph.stream(\n",
    "    {\"question\": test_question}, stream_mode=\"updates\"\n",
    "):\n",
    "    print(f\"{step}\\n\\n----------------\\n\")\n"
   ]
  },
  {
   "cell_type": "code",
   "execution_count": null,
   "id": "58101594-9480-43c3-83ce-95eca4d4d6b3",
   "metadata": {},
   "outputs": [],
   "source": []
  },
  {
   "cell_type": "code",
   "execution_count": 38,
   "id": "a40258b2-1e1a-40a1-ab3d-b4e75d312d39",
   "metadata": {},
   "outputs": [],
   "source": [
    "# 流式令牌 (Stream tokens):流式令牌模式允许您在LLM生成答案时逐个获取令牌（token），这对于实时用户体验非常有用。"
   ]
  },
  {
   "cell_type": "code",
   "execution_count": 39,
   "id": "40883aa7-f4ca-4cfa-ac86-2b0c5f7c2610",
   "metadata": {},
   "outputs": [
    {
     "name": "stdout",
     "output_type": "stream",
     "text": [
      "正在流式获取LLM生成的令牌，问题: 'What is Task Decomposition?'\n",
      "执行检索节点：正在为问题 'What is Task Decomposition?' 检索文档...\n",
      "检索节点完成：检索到 4 篇文档。\n",
      "执行生成节点：正在生成答案...\n",
      "Task decomposition is a process that breaks down a complex task into smaller, manageable parts or subgoals. This can be achieved through various methods, including using a Large Language Model (LLM) with simple prompts, employing task-specific instructions, or incorporating| human inputs. An alternative approach, LLM+P, involves outsourcing long-horizon planning to an external classical planner using PDDL as an interface.|生成节点完成：答案已生成。\n",
      "\n",
      "\n"
     ]
    }
   ],
   "source": [
    "# 确保 graph 变量在此处可用\n",
    "test_question = \"What is Task Decomposition?\"\n",
    "print(f\"正在流式获取LLM生成的令牌，问题: '{test_question}'\")\n",
    "for message, metadata in graph.stream(\n",
    "    {\"question\": test_question}, stream_mode=\"messages\"\n",
    "):\n",
    "    # message.content 包含生成的文本，end='|' 只是为了在每个令牌后添加分隔符\n",
    "    print(message.content, end=\"|\")\n",
    "print(\"\\n\") # 打印一个换行符，以便下一个输出不会紧跟在令牌之后\n"
   ]
  },
  {
   "cell_type": "code",
   "execution_count": 40,
   "id": "9e0fb448-3008-43b5-9ea1-9af5e7256864",
   "metadata": {},
   "outputs": [],
   "source": [
    "# 返回来源 (Returning sources)通过将检索到的上下文存储在图的状态中，我们可以在状态的\"context\"字段中获取模型生成答案的来源文档。\n",
    "\n",
    "# 深入了解：\n",
    "\n",
    "# Chat models: 接收一系列消息并返回一个消息。\n",
    "\n",
    "# PromptTemplate: 用于构建结构化提示的工具，可以动态插入变量。"
   ]
  },
  {
   "cell_type": "code",
   "execution_count": null,
   "id": "eb157106-44e7-4f22-b777-8d3227f300f3",
   "metadata": {},
   "outputs": [],
   "source": []
  },
  {
   "cell_type": "code",
   "execution_count": 41,
   "id": "0de7c7aa-f221-4378-8887-523f480e8413",
   "metadata": {},
   "outputs": [],
   "source": [
    "# 2.7. 自定义提示 (Customizing the prompt)\n",
    "\n",
    "# 如上所示，我们可以从提示中心加载提示。提示也可以轻松自定义。例如："
   ]
  },
  {
   "cell_type": "code",
   "execution_count": 42,
   "id": "a00ae894-0929-4f71-b365-14d0d7676fa4",
   "metadata": {},
   "outputs": [
    {
     "name": "stdout",
     "output_type": "stream",
     "text": [
      "自定义RAG提示模板内容示例:\n",
      "使用以下上下文片段来回答最后的问题。\n",
      "如果你不知道答案，就说你不知道，不要试图编造答案。\n",
      "最多使用三句话，并尽可能保持答案简洁。\n",
      "在答案的末尾总是说“感谢您的提问！”。\n",
      "\n",
      "(一些上下文)\n",
      "\n",
      "问题: (一个问题)\n",
      "\n",
      "有用的答案:\n"
     ]
    }
   ],
   "source": [
    "from langchain_core.prompts import PromptTemplate\n",
    "\n",
    "template = \"\"\"使用以下上下文片段来回答最后的问题。\n",
    "如果你不知道答案，就说你不知道，不要试图编造答案。\n",
    "最多使用三句话，并尽可能保持答案简洁。\n",
    "在答案的末尾总是说“感谢您的提问！”。\n",
    "\n",
    "{context}\n",
    "\n",
    "问题: {question}\n",
    "\n",
    "有用的答案:\"\"\"\n",
    "custom_rag_prompt = PromptTemplate.from_template(template)\n",
    "\n",
    "# 打印自定义提示的示例\n",
    "print(\"自定义RAG提示模板内容示例:\")\n",
    "print(custom_rag_prompt.invoke({\"context\": \"(一些上下文)\", \"question\": \"(一个问题)\"}).text)\n"
   ]
  },
  {
   "cell_type": "code",
   "execution_count": 43,
   "id": "6817dcb2-1881-43bc-979b-1f4f4e64f8b8",
   "metadata": {},
   "outputs": [],
   "source": [
    "# 您可以根据需要修改template字符串来定制提示的行为和语气。"
   ]
  },
  {
   "cell_type": "code",
   "execution_count": null,
   "id": "cda2e820-793e-4b3c-8272-8c5246e3868f",
   "metadata": {},
   "outputs": [],
   "source": []
  },
  {
   "cell_type": "code",
   "execution_count": 44,
   "id": "d0600648-d0b4-48d5-a84b-5cfffd2d0064",
   "metadata": {},
   "outputs": [],
   "source": [
    "# 查询分析 (Query analysis)\n",
    "# 到目前为止，我们是使用原始输入查询执行检索的。然而，让模型生成用于检索的查询有一些优点。例如：\n",
    "\n",
    "# 除了语义搜索之外，我们还可以构建结构化过滤器（例如，“查找自2020年以来的文档”）；\n",
    "\n",
    "# 模型可以将用户查询（可能是多方面的或包含不相关语言）重写为更有效的搜索查询。\n",
    "\n",
    "# 查询分析利用模型从原始用户输入转换或构建优化的搜索查询。我们可以轻松地将查询分析步骤合并到我们的应用程序中。为了说明目的，让我们向向量存储中的文档添加一些元数据。我们将向文档添加一些（人为设计的）部分，以后可以根据这些部分进行过滤。"
   ]
  },
  {
   "cell_type": "code",
   "execution_count": 45,
   "id": "e09d0fb4-3caf-4e0c-b7e7-32809fcd9390",
   "metadata": {},
   "outputs": [],
   "source": [
    "# 1. 添加元数据\n",
    "\n",
    "# 首先，我们为每个文档块添加一个\"section\"元数据字段，将其分为“开头”、“中间”和“结尾”。"
   ]
  },
  {
   "cell_type": "code",
   "execution_count": 46,
   "id": "b81ea18b-40d5-4f9a-a5cd-6a8ab2e8b313",
   "metadata": {},
   "outputs": [
    {
     "name": "stdout",
     "output_type": "stream",
     "text": [
      "正在为文档添加 'section' 元数据...\n",
      "元数据添加完成。\n",
      "\n",
      "第一个文档的元数据示例:\n",
      "{'source': 'https://lilianweng.github.io/posts/2023-06-23-agent/', 'start_index': 8, 'section': 'beginning'}\n"
     ]
    }
   ],
   "source": [
    "# 确保 all_splits 变量在此处可用\n",
    "total_documents = len(all_splits)\n",
    "third = total_documents // 3 # 将文档大致分为三等份\n",
    "\n",
    "print(\"正在为文档添加 'section' 元数据...\")\n",
    "for i, document in enumerate(all_splits):\n",
    "    if i < third:\n",
    "        document.metadata[\"section\"] = \"beginning\"\n",
    "    elif i < 2 * third:\n",
    "        document.metadata[\"section\"] = \"middle\"\n",
    "    else:\n",
    "        document.metadata[\"section\"] = \"end\"\n",
    "print(\"元数据添加完成。\")\n",
    "\n",
    "# 打印第一个文档的元数据，查看新增的 'section' 字段\n",
    "print(\"\\n第一个文档的元数据示例:\")\n",
    "print(all_splits[0].metadata)\n"
   ]
  },
  {
   "cell_type": "code",
   "execution_count": 47,
   "id": "50c3f816-7c8e-40c6-ab17-53a2f47195ba",
   "metadata": {},
   "outputs": [],
   "source": [
    "# 2. 更新向量存储\n",
    "\n",
    "# 接下来，我们需要更新向量存储中的文档。我们将为此使用一个简单的InMemoryVectorStore，因为它支持我们稍后将使用的特定功能（即元数据过滤）。请参考您所选向量存储的集成文档，了解其相关功能。\n",
    "\n",
    "# 注意： 如果您之前使用了Chroma并将其持久化到磁盘，为了演示InMemoryVectorStore的过滤功能，我们在这里创建一个新的内存中向量存储。在实际应用中，您可能会选择一个支持元数据过滤的持久化向量存储。"
   ]
  },
  {
   "cell_type": "code",
   "execution_count": 48,
   "id": "cae77bcb-cdc9-4bb4-85a7-68be050cd422",
   "metadata": {},
   "outputs": [
    {
     "name": "stdout",
     "output_type": "stream",
     "text": [
      "正在创建新的 InMemoryVectorStore 并重新添加文档...\n",
      "InMemoryVectorStore 已创建并文档已添加。\n"
     ]
    }
   ],
   "source": [
    "from langchain_core.vectorstores import InMemoryVectorStore\n",
    "\n",
    "print(\"正在创建新的 InMemoryVectorStore 并重新添加文档...\")\n",
    "# 创建一个新的InMemoryVectorStore实例\n",
    "vector_store = InMemoryVectorStore(embeddings)\n",
    "# 将带有新元数据的文档重新添加到新的向量存储中\n",
    "_ = vector_store.add_documents(all_splits)\n",
    "print(\"InMemoryVectorStore 已创建并文档已添加。\")\n"
   ]
  },
  {
   "cell_type": "code",
   "execution_count": 49,
   "id": "afbf93f1-f535-4344-8f43-00c99fcadd4d",
   "metadata": {},
   "outputs": [],
   "source": [
    "# 3. 定义搜索查询Schema\n",
    "\n",
    "# 接下来，我们为搜索查询定义一个Schema。我们将为此目的使用结构化输出。这里我们将查询定义为包含一个字符串查询和一个文档部分（“开头”、“中间”或“结尾”），但您可以根据需要进行定义。"
   ]
  },
  {
   "cell_type": "code",
   "execution_count": 50,
   "id": "15a702b2-c496-4a7e-a6b1-3ec221c9ba22",
   "metadata": {},
   "outputs": [
    {
     "name": "stdout",
     "output_type": "stream",
     "text": [
      "搜索查询Schema (Search TypedDict) 已定义。\n"
     ]
    }
   ],
   "source": [
    "from typing import Literal\n",
    "from typing_extensions import Annotated, TypedDict\n",
    "\n",
    "# 定义一个结构化的搜索查询Schema\n",
    "class Search(TypedDict):\n",
    "    \"\"\"搜索查询。\"\"\"\n",
    "    query: Annotated[str, ..., \"要运行的搜索查询。\"]\n",
    "    section: Annotated[\n",
    "        Literal[\"beginning\", \"middle\", \"end\"], # section字段只能是这三个值之一\n",
    "        ...,\n",
    "        \"要查询的文档部分。\",\n",
    "    ]\n",
    "\n",
    "print(\"搜索查询Schema (Search TypedDict) 已定义。\")\n"
   ]
  },
  {
   "cell_type": "code",
   "execution_count": 51,
   "id": "44473a73-d5d8-44eb-8056-0903f7c960d4",
   "metadata": {},
   "outputs": [],
   "source": [
    "# 4. 更新LangGraph应用程序\n",
    "\n",
    "# 最后，我们向LangGraph应用程序添加一个步骤，用于从用户的原始输入生成结构化查询。"
   ]
  },
  {
   "cell_type": "code",
   "execution_count": 52,
   "id": "04145880-9bff-4bd7-ae14-68d26dd01507",
   "metadata": {},
   "outputs": [
    {
     "name": "stdout",
     "output_type": "stream",
     "text": [
      "正在重新编译LangGraph应用程序，包含查询分析步骤...\n",
      "LangGraph应用程序重新编译完成。\n"
     ]
    }
   ],
   "source": [
    "# 确保 llm, prompt, vector_store, Search 和 Document 变量在此处可用\n",
    "from langgraph.graph import START, StateGraph\n",
    "\n",
    "# 更新应用程序的状态，包含 'query' 字段\n",
    "class State(TypedDict):\n",
    "    question: str\n",
    "    query: Search # 新增的结构化查询字段\n",
    "    context: List[Document]\n",
    "    answer: str\n",
    "\n",
    "def analyze_query(state: State):\n",
    "    \"\"\"\n",
    "    查询分析步骤：使用LLM将用户问题转换为结构化搜索查询。\n",
    "    输入: state (包含 'question')\n",
    "    输出: 包含 'query' (结构化搜索查询) 的字典\n",
    "    \"\"\"\n",
    "    print(f\"执行查询分析节点：正在分析问题 '{state['question']}'...\")\n",
    "    # 使用with_structured_output方法，让LLM按照Search TypedDict的结构生成输出\n",
    "    structured_llm = llm.with_structured_output(Search)\n",
    "    query = structured_llm.invoke(state[\"question\"])\n",
    "    print(f\"查询分析节点完成：生成的结构化查询为 {query}\")\n",
    "    return {\"query\": query}\n",
    "\n",
    "def retrieve(state: State):\n",
    "    \"\"\"\n",
    "    检索步骤：根据结构化查询（包含查询字符串和section过滤器）从向量存储中检索相关文档。\n",
    "    输入: state (包含 'query')\n",
    "    输出: 包含 'context' (检索到的文档列表) 的字典\n",
    "    \"\"\"\n",
    "    query = state[\"query\"]\n",
    "    print(f\"执行检索节点：正在使用查询 '{query['query']}' 和 section '{query['section']}' 检索文档...\")\n",
    "    retrieved_docs = vector_store.similarity_search(\n",
    "        query[\"query\"],\n",
    "        # 使用lambda函数作为过滤器，只检索metadata中section与query['section']匹配的文档\n",
    "        filter=lambda doc: doc.metadata.get(\"section\") == query[\"section\"],\n",
    "    )\n",
    "    print(f\"检索节点完成：检索到 {len(retrieved_docs)} 篇文档。\")\n",
    "    return {\"context\": retrieved_docs}\n",
    "\n",
    "def generate(state: State):\n",
    "    \"\"\"\n",
    "    生成步骤：使用检索到的文档和原始问题生成答案。\n",
    "    输入: state (包含 'question' 和 'context')\n",
    "    输出: 包含 'answer' (LLM生成的答案) 的字典\n",
    "    \"\"\"\n",
    "    print(\"执行生成节点：正在生成答案...\")\n",
    "    docs_content = \"\\n\\n\".join(doc.page_content for doc in state[\"context\"])\n",
    "    messages = prompt.invoke({\"question\": state[\"question\"], \"context\": docs_content})\n",
    "    response = llm.invoke(messages)\n",
    "    print(\"生成节点完成：答案已生成。\")\n",
    "    return {\"answer\": response.content}\n",
    "\n",
    "# 重新构建和编译图，包含新的 analyze_query 步骤\n",
    "print(\"正在重新编译LangGraph应用程序，包含查询分析步骤...\")\n",
    "graph_builder = StateGraph(State).add_sequence([analyze_query, retrieve, generate])\n",
    "graph_builder.add_edge(START, \"analyze_query\") # 起始点现在连接到 analyze_query\n",
    "graph = graph_builder.compile()\n",
    "print(\"LangGraph应用程序重新编译完成。\")\n"
   ]
  },
  {
   "cell_type": "code",
   "execution_count": 53,
   "id": "59f9c861-b968-4aa3-8dd7-5df8977ea7c8",
   "metadata": {},
   "outputs": [],
   "source": [
    "# 重新绘制的LangGraph流程图："
   ]
  },
  {
   "cell_type": "code",
   "execution_count": 54,
   "id": "5abcb472-b4a9-45b6-b76b-12316ad9bc38",
   "metadata": {},
   "outputs": [
    {
     "data": {
      "image/png": "[encoded data removed]",
      "text/plain": [
       "<IPython.core.display.Image object>"
      ]
     },
     "metadata": {},
     "output_type": "display_data"
    }
   ],
   "source": [
    "from IPython.display import Image, display\n",
    "display(Image(graph.get_graph().draw_mermaid_png()))\n"
   ]
  },
  {
   "cell_type": "code",
   "execution_count": 55,
   "id": "e1036582-52f7-448d-8cff-282aca30003b",
   "metadata": {},
   "outputs": [],
   "source": [
    "# 测试查询分析功能：\n",
    "\n",
    "# 我们可以通过专门要求从文章末尾获取上下文来测试我们的实现。请注意，模型在答案中包含了不同的信息。"
   ]
  },
  {
   "cell_type": "code",
   "execution_count": 56,
   "id": "2bc6432b-609e-4ed0-aa1a-d4cf46d7461b",
   "metadata": {},
   "outputs": [
    {
     "name": "stdout",
     "output_type": "stream",
     "text": [
      "正在流式获取应用程序步骤更新，问题: 'What does the end of the post say about Task Decomposition?'\n",
      "执行查询分析节点：正在分析问题 'What does the end of the post say about Task Decomposition?'...\n",
      "查询分析节点完成：生成的结构化查询为 {'section': 'end', 'query': 'Task Decomposition'}\n",
      "{'analyze_query': {'query': {'section': 'end', 'query': 'Task Decomposition'}}}\n",
      "\n",
      "----------------\n",
      "\n",
      "执行检索节点：正在使用查询 'Task Decomposition' 和 section 'end' 检索文档...\n",
      "检索节点完成：检索到 4 篇文档。\n",
      "{'retrieve': {'context': [Document(id='25eec2d5-9ea3-49c6-bd77-12cdb04830fa', metadata={'source': 'https://lilianweng.github.io/posts/2023-06-23-agent/', 'start_index': 38621, 'section': 'end'}, page_content='are imported by that file, and so on.\\\\nFollow a language and framework appropriate best practice file naming convention.\\\\nMake sure that files contain all imports, types etc. The code should be fully functional. Make sure that code in different files are compatible with each other.\\\\nBefore you finish, double check that all parts of the architecture is present in the files.\\\\n\"'), Document(id='d02777af-8d79-481a-9ad8-21869ef8d7bb', metadata={'source': 'https://lilianweng.github.io/posts/2023-06-23-agent/', 'start_index': 34990, 'section': 'end'}, page_content='Conversatin samples:\\n[\\n  {\\n    \"role\": \"system\",'), Document(id='54b4d047-f037-4e0c-a402-ba1c3cc0c759', metadata={'source': 'https://lilianweng.github.io/posts/2023-06-23-agent/', 'start_index': 37831, 'section': 'end'}, page_content='\"content\": \"Please now remember the steps:\\\\n\\\\nThink step by step and reason yourself to the right decisions to make sure we get it right.\\\\nFirst lay out the names of the core classes, functions, methods that will be necessary, As well as a quick comment on their purpose.\\\\n\\\\nThen you will output the content of each file including ALL code.\\\\nEach file must strictly follow a markdown code block format, where the following tokens must be replaced such that\\\\nFILENAME is the lowercase file name including the file extension,\\\\nLANG is the markup code block language for the code\\'s language, and CODE is the code:\\\\n\\\\nFILENAME\\\\n```LANG\\\\nCODE\\\\n```\\\\n\\\\nPlease note that the code should be fully functional. No placeholders.\\\\n\\\\nYou will start with the \\\\\"entrypoint\\\\\" file, then go to the ones that are imported by that file, and so on.\\\\nFollow a language and framework appropriate best practice file naming convention.\\\\nMake sure that files contain all imports, types etc. The code should be fully'), Document(id='022c42b0-2b64-4f58-ae5b-7a0aa2b8846f', metadata={'source': 'https://lilianweng.github.io/posts/2023-06-23-agent/', 'start_index': 39002, 'section': 'end'}, page_content='}\\n]\\nChallenges#\\nAfter going through key ideas and demos of building LLM-centered agents, I start to see a couple common limitations:')]}}\n",
      "\n",
      "----------------\n",
      "\n",
      "执行生成节点：正在生成答案...\n",
      "生成节点完成：答案已生成。\n",
      "{'generate': {'answer': 'The provided context does not contain any information about \"Task Decomposition.\" Therefore, it does not say anything about it at the end of the post or anywhere else.'}}\n",
      "\n",
      "----------------\n",
      "\n"
     ]
    }
   ],
   "source": [
    "# 确保 graph 变量在此处可用\n",
    "test_question_with_filter = \"What does the end of the post say about Task Decomposition?\"\n",
    "print(f\"正在流式获取应用程序步骤更新，问题: '{test_question_with_filter}'\")\n",
    "for step in graph.stream(\n",
    "    {\"question\": test_question_with_filter},\n",
    "    stream_mode=\"updates\",\n",
    "):\n",
    "    print(f\"{step}\\n\\n----------------\\n\")\n"
   ]
  },
  {
   "cell_type": "code",
   "execution_count": 57,
   "id": "d19e51c7-d60b-45c6-b430-a8432356289b",
   "metadata": {},
   "outputs": [],
   "source": [
    "# 在流式步骤和LangSmith跟踪中，我们现在可以观察到被馈送到检索步骤的结构化查询。\n",
    "\n",
    "# 查询分析是一个丰富的问题，有广泛的方法。请参阅相关的操作指南以获取更多示例。"
   ]
  },
  {
   "cell_type": "code",
   "execution_count": 58,
   "id": "2b81b71b-a931-4946-a7f5-5d0025b8dca0",
   "metadata": {},
   "outputs": [],
   "source": [
    "# 下一步 (Next steps)\n",
    "# 我们已经涵盖了构建一个基于数据的基本Q&A应用程序的步骤：\n",
    "\n",
    "# 使用Document Loader加载数据。\n",
    "\n",
    "# 使用Text Splitter对索引数据进行分块，使其更容易被模型使用。\n",
    "\n",
    "# 嵌入数据并将数据存储在VectorStore中。\n",
    "\n",
    "# 响应传入问题，检索先前存储的文本块。\n",
    "\n",
    "# 使用检索到的文本块作为上下文生成答案。\n",
    "\n",
    "# 增加了查询分析功能，使LLM能够生成结构化查询，从而实现更精确的检索。\n",
    "\n",
    "# 在教程的第二部分，我们将扩展这里的实现，以适应对话式交互和多步检索过程。"
   ]
  },
  {
   "cell_type": "code",
   "execution_count": null,
   "id": "389438ce-dca8-4d14-9ff7-bfbc31d89a46",
   "metadata": {},
   "outputs": [],
   "source": []
  },
  {
   "cell_type": "code",
   "execution_count": null,
   "id": "784b9729-4f7d-4011-8a79-522ac24bdd11",
   "metadata": {},
   "outputs": [],
   "source": []
  },
  {
   "cell_type": "code",
   "execution_count": null,
   "id": "39620bbd-b3e1-4df7-9165-d4fc79836094",
   "metadata": {},
   "outputs": [],
   "source": []
  },
  {
   "cell_type": "code",
   "execution_count": null,
   "id": "6e3c6443-3419-4743-bfcc-5b5e7bfc2c72",
   "metadata": {},
   "outputs": [],
   "source": []
  },
  {
   "cell_type": "code",
   "execution_count": null,
   "id": "ca420d04-4a20-4ecd-afd8-3518c681bab4",
   "metadata": {},
   "outputs": [],
   "source": []
  },
  {
   "cell_type": "code",
   "execution_count": null,
   "id": "18ce30c8-c9c1-4563-88f4-1e4567579336",
   "metadata": {},
   "outputs": [],
   "source": []
  },
  {
   "cell_type": "code",
   "execution_count": null,
   "id": "51436a98-a93a-4548-82b9-d90fb179cd04",
   "metadata": {},
   "outputs": [],
   "source": []
  },
  {
   "cell_type": "code",
   "execution_count": null,
   "id": "fa466c57-b1a7-42cb-8480-1bbbf798785d",
   "metadata": {},
   "outputs": [],
   "source": []
  },
  {
   "cell_type": "code",
   "execution_count": null,
   "id": "fce3be99-83de-4b9a-9a5a-422a4be36945",
   "metadata": {},
   "outputs": [],
   "source": []
  }
 ],
 "metadata": {
  "kernelspec": {
   "display_name": "Python 3 (ipykernel)",
   "language": "python",
   "name": "python3"
  },
  "language_info": {
   "codemirror_mode": {
    "name": "ipython",
    "version": 3
   },
   "file_extension": ".py",
   "mimetype": "text/x-python",
   "name": "python",
   "nbconvert_exporter": "python",
   "pygments_lexer": "ipython3",
   "version": "3.12.11"
  }
 },
 "nbformat": 4,
 "nbformat_minor": 5
}
