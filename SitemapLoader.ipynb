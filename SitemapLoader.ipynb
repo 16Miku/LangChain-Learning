{
 "cells": [
  {
   "cell_type": "code",
   "execution_count": 1,
   "id": "bcb6cd68-c39a-47ea-bbd9-319e459992f8",
   "metadata": {},
   "outputs": [],
   "source": [
    "\n",
    "\n",
    "# Sitemap  网站地图\n",
    "\n",
    "# https://python.langchain.com/docs/integrations/document_loaders/sitemap/\n",
    "\n"
   ]
  },
  {
   "cell_type": "code",
   "execution_count": 2,
   "id": "8c0e8642-8445-4755-bd7c-1d1e5b93b8de",
   "metadata": {},
   "outputs": [],
   "source": [
    "# Extends from the WebBaseLoader, SitemapLoader loads a sitemap from a given URL, and then scrapes and loads all pages in the sitemap, returning each page as a Document.\n",
    "# SitemapLoader 从 WebBaseLoader 扩展而来，它从给定的 URL 加载站点地图，然后抓取并加载站点地图中的所有页面，并将每个页面作为文档返回。\n",
    "\n",
    "# The scraping is done concurrently. There are reasonable limits to concurrent requests, defaulting to 2 per second. If you aren't concerned about being a good citizen, or you control the scrapped server, or don't care about load you can increase this limit. Note, while this will speed up the scraping process, it may cause the server to block you. Be careful!\n",
    "# 数据抓取是并发进行的。并发请求数有合理的限制，默认为每秒 2 个。如果您不介意保持良好状态，或者您控制着抓取的服务器，又或者您不关心负载，您可以增加此限制。请注意，虽然这会加快抓取速度，但可能会导致服务器阻塞。请务必小心！\n"
   ]
  },
  {
   "cell_type": "code",
   "execution_count": 3,
   "id": "1e582971-3697-4ebf-8bcf-16aa402c2cfd",
   "metadata": {},
   "outputs": [],
   "source": [
    "# Setup  设置\n",
    "# To access SiteMap document loader you'll need to install the langchain-community integration package.\n",
    "# 要访问 SiteMap 文档加载器，您需要安装 langchain-community 集成包。\n",
    "\n",
    "# Credentials  证书\n",
    "# No credentials are needed to run this.\n",
    "# 运行此功能不需要任何凭证。\n",
    "\n",
    "# To enable automated tracing of your model calls, set your LangSmith API key:\n",
    "# 要启用模型调用的自动跟踪，请设置您的 LangSmith API 密钥：\n"
   ]
  },
  {
   "cell_type": "code",
   "execution_count": 4,
   "id": "9012e4e3-d837-459a-8938-47984cb5a80f",
   "metadata": {},
   "outputs": [],
   "source": [
    "# os.environ[\"LANGSMITH_API_KEY\"] = getpass.getpass(\"Enter your LangSmith API key: \")\n",
    "# os.environ[\"LANGSMITH_TRACING\"] = \"true\""
   ]
  },
  {
   "cell_type": "code",
   "execution_count": 5,
   "id": "e221f7b2-5097-4e4c-8b42-323b207b82cb",
   "metadata": {},
   "outputs": [],
   "source": [
    "# Installation  安装\n",
    "# Install langchain_community.\n",
    "# 安装 langchain_community 。"
   ]
  },
  {
   "cell_type": "code",
   "execution_count": 6,
   "id": "0b94a038-2e40-4def-a2f1-5b4206241fe9",
   "metadata": {},
   "outputs": [],
   "source": [
    "# %pip install -qU langchain-community"
   ]
  },
  {
   "cell_type": "code",
   "execution_count": 7,
   "id": "83608e70-b516-4954-a00a-cba503e0d9d5",
   "metadata": {},
   "outputs": [],
   "source": [
    "# Fix notebook asyncio bug  修复笔记本异步错误\n"
   ]
  },
  {
   "cell_type": "code",
   "execution_count": 8,
   "id": "43935ee1-0e7d-4028-82e7-d86cfb28e4da",
   "metadata": {},
   "outputs": [],
   "source": [
    "import nest_asyncio\n",
    "\n",
    "nest_asyncio.apply()"
   ]
  },
  {
   "cell_type": "code",
   "execution_count": 9,
   "id": "2216abbd-950a-4572-ab27-cb5f40f560b8",
   "metadata": {},
   "outputs": [],
   "source": [
    "# Initialization  初始化\n",
    "# Now we can instantiate our model object and load documents:\n",
    "# 现在我们可以实例化我们的模型对象并加载文档：\n"
   ]
  },
  {
   "cell_type": "code",
   "execution_count": 10,
   "id": "9872c8c8-8dea-4a6c-b070-3125aff18b09",
   "metadata": {},
   "outputs": [
    {
     "name": "stderr",
     "output_type": "stream",
     "text": [
      "USER_AGENT environment variable not set, consider setting it to identify your requests.\n"
     ]
    }
   ],
   "source": [
    "from langchain_community.document_loaders.sitemap import SitemapLoader"
   ]
  },
  {
   "cell_type": "code",
   "execution_count": 11,
   "id": "1806a3f2-0366-4ee4-bbcc-124c177c46da",
   "metadata": {},
   "outputs": [],
   "source": [
    "sitemap_loader = SitemapLoader(web_path=\"https://api.python.langchain.com/sitemap.xml\")"
   ]
  },
  {
   "cell_type": "code",
   "execution_count": 12,
   "id": "ba9e0244-4b0f-4690-a9f6-aa017e1ddb4a",
   "metadata": {},
   "outputs": [],
   "source": [
    "# Load  加载"
   ]
  },
  {
   "cell_type": "code",
   "execution_count": 13,
   "id": "3e5a8a52-24c0-46f3-85a3-caa4490435f4",
   "metadata": {},
   "outputs": [
    {
     "name": "stderr",
     "output_type": "stream",
     "text": [
      "A:\\Anaconda\\envs\\Gemini\\Lib\\site-packages\\langchain_community\\document_loaders\\web_base.py:299: UserWarning: For better logging of progress, `pip install tqdm`\n",
      "  warnings.warn(\"For better logging of progress, `pip install tqdm`\")\n"
     ]
    },
    {
     "data": {
      "text/plain": [
       "Document(metadata={'source': 'https://api.python.langchain.com/en/latest/', 'loc': 'https://api.python.langchain.com/en/latest/', 'lastmod': '2024-12-09T14:05:30.040082+00:00', 'changefreq': 'weekly', 'priority': '1.0'}, page_content='\\n\\n\\n\\n\\n\\n\\n\\n\\n\\nLangChain Python API Reference Documentation.\\n\\n\\nYou will be automatically redirected to the new location of this page.\\n\\n')"
      ]
     },
     "execution_count": 13,
     "metadata": {},
     "output_type": "execute_result"
    }
   ],
   "source": [
    "docs = sitemap_loader.load()\n",
    "docs[0]"
   ]
  },
  {
   "cell_type": "code",
   "execution_count": 14,
   "id": "e2489b3f-9310-4075-9fc2-9bdaccd0b4fd",
   "metadata": {},
   "outputs": [
    {
     "name": "stdout",
     "output_type": "stream",
     "text": [
      "{'source': 'https://api.python.langchain.com/en/latest/', 'loc': 'https://api.python.langchain.com/en/latest/', 'lastmod': '2024-12-09T14:05:30.040082+00:00', 'changefreq': 'weekly', 'priority': '1.0'}\n"
     ]
    }
   ],
   "source": [
    "print(docs[0].metadata)"
   ]
  },
  {
   "cell_type": "code",
   "execution_count": 15,
   "id": "e5be5a35-7312-43b4-8137-957d174661fd",
   "metadata": {
    "scrolled": true
   },
   "outputs": [
    {
     "name": "stdout",
     "output_type": "stream",
     "text": [
      "\n",
      "--- 文档 1 ---\n",
      "URL: https://api.python.langchain.com/en/latest/\n",
      "内容预览: \n",
      "\n",
      "\n",
      "\n",
      "\n",
      "\n",
      "\n",
      "\n",
      "\n",
      "\n",
      "LangChain Python API Reference Documentation.\n",
      "\n",
      "\n",
      "You will be automatically redirected to the new location of this page.\n",
      "\n",
      "...\n",
      "\n",
      "--- 文档 2 ---\n",
      "URL: https://api.python.langchain.com/en/v0.1.9/\n",
      "内容预览: \n",
      "\n",
      "\n",
      "\n",
      "\n",
      "  Documentation page not found\n",
      " - Read the Docs Community \n",
      "\n",
      "\n",
      "\n",
      "\n",
      "\n",
      "\n",
      "\n",
      "\n",
      "\n",
      "\n",
      "\n",
      "\n",
      "\n",
      "      \n",
      "  404\n",
      "\n",
      "    \n",
      "  \n",
      "  Documentation page not found\n",
      "\n",
      "\n",
      "                \n",
      "\n",
      "api.python.langchain.com\n",
      "\n",
      "\n",
      "\n",
      "    The documentation ...\n",
      "\n",
      "--- 文档 3 ---\n",
      "URL: https://api.python.langchain.com/en/v0.1.8/\n",
      "内容预览: \n",
      "\n",
      "\n",
      "\n",
      "\n",
      "  Documentation page not found\n",
      " - Read the Docs Community \n",
      "\n",
      "\n",
      "\n",
      "\n",
      "\n",
      "\n",
      "\n",
      "\n",
      "\n",
      "\n",
      "\n",
      "\n",
      "\n",
      "      \n",
      "  404\n",
      "\n",
      "    \n",
      "  \n",
      "  Documentation page not found\n",
      "\n",
      "\n",
      "                \n",
      "\n",
      "api.python.langchain.com\n",
      "\n",
      "\n",
      "\n",
      "    The documentation ...\n",
      "\n",
      "--- 文档 4 ---\n",
      "URL: https://api.python.langchain.com/en/v0.1.7/\n",
      "内容预览: \n",
      "\n",
      "\n",
      "\n",
      "\n",
      "  Documentation page not found\n",
      " - Read the Docs Community \n",
      "\n",
      "\n",
      "\n",
      "\n",
      "\n",
      "\n",
      "\n",
      "\n",
      "\n",
      "\n",
      "\n",
      "\n",
      "\n",
      "      \n",
      "  404\n",
      "\n",
      "    \n",
      "  \n",
      "  Documentation page not found\n",
      "\n",
      "\n",
      "                \n",
      "\n",
      "api.python.langchain.com\n",
      "\n",
      "\n",
      "\n",
      "    The documentation ...\n",
      "\n",
      "--- 文档 5 ---\n",
      "URL: https://api.python.langchain.com/en/v0.1.6/\n",
      "内容预览: \n",
      "\n",
      "\n",
      "\n",
      "\n",
      "  Documentation page not found\n",
      " - Read the Docs Community \n",
      "\n",
      "\n",
      "\n",
      "\n",
      "\n",
      "\n",
      "\n",
      "\n",
      "\n",
      "\n",
      "\n",
      "\n",
      "\n",
      "      \n",
      "  404\n",
      "\n",
      "    \n",
      "  \n",
      "  Documentation page not found\n",
      "\n",
      "\n",
      "                \n",
      "\n",
      "api.python.langchain.com\n",
      "\n",
      "\n",
      "\n",
      "    The documentation ...\n",
      "\n",
      "--- 文档 6 ---\n",
      "URL: https://api.python.langchain.com/en/v0.1.5/\n",
      "内容预览: \n",
      "\n",
      "\n",
      "\n",
      "\n",
      "  Documentation page not found\n",
      " - Read the Docs Community \n",
      "\n",
      "\n",
      "\n",
      "\n",
      "\n",
      "\n",
      "\n",
      "\n",
      "\n",
      "\n",
      "\n",
      "\n",
      "\n",
      "      \n",
      "  404\n",
      "\n",
      "    \n",
      "  \n",
      "  Documentation page not found\n",
      "\n",
      "\n",
      "                \n",
      "\n",
      "api.python.langchain.com\n",
      "\n",
      "\n",
      "\n",
      "    The documentation ...\n",
      "\n",
      "--- 文档 7 ---\n",
      "URL: https://api.python.langchain.com/en/v0.1.2/\n",
      "内容预览: \n",
      "\n",
      "\n",
      "\n",
      "\n",
      "  Documentation page not found\n",
      " - Read the Docs Community \n",
      "\n",
      "\n",
      "\n",
      "\n",
      "\n",
      "\n",
      "\n",
      "\n",
      "\n",
      "\n",
      "\n",
      "\n",
      "\n",
      "      \n",
      "  404\n",
      "\n",
      "    \n",
      "  \n",
      "  Documentation page not found\n",
      "\n",
      "\n",
      "                \n",
      "\n",
      "api.python.langchain.com\n",
      "\n",
      "\n",
      "\n",
      "    The documentation ...\n",
      "\n",
      "--- 文档 8 ---\n",
      "URL: https://api.python.langchain.com/en/v0.1.1/\n",
      "内容预览: \n",
      "\n",
      "\n",
      "\n",
      "\n",
      "  Documentation page not found\n",
      " - Read the Docs Community \n",
      "\n",
      "\n",
      "\n",
      "\n",
      "\n",
      "\n",
      "\n",
      "\n",
      "\n",
      "\n",
      "\n",
      "\n",
      "\n",
      "      \n",
      "  404\n",
      "\n",
      "    \n",
      "  \n",
      "  Documentation page not found\n",
      "\n",
      "\n",
      "                \n",
      "\n",
      "api.python.langchain.com\n",
      "\n",
      "\n",
      "\n",
      "    The documentation ...\n",
      "\n",
      "--- 文档 9 ---\n",
      "URL: https://api.python.langchain.com/en/v0.1.0/\n",
      "内容预览: \n",
      "\n",
      "\n",
      "\n",
      "\n",
      "  Documentation page not found\n",
      " - Read the Docs Community \n",
      "\n",
      "\n",
      "\n",
      "\n",
      "\n",
      "\n",
      "\n",
      "\n",
      "\n",
      "\n",
      "\n",
      "\n",
      "\n",
      "      \n",
      "  404\n",
      "\n",
      "    \n",
      "  \n",
      "  Documentation page not found\n",
      "\n",
      "\n",
      "                \n",
      "\n",
      "api.python.langchain.com\n",
      "\n",
      "\n",
      "\n",
      "    The documentation ...\n",
      "\n",
      "--- 文档 10 ---\n",
      "URL: https://api.python.langchain.com/en/v0.1/\n",
      "内容预览: \n",
      "\n",
      "\n",
      "\n",
      "\n",
      "\n",
      "\n",
      "\n",
      "\n",
      "\n",
      "LangChain Python API Reference Documentation.\n",
      "\n",
      "\n",
      "You will be automatically redirected to the new location of this page.\n",
      "\n",
      "...\n"
     ]
    }
   ],
   "source": [
    "# 打印前几篇文档的内容和元数据，以便查看\n",
    "if docs:\n",
    "    for i, doc in enumerate(docs[:10]): # 只打印前10篇文档\n",
    "        print(f\"\\n--- 文档 {i+1} ---\")\n",
    "        print(f\"URL: {doc.metadata.get('source', 'N/A')}\") # 'source' 通常是原始 URL\n",
    "        print(f\"内容预览: {doc.page_content[:200]}...\") # 打印前200个字符\n",
    "        # 您还可以查看其他元数据，例如：\n",
    "        # print(f\"Title: {doc.metadata.get('title', 'N/A')}\")\n",
    "        # print(f\"Last Modified: {doc.metadata.get('lastmod', 'N/A')}\")\n",
    "else:\n",
    "    print(\"没有加载到任何文档。请检查站点地图URL或过滤条件。\")"
   ]
  },
  {
   "cell_type": "code",
   "execution_count": 16,
   "id": "5baeb51e-b71b-49e5-bbaf-3f836ca2b37c",
   "metadata": {},
   "outputs": [],
   "source": [
    "# You can change the requests_per_second parameter to increase the max concurrent requests. and use requests_kwargs to pass kwargs when send requests.\n",
    "# 您可以更改 requests_per_second 参数来增加最大并发请求数。并在发送请求时使用 requests_kwargs 传递 kwargs。\n"
   ]
  },
  {
   "cell_type": "code",
   "execution_count": 17,
   "id": "5099711c-4cf7-4e9a-8c24-7900f544872c",
   "metadata": {},
   "outputs": [],
   "source": [
    "# Cell 12 (修改后的代码)\n",
    "# 修复 TypeError: Session.request() got an unexpected keyword argument 'ssl'\n",
    "# requests 库使用 'verify' 参数进行 SSL 验证，而不是 'ssl'\n",
    "# 同时，保持 continue_on_failure=True 以便在遇到单个 URL 抓取错误时继续加载\n",
    "sitemap_loader.requests_per_second = 10\n",
    "# 将 'ssl': False 改回 'verify': False\n",
    "sitemap_loader.requests_kwargs = {\"verify\": False}\n",
    "sitemap_loader.continue_on_failure = True\n",
    "# 可选：设置 User-Agent，这有助于识别您的请求并可能避免被目标网站屏蔽\n",
    "# sitemap_loader.requests_kwargs[\"headers\"] = {\"User-Agent\": \"MyLangChainApp/1.0 (contact@example.com)\"}\n"
   ]
  },
  {
   "cell_type": "code",
   "execution_count": 18,
   "id": "02a2b4b2-5698-47f4-8f55-5e670c73b257",
   "metadata": {},
   "outputs": [
    {
     "name": "stderr",
     "output_type": "stream",
     "text": [
      "A:\\Anaconda\\envs\\Gemini\\Lib\\site-packages\\urllib3\\connectionpool.py:1097: InsecureRequestWarning: Unverified HTTPS request is being made to host '192.168.119.163'. Adding certificate verification is strongly advised. See: https://urllib3.readthedocs.io/en/latest/advanced-usage.html#tls-warnings\n",
      "  warnings.warn(\n",
      "Error fetching https://api.python.langchain.com/en/latest/, skipping due to continue_on_failure=True\n",
      "Error fetching https://api.python.langchain.com/en/v0.1.9/, skipping due to continue_on_failure=True\n",
      "Error fetching https://api.python.langchain.com/en/v0.1.8/, skipping due to continue_on_failure=True\n",
      "Error fetching https://api.python.langchain.com/en/v0.1.7/, skipping due to continue_on_failure=True\n",
      "Error fetching https://api.python.langchain.com/en/v0.1.6/, skipping due to continue_on_failure=True\n",
      "Error fetching https://api.python.langchain.com/en/v0.1.5/, skipping due to continue_on_failure=True\n",
      "Error fetching https://api.python.langchain.com/en/v0.1.2/, skipping due to continue_on_failure=True\n",
      "Error fetching https://api.python.langchain.com/en/v0.1.1/, skipping due to continue_on_failure=True\n",
      "Error fetching https://api.python.langchain.com/en/v0.1.0/, skipping due to continue_on_failure=True\n",
      "Error fetching https://api.python.langchain.com/en/v0.1/, skipping due to continue_on_failure=True\n",
      "Error fetching https://api.python.langchain.com/en/v0.0.354/, skipping due to continue_on_failure=True\n",
      "Error fetching https://api.python.langchain.com/en/v0.0.352/, skipping due to continue_on_failure=True\n",
      "Error fetching https://api.python.langchain.com/en/v0.0.351/, skipping due to continue_on_failure=True\n",
      "Error fetching https://api.python.langchain.com/en/v0.0.350/, skipping due to continue_on_failure=True\n",
      "Error fetching https://api.python.langchain.com/en/v0.0.348/, skipping due to continue_on_failure=True\n",
      "Error fetching https://api.python.langchain.com/en/v0.0.347/, skipping due to continue_on_failure=True\n",
      "Error fetching https://api.python.langchain.com/en/v0.0.346/, skipping due to continue_on_failure=True\n",
      "Error fetching https://api.python.langchain.com/en/v0.0.344/, skipping due to continue_on_failure=True\n"
     ]
    },
    {
     "data": {
      "text/plain": [
       "Document(metadata={'source': 'https://api.python.langchain.com/en/latest/', 'loc': 'https://api.python.langchain.com/en/latest/', 'lastmod': '2024-12-09T14:05:30.040082+00:00', 'changefreq': 'weekly', 'priority': '1.0'}, page_content='')"
      ]
     },
     "execution_count": 18,
     "metadata": {},
     "output_type": "execute_result"
    }
   ],
   "source": [
    "docs = sitemap_loader.load()\n",
    "docs[0]"
   ]
  },
  {
   "cell_type": "code",
   "execution_count": 19,
   "id": "a9a86c9e-f3c3-4f16-a281-120e41bb1c14",
   "metadata": {},
   "outputs": [
    {
     "name": "stdout",
     "output_type": "stream",
     "text": [
      "{'source': 'https://api.python.langchain.com/en/latest/', 'loc': 'https://api.python.langchain.com/en/latest/', 'lastmod': '2024-12-09T14:05:30.040082+00:00', 'changefreq': 'weekly', 'priority': '1.0'}\n"
     ]
    }
   ],
   "source": [
    "print(docs[0].metadata)"
   ]
  },
  {
   "cell_type": "code",
   "execution_count": 20,
   "id": "defd9fc4-ae8e-4d03-ba55-fdb0591f95ed",
   "metadata": {},
   "outputs": [
    {
     "name": "stdout",
     "output_type": "stream",
     "text": [
      "\n",
      "--- 文档 1 ---\n",
      "URL: https://api.python.langchain.com/en/latest/\n",
      "内容预览: ...\n",
      "\n",
      "--- 文档 2 ---\n",
      "URL: https://api.python.langchain.com/en/v0.1.9/\n",
      "内容预览: ...\n",
      "\n",
      "--- 文档 3 ---\n",
      "URL: https://api.python.langchain.com/en/v0.1.8/\n",
      "内容预览: ...\n",
      "\n",
      "--- 文档 4 ---\n",
      "URL: https://api.python.langchain.com/en/v0.1.7/\n",
      "内容预览: ...\n",
      "\n",
      "--- 文档 5 ---\n",
      "URL: https://api.python.langchain.com/en/v0.1.6/\n",
      "内容预览: ...\n",
      "\n",
      "--- 文档 6 ---\n",
      "URL: https://api.python.langchain.com/en/v0.1.5/\n",
      "内容预览: ...\n",
      "\n",
      "--- 文档 7 ---\n",
      "URL: https://api.python.langchain.com/en/v0.1.2/\n",
      "内容预览: ...\n",
      "\n",
      "--- 文档 8 ---\n",
      "URL: https://api.python.langchain.com/en/v0.1.1/\n",
      "内容预览: ...\n",
      "\n",
      "--- 文档 9 ---\n",
      "URL: https://api.python.langchain.com/en/v0.1.0/\n",
      "内容预览: ...\n",
      "\n",
      "--- 文档 10 ---\n",
      "URL: https://api.python.langchain.com/en/v0.1/\n",
      "内容预览: ...\n"
     ]
    }
   ],
   "source": [
    "# 打印前几篇文档的内容和元数据，以便查看\n",
    "if docs:\n",
    "    for i, doc in enumerate(docs[:10]): # 只打印前10篇文档\n",
    "        print(f\"\\n--- 文档 {i+1} ---\")\n",
    "        print(f\"URL: {doc.metadata.get('source', 'N/A')}\") # 'source' 通常是原始 URL\n",
    "        print(f\"内容预览: {doc.page_content[:200]}...\") # 打印前200个字符\n",
    "        # 您还可以查看其他元数据，例如：\n",
    "        # print(f\"Title: {doc.metadata.get('title', 'N/A')}\")\n",
    "        # print(f\"Last Modified: {doc.metadata.get('lastmod', 'N/A')}\")\n",
    "else:\n",
    "    print(\"没有加载到任何文档。请检查站点地图URL或过滤条件。\")"
   ]
  },
  {
   "cell_type": "code",
   "execution_count": null,
   "id": "82cf16a7-8255-4949-8471-ff0b0ebe2403",
   "metadata": {},
   "outputs": [],
   "source": []
  },
  {
   "cell_type": "code",
   "execution_count": 21,
   "id": "56f6f7e4-ff99-404b-a470-0f082266ee79",
   "metadata": {},
   "outputs": [],
   "source": [
    "# Lazy Load  延迟加载"
   ]
  },
  {
   "cell_type": "code",
   "execution_count": 22,
   "id": "7ccaf750-4eef-4ec8-9523-7fefc7949037",
   "metadata": {},
   "outputs": [],
   "source": [
    "# You can also load the pages lazily in order to minimize the memory load.\n",
    "# 您还可以延迟加载页面以尽量减少内存负载。"
   ]
  },
  {
   "cell_type": "code",
   "execution_count": 23,
   "id": "6c7d73bb-1e8d-4594-9c9f-df7c17671a82",
   "metadata": {},
   "outputs": [
    {
     "name": "stderr",
     "output_type": "stream",
     "text": [
      "A:\\Anaconda\\envs\\Gemini\\Lib\\site-packages\\urllib3\\connectionpool.py:1097: InsecureRequestWarning: Unverified HTTPS request is being made to host '192.168.119.163'. Adding certificate verification is strongly advised. See: https://urllib3.readthedocs.io/en/latest/advanced-usage.html#tls-warnings\n",
      "  warnings.warn(\n",
      "Error fetching https://api.python.langchain.com/en/latest/, skipping due to continue_on_failure=True\n",
      "Error fetching https://api.python.langchain.com/en/v0.1.9/, skipping due to continue_on_failure=True\n",
      "Error fetching https://api.python.langchain.com/en/v0.1.8/, skipping due to continue_on_failure=True\n",
      "Error fetching https://api.python.langchain.com/en/v0.1.7/, skipping due to continue_on_failure=True\n",
      "Error fetching https://api.python.langchain.com/en/v0.1.6/, skipping due to continue_on_failure=True\n",
      "Error fetching https://api.python.langchain.com/en/v0.1.5/, skipping due to continue_on_failure=True\n",
      "Error fetching https://api.python.langchain.com/en/v0.1.2/, skipping due to continue_on_failure=True\n",
      "Error fetching https://api.python.langchain.com/en/v0.1.1/, skipping due to continue_on_failure=True\n",
      "Error fetching https://api.python.langchain.com/en/v0.1.0/, skipping due to continue_on_failure=True\n",
      "Error fetching https://api.python.langchain.com/en/v0.1/, skipping due to continue_on_failure=True\n",
      "Error fetching https://api.python.langchain.com/en/v0.0.354/, skipping due to continue_on_failure=True\n",
      "Error fetching https://api.python.langchain.com/en/v0.0.352/, skipping due to continue_on_failure=True\n",
      "Error fetching https://api.python.langchain.com/en/v0.0.351/, skipping due to continue_on_failure=True\n",
      "Error fetching https://api.python.langchain.com/en/v0.0.350/, skipping due to continue_on_failure=True\n",
      "Error fetching https://api.python.langchain.com/en/v0.0.348/, skipping due to continue_on_failure=True\n",
      "Error fetching https://api.python.langchain.com/en/v0.0.347/, skipping due to continue_on_failure=True\n",
      "Error fetching https://api.python.langchain.com/en/v0.0.346/, skipping due to continue_on_failure=True\n",
      "Error fetching https://api.python.langchain.com/en/v0.0.344/, skipping due to continue_on_failure=True\n"
     ]
    }
   ],
   "source": [
    "page = []\n",
    "for doc in sitemap_loader.lazy_load():\n",
    "    page.append(doc)\n",
    "    if len(page) >= 10:\n",
    "        # do some paged operation, e.g.\n",
    "        # index.upsert(page)\n",
    "\n",
    "        page = []"
   ]
  },
  {
   "cell_type": "code",
   "execution_count": null,
   "id": "8adfc044-8907-49ce-950b-0d65c4fd47d5",
   "metadata": {},
   "outputs": [],
   "source": []
  },
  {
   "cell_type": "code",
   "execution_count": 24,
   "id": "26b92b5b-b3c4-47cc-893f-3fffaf62da03",
   "metadata": {},
   "outputs": [],
   "source": [
    "# Filtering sitemap URLs  过滤站点地图 URL\n",
    "# Sitemaps can be massive files, with thousands of URLs. Often you don't need every single one of them. You can filter the URLs by passing a list of strings or regex patterns to the filter_urls parameter. Only URLs that match one of the patterns will be loaded.\n",
    "# 站点地图文件可能非常庞大，包含数千个 URL。通常，您不需要加载所有 URL。您可以通过将字符串或正则表达式列表传递给 filter_urls 参数来过滤 URL。只有符合其中一个模式的 URL 才会被加载。\n"
   ]
  },
  {
   "cell_type": "code",
   "execution_count": 25,
   "id": "b1668ad1-4a1c-4661-9431-8331e5c18db6",
   "metadata": {},
   "outputs": [],
   "source": [
    "loader = SitemapLoader(\n",
    "    web_path=\"https://api.python.langchain.com/sitemap.xml\",\n",
    "    filter_urls=[\"https://api.python.langchain.com/en/latest\"],\n",
    ")\n",
    "documents = loader.load()"
   ]
  },
  {
   "cell_type": "code",
   "execution_count": 26,
   "id": "6a56bf7b-3e37-4c3d-bd38-3650ccbee600",
   "metadata": {},
   "outputs": [
    {
     "data": {
      "text/plain": [
       "Document(metadata={'source': 'https://api.python.langchain.com/en/latest/', 'loc': 'https://api.python.langchain.com/en/latest/', 'lastmod': '2024-12-09T14:05:30.040082+00:00', 'changefreq': 'weekly', 'priority': '1.0'}, page_content='\\n\\n\\n\\n\\n\\n\\n\\n\\n\\nLangChain Python API Reference Documentation.\\n\\n\\nYou will be automatically redirected to the new location of this page.\\n\\n')"
      ]
     },
     "execution_count": 26,
     "metadata": {},
     "output_type": "execute_result"
    }
   ],
   "source": [
    "documents[0]"
   ]
  },
  {
   "cell_type": "code",
   "execution_count": 27,
   "id": "253f4a25-b8c4-4bb1-9fdc-996053eaab5d",
   "metadata": {
    "scrolled": true
   },
   "outputs": [
    {
     "name": "stdout",
     "output_type": "stream",
     "text": [
      "\n",
      "--- 文档 1 ---\n",
      "URL: https://api.python.langchain.com/en/latest/\n",
      "内容预览: \n",
      "\n",
      "\n",
      "\n",
      "\n",
      "\n",
      "\n",
      "\n",
      "\n",
      "\n",
      "LangChain Python API Reference Documentation.\n",
      "\n",
      "\n",
      "You will be automatically redirected to the new location of this page.\n",
      "\n",
      "...\n"
     ]
    }
   ],
   "source": [
    "# 打印前几篇文档的内容和元数据，以便查看\n",
    "if docs:\n",
    "    for i, doc in enumerate(documents[:10]): # 只打印前10篇文档\n",
    "        print(f\"\\n--- 文档 {i+1} ---\")\n",
    "        print(f\"URL: {doc.metadata.get('source', 'N/A')}\") # 'source' 通常是原始 URL\n",
    "        print(f\"内容预览: {doc.page_content[:200]}...\") # 打印前200个字符\n",
    "        # 您还可以查看其他元数据，例如：\n",
    "        # print(f\"Title: {doc.metadata.get('title', 'N/A')}\")\n",
    "        # print(f\"Last Modified: {doc.metadata.get('lastmod', 'N/A')}\")\n",
    "else:\n",
    "    print(\"没有加载到任何文档。请检查站点地图URL或过滤条件。\")"
   ]
  },
  {
   "cell_type": "code",
   "execution_count": null,
   "id": "82f4b14f-d9ae-4955-b912-0da2a43b3ca0",
   "metadata": {},
   "outputs": [],
   "source": []
  },
  {
   "cell_type": "code",
   "execution_count": 28,
   "id": "1da206ce-4c6d-488a-aafe-54e078ceff63",
   "metadata": {},
   "outputs": [],
   "source": [
    "# Add custom scraping rules\n",
    "# 添加自定义抓取规则\n",
    "# The SitemapLoader uses beautifulsoup4 for the scraping process, and it scrapes every element on the page by default. The SitemapLoader constructor accepts a custom scraping function. This feature can be helpful to tailor the scraping process to your specific needs; for example, you might want to avoid scraping headers or navigation elements.\n",
    "# SitemapLoader 使用 beautifulsoup4 进行抓取，默认抓取页面上的所有元素。SitemapLoader SitemapLoader 构造函数接受自定义抓取函数。此功能有助于根据您的特定需求定制抓取过程；例如，您可能希望避免抓取标题或导航元素。\n",
    "\n",
    "# The following example shows how to develop and use a custom function to avoid navigation and header elements.\n",
    "# 以下示例显示如何开发和使用自定义函数来避免导航和标题元素。\n",
    "\n",
    "# Import the beautifulsoup4 library and define the custom function.\n",
    "# 导入 beautifulsoup4 库并定义自定义函数。\n"
   ]
  },
  {
   "cell_type": "code",
   "execution_count": 29,
   "id": "a4e6848a-49b2-436a-a7c4-5b44470a3efe",
   "metadata": {},
   "outputs": [],
   "source": [
    "# pip install beautifulsoup4"
   ]
  },
  {
   "cell_type": "code",
   "execution_count": 30,
   "id": "0a140ca3-dc9f-41b3-8931-ad8e5fd7b7f9",
   "metadata": {},
   "outputs": [],
   "source": [
    "from bs4 import BeautifulSoup\n",
    "\n",
    "\n",
    "def remove_nav_and_header_elements(content: BeautifulSoup) -> str:\n",
    "    # Find all 'nav' and 'header' elements in the BeautifulSoup object\n",
    "    nav_elements = content.find_all(\"nav\")\n",
    "    header_elements = content.find_all(\"header\")\n",
    "\n",
    "    # Remove each 'nav' and 'header' element from the BeautifulSoup object\n",
    "    for element in nav_elements + header_elements:\n",
    "        element.decompose()\n",
    "\n",
    "    return str(content.get_text())"
   ]
  },
  {
   "cell_type": "code",
   "execution_count": 31,
   "id": "c6f5bce7-06a9-4a27-8bcf-1a83b594798f",
   "metadata": {},
   "outputs": [],
   "source": [
    "# Add your custom function to the SitemapLoader object.\n",
    "# 将您的自定义函数添加到 SitemapLoader 对象。"
   ]
  },
  {
   "cell_type": "code",
   "execution_count": 32,
   "id": "3d5013bb-6bbe-4269-aa5f-fade6221218e",
   "metadata": {},
   "outputs": [],
   "source": [
    "loader = SitemapLoader(\n",
    "    \"https://api.python.langchain.com/sitemap.xml\",\n",
    "    filter_urls=[\"https://api.python.langchain.com/en/latest/\"],\n",
    "    parsing_function=remove_nav_and_header_elements,\n",
    ")"
   ]
  },
  {
   "cell_type": "code",
   "execution_count": 33,
   "id": "978f3963-e60d-4a5b-8200-3b84ce0aa6d2",
   "metadata": {},
   "outputs": [],
   "source": [
    "# Local Sitemap  本地网站地图\n",
    "# The sitemap loader can also be used to load local files.\n",
    "# 站点地图加载器也可用于加载本地文件。"
   ]
  },
  {
   "cell_type": "code",
   "execution_count": 35,
   "id": "b9464c4c-aedf-42ce-abef-aa3442491494",
   "metadata": {},
   "outputs": [],
   "source": [
    "# sitemap_loader = SitemapLoader(web_path=\"Document/sitemap.xml\", is_local=True)\n",
    "\n",
    "# docs = sitemap_loader.load()"
   ]
  },
  {
   "cell_type": "code",
   "execution_count": null,
   "id": "38ce1ef7-ead7-42b6-b129-0474f709a3df",
   "metadata": {},
   "outputs": [],
   "source": []
  },
  {
   "cell_type": "code",
   "execution_count": null,
   "id": "fe6e60fa-43b1-49db-a44b-780f5f64f905",
   "metadata": {},
   "outputs": [],
   "source": []
  },
  {
   "cell_type": "code",
   "execution_count": null,
   "id": "fb830f0d-5d02-4511-b620-c9a3c4311db6",
   "metadata": {},
   "outputs": [],
   "source": []
  },
  {
   "cell_type": "code",
   "execution_count": null,
   "id": "09976c4b-8c99-4e23-a387-bbf665803608",
   "metadata": {},
   "outputs": [],
   "source": []
  },
  {
   "cell_type": "code",
   "execution_count": null,
   "id": "cc1cd59b-4e66-4052-9960-ee63aad4b52f",
   "metadata": {},
   "outputs": [],
   "source": []
  },
  {
   "cell_type": "code",
   "execution_count": null,
   "id": "19b24c0a-9266-4e01-bf4a-d6977dc6fb27",
   "metadata": {},
   "outputs": [],
   "source": []
  },
  {
   "cell_type": "code",
   "execution_count": null,
   "id": "c3105b3c-b688-4601-8d19-54414c3c223f",
   "metadata": {},
   "outputs": [],
   "source": []
  },
  {
   "cell_type": "code",
   "execution_count": null,
   "id": "d867c8b4-8968-4de7-a6fe-cfaeb4bb0cc5",
   "metadata": {},
   "outputs": [],
   "source": []
  },
  {
   "cell_type": "code",
   "execution_count": null,
   "id": "74def0a3-5e11-41e0-8644-de085de65044",
   "metadata": {},
   "outputs": [],
   "source": []
  },
  {
   "cell_type": "code",
   "execution_count": null,
   "id": "87635d8c-f361-4518-83bf-bb47bffb337b",
   "metadata": {},
   "outputs": [],
   "source": []
  },
  {
   "cell_type": "code",
   "execution_count": null,
   "id": "bb68ddc8-7e0e-4c57-85ff-20e490928f96",
   "metadata": {},
   "outputs": [],
   "source": []
  },
  {
   "cell_type": "code",
   "execution_count": null,
   "id": "9bf3e3ca-4fe7-4187-b2fe-cb8cd523e945",
   "metadata": {},
   "outputs": [],
   "source": []
  },
  {
   "cell_type": "code",
   "execution_count": null,
   "id": "97dc6d8a-bf42-4585-bd33-9cfa66c95a4f",
   "metadata": {},
   "outputs": [],
   "source": []
  },
  {
   "cell_type": "code",
   "execution_count": null,
   "id": "7a95137e-b655-458f-a354-0c3eae081964",
   "metadata": {},
   "outputs": [],
   "source": []
  },
  {
   "cell_type": "code",
   "execution_count": null,
   "id": "305a0560-7403-427c-b4ae-ecc0b9d3ce64",
   "metadata": {},
   "outputs": [],
   "source": []
  },
  {
   "cell_type": "code",
   "execution_count": null,
   "id": "7c50bd3d-61be-48b6-870a-8a56fc658dc7",
   "metadata": {},
   "outputs": [],
   "source": []
  },
  {
   "cell_type": "code",
   "execution_count": null,
   "id": "b41329b4-b46b-420e-9e99-01cf464cb4ea",
   "metadata": {},
   "outputs": [],
   "source": []
  },
  {
   "cell_type": "code",
   "execution_count": null,
   "id": "5070715d-2c6c-4f36-86c5-1bcb69e27aad",
   "metadata": {},
   "outputs": [],
   "source": []
  },
  {
   "cell_type": "code",
   "execution_count": null,
   "id": "579388f9-907f-4e16-ac66-f513de672284",
   "metadata": {},
   "outputs": [],
   "source": []
  },
  {
   "cell_type": "code",
   "execution_count": null,
   "id": "4825a68a-dc3d-4ced-9ecc-fb47efd7edea",
   "metadata": {},
   "outputs": [],
   "source": []
  },
  {
   "cell_type": "code",
   "execution_count": null,
   "id": "2509646e-9d7e-4448-86d4-e4c59ef7991c",
   "metadata": {},
   "outputs": [],
   "source": []
  },
  {
   "cell_type": "code",
   "execution_count": null,
   "id": "7aa14c83-6764-494e-bea9-2c782a552102",
   "metadata": {},
   "outputs": [],
   "source": []
  },
  {
   "cell_type": "code",
   "execution_count": null,
   "id": "ae195487-72cb-48ec-9c16-b22d590ace8c",
   "metadata": {},
   "outputs": [],
   "source": []
  },
  {
   "cell_type": "code",
   "execution_count": null,
   "id": "c17c39c6-63c9-4390-bc09-6528317ac73b",
   "metadata": {},
   "outputs": [],
   "source": []
  },
  {
   "cell_type": "code",
   "execution_count": null,
   "id": "6d5fba14-bac1-4aac-a690-15da2120cd22",
   "metadata": {},
   "outputs": [],
   "source": []
  },
  {
   "cell_type": "code",
   "execution_count": null,
   "id": "43312c42-d965-46c1-b20f-bf9eb3bd65d3",
   "metadata": {},
   "outputs": [],
   "source": []
  },
  {
   "cell_type": "code",
   "execution_count": null,
   "id": "0bf62d98-0254-459c-b200-4bd18dbeb537",
   "metadata": {},
   "outputs": [],
   "source": []
  },
  {
   "cell_type": "code",
   "execution_count": null,
   "id": "de4ca2e5-403e-4ae4-bd89-0f11a1142f13",
   "metadata": {},
   "outputs": [],
   "source": []
  },
  {
   "cell_type": "code",
   "execution_count": null,
   "id": "9a583d50-55c9-4b3b-9368-8d4fb140f5f6",
   "metadata": {},
   "outputs": [],
   "source": []
  },
  {
   "cell_type": "code",
   "execution_count": null,
   "id": "7ec71fbc-e677-40d1-98b0-5095ab14d7a1",
   "metadata": {},
   "outputs": [],
   "source": []
  },
  {
   "cell_type": "code",
   "execution_count": null,
   "id": "702c3733-305e-487e-9d5a-303213b66819",
   "metadata": {},
   "outputs": [],
   "source": []
  }
 ],
 "metadata": {
  "kernelspec": {
   "display_name": "Python 3 (ipykernel)",
   "language": "python",
   "name": "python3"
  },
  "language_info": {
   "codemirror_mode": {
    "name": "ipython",
    "version": 3
   },
   "file_extension": ".py",
   "mimetype": "text/x-python",
   "name": "python",
   "nbconvert_exporter": "python",
   "pygments_lexer": "ipython3",
   "version": "3.12.11"
  }
 },
 "nbformat": 4,
 "nbformat_minor": 5
}
