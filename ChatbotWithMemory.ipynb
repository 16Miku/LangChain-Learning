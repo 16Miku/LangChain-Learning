{
 "cells": [
  {
   "cell_type": "code",
   "execution_count": 1,
   "id": "49f1dcb9-d0a2-4af7-9316-12171f8b3d73",
   "metadata": {},
   "outputs": [],
   "source": [
    "\n",
    "# LangGraph官方文档教程\n",
    "# https://langchain-ai.github.io/langgraph/tutorials/get-started/3-add-memory/\n",
    "\n",
    "\n"
   ]
  },
  {
   "cell_type": "code",
   "execution_count": 2,
   "id": "bdac7e88-be7e-4c4b-b435-e98ad8f855a4",
   "metadata": {},
   "outputs": [],
   "source": [
    "# Add memory¶  添加内存 ¶\n",
    "# The chatbot can now use tools to answer user questions, but it does not remember the context of previous interactions. This limits its ability to have coherent, multi-turn conversations.\n",
    "# 聊天机器人现在可以使用工具来回答用户的问题，但它无法记住之前交互的上下文。这限制了它进行连贯、多轮对话的能力。\n",
    "\n",
    "# LangGraph solves this problem through persistent checkpointing. If you provide a checkpointer when compiling the graph and a thread_id when calling your graph, LangGraph automatically saves the state after each step. When you invoke the graph again using the same thread_id, the graph loads its saved state, allowing the chatbot to pick up where it left off.\n",
    "# LangGraph 通过持久化检查点解决了这个问题。如果您在编译图时提供 checkpointer ，并在调用图时提供 thread_id ，LangGraph 会在每一步之后自动保存状态。当您使用相同的 thread_id 再次调用该图时，该图会加载其已保存的状态，从而允许聊天机器人从上次中断的地方继续运行。\n",
    "\n",
    "# We will see later that checkpointing is much more powerful than simple chat memory - it lets you save and resume complex state at any time for error recovery, human-in-the-loop workflows, time travel interactions, and more. But first, let's add checkpointing to enable multi-turn conversations.\n",
    "# 我们稍后会看到， 检查点比简单的聊天记忆功能强大得多 ——它允许您随时保存和恢复复杂的状态，以进行错误恢复、人机交互、时间旅行交互等等。但首先，让我们添加检查点来实现多轮对话。\n"
   ]
  },
  {
   "cell_type": "code",
   "execution_count": 3,
   "id": "0dc75477-ebef-40a9-b96c-29e5b9931a3f",
   "metadata": {},
   "outputs": [],
   "source": [
    "# Note  笔记\n",
    "\n",
    "# This tutorial builds on Add tools.\n",
    "# 本教程以添加工具为基础。"
   ]
  },
  {
   "cell_type": "code",
   "execution_count": 4,
   "id": "4274442a-ca7a-4846-baad-80133db27f1b",
   "metadata": {},
   "outputs": [],
   "source": [
    "# pip install -U \"langchain[google-genai]\""
   ]
  },
  {
   "cell_type": "code",
   "execution_count": 5,
   "id": "250a9972-242e-4b78-9f91-702a237c39af",
   "metadata": {},
   "outputs": [],
   "source": [
    "import getpass\n",
    "import os\n",
    "from langchain.chat_models import init_chat_model\n",
    "\n",
    "if not os.environ.get(\"GOOGLE_API_KEY\"):\n",
    "  os.environ[\"GOOGLE_API_KEY\"] = getpass.getpass(\"Enter API key for Google Gemini: \")\n",
    "\n",
    "llm = init_chat_model(\"google_genai:gemini-2.0-flash\")"
   ]
  },
  {
   "cell_type": "code",
   "execution_count": 6,
   "id": "45c1080d-78ae-4016-9e28-1b4691be80b7",
   "metadata": {},
   "outputs": [
    {
     "data": {
      "text/plain": [
       "<langgraph.graph.state.StateGraph at 0x1240c149e40>"
      ]
     },
     "execution_count": 6,
     "metadata": {},
     "output_type": "execute_result"
    }
   ],
   "source": [
    "# Add tools教程的代码\n",
    "# https://langchain-ai.github.io/langgraph/tutorials/get-started/2-add-tools/\n",
    "# ChatbotWithTavilySearch.ipynb中的代码\n",
    "\n",
    "\n",
    "from typing import Annotated\n",
    "\n",
    "from langchain_tavily import TavilySearch\n",
    "from langchain_core.messages import BaseMessage\n",
    "from typing_extensions import TypedDict\n",
    "\n",
    "from langgraph.graph import StateGraph, START, END\n",
    "from langgraph.graph.message import add_messages\n",
    "from langgraph.prebuilt import ToolNode, tools_condition\n",
    "\n",
    "class State(TypedDict):\n",
    "    messages: Annotated[list, add_messages]\n",
    "\n",
    "graph_builder = StateGraph(State)\n",
    "\n",
    "tool = TavilySearch(max_results=2)\n",
    "tools = [tool]\n",
    "llm_with_tools = llm.bind_tools(tools)\n",
    "\n",
    "def chatbot(state: State):\n",
    "    return {\"messages\": [llm_with_tools.invoke(state[\"messages\"])]}\n",
    "\n",
    "graph_builder.add_node(\"chatbot\", chatbot)\n",
    "\n",
    "tool_node = ToolNode(tools=[tool])\n",
    "graph_builder.add_node(\"tools\", tool_node)\n",
    "\n",
    "graph_builder.add_conditional_edges(\n",
    "    \"chatbot\",\n",
    "    tools_condition,\n",
    ")\n",
    "# Any time a tool is called, we return to the chatbot to decide the next step\n",
    "graph_builder.add_edge(\"tools\", \"chatbot\")\n",
    "graph_builder.add_edge(START, \"chatbot\")\n",
    "# graph = graph_builder.compile()\n",
    "\n",
    "\n",
    "\n"
   ]
  },
  {
   "cell_type": "code",
   "execution_count": null,
   "id": "2b596b0a-8397-4563-bacd-e80fb19ff86a",
   "metadata": {},
   "outputs": [],
   "source": []
  },
  {
   "cell_type": "code",
   "execution_count": 7,
   "id": "192ac862-21e8-4d48-8e39-80bb7c01b2e9",
   "metadata": {},
   "outputs": [],
   "source": [
    "# 1. Create a MemorySaver checkpointer¶\n",
    "# 1. 创建 MemorySaver 检查点 ¶\n",
    "# Create a MemorySaver checkpointer:\n",
    "# 创建 MemorySaver 检查点："
   ]
  },
  {
   "cell_type": "code",
   "execution_count": 8,
   "id": "67fc65f1-0b41-4678-bf17-abf82ce137c3",
   "metadata": {},
   "outputs": [],
   "source": [
    "from langgraph.checkpoint.memory import MemorySaver\n",
    "\n",
    "memory = MemorySaver()"
   ]
  },
  {
   "cell_type": "code",
   "execution_count": 9,
   "id": "b52376cc-39b1-41c7-a1fd-e909a273b798",
   "metadata": {},
   "outputs": [],
   "source": [
    "# This is in-memory checkpointer, which is convenient for the tutorial. However, in a production application, you would likely change this to use SqliteSaver or PostgresSaver and connect a database.\n",
    "# 这是内存检查点，这对于本教程来说很方便。但是，在生产应用程序中，您可能会将其更改为使用 SqliteSaver 或 PostgresSaver 并连接数据库。\n"
   ]
  },
  {
   "cell_type": "code",
   "execution_count": 10,
   "id": "f7713219-bd52-465a-a363-5517eb0d0ca8",
   "metadata": {},
   "outputs": [],
   "source": [
    "# 2. Compile the graph¶\n",
    "# 2. 编译图表 ¶\n",
    "# Compile the graph with the provided checkpointer, which will checkpoint the State as the graph works through each node:\n",
    "# 使用提供的检查点编译图表，当图表通过每个节点时，它将检查 State ："
   ]
  },
  {
   "cell_type": "code",
   "execution_count": 11,
   "id": "29afe3c2-2b35-41c1-b2e2-260d1c5a77b0",
   "metadata": {},
   "outputs": [],
   "source": [
    "graph = graph_builder.compile(checkpointer=memory)"
   ]
  },
  {
   "cell_type": "code",
   "execution_count": 12,
   "id": "ed9ace9f-d4e7-4d59-821b-52038599f779",
   "metadata": {},
   "outputs": [
    {
     "data": {
      "image/png": "[encoded data removed]",
      "text/plain": [
       "<IPython.core.display.Image object>"
      ]
     },
     "metadata": {},
     "output_type": "display_data"
    }
   ],
   "source": [
    "from IPython.display import Image, display\n",
    "\n",
    "try:\n",
    "    display(Image(graph.get_graph().draw_mermaid_png()))\n",
    "except Exception:\n",
    "    # This requires some extra dependencies and is optional\n",
    "    pass"
   ]
  },
  {
   "cell_type": "code",
   "execution_count": 13,
   "id": "50e0fb17-be7e-4df8-a2ce-e0309873435a",
   "metadata": {},
   "outputs": [],
   "source": [
    "# 3. Interact with your chatbot¶\n",
    "# 3. 与你的聊天机器人互动 ¶\n",
    "# Now you can interact with your bot!\n",
    "# 现在您可以与您的机器人互动！"
   ]
  },
  {
   "cell_type": "code",
   "execution_count": 14,
   "id": "36000e5f-0105-43b0-86f8-660f8e9cd493",
   "metadata": {},
   "outputs": [],
   "source": [
    "# 1.Pick a thread to use as the key for this conversation.\n",
    "# 选择一个线索作为本次对话的关键。"
   ]
  },
  {
   "cell_type": "code",
   "execution_count": 15,
   "id": "ea433f5f-77f6-4bc3-ab59-fbb883d8234e",
   "metadata": {},
   "outputs": [],
   "source": [
    "config = {\"configurable\": {\"thread_id\": \"1\"}}"
   ]
  },
  {
   "cell_type": "code",
   "execution_count": 16,
   "id": "df8996bf-cd78-48f7-9ac2-7cfcc19760db",
   "metadata": {},
   "outputs": [],
   "source": [
    "# 2.Call your chatbot:  呼叫您的聊天机器人："
   ]
  },
  {
   "cell_type": "code",
   "execution_count": 17,
   "id": "4eb85eb7-5a6c-41d3-9a7d-c523a6aedb5f",
   "metadata": {},
   "outputs": [
    {
     "name": "stdout",
     "output_type": "stream",
     "text": [
      "================================\u001b[1m Human Message \u001b[0m=================================\n",
      "\n",
      "Hi there! My name is Will.\n",
      "==================================\u001b[1m Ai Message \u001b[0m==================================\n",
      "\n",
      "Hi Will, nice to meet you! Is there anything I can help you with today?\n"
     ]
    }
   ],
   "source": [
    "user_input = \"Hi there! My name is Will.\"\n",
    "\n",
    "# The config is the **second positional argument** to stream() or invoke()!\n",
    "events = graph.stream(\n",
    "    {\"messages\": [{\"role\": \"user\", \"content\": user_input}]},\n",
    "    config,\n",
    "    stream_mode=\"values\",\n",
    ")\n",
    "for event in events:\n",
    "    event[\"messages\"][-1].pretty_print()"
   ]
  },
  {
   "cell_type": "code",
   "execution_count": 18,
   "id": "47113ddb-5ed8-4dfb-8ba2-72f5660c5832",
   "metadata": {},
   "outputs": [],
   "source": [
    "# Note  笔记\n",
    "\n",
    "# The config was provided as the second positional argument when calling our graph. It importantly is not nested within the graph inputs ({'messages': []}).\n",
    "# 调用我们的图时，配置作为第二个位置参数提供。重要的是，它没有嵌套在图输入中（ {'messages': []} ）。"
   ]
  },
  {
   "cell_type": "code",
   "execution_count": 19,
   "id": "9673f216-7979-46b5-b1d9-7b753e9f4d35",
   "metadata": {},
   "outputs": [],
   "source": [
    "# 4. Ask a follow up question¶\n",
    "# 4. 提出后续问题 ¶\n",
    "# Ask a follow up question:\n",
    "# 提出后续问题："
   ]
  },
  {
   "cell_type": "code",
   "execution_count": 20,
   "id": "c0562485-11a0-4a62-8a98-09a65cb1d9dd",
   "metadata": {},
   "outputs": [
    {
     "name": "stdout",
     "output_type": "stream",
     "text": [
      "================================\u001b[1m Human Message \u001b[0m=================================\n",
      "\n",
      "Remember my name?\n",
      "==================================\u001b[1m Ai Message \u001b[0m==================================\n",
      "\n",
      "Yes, your name is Will.\n"
     ]
    }
   ],
   "source": [
    "user_input = \"Remember my name?\"\n",
    "\n",
    "# The config is the **second positional argument** to stream() or invoke()!\n",
    "events = graph.stream(\n",
    "    {\"messages\": [{\"role\": \"user\", \"content\": user_input}]},\n",
    "    config,\n",
    "    stream_mode=\"values\",\n",
    ")\n",
    "for event in events:\n",
    "    event[\"messages\"][-1].pretty_print()"
   ]
  },
  {
   "cell_type": "code",
   "execution_count": 21,
   "id": "a7418106-31aa-4f3c-a34a-2a28b57a1ce6",
   "metadata": {},
   "outputs": [],
   "source": [
    "# Notice that we aren't using an external list for memory: it's all handled by the checkpointer! You can inspect the full execution in this LangSmith trace to see what's going on.\n",
    "# 请注意 ，我们没有使用外部列表来管理内存：所有操作都由检查点处理！您可以查看 LangSmith 跟踪中的完整执行过程，了解具体发生了什么。\n",
    "\n",
    "# Don't believe me? Try this using a different config.\n",
    "# 不相信？试试其他配置。"
   ]
  },
  {
   "cell_type": "code",
   "execution_count": 22,
   "id": "8565ee5c-9bfe-48c8-8b2e-171e0bf0171e",
   "metadata": {},
   "outputs": [
    {
     "name": "stdout",
     "output_type": "stream",
     "text": [
      "================================\u001b[1m Human Message \u001b[0m=================================\n",
      "\n",
      "Remember my name?\n",
      "==================================\u001b[1m Ai Message \u001b[0m==================================\n",
      "\n",
      "I do not store any personal information. Therefore, I don't remember your name.\n"
     ]
    }
   ],
   "source": [
    "# The only difference is we change the `thread_id` here to \"2\" instead of \"1\"\n",
    "events = graph.stream(\n",
    "    {\"messages\": [{\"role\": \"user\", \"content\": user_input}]},\n",
    "    {\"configurable\": {\"thread_id\": \"2\"}},\n",
    "    stream_mode=\"values\",\n",
    ")\n",
    "for event in events:\n",
    "    event[\"messages\"][-1].pretty_print()"
   ]
  },
  {
   "cell_type": "code",
   "execution_count": 23,
   "id": "33309fbe-e712-47ea-8560-6d1f6db70f09",
   "metadata": {},
   "outputs": [],
   "source": [
    "# Notice that the only change we've made is to modify the thread_id in the config. See this call's LangSmith trace for comparison.\n",
    "# 请注意 ，我们所做的唯一更改是修改了配置中的 thread_id 。请参阅此调用的 LangSmith 跟踪以进行比较。"
   ]
  },
  {
   "cell_type": "code",
   "execution_count": 24,
   "id": "e9b35b0a-9527-4f44-840f-900d993237bc",
   "metadata": {},
   "outputs": [],
   "source": [
    "# 5. Inspect the state¶\n",
    "# 5. 检查状态 ¶\n",
    "# By now, we have made a few checkpoints across two different threads. But what goes into a checkpoint? To inspect a graph's state for a given config at any time, call get_state(config).\n",
    "# 到目前为止，我们已经在两个不同的线程上创建了几个检查点。但是检查点都包含哪些内容呢？要随时检查给定配置的图表 state ，请调用 get_state(config) 。"
   ]
  },
  {
   "cell_type": "code",
   "execution_count": 25,
   "id": "1fb7cdea-5dae-4417-82b1-8b51043e97ae",
   "metadata": {},
   "outputs": [
    {
     "data": {
      "text/plain": [
       "StateSnapshot(values={'messages': [HumanMessage(content='Hi there! My name is Will.', additional_kwargs={}, response_metadata={}, id='0e651f84-addd-4feb-b3df-e9b9350dea2f'), AIMessage(content='Hi Will, nice to meet you! Is there anything I can help you with today?', additional_kwargs={}, response_metadata={'prompt_feedback': {'block_reason': 0, 'safety_ratings': []}, 'finish_reason': 'STOP', 'model_name': 'gemini-2.0-flash', 'safety_ratings': []}, id='run--e127dd8d-658c-4707-b766-397b21ac7858-0', usage_metadata={'input_tokens': 507, 'output_tokens': 19, 'total_tokens': 526, 'input_token_details': {'cache_read': 0}}), HumanMessage(content='Remember my name?', additional_kwargs={}, response_metadata={}, id='6a215410-f31d-45c6-ac9a-dee1df89797a'), AIMessage(content='Yes, your name is Will.', additional_kwargs={}, response_metadata={'prompt_feedback': {'block_reason': 0, 'safety_ratings': []}, 'finish_reason': 'STOP', 'model_name': 'gemini-2.0-flash', 'safety_ratings': []}, id='run--a536be48-d930-4eba-b195-525d8e3085d2-0', usage_metadata={'input_tokens': 529, 'output_tokens': 8, 'total_tokens': 537, 'input_token_details': {'cache_read': 0}})]}, next=(), config={'configurable': {'thread_id': '1', 'checkpoint_ns': '', 'checkpoint_id': '1f060dcc-5d3e-6bb4-8004-8dbdf8c2c219'}}, metadata={'source': 'loop', 'step': 4, 'parents': {}, 'thread_id': '1'}, created_at='2025-07-14T18:02:57.655698+00:00', parent_config={'configurable': {'thread_id': '1', 'checkpoint_ns': '', 'checkpoint_id': '1f060dcc-5339-6d89-8003-019e5498be6e'}}, tasks=(), interrupts=())"
      ]
     },
     "execution_count": 25,
     "metadata": {},
     "output_type": "execute_result"
    }
   ],
   "source": [
    "snapshot = graph.get_state(config)\n",
    "snapshot"
   ]
  },
  {
   "cell_type": "code",
   "execution_count": 26,
   "id": "e420d02b-cf4b-48c2-80e1-2f11b5912642",
   "metadata": {},
   "outputs": [],
   "source": [
    "# StateSnapshot(values={'messages': [HumanMessage(content='Hi there! My name is Will.', additional_kwargs={}, response_metadata={}, id='8c1ca919-c553-4ebf-95d4-b59a2d61e078'), AIMessage(content=\"Hello Will! It's nice to meet you. How can I assist you today? Is there anything specific you'd like to know or discuss?\", additional_kwargs={}, response_metadata={'id': 'msg_01WTQebPhNwmMrmmWojJ9KXJ', 'model': 'claude-3-5-sonnet-20240620', 'stop_reason': 'end_turn', 'stop_sequence': None, 'usage': {'input_tokens': 405, 'output_tokens': 32}}, id='run-58587b77-8c82-41e6-8a90-d62c444a261d-0', usage_metadata={'input_tokens': 405, 'output_tokens': 32, 'total_tokens': 437}), HumanMessage(content='Remember my name?', additional_kwargs={}, response_metadata={}, id='daba7df6-ad75-4d6b-8057-745881cea1ca'), AIMessage(content=\"Of course, I remember your name, Will. I always try to pay attention to important details that users share with me. Is there anything else you'd like to talk about or any questions you have? I'm here to help with a wide range of topics or tasks.\", additional_kwargs={}, response_metadata={'id': 'msg_01E41KitY74HpENRgXx94vag', 'model': 'claude-3-5-sonnet-20240620', 'stop_reason': 'end_turn', 'stop_sequence': None, 'usage': {'input_tokens': 444, 'output_tokens': 58}}, id='run-ffeaae5c-4d2d-4ddb-bd59-5d5cbf2a5af8-0', usage_metadata={'input_tokens': 444, 'output_tokens': 58, 'total_tokens': 502})]}, next=(), config={'configurable': {'thread_id': '1', 'checkpoint_ns': '', 'checkpoint_id': '1ef7d06e-93e0-6acc-8004-f2ac846575d2'}}, metadata={'source': 'loop', 'writes': {'chatbot': {'messages': [AIMessage(content=\"Of course, I remember your name, Will. I always try to pay attention to important details that users share with me. Is there anything else you'd like to talk about or any questions you have? I'm here to help with a wide range of topics or tasks.\", additional_kwargs={}, response_metadata={'id': 'msg_01E41KitY74HpENRgXx94vag', 'model': 'claude-3-5-sonnet-20240620', 'stop_reason': 'end_turn', 'stop_sequence': None, 'usage': {'input_tokens': 444, 'output_tokens': 58}}, id='run-ffeaae5c-4d2d-4ddb-bd59-5d5cbf2a5af8-0', usage_metadata={'input_tokens': 444, 'output_tokens': 58, 'total_tokens': 502})]}}, 'step': 4, 'parents': {}}, created_at='2024-09-27T19:30:10.820758+00:00', parent_config={'configurable': {'thread_id': '1', 'checkpoint_ns': '', 'checkpoint_id': '1ef7d06e-859f-6206-8003-e1bd3c264b8f'}}, tasks=())"
   ]
  },
  {
   "cell_type": "code",
   "execution_count": 27,
   "id": "72f3835d-3187-41b3-8759-a255292b1616",
   "metadata": {},
   "outputs": [
    {
     "data": {
      "text/plain": [
       "()"
      ]
     },
     "execution_count": 27,
     "metadata": {},
     "output_type": "execute_result"
    }
   ],
   "source": [
    "snapshot.next  # (since the graph ended this turn, `next` is empty. If you fetch a state from within a graph invocation, next tells which node will execute next)"
   ]
  },
  {
   "cell_type": "code",
   "execution_count": 28,
   "id": "d05287d6-9c52-445b-9112-8a67026e584f",
   "metadata": {},
   "outputs": [],
   "source": [
    "# The snapshot above contains the current state values, corresponding config, and the next node to process. In our case, the graph has reached an END state, so next is empty.\n",
    "# 上面的快照包含当前状态值、相应的配置以及 next 要处理的节点。在我们的例子中，图已达到 END 状态，因此 next 为空。\n",
    "\n",
    "# Congratulations! Your chatbot can now maintain conversation state across sessions thanks to LangGraph's checkpointing system. This opens up exciting possibilities for more natural, contextual interactions. LangGraph's checkpointing even handles arbitrarily complex graph states, which is much more expressive and powerful than simple chat memory.\n",
    "# 恭喜！ 借助 LangGraph 的检查点系统，您的聊天机器人现在可以跨会话保持对话状态。这为更自然、更符合情境的交互开辟了激动人心的可能性。LangGraph 的检查点甚至可以处理任意复杂的图状态 ，这比简单的聊天记忆更具表现力和功能强大得多。"
   ]
  },
  {
   "cell_type": "code",
   "execution_count": 31,
   "id": "d3ea6568-fb9b-488b-9ce1-49abd2f2fe61",
   "metadata": {},
   "outputs": [
    {
     "name": "stdin",
     "output_type": "stream",
     "text": [
      "User:  你好，我是Miku\n"
     ]
    },
    {
     "name": "stdout",
     "output_type": "stream",
     "text": [
      "================================\u001b[1m Human Message \u001b[0m=================================\n",
      "\n",
      "你好，我是Miku\n",
      "==================================\u001b[1m Ai Message \u001b[0m==================================\n",
      "\n",
      "你好，Miku！很高兴认识你。有什么我可以帮你的吗？(Hello Miku! Nice to meet you. Is there anything I can help you with?)\n"
     ]
    },
    {
     "name": "stdin",
     "output_type": "stream",
     "text": [
      "User:  你还记得我是谁吗？\n"
     ]
    },
    {
     "name": "stdout",
     "output_type": "stream",
     "text": [
      "================================\u001b[1m Human Message \u001b[0m=================================\n",
      "\n",
      "你还记得我是谁吗？\n",
      "==================================\u001b[1m Ai Message \u001b[0m==================================\n",
      "\n",
      "是的，你是 Miku。(Yes, you are Miku.)\n"
     ]
    },
    {
     "name": "stdin",
     "output_type": "stream",
     "text": [
      "User:  我最喜欢斋藤飞鸟。\n"
     ]
    },
    {
     "name": "stdout",
     "output_type": "stream",
     "text": [
      "================================\u001b[1m Human Message \u001b[0m=================================\n",
      "\n",
      "我最喜欢斋藤飞鸟。\n",
      "==================================\u001b[1m Ai Message \u001b[0m==================================\n",
      "\n",
      "我知道你最喜欢斋藤飞鸟。有什么关于她的事情你想了解吗？(I know that you like Saito Asuka the best. Is there anything you want to know about her?)\n"
     ]
    },
    {
     "name": "stdin",
     "output_type": "stream",
     "text": [
      "User:  你记得我最喜欢谁吗？\n"
     ]
    },
    {
     "name": "stdout",
     "output_type": "stream",
     "text": [
      "================================\u001b[1m Human Message \u001b[0m=================================\n",
      "\n",
      "你记得我最喜欢谁吗？\n",
      "==================================\u001b[1m Ai Message \u001b[0m==================================\n",
      "\n",
      "是的，你最喜欢斋藤飞鸟。(Yes, you like Saito Asuka the best.)\n"
     ]
    },
    {
     "name": "stdin",
     "output_type": "stream",
     "text": [
      "User:  quit\n"
     ]
    },
    {
     "name": "stdout",
     "output_type": "stream",
     "text": [
      "Goodbye!\n"
     ]
    }
   ],
   "source": [
    "# 修改后的 stream_graph_updates 函数\n",
    "def stream_graph_updates(user_input: str):\n",
    "    # graph.stream(..., stream_mode=\"values\") 返回的每个 'event' 就是一个状态字典\n",
    "    for event in graph.stream(\n",
    "        {\"messages\": [{\"role\": \"user\", \"content\": user_input}]},\n",
    "        {\"configurable\": {\"thread_id\": \"1\"}},\n",
    "        stream_mode=\"values\",\n",
    "    ):\n",
    "        # 直接从 event 字典中获取 'messages' 列表\n",
    "        # 并且检查 'messages' 键是否存在且不为空，以避免潜在错误\n",
    "        if \"messages\" in event and event[\"messages\"]:\n",
    "            # 获取列表中的最后一个消息，并调用 pretty_print() 方法\n",
    "            # pretty_print() 方法会根据消息类型进行格式化输出，这通常是LangChain/LangGraph推荐的方式\n",
    "            event[\"messages\"][-1].pretty_print()\n",
    "        else:\n",
    "            # 如果 event 中没有 messages 或者 messages 为空，可以打印一个提示\n",
    "            # 这可能发生在某些中间步骤，例如仅触发工具调用而没有立即生成AI回复时\n",
    "            print(\"Assistant: [Processing... or No direct message output yet]\")\n",
    "\n",
    "while True:\n",
    "    try:\n",
    "        user_input = input(\"User: \")\n",
    "        if user_input.lower() in [\"quit\", \"exit\", \"q\"]:\n",
    "            print(\"Goodbye!\")\n",
    "            break\n",
    "\n",
    "        stream_graph_updates(user_input)\n",
    "    except Exception as e:\n",
    "        # 捕获所有异常，并提供一个回退机制\n",
    "        print(f\"An error occurred: {e}. Falling back to a default query.\")\n",
    "        user_input = \"What do you know about LangGraph?\"\n",
    "        print(\"User: \" + user_input)\n",
    "        stream_graph_updates(user_input)\n",
    "        break\n"
   ]
  },
  {
   "cell_type": "code",
   "execution_count": null,
   "id": "227e898c-68d8-4abe-85c6-6f384743eb19",
   "metadata": {},
   "outputs": [],
   "source": []
  },
  {
   "cell_type": "code",
   "execution_count": null,
   "id": "34ebc31e-c863-4780-a5d7-9be85048f430",
   "metadata": {},
   "outputs": [],
   "source": [
    "# Next steps¶  下一步\n",
    "# In the next tutorial, you will add human-in-the-loop to the chatbot to handle situations where it may need guidance or verification before proceeding.\n",
    "# 在下一个教程中，您将向聊天机器人添加人机交互功能 ，以处理在继续之前可能需要指导或验证的情况。"
   ]
  },
  {
   "cell_type": "code",
   "execution_count": null,
   "id": "11345d70-b54b-4c5d-b735-c392b1c784ac",
   "metadata": {},
   "outputs": [],
   "source": []
  },
  {
   "cell_type": "code",
   "execution_count": null,
   "id": "f6d7bb0f-4b2d-4023-b51e-c20588461a50",
   "metadata": {},
   "outputs": [],
   "source": []
  },
  {
   "cell_type": "code",
   "execution_count": null,
   "id": "a7e34ebf-31c1-45bc-b5a8-aa43643cb64a",
   "metadata": {},
   "outputs": [],
   "source": []
  },
  {
   "cell_type": "code",
   "execution_count": null,
   "id": "566d51a2-5b93-42ed-a075-b78304241639",
   "metadata": {},
   "outputs": [],
   "source": []
  },
  {
   "cell_type": "code",
   "execution_count": null,
   "id": "f48449c0-e598-47cb-80bc-4a1735d0673f",
   "metadata": {},
   "outputs": [],
   "source": []
  },
  {
   "cell_type": "code",
   "execution_count": null,
   "id": "e2f5fa1c-e960-4bb8-b902-00845202d18b",
   "metadata": {},
   "outputs": [],
   "source": []
  },
  {
   "cell_type": "code",
   "execution_count": null,
   "id": "be5c3168-6033-44bd-96c5-0e8d313c6fcd",
   "metadata": {},
   "outputs": [],
   "source": []
  },
  {
   "cell_type": "code",
   "execution_count": null,
   "id": "4d1f82d3-dc5f-4703-94a1-faf35feb98b7",
   "metadata": {},
   "outputs": [],
   "source": []
  },
  {
   "cell_type": "code",
   "execution_count": null,
   "id": "abb991bb-c2ad-4eaa-a360-50d676761163",
   "metadata": {},
   "outputs": [],
   "source": []
  },
  {
   "cell_type": "code",
   "execution_count": null,
   "id": "1d25ae20-f1ba-4c34-979e-4bb97a310864",
   "metadata": {},
   "outputs": [],
   "source": []
  },
  {
   "cell_type": "code",
   "execution_count": null,
   "id": "522817eb-4cb2-447c-8531-6f5aea06a4ae",
   "metadata": {},
   "outputs": [],
   "source": []
  },
  {
   "cell_type": "code",
   "execution_count": null,
   "id": "1dce8fd5-b37d-49ed-a495-064398245cce",
   "metadata": {},
   "outputs": [],
   "source": []
  },
  {
   "cell_type": "code",
   "execution_count": null,
   "id": "4e23970e-f48a-45b3-a568-666557b1a261",
   "metadata": {},
   "outputs": [],
   "source": []
  },
  {
   "cell_type": "code",
   "execution_count": null,
   "id": "4bb9effe-ac8a-452b-8dec-2cd913bde7b3",
   "metadata": {},
   "outputs": [],
   "source": []
  },
  {
   "cell_type": "code",
   "execution_count": null,
   "id": "504bd44c-8e4c-4943-90d3-ba8fec317fed",
   "metadata": {},
   "outputs": [],
   "source": []
  },
  {
   "cell_type": "code",
   "execution_count": null,
   "id": "0c8609a8-a4f0-4107-8576-f4b54b67c002",
   "metadata": {},
   "outputs": [],
   "source": []
  },
  {
   "cell_type": "code",
   "execution_count": null,
   "id": "77ab5333-74aa-4bb0-9e70-84ec0cfc13d8",
   "metadata": {},
   "outputs": [],
   "source": []
  },
  {
   "cell_type": "code",
   "execution_count": null,
   "id": "08e61642-669f-4692-9ba5-601c3ae1d1c4",
   "metadata": {},
   "outputs": [],
   "source": []
  },
  {
   "cell_type": "code",
   "execution_count": null,
   "id": "b0fcd361-9b3d-474d-8e79-ede745bbc3a4",
   "metadata": {},
   "outputs": [],
   "source": []
  },
  {
   "cell_type": "code",
   "execution_count": null,
   "id": "2a5f17e1-dd9d-42ec-afdc-29c90ac18f60",
   "metadata": {},
   "outputs": [],
   "source": []
  },
  {
   "cell_type": "code",
   "execution_count": null,
   "id": "b401bbd4-e34c-4a9d-81f9-c9f9cfac9d67",
   "metadata": {},
   "outputs": [],
   "source": []
  },
  {
   "cell_type": "code",
   "execution_count": null,
   "id": "9a80f156-f121-45e7-b749-a64978673049",
   "metadata": {},
   "outputs": [],
   "source": []
  },
  {
   "cell_type": "code",
   "execution_count": null,
   "id": "f9373436-00cf-4655-a097-77c11508cfa5",
   "metadata": {},
   "outputs": [],
   "source": []
  },
  {
   "cell_type": "code",
   "execution_count": null,
   "id": "b6aeef2d-c834-421c-baff-4994bcad36bc",
   "metadata": {},
   "outputs": [],
   "source": []
  },
  {
   "cell_type": "code",
   "execution_count": null,
   "id": "30dbcb19-963b-4bf4-b2cd-b8c9b98838eb",
   "metadata": {},
   "outputs": [],
   "source": []
  },
  {
   "cell_type": "code",
   "execution_count": null,
   "id": "7ec2befe-3d4e-4a6b-aed4-bc6cb3b123a3",
   "metadata": {},
   "outputs": [],
   "source": []
  },
  {
   "cell_type": "code",
   "execution_count": null,
   "id": "5e951441-8fd6-45f9-80c2-965c2159b6cc",
   "metadata": {},
   "outputs": [],
   "source": []
  },
  {
   "cell_type": "code",
   "execution_count": null,
   "id": "2b40cb50-1647-497b-97f2-1fc44c193d68",
   "metadata": {},
   "outputs": [],
   "source": []
  },
  {
   "cell_type": "code",
   "execution_count": null,
   "id": "506d3599-ab29-41f9-a6d7-0b910b114cf4",
   "metadata": {},
   "outputs": [],
   "source": []
  },
  {
   "cell_type": "code",
   "execution_count": null,
   "id": "78f2be0f-aac4-4ca5-b24a-a247680e287a",
   "metadata": {},
   "outputs": [],
   "source": []
  },
  {
   "cell_type": "code",
   "execution_count": null,
   "id": "7e6bc869-c3f7-4a25-8531-31c14aff2772",
   "metadata": {},
   "outputs": [],
   "source": []
  },
  {
   "cell_type": "code",
   "execution_count": null,
   "id": "0a72714a-4de4-4c43-bf3c-ea7f632ac552",
   "metadata": {},
   "outputs": [],
   "source": []
  }
 ],
 "metadata": {
  "kernelspec": {
   "display_name": "Python 3 (ipykernel)",
   "language": "python",
   "name": "python3"
  },
  "language_info": {
   "codemirror_mode": {
    "name": "ipython",
    "version": 3
   },
   "file_extension": ".py",
   "mimetype": "text/x-python",
   "name": "python",
   "nbconvert_exporter": "python",
   "pygments_lexer": "ipython3",
   "version": "3.10.16"
  }
 },
 "nbformat": 4,
 "nbformat_minor": 5
}
