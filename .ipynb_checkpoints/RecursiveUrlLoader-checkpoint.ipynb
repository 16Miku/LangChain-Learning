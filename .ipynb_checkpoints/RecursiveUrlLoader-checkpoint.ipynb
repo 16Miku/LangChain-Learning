{
 "cells": [
  {
   "cell_type": "code",
   "execution_count": null,
   "id": "146d9ee1-37ba-4863-ab34-45de115d273a",
   "metadata": {},
   "outputs": [],
   "source": [
    "\n",
    "\n",
    "# Recursive URL  递归 URL\n",
    "# https://python.langchain.com/docs/integrations/document_loaders/recursive_url/\n",
    "\n",
    "\n"
   ]
  },
  {
   "cell_type": "code",
   "execution_count": null,
   "id": "6e4a4ad2-2bb0-49ab-aee8-9386badbe474",
   "metadata": {},
   "outputs": [],
   "source": [
    "# Recursive URL  递归 URL\n",
    "# The RecursiveUrlLoader lets you recursively scrape all child links from a root URL and parse them into Documents.\n",
    "# RecursiveUrlLoader 允许您从根 URL 递归抓取所有子链接并将其解析为文档。\n"
   ]
  },
  {
   "cell_type": "code",
   "execution_count": null,
   "id": "ad8eac1b-0ff5-4dfc-94b2-b02403c3c38c",
   "metadata": {},
   "outputs": [],
   "source": [
    "# Setup  设置\n",
    "# Credentials  证书\n",
    "# No credentials are required to use the RecursiveUrlLoader.\n",
    "# 使用 RecursiveUrlLoader 不需要任何凭据。\n",
    "\n",
    "# Installation  安装\n",
    "# The RecursiveUrlLoader lives in the langchain-community package. There's no other required packages, though you will get richer default Document metadata if you have ``beautifulsoup4` installed as well.\n",
    "# RecursiveUrlLoader 位于 langchain-community 包中。无需其他依赖包，但如果您同时安装了“beautifulsoup4”，则可以获得更丰富的默认文档元数据。\n"
   ]
  },
  {
   "cell_type": "code",
   "execution_count": null,
   "id": "7cef74d5-774c-4c3a-8030-5c190c718c38",
   "metadata": {},
   "outputs": [],
   "source": [
    "# pip install -qU langchain-community beautifulsoup4 lxml"
   ]
  },
  {
   "cell_type": "code",
   "execution_count": null,
   "id": "976b0453-0712-40a3-b7a7-c1dcf9b2d35f",
   "metadata": {},
   "outputs": [],
   "source": [
    "# Instantiation  实例化\n",
    "# Now we can instantiate our document loader object and load Documents:\n",
    "# 现在我们可以实例化我们的文档加载器对象并加载文档：\n"
   ]
  },
  {
   "cell_type": "code",
   "execution_count": 1,
   "id": "e529e3da-0aad-4948-bfb0-58fc6aba6ac7",
   "metadata": {},
   "outputs": [],
   "source": [
    "from langchain_community.document_loaders import RecursiveUrlLoader\n",
    "\n",
    "loader = RecursiveUrlLoader(\n",
    "    \"https://docs.python.org/3.9/\",\n",
    "    # max_depth=2,\n",
    "    # use_async=False,\n",
    "    # extractor=None,\n",
    "    # metadata_extractor=None,\n",
    "    # exclude_dirs=(),\n",
    "    # timeout=10,\n",
    "    # check_response_status=True,\n",
    "    # continue_on_failure=True,\n",
    "    # prevent_outside=True,\n",
    "    # base_url=None,\n",
    "    # ...\n",
    ")"
   ]
  },
  {
   "cell_type": "code",
   "execution_count": 2,
   "id": "980d789f-0aa1-44e3-b540-28cdaa1d2688",
   "metadata": {},
   "outputs": [],
   "source": [
    "# Load  加载\n",
    "# Use .load() to synchronously load into memory all Documents, with one Document per visited URL. Starting from the initial URL, we recurse through all linked URLs up to the specified max_depth.\n",
    "# 用.load()将所有文档同步加载到内存中，每个访问过的 URL 对应一个文档。从初始 URL 开始，递归遍历所有链接的 URL，直到达到指定的 max_depth。\n",
    "\n",
    "# Let's run through a basic example of how to use the RecursiveUrlLoader on the Python 3.9 Documentation.\n",
    "# 让我们通过 Python 3.9 文档中的基本示例来了解如何使用。\n"
   ]
  },
  {
   "cell_type": "code",
   "execution_count": 3,
   "id": "3d73186c-0c04-418c-a0a9-2644d0e16a23",
   "metadata": {},
   "outputs": [
    {
     "name": "stderr",
     "output_type": "stream",
     "text": [
      "A:\\Anaconda\\envs\\Gemini\\Lib\\site-packages\\langchain_community\\document_loaders\\recursive_url_loader.py:43: XMLParsedAsHTMLWarning: It looks like you're using an HTML parser to parse an XML document.\n",
      "\n",
      "Assuming this really is an XML document, what you're doing might work, but you should know that using an XML parser will be more reliable. To parse this document as XML, make sure you have the Python package 'lxml' installed, and pass the keyword argument `features=\"xml\"` into the BeautifulSoup constructor.\n",
      "\n",
      "If you want or need to use an HTML parser on this document, you can make this warning go away by filtering it. To do that, run this code before calling the BeautifulSoup constructor:\n",
      "\n",
      "    from bs4 import XMLParsedAsHTMLWarning\n",
      "    import warnings\n",
      "\n",
      "    warnings.filterwarnings(\"ignore\", category=XMLParsedAsHTMLWarning)\n",
      "\n",
      "  soup = BeautifulSoup(raw_html, \"html.parser\")\n"
     ]
    },
    {
     "data": {
      "text/plain": [
       "{'source': 'https://docs.python.org/3.9/',\n",
       " 'content_type': 'text/html',\n",
       " 'title': '3.9.23 Documentation',\n",
       " 'language': None}"
      ]
     },
     "execution_count": 3,
     "metadata": {},
     "output_type": "execute_result"
    }
   ],
   "source": [
    "docs = loader.load()\n",
    "docs[0].metadata"
   ]
  },
  {
   "cell_type": "code",
   "execution_count": null,
   "id": "682f9c6e-36f0-4770-8d66-57aabc4c3f68",
   "metadata": {},
   "outputs": [],
   "source": [
    "# Great! The first document looks like the root page we started from. Let's look at the metadata of the next document\n",
    "# 太棒了！第一个文档看起来就像我们开始的根页面。让我们看看下一个文档的元数据\n"
   ]
  },
  {
   "cell_type": "code",
   "execution_count": 4,
   "id": "dada5c67-e96e-4155-839f-3b0d8db451a3",
   "metadata": {},
   "outputs": [
    {
     "data": {
      "text/plain": [
       "{'source': 'https://docs.python.org/3.9/glossary.html',\n",
       " 'content_type': 'text/html',\n",
       " 'title': 'Glossary — Python 3.9.23 documentation',\n",
       " 'language': None}"
      ]
     },
     "execution_count": 4,
     "metadata": {},
     "output_type": "execute_result"
    }
   ],
   "source": [
    "docs[1].metadata"
   ]
  },
  {
   "cell_type": "code",
   "execution_count": null,
   "id": "6e9b3db4-35c0-4ed7-9390-04dfb4778916",
   "metadata": {},
   "outputs": [],
   "source": [
    "# That url looks like a child of our root page, which is great! Let's move on from metadata to examine the content of one of our documents\n",
    "# 这个 URL 看起来像是我们根页面的子页面，太棒了！让我们从元数据继续检查其中一个文档的内容。\n"
   ]
  },
  {
   "cell_type": "code",
   "execution_count": 5,
   "id": "1cb962b6-5142-40f6-a471-f6ebce4f89f7",
   "metadata": {},
   "outputs": [
    {
     "name": "stdout",
     "output_type": "stream",
     "text": [
      "\n",
      "<!DOCTYPE html>\n",
      "\n",
      "<html xmlns=\"http://www.w3.org/1999/xhtml\">\n",
      "  <head>\n",
      "    <meta charset=\"utf-8\" /><title>3.9.23 Documentation</title><meta name=\"viewport\" content=\"width=device-width, initial-scale=1.0\">\n",
      "    \n",
      "    <link rel=\"stylesheet\" href=\"_static/pydoctheme.css\" type=\"text/css\" />\n",
      "    <link rel=\n"
     ]
    }
   ],
   "source": [
    "print(docs[0].page_content[:300])"
   ]
  },
  {
   "cell_type": "code",
   "execution_count": null,
   "id": "ca937a6c-248d-4ee3-a29c-140a584c9463",
   "metadata": {},
   "outputs": [],
   "source": [
    "# That certainly looks like HTML that comes from the url https://docs.python.org/3.9/, which is what we expected. Let's now look at some variations we can make to our basic example that can be helpful in different situations.\n",
    "# 这看起来确实像是来自 https://docs.python.org/3.9/ 的 HTML，正如我们所期望的那样。现在让我们看看可以对基本示例进行哪些修改，这些修改在不同情况下可能会有所帮助。\n"
   ]
  },
  {
   "cell_type": "code",
   "execution_count": null,
   "id": "bd0c59d6-fa9c-4af1-b8b1-893ee508a191",
   "metadata": {},
   "outputs": [],
   "source": []
  },
  {
   "cell_type": "code",
   "execution_count": null,
   "id": "e066c0fa-d06e-4525-8c6c-15cb9d0551e0",
   "metadata": {},
   "outputs": [],
   "source": [
    "# Lazy loading  延迟加载\n",
    "# If we're loading a large number of Documents and our downstream operations can be done over subsets of all loaded Documents, we can lazily load our Documents one at a time to minimize our memory footprint:\n",
    "# 如果我们正在加载大量的文档，并且我们的下游操作可以在所有已加载文档的子集上完成，那么我们可以一次延迟加载一个文档，以最大限度地减少内存占用：\n"
   ]
  },
  {
   "cell_type": "code",
   "execution_count": 6,
   "id": "5ca7ec9b-6d35-48e6-beca-6bb53dec9818",
   "metadata": {},
   "outputs": [],
   "source": [
    "pages = []\n",
    "for doc in loader.lazy_load():\n",
    "    pages.append(doc)\n",
    "    if len(pages) >= 10:\n",
    "        # do some paged operation, e.g.\n",
    "        # index.upsert(page)\n",
    "\n",
    "        pages = []"
   ]
  },
  {
   "cell_type": "code",
   "execution_count": null,
   "id": "2379f4b5-9c22-42ef-b2df-033cc233f49d",
   "metadata": {},
   "outputs": [],
   "source": [
    "# In this example we never have more than 10 Documents loaded into memory at a time.\n",
    "# 在这个例子中，我们一次加载到内存中的文档不会超过 10 个。"
   ]
  },
  {
   "cell_type": "code",
   "execution_count": null,
   "id": "7a15600c-5f26-4a10-bfb2-ce47f8a6b0b2",
   "metadata": {},
   "outputs": [],
   "source": [
    "# Adding an Extractor  添加提取器\n",
    "# By default the loader sets the raw HTML from each link as the Document page content. To parse this HTML into a more human/LLM-friendly format you can pass in a custom extractor method:\n",
    "# 默认情况下，加载器会将每个链接的原始 HTML 设置为文档页面内容。为了将此 HTML 解析为更人性化/LLM 友好的格式，您可以传入一个自定义方法：\n"
   ]
  },
  {
   "cell_type": "code",
   "execution_count": 7,
   "id": "b02cef97-9986-4fd8-a6a5-d669d888850c",
   "metadata": {},
   "outputs": [
    {
     "name": "stderr",
     "output_type": "stream",
     "text": [
      "C:\\Users\\文文\\AppData\\Local\\Temp\\ipykernel_8180\\2833861218.py:7: XMLParsedAsHTMLWarning: It looks like you're using an HTML parser to parse an XML document.\n",
      "\n",
      "Assuming this really is an XML document, what you're doing might work, but you should know that using an XML parser will be more reliable. To parse this document as XML, make sure you have the Python package 'lxml' installed, and pass the keyword argument `features=\"xml\"` into the BeautifulSoup constructor.\n",
      "\n",
      "If you want or need to use an HTML parser on this document, you can make this warning go away by filtering it. To do that, run this code before calling the BeautifulSoup constructor:\n",
      "\n",
      "    from bs4 import XMLParsedAsHTMLWarning\n",
      "    import warnings\n",
      "\n",
      "    warnings.filterwarnings(\"ignore\", category=XMLParsedAsHTMLWarning)\n",
      "\n",
      "  soup = BeautifulSoup(html, \"lxml\")\n"
     ]
    },
    {
     "name": "stdout",
     "output_type": "stream",
     "text": [
      "3.9.23 Documentation\n",
      "\n",
      "Download\n",
      "Download these documents\n",
      "Docs by version\n",
      "\n",
      "Python 3.15 (in development)\n",
      "Python 3.14 (pre-release)\n",
      "Python 3.13 (stable)\n",
      "Python 3.12 (security-fixes)\n",
      "Python 3.11 (security-\n"
     ]
    }
   ],
   "source": [
    "import re\n",
    "\n",
    "from bs4 import BeautifulSoup\n",
    "\n",
    "\n",
    "def bs4_extractor(html: str) -> str:\n",
    "    soup = BeautifulSoup(html, \"lxml\")\n",
    "    return re.sub(r\"\\n\\n+\", \"\\n\\n\", soup.text).strip()\n",
    "\n",
    "\n",
    "loader = RecursiveUrlLoader(\"https://docs.python.org/3.9/\", extractor=bs4_extractor)\n",
    "docs = loader.load()\n",
    "print(docs[0].page_content[:200])"
   ]
  },
  {
   "cell_type": "code",
   "execution_count": null,
   "id": "a4c8ed42-7b19-4ef9-9f94-0fa3fd0e6f1d",
   "metadata": {},
   "outputs": [],
   "source": [
    "# This looks much nicer!\n",
    "# 这看起来好多了！\n",
    "\n",
    "# You can similarly pass in a metadata_extractor to customize how Document metadata is extracted from the HTTP response. See the API reference for more on this.\n",
    "# 类似地，您可以传入一个参数来自定义如何从 HTTP 响应中提取文档元数据。有关更多信息，请参阅 API 参考 。\n"
   ]
  },
  {
   "cell_type": "code",
   "execution_count": null,
   "id": "37c5e611-b972-4d40-a1c3-059a1ed1da78",
   "metadata": {},
   "outputs": [],
   "source": []
  },
  {
   "cell_type": "code",
   "execution_count": null,
   "id": "dd77cbfa-5031-4bc6-b6cc-dd28156c3743",
   "metadata": {},
   "outputs": [],
   "source": []
  },
  {
   "cell_type": "code",
   "execution_count": null,
   "id": "53674cb7-c392-4817-b9b1-b0d0b305332c",
   "metadata": {},
   "outputs": [],
   "source": []
  },
  {
   "cell_type": "code",
   "execution_count": null,
   "id": "bed0288e-ae15-4c84-aefd-daf0a9d5130c",
   "metadata": {},
   "outputs": [],
   "source": []
  },
  {
   "cell_type": "code",
   "execution_count": null,
   "id": "5fd1b41e-6180-478f-bfa6-6957eec90c1a",
   "metadata": {},
   "outputs": [],
   "source": []
  },
  {
   "cell_type": "code",
   "execution_count": null,
   "id": "ffdb1d94-c4ac-4f28-9b09-797235c2a49c",
   "metadata": {},
   "outputs": [],
   "source": []
  },
  {
   "cell_type": "code",
   "execution_count": null,
   "id": "0aec8845-50cb-4175-aee6-7cb95685ce75",
   "metadata": {},
   "outputs": [],
   "source": []
  },
  {
   "cell_type": "code",
   "execution_count": null,
   "id": "9e9d187d-2374-4c43-9d93-75bf70d0e543",
   "metadata": {},
   "outputs": [],
   "source": []
  },
  {
   "cell_type": "code",
   "execution_count": null,
   "id": "cda35fa8-d71a-4c1d-a502-6595a2ab9ee8",
   "metadata": {},
   "outputs": [],
   "source": []
  },
  {
   "cell_type": "code",
   "execution_count": null,
   "id": "b9aa2651-d608-4d14-be61-9ca98a46c0df",
   "metadata": {},
   "outputs": [],
   "source": []
  },
  {
   "cell_type": "code",
   "execution_count": null,
   "id": "0f1ff3c8-a521-49ab-8c58-6d28cc02064f",
   "metadata": {},
   "outputs": [],
   "source": []
  },
  {
   "cell_type": "code",
   "execution_count": null,
   "id": "0f26a157-85cd-4fac-bbfb-7059422df9a1",
   "metadata": {},
   "outputs": [],
   "source": []
  },
  {
   "cell_type": "code",
   "execution_count": null,
   "id": "9a7502e3-fbda-41ca-8a67-dcd1fadf671b",
   "metadata": {},
   "outputs": [],
   "source": []
  },
  {
   "cell_type": "code",
   "execution_count": null,
   "id": "78bcdbe3-78fa-4e7d-b2cf-c4d96cdb73a5",
   "metadata": {},
   "outputs": [],
   "source": []
  },
  {
   "cell_type": "code",
   "execution_count": null,
   "id": "7eef2fde-f867-4818-a755-64b244886714",
   "metadata": {},
   "outputs": [],
   "source": []
  },
  {
   "cell_type": "code",
   "execution_count": null,
   "id": "51bda62b-7011-4ca6-8d5b-1b82e579c0f3",
   "metadata": {},
   "outputs": [],
   "source": []
  },
  {
   "cell_type": "code",
   "execution_count": null,
   "id": "c8d30e29-8c4d-4b36-9b9f-e08d8c92a6ab",
   "metadata": {},
   "outputs": [],
   "source": []
  },
  {
   "cell_type": "code",
   "execution_count": null,
   "id": "83e41902-06e5-4c41-92bf-24dc7863ca45",
   "metadata": {},
   "outputs": [],
   "source": []
  },
  {
   "cell_type": "code",
   "execution_count": null,
   "id": "1ef74e33-bbce-4e4e-88e9-a32020fc4715",
   "metadata": {},
   "outputs": [],
   "source": []
  },
  {
   "cell_type": "code",
   "execution_count": null,
   "id": "f589f4e6-0fd7-481a-b6e3-25a923a4b809",
   "metadata": {},
   "outputs": [],
   "source": []
  },
  {
   "cell_type": "code",
   "execution_count": null,
   "id": "0a837fee-42c4-44b9-8450-30864d868c47",
   "metadata": {},
   "outputs": [],
   "source": []
  },
  {
   "cell_type": "code",
   "execution_count": null,
   "id": "0fdea294-29f5-423e-9b06-53a0a1fbbf0a",
   "metadata": {},
   "outputs": [],
   "source": []
  },
  {
   "cell_type": "code",
   "execution_count": null,
   "id": "dac00da8-db3e-4be2-a312-52423e6c20cf",
   "metadata": {},
   "outputs": [],
   "source": []
  },
  {
   "cell_type": "code",
   "execution_count": null,
   "id": "87748d03-30f0-4868-97f9-10636f621619",
   "metadata": {},
   "outputs": [],
   "source": []
  },
  {
   "cell_type": "code",
   "execution_count": null,
   "id": "7f47755d-635a-438a-9a88-36b8fb0509b2",
   "metadata": {},
   "outputs": [],
   "source": []
  },
  {
   "cell_type": "code",
   "execution_count": null,
   "id": "93e35780-fce9-40cf-b79e-8404eb41ef47",
   "metadata": {},
   "outputs": [],
   "source": []
  },
  {
   "cell_type": "code",
   "execution_count": null,
   "id": "e706ac40-f6d3-4dae-ae8e-b911d1972c8a",
   "metadata": {},
   "outputs": [],
   "source": []
  },
  {
   "cell_type": "code",
   "execution_count": null,
   "id": "9bb8c9af-2f0e-412e-8269-8408cabb6d8e",
   "metadata": {},
   "outputs": [],
   "source": []
  },
  {
   "cell_type": "code",
   "execution_count": null,
   "id": "aa66bd13-0df9-4a75-9dbe-1c12ce60e522",
   "metadata": {},
   "outputs": [],
   "source": []
  },
  {
   "cell_type": "code",
   "execution_count": null,
   "id": "c8ee597e-0662-419e-b662-51b65f01c576",
   "metadata": {},
   "outputs": [],
   "source": []
  },
  {
   "cell_type": "code",
   "execution_count": null,
   "id": "3086cb08-d811-4e25-9630-7f1467f73b0d",
   "metadata": {},
   "outputs": [],
   "source": []
  },
  {
   "cell_type": "code",
   "execution_count": null,
   "id": "b6b2011f-3fdb-400e-b14d-48cc37a457ca",
   "metadata": {},
   "outputs": [],
   "source": []
  },
  {
   "cell_type": "code",
   "execution_count": null,
   "id": "5c345c2c-febd-468a-84c1-b20acb770f92",
   "metadata": {},
   "outputs": [],
   "source": []
  },
  {
   "cell_type": "code",
   "execution_count": null,
   "id": "81d6216d-1f9e-4928-84a1-941898753366",
   "metadata": {},
   "outputs": [],
   "source": []
  },
  {
   "cell_type": "code",
   "execution_count": null,
   "id": "97ed9836-2f36-4853-a584-4703fbaa14bb",
   "metadata": {},
   "outputs": [],
   "source": []
  },
  {
   "cell_type": "code",
   "execution_count": null,
   "id": "304b2e0a-aafc-4630-8764-900069fb5a27",
   "metadata": {},
   "outputs": [],
   "source": []
  },
  {
   "cell_type": "code",
   "execution_count": null,
   "id": "0c6faccf-2d14-4c81-b385-3bf581b323f9",
   "metadata": {},
   "outputs": [],
   "source": []
  },
  {
   "cell_type": "code",
   "execution_count": null,
   "id": "f01149df-3763-4aa4-95f8-e55bf9240ac6",
   "metadata": {},
   "outputs": [],
   "source": []
  },
  {
   "cell_type": "code",
   "execution_count": null,
   "id": "c7c234ec-1f1d-4e2f-b303-76cc5e446224",
   "metadata": {},
   "outputs": [],
   "source": []
  },
  {
   "cell_type": "code",
   "execution_count": null,
   "id": "08700a7b-eb57-4290-bedb-7b5ae896f0d5",
   "metadata": {},
   "outputs": [],
   "source": []
  },
  {
   "cell_type": "code",
   "execution_count": null,
   "id": "3a899ed7-8405-45a4-a3ba-1e5dfe086d33",
   "metadata": {},
   "outputs": [],
   "source": []
  },
  {
   "cell_type": "code",
   "execution_count": null,
   "id": "b5e47bb9-e537-414a-af8b-f2349adebd76",
   "metadata": {},
   "outputs": [],
   "source": []
  },
  {
   "cell_type": "code",
   "execution_count": null,
   "id": "9f85e31a-5af9-4801-a6c7-4a93671b132c",
   "metadata": {},
   "outputs": [],
   "source": []
  },
  {
   "cell_type": "code",
   "execution_count": null,
   "id": "cb53364c-bf70-4cf8-a8e1-a833a8c474dd",
   "metadata": {},
   "outputs": [],
   "source": []
  },
  {
   "cell_type": "code",
   "execution_count": null,
   "id": "1e6b8d16-63fe-439a-9f48-c9039ab79bc9",
   "metadata": {},
   "outputs": [],
   "source": []
  },
  {
   "cell_type": "code",
   "execution_count": null,
   "id": "8abd3171-0656-46d6-b79b-b3c2c5c0cca9",
   "metadata": {},
   "outputs": [],
   "source": []
  },
  {
   "cell_type": "code",
   "execution_count": null,
   "id": "93765ad9-83f5-479a-86a2-442cdeff1a36",
   "metadata": {},
   "outputs": [],
   "source": []
  },
  {
   "cell_type": "code",
   "execution_count": null,
   "id": "51b33796-6907-453c-8290-4e34577afc6e",
   "metadata": {},
   "outputs": [],
   "source": []
  },
  {
   "cell_type": "code",
   "execution_count": null,
   "id": "29ffe55b-a774-4ff1-9bf5-3ab682e85ab7",
   "metadata": {},
   "outputs": [],
   "source": []
  },
  {
   "cell_type": "code",
   "execution_count": null,
   "id": "81c5c4c7-7bb4-41c8-82b5-9815d6f95d1e",
   "metadata": {},
   "outputs": [],
   "source": []
  },
  {
   "cell_type": "code",
   "execution_count": null,
   "id": "f78263a3-8d4a-4a2d-ad21-3946b190351b",
   "metadata": {},
   "outputs": [],
   "source": []
  },
  {
   "cell_type": "code",
   "execution_count": null,
   "id": "e84c5601-137d-48da-bbc9-51aaef075df5",
   "metadata": {},
   "outputs": [],
   "source": []
  },
  {
   "cell_type": "code",
   "execution_count": null,
   "id": "4f164000-7379-480f-90cd-4409185e9228",
   "metadata": {},
   "outputs": [],
   "source": []
  },
  {
   "cell_type": "code",
   "execution_count": null,
   "id": "804a6274-16e6-47c0-ba1f-50e12398fe67",
   "metadata": {},
   "outputs": [],
   "source": []
  },
  {
   "cell_type": "code",
   "execution_count": null,
   "id": "8f06e113-0fb2-4032-b6c2-41f8cfc89767",
   "metadata": {},
   "outputs": [],
   "source": []
  },
  {
   "cell_type": "code",
   "execution_count": null,
   "id": "cc9591a2-11f7-4d0e-b6ca-85efd071b64b",
   "metadata": {},
   "outputs": [],
   "source": []
  },
  {
   "cell_type": "code",
   "execution_count": null,
   "id": "c6335282-4159-47c8-844c-4383b920170b",
   "metadata": {},
   "outputs": [],
   "source": []
  },
  {
   "cell_type": "code",
   "execution_count": null,
   "id": "deb3e089-8fc3-4617-a727-2b0abf200785",
   "metadata": {},
   "outputs": [],
   "source": []
  },
  {
   "cell_type": "code",
   "execution_count": null,
   "id": "7ce32314-b821-4cc9-9c4c-4a7c1f3efe18",
   "metadata": {},
   "outputs": [],
   "source": []
  },
  {
   "cell_type": "code",
   "execution_count": null,
   "id": "c109f123-c8fd-4ffc-8132-727efb0ce990",
   "metadata": {},
   "outputs": [],
   "source": []
  },
  {
   "cell_type": "code",
   "execution_count": null,
   "id": "6ef24578-76c8-45b7-b723-f462688901b9",
   "metadata": {},
   "outputs": [],
   "source": []
  },
  {
   "cell_type": "code",
   "execution_count": null,
   "id": "63a494a8-f645-4c68-b42a-3deb0b2ac1dd",
   "metadata": {},
   "outputs": [],
   "source": []
  }
 ],
 "metadata": {
  "kernelspec": {
   "display_name": "Python 3 (ipykernel)",
   "language": "python",
   "name": "python3"
  },
  "language_info": {
   "codemirror_mode": {
    "name": "ipython",
    "version": 3
   },
   "file_extension": ".py",
   "mimetype": "text/x-python",
   "name": "python",
   "nbconvert_exporter": "python",
   "pygments_lexer": "ipython3",
   "version": "3.12.11"
  }
 },
 "nbformat": 4,
 "nbformat_minor": 5
}
