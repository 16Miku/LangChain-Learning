{
 "cells": [
  {
   "cell_type": "code",
   "execution_count": null,
   "id": "7a770dfb-a220-42aa-bbc1-4fe7af7b4e85",
   "metadata": {},
   "outputs": [],
   "source": [
    "\n",
    "\n",
    "\n",
    "# 如何实现对某网站内容作为知识库，实现问答机器人\n",
    "\n",
    "\n"
   ]
  },
  {
   "cell_type": "code",
   "execution_count": null,
   "id": "b7d81101-9eb3-473b-9cf2-1dc0d526d696",
   "metadata": {},
   "outputs": [],
   "source": []
  },
  {
   "cell_type": "code",
   "execution_count": 7,
   "id": "5b13c2b3-76ac-4c95-814d-023179b307bd",
   "metadata": {},
   "outputs": [],
   "source": [
    "from langchain_community.document_loaders import RecursiveUrlLoader\n",
    "\n",
    "loader = RecursiveUrlLoader(\"https://python.langchain.com/docs/integrations/document_loaders/\", max_depth=1)\n",
    "documents = loader.load()\n"
   ]
  },
  {
   "cell_type": "code",
   "execution_count": 8,
   "id": "71562313-c5f2-4630-884a-15a8b199d3af",
   "metadata": {},
   "outputs": [],
   "source": [
    "from langchain.text_splitter import RecursiveCharacterTextSplitter\n",
    "\n",
    "text_splitter = RecursiveCharacterTextSplitter(chunk_size=1000, chunk_overlap=200)\n",
    "all_splits = text_splitter.split_documents(documents)\n"
   ]
  },
  {
   "cell_type": "code",
   "execution_count": 9,
   "id": "62e47269-2b8c-4333-9afa-04bcb76c5f65",
   "metadata": {},
   "outputs": [],
   "source": [
    "# pip install -qU langchain-google-genai"
   ]
  },
  {
   "cell_type": "code",
   "execution_count": 10,
   "id": "2aac76bf-1e59-43de-a092-55b4f43efb1e",
   "metadata": {},
   "outputs": [],
   "source": [
    "import getpass\n",
    "import os\n",
    "\n",
    "if not os.environ.get(\"GOOGLE_API_KEY\"):\n",
    "  os.environ[\"GOOGLE_API_KEY\"] = getpass.getpass(\"Enter API key for Google Gemini: \")\n",
    "\n",
    "from langchain_google_genai import GoogleGenerativeAIEmbeddings\n",
    "\n",
    "embeddings = GoogleGenerativeAIEmbeddings(model=\"models/embedding-001\")"
   ]
  },
  {
   "cell_type": "code",
   "execution_count": 11,
   "id": "96ad3f57-86bf-477e-a12d-7631db49f784",
   "metadata": {},
   "outputs": [],
   "source": [
    "from langchain_core.vectorstores import InMemoryVectorStore\n",
    "\n",
    "vector_store = InMemoryVectorStore(embeddings)"
   ]
  },
  {
   "cell_type": "code",
   "execution_count": 12,
   "id": "b8162f34-d6c0-4fae-b3c3-c79ec401058d",
   "metadata": {},
   "outputs": [],
   "source": [
    "document_ids = vector_store.add_documents(documents=all_splits)"
   ]
  },
  {
   "cell_type": "code",
   "execution_count": null,
   "id": "575dc46f-8e31-45f7-b0cc-13816a2ea811",
   "metadata": {},
   "outputs": [],
   "source": []
  },
  {
   "cell_type": "code",
   "execution_count": null,
   "id": "fb81cef7-487a-42da-9f1a-6e8c7e2c336c",
   "metadata": {},
   "outputs": [],
   "source": []
  },
  {
   "cell_type": "code",
   "execution_count": null,
   "id": "c16399fb-9354-47ac-bafc-ea16b28d10d9",
   "metadata": {},
   "outputs": [],
   "source": []
  },
  {
   "cell_type": "code",
   "execution_count": 14,
   "id": "7c99f482-f40d-4239-b1d9-63ff7602faa1",
   "metadata": {},
   "outputs": [
    {
     "data": {
      "text/plain": [
       "[Document(id='0e358bf9-b9c4-4b8b-be02-f04206f3af33', metadata={'source': 'https://python.langchain.com/docs/integrations/document_loaders/', 'content_type': 'text/html; charset=utf-8', 'title': 'Document loaders | 🦜️🔗 LangChain', 'description': 'DocumentLoaders load data into the standard LangChain Document format.', 'language': 'en'}, page_content='<!-- -->\\n<p>DocumentLoaders load data into the standard LangChain Document format.</p>\\n<p>Each DocumentLoader has its own specific parameters, but they can all be invoked in the same way with the .load method.\\nAn example use case is as follows:</p>')]"
      ]
     },
     "execution_count": 14,
     "metadata": {},
     "output_type": "execute_result"
    }
   ],
   "source": [
    "retriever = vector_store.as_retriever(\n",
    "    search_type=\"mmr\",\n",
    "    search_kwargs={\"k\": 1, \"fetch_k\": 2, \"lambda_mult\": 0.5},\n",
    ")\n",
    "retriever.invoke(\"Document Loader\")"
   ]
  },
  {
   "cell_type": "code",
   "execution_count": 21,
   "id": "cf8860dc-64f9-4c34-a8c7-bca737a896a6",
   "metadata": {},
   "outputs": [],
   "source": [
    "import getpass\n",
    "import os\n",
    "\n",
    "if not os.environ.get(\"GOOGLE_API_KEY\"):\n",
    "  os.environ[\"GOOGLE_API_KEY\"] = getpass.getpass(\"Enter API key for Google Gemini: \")\n",
    "\n",
    "from langchain.chat_models import init_chat_model\n",
    "\n",
    "model = init_chat_model(\"gemini-2.0-flash\", model_provider=\"google_genai\")"
   ]
  },
  {
   "cell_type": "code",
   "execution_count": null,
   "id": "84289cca-89bb-45b8-9680-9215d092564b",
   "metadata": {},
   "outputs": [],
   "source": [
    "# 参考文档：\n",
    "# https://python.langchain.com/api_reference/langchain/chains/langchain.chains.retrieval.create_retrieval_chain.html\n"
   ]
  },
  {
   "cell_type": "code",
   "execution_count": 23,
   "id": "c1e0ebd2-bffa-4024-aa60-c690aa449bc7",
   "metadata": {},
   "outputs": [
    {
     "data": {
      "text/plain": [
       "{'input': '...',\n",
       " 'context': [Document(id='53c96d92-f701-4a12-b4ae-f10af675e79f', metadata={'source': 'https://python.langchain.com/docs/integrations/document_loaders/', 'content_type': 'text/html; charset=utf-8', 'title': 'Document loaders | 🦜️🔗 LangChain', 'description': 'DocumentLoaders load data into the standard LangChain Document format.', 'language': 'en'}, page_content='</body>\\n</html>')],\n",
       " 'answer': 'I am sorry, but I cannot answer any questions based on the context you provided because the context is empty. It only contains the basic HTML structure `<html> <body> </body> </html>` without any actual content.'}"
      ]
     },
     "execution_count": 23,
     "metadata": {},
     "output_type": "execute_result"
    }
   ],
   "source": [
    "from langchain.chains.combine_documents import create_stuff_documents_chain\n",
    "from langchain.chains import create_retrieval_chain\n",
    "from langchain import hub\n",
    "\n",
    "\n",
    "retrieval_qa_chat_prompt = hub.pull(\"langchain-ai/retrieval-qa-chat\")\n",
    "\n",
    "\n",
    "combine_docs_chain = create_stuff_documents_chain(\n",
    "    model, retrieval_qa_chat_prompt\n",
    ")\n",
    "\n",
    "retrieval_chain = create_retrieval_chain(retriever, combine_docs_chain)\n",
    "\n",
    "retrieval_chain.invoke({\"input\": \"...\"})"
   ]
  },
  {
   "cell_type": "code",
   "execution_count": 25,
   "id": "087e5230-e145-47d3-8fff-ac8ce78d5320",
   "metadata": {},
   "outputs": [
    {
     "name": "stdout",
     "output_type": "stream",
     "text": [
      "根据提供的上下文，我能检索到以下关于Document Loader的知识：\n",
      "\n",
      "*   存在一个链接到 `/docs/integrations/document_loaders/pandas_dataframe/`，表明有关于使用 Pandas DataFrame 作为 Document Loader 的信息。\n",
      "*   存在一个 `/docs/integrations/document_loaders/parsers/azure_openai_whisper_parser/` 链接，暗示有关于 Document Loader 的解析器（parsers）的信息，特别是与 Azure OpenAI Whisper 相关。\n",
      "*   存在一个链接到 `/docs/integrations/document_loaders/pdfminer/`，表明有关于使用 PDFMinerLoader 作为 Document Loader 的信息。\n"
     ]
    }
   ],
   "source": [
    "query = \"关于Document Loader你能检索到哪些知识？\"\n",
    "response = retrieval_chain.invoke({\"input\": query})\n",
    "print(response[\"answer\"])\n"
   ]
  },
  {
   "cell_type": "code",
   "execution_count": 28,
   "id": "dc8fa7c9-4eee-4b75-8342-b71b2f56a24f",
   "metadata": {},
   "outputs": [
    {
     "name": "stdout",
     "output_type": "stream",
     "text": [
      "content='好的，关于 Document Loader，我能检索到的知识点主要包括以下几个方面：\\n\\n**1. 什么是 Document Loader？**\\n\\n*   **定义：** Document Loader 是一种工具/库/模块，用于从各种来源加载文档数据，并将其转换为统一的格式，以便后续处理，例如文本分析、信息检索、机器学习等。\\n*   **作用：**\\n    *   **数据提取：** 从不同类型的文档中提取文本内容。\\n    *   **数据转换：** 将提取的文本转换为统一的格式，例如字符串或文档对象。\\n    *   **数据预处理：**  有些 Document Loader 可能会进行一些基本的预处理，例如去除空格、换行符等。\\n*   **重要性：** Document Loader 是许多 NLP (自然语言处理) 和数据分析流程中的关键第一步，因为它可以将原始文档数据转换为可用的格式。\\n\\n**2. Document Loader 的类型和支持的文档格式：**\\n\\nDocument Loader 可以支持多种文档格式，常见的包括：\\n\\n*   **文本文件：**\\n    *   `.txt` (纯文本文件)\\n    *   `.csv` (逗号分隔值文件)\\n    *   `.md` (Markdown 文件)\\n*   **办公文档：**\\n    *   `.pdf` (PDF 文件)\\n    *   `.docx` (Microsoft Word 文件)\\n    *   `.xlsx` (Microsoft Excel 文件)\\n    *   `.pptx` (Microsoft PowerPoint 文件)\\n    *   `.odt` (OpenDocument Text)\\n    *   `.ods` (OpenDocument Spreadsheet)\\n    *   `.odp` (OpenDocument Presentation)\\n*   **网页：**\\n    *   `.html` (HTML 文件)\\n*   **代码文件：**\\n    *   `.py` (Python 文件)\\n    *   `.java` (Java 文件)\\n    *   `.js` (JavaScript 文件)\\n    *   `.c` (C 文件)\\n    *   `.cpp` (C++ 文件)\\n*   **其他格式：**\\n    *   `.json` (JSON 文件)\\n    *   `.xml` (XML 文件)\\n    *   图片 (需要 OCR 技术，例如 `.jpg`, `.png`)\\n    *   数据库 (例如 MySQL, PostgreSQL)\\n\\n**3. 常见的 Document Loader 库/工具：**\\n\\n*   **LangChain:**  一个流行的框架，提供了丰富的 Document Loader 实现，支持多种文档格式和数据源。  LangChain 的 Document Loader 模块非常灵活，可以轻松扩展以支持新的文档类型。\\n*   **LlamaIndex:** 另一个强大的框架，专注于构建基于大型语言模型的应用程序。它也提供了 Document Loader 功能，用于加载和索引数据。\\n*   **Unstructured:**  专门用于处理非结构化数据的库，提供了强大的文档解析和提取功能。\\n*   **Beautiful Soup (结合 requests):**  用于从 HTML 和 XML 文件中提取数据的 Python 库。通常与 `requests` 库一起使用来获取网页内容。\\n*   **PyPDF2 / PyMuPDF:**  用于处理 PDF 文件的 Python 库。\\n*   **python-docx:**  用于处理 Microsoft Word 文件的 Python 库。\\n*   **openpyxl:**  用于处理 Microsoft Excel 文件的 Python 库。\\n*   **csv 模块:**  Python 内置的用于处理 CSV 文件的模块。\\n*   **json 模块:**  Python 内置的用于处理 JSON 文件的模块。\\n*   **xml.etree.ElementTree:** Python 内置的用于处理 XML 文件的模块。\\n\\n**4. Document Loader 的使用方法 (以 LangChain 为例)：**\\n\\n```python\\nfrom langchain.document_loaders import TextLoader\\n\\n# 加载文本文件\\nloader = TextLoader(\"my_document.txt\")\\ndocuments = loader.load()\\n\\n# documents 是一个 Document 对象的列表，每个 Document 对象包含：\\n# - page_content: 文档的文本内容\\n# - metadata:  文档的元数据，例如文件路径、创建时间等\\n```\\n\\n不同类型的 Document Loader 有不同的初始化参数和方法，具体用法请参考对应库的文档。\\n\\n**5. Document Loader 的高级用法：**\\n\\n*   **自定义 Document Loader:**  可以根据需要创建自定义的 Document Loader，以处理特定的文档格式或数据源。\\n*   **数据清洗和预处理:**  可以在 Document Loader 中集成数据清洗和预处理步骤，例如去除 HTML 标签、转换编码、删除停用词等。\\n*   **元数据提取:**  可以从文档中提取更多的元数据，例如作者、创建日期、修改日期等，以便后续分析和检索。\\n*   **分块 (Chunking):**  将大型文档分割成更小的块，以便更好地进行处理和索引。LangChain 和 LlamaIndex 都提供了分块功能。\\n\\n**6. 选择合适的 Document Loader：**\\n\\n选择合适的 Document Loader 取决于以下因素：\\n\\n*   **文档格式：**  选择支持所需文档格式的 Loader。\\n*   **性能：**  某些 Loader 在处理大型文档时可能比其他 Loader 更快。\\n*   **功能：**  某些 Loader 提供了更高级的功能，例如元数据提取和数据清洗。\\n*   **易用性：**  选择易于使用和集成的 Loader。\\n*   **依赖：**  考虑 Loader 的依赖关系，避免引入不必要的依赖。\\n\\n**7. 潜在的挑战：**\\n\\n*   **复杂文档格式：** 处理复杂的文档格式（例如包含表格、图像和复杂布局的 PDF 文件）可能具有挑战性。\\n*   **编码问题：**  确保正确处理文档的编码，以避免乱码。\\n*   **性能问题：**  加载和解析大型文档可能需要很长时间。\\n*   **数据质量：**  从文档中提取的数据可能包含错误或不一致之处，需要进行清洗和验证。\\n\\n**总结：**\\n\\nDocument Loader 是一个强大的工具，可以帮助我们将各种文档数据转换为可用的格式，从而为后续的 NLP 和数据分析任务奠定基础。  了解不同类型的 Document Loader、它们的功能和使用方法，可以帮助我们更有效地处理文档数据。\\n\\n希望这些信息对您有所帮助！ 如果您有任何其他问题，请随时提出。' additional_kwargs={} response_metadata={'prompt_feedback': {'block_reason': 0, 'safety_ratings': []}, 'finish_reason': 'STOP', 'model_name': 'gemini-2.0-flash', 'safety_ratings': []} id='run--f7e90626-b40e-4e78-98d7-8afc1b4d28c3-0' usage_metadata={'input_tokens': 9, 'output_tokens': 1352, 'total_tokens': 1361, 'input_token_details': {'cache_read': 0}}\n"
     ]
    }
   ],
   "source": [
    "query = \"关于Document Loader你能检索到哪些知识？\"\n",
    "response = model.invoke(query)\n",
    "print(response)\n"
   ]
  },
  {
   "cell_type": "code",
   "execution_count": null,
   "id": "d321ac71-58f6-446d-a3f4-b20a8b88848c",
   "metadata": {},
   "outputs": [],
   "source": []
  },
  {
   "cell_type": "code",
   "execution_count": null,
   "id": "4dc324a9-8ebe-4464-94ef-de6d065bbb9d",
   "metadata": {},
   "outputs": [],
   "source": []
  },
  {
   "cell_type": "code",
   "execution_count": null,
   "id": "0b3bdb73-dbcb-483e-858a-079261746ad1",
   "metadata": {},
   "outputs": [],
   "source": []
  },
  {
   "cell_type": "code",
   "execution_count": null,
   "id": "e52819d8-cdda-4521-b498-d666167106a3",
   "metadata": {},
   "outputs": [],
   "source": []
  },
  {
   "cell_type": "code",
   "execution_count": null,
   "id": "3b46aa61-24c3-4203-aa0f-772d03a82bc5",
   "metadata": {},
   "outputs": [],
   "source": []
  },
  {
   "cell_type": "code",
   "execution_count": null,
   "id": "19524a8c-0249-4552-91ab-237501e83e6d",
   "metadata": {},
   "outputs": [],
   "source": []
  },
  {
   "cell_type": "code",
   "execution_count": null,
   "id": "3606c4e5-9801-4eb5-a0f6-297b0837ff00",
   "metadata": {},
   "outputs": [],
   "source": []
  },
  {
   "cell_type": "code",
   "execution_count": null,
   "id": "b5cd49d7-d4f3-44e1-ae69-543416a2633a",
   "metadata": {},
   "outputs": [],
   "source": []
  },
  {
   "cell_type": "code",
   "execution_count": null,
   "id": "73a5c423-6c10-4359-aaa9-8a6fca327823",
   "metadata": {},
   "outputs": [],
   "source": []
  },
  {
   "cell_type": "code",
   "execution_count": null,
   "id": "23e77a9b-f1f1-4aef-a115-fd8df407b94b",
   "metadata": {},
   "outputs": [],
   "source": []
  },
  {
   "cell_type": "code",
   "execution_count": null,
   "id": "b8aa1774-64ca-4783-84d2-8d0687ab1359",
   "metadata": {},
   "outputs": [],
   "source": []
  },
  {
   "cell_type": "code",
   "execution_count": null,
   "id": "a117265c-eaf9-4b22-ad9f-2baf359b9c01",
   "metadata": {},
   "outputs": [],
   "source": []
  },
  {
   "cell_type": "code",
   "execution_count": null,
   "id": "8e9a70e4-c284-4b49-abdc-3a5c4c42ef62",
   "metadata": {},
   "outputs": [],
   "source": []
  },
  {
   "cell_type": "code",
   "execution_count": null,
   "id": "a059358f-6cb9-48be-833f-1a67f986d01e",
   "metadata": {},
   "outputs": [],
   "source": []
  },
  {
   "cell_type": "code",
   "execution_count": null,
   "id": "3b382087-fdcb-4474-b8f0-f4c2477fad55",
   "metadata": {},
   "outputs": [],
   "source": []
  },
  {
   "cell_type": "code",
   "execution_count": null,
   "id": "e26a2dd4-90bb-4bee-87cb-09b495b53ca7",
   "metadata": {},
   "outputs": [],
   "source": []
  },
  {
   "cell_type": "code",
   "execution_count": null,
   "id": "f19d0f9c-b50f-4660-9e7d-53d9adacec94",
   "metadata": {},
   "outputs": [],
   "source": []
  },
  {
   "cell_type": "code",
   "execution_count": null,
   "id": "e38b66ef-3616-4027-b4dd-64a6f6fb63b5",
   "metadata": {},
   "outputs": [],
   "source": []
  },
  {
   "cell_type": "code",
   "execution_count": null,
   "id": "a8a85ee2-bdd7-404e-a6a0-6621260c7f5c",
   "metadata": {},
   "outputs": [],
   "source": []
  },
  {
   "cell_type": "code",
   "execution_count": null,
   "id": "165b6c98-f16b-41b1-915c-cd26321ad67f",
   "metadata": {},
   "outputs": [],
   "source": []
  },
  {
   "cell_type": "code",
   "execution_count": null,
   "id": "62a8daea-7d87-4c56-adcb-1dbad81f0c80",
   "metadata": {},
   "outputs": [],
   "source": []
  },
  {
   "cell_type": "code",
   "execution_count": null,
   "id": "52ba0eb4-470b-47e7-aa83-3856bf1ed151",
   "metadata": {},
   "outputs": [],
   "source": []
  },
  {
   "cell_type": "code",
   "execution_count": null,
   "id": "9672a153-8309-4eea-8b72-b264408efbc8",
   "metadata": {},
   "outputs": [],
   "source": []
  },
  {
   "cell_type": "code",
   "execution_count": null,
   "id": "a855e047-c2ca-458e-b2f4-36d56339266b",
   "metadata": {},
   "outputs": [],
   "source": []
  },
  {
   "cell_type": "code",
   "execution_count": null,
   "id": "ba66bc2c-b999-4c49-8f8d-8d66489ceb14",
   "metadata": {},
   "outputs": [],
   "source": []
  },
  {
   "cell_type": "code",
   "execution_count": null,
   "id": "804df85f-164e-4023-af27-9a41c901b171",
   "metadata": {},
   "outputs": [],
   "source": []
  },
  {
   "cell_type": "code",
   "execution_count": null,
   "id": "aa8ce717-fc2d-4bda-a3a0-ae27d6197c65",
   "metadata": {},
   "outputs": [],
   "source": []
  },
  {
   "cell_type": "code",
   "execution_count": null,
   "id": "041ff45c-7527-46ab-a6be-8ac8dc8e7274",
   "metadata": {},
   "outputs": [],
   "source": []
  },
  {
   "cell_type": "code",
   "execution_count": null,
   "id": "c176dc1d-89df-4056-a2c1-3b36e0652f47",
   "metadata": {},
   "outputs": [],
   "source": []
  },
  {
   "cell_type": "code",
   "execution_count": null,
   "id": "bb21ce6a-af1e-42bb-9037-348c2ec00a37",
   "metadata": {},
   "outputs": [],
   "source": []
  },
  {
   "cell_type": "code",
   "execution_count": null,
   "id": "d75cb8cf-6b66-4046-960f-df5c0ceef889",
   "metadata": {},
   "outputs": [],
   "source": []
  },
  {
   "cell_type": "code",
   "execution_count": null,
   "id": "1e23b42d-a302-4ca1-a86d-b0bd5fd6acc6",
   "metadata": {},
   "outputs": [],
   "source": []
  }
 ],
 "metadata": {
  "kernelspec": {
   "display_name": "Python 3 (ipykernel)",
   "language": "python",
   "name": "python3"
  },
  "language_info": {
   "codemirror_mode": {
    "name": "ipython",
    "version": 3
   },
   "file_extension": ".py",
   "mimetype": "text/x-python",
   "name": "python",
   "nbconvert_exporter": "python",
   "pygments_lexer": "ipython3",
   "version": "3.12.11"
  }
 },
 "nbformat": 4,
 "nbformat_minor": 5
}
