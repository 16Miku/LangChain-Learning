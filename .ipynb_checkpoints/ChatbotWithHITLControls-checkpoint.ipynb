{
 "cells": [
  {
   "cell_type": "code",
   "execution_count": 1,
   "id": "c836f56d-b937-4fa3-a0bb-bc8bef1e013a",
   "metadata": {},
   "outputs": [],
   "source": [
    "\n",
    "# LangGraph官方文档教程：\n",
    "# https://langchain-ai.github.io/langgraph/tutorials/get-started/4-human-in-the-loop/\n",
    "\n"
   ]
  },
  {
   "cell_type": "code",
   "execution_count": 2,
   "id": "9884ee67-e902-4edc-a44a-f2005766ab12",
   "metadata": {},
   "outputs": [],
   "source": [
    "# Add human-in-the-loop controls¶\n",
    "# 添加人机交互控制 ¶\n",
    "# Agents can be unreliable and may need human input to successfully accomplish tasks. Similarly, for some actions, you may want to require human approval before running to ensure that everything is running as intended.\n",
    "# 代理可能不可靠，可能需要人工输入才能成功完成任务。同样，对于某些操作，您可能需要在运行前获得人工批准，以确保一切按预期运行。\n",
    "\n",
    "# LangGraph's persistence layer supports human-in-the-loop workflows, allowing execution to pause and resume based on user feedback. The primary interface to this functionality is the interrupt function. Calling interrupt inside a node will pause execution. Execution can be resumed, together with new input from a human, by passing in a Command. interrupt is ergonomically similar to Python's built-in input(), with some caveats.\n",
    "# LangGraph 的持久层支持人机交互工作流，允许根据用户反馈暂停和恢复执行。此功能的主要接口是 interrupt 函数。在节点内部调用 interrupt 将暂停执行。可以通过传入 Command 来 interrupt 执行，并接收新的人工输入。interrupt 在人机工程学上类似于 Python 的内置 input() ， 但也有一些注意事项 。\n"
   ]
  },
  {
   "cell_type": "code",
   "execution_count": 3,
   "id": "15eb2963-abb4-4bd6-ab8c-9ad5fae39ab4",
   "metadata": {},
   "outputs": [],
   "source": [
    "# Note  笔记\n",
    "\n",
    "# This tutorial builds on Add memory.\n",
    "# 本教程以 “添加内存” 为基础。"
   ]
  },
  {
   "cell_type": "code",
   "execution_count": 4,
   "id": "e23455f1-0fcf-4b31-a45b-97a0e3303de8",
   "metadata": {},
   "outputs": [],
   "source": [
    "# 1. Add the human_assistance tool¶\n",
    "# 1. 添加 human_assistance 工具 ¶\n",
    "# Starting with the existing code from the Add memory to the chatbot tutorial, add the human_assistance tool to the chatbot. This tool uses interrupt to receive information from a human.\n",
    "# 从 “为聊天机器人添加内存”教程中的现有代码开始，将 human_assistance 工具添加到聊天机器人。此工具使用 interrupt 来接收来自人类的信息。\n",
    "\n",
    "# Let's first select a chat model:\n",
    "# 我们先选择一个聊天模型：\n"
   ]
  },
  {
   "cell_type": "code",
   "execution_count": 5,
   "id": "874135f0-162c-4cbd-8972-a284d63e7b27",
   "metadata": {},
   "outputs": [],
   "source": [
    "# pip install -U \"langchain[google-genai]\""
   ]
  },
  {
   "cell_type": "code",
   "execution_count": 6,
   "id": "8626aa4b-652e-4725-8e7a-1042819bc09e",
   "metadata": {},
   "outputs": [],
   "source": [
    "import getpass\n",
    "import os\n",
    "from langchain.chat_models import init_chat_model\n",
    "\n",
    "if not os.environ.get(\"GOOGLE_API_KEY\"):\n",
    "  os.environ[\"GOOGLE_API_KEY\"] = getpass.getpass(\"Enter API key for Google Gemini: \")\n",
    "\n",
    "llm = init_chat_model(\"google_genai:gemini-2.0-flash\")"
   ]
  },
  {
   "cell_type": "code",
   "execution_count": 7,
   "id": "88754676-ef7c-4e44-9ae4-75cffeba9d57",
   "metadata": {},
   "outputs": [],
   "source": [
    "# We can now incorporate it into our StateGraph with an additional tool:\n",
    "# 我们现在可以使用附加工具将其合并到我们的 StateGraph 中：\n"
   ]
  },
  {
   "cell_type": "code",
   "execution_count": 8,
   "id": "47415553-39aa-4bab-91db-f431c19615a4",
   "metadata": {},
   "outputs": [
    {
     "data": {
      "text/plain": [
       "<langgraph.graph.state.StateGraph at 0x16f57408910>"
      ]
     },
     "execution_count": 8,
     "metadata": {},
     "output_type": "execute_result"
    }
   ],
   "source": [
    "from typing import Annotated\n",
    "\n",
    "from langchain_tavily import TavilySearch\n",
    "from langchain_core.tools import tool\n",
    "from typing_extensions import TypedDict\n",
    "\n",
    "from langgraph.checkpoint.memory import MemorySaver\n",
    "from langgraph.graph import StateGraph, START, END\n",
    "from langgraph.graph.message import add_messages\n",
    "from langgraph.prebuilt import ToolNode, tools_condition\n",
    "\n",
    "from langgraph.types import Command, interrupt\n",
    "\n",
    "class State(TypedDict):\n",
    "    messages: Annotated[list, add_messages]\n",
    "\n",
    "graph_builder = StateGraph(State)\n",
    "\n",
    "@tool\n",
    "def human_assistance(query: str) -> str:\n",
    "    \"\"\"Request assistance from a human.\"\"\"\n",
    "    human_response = interrupt({\"query\": query})\n",
    "    return human_response[\"data\"]\n",
    "\n",
    "tool = TavilySearch(max_results=2)\n",
    "tools = [tool, human_assistance]\n",
    "llm_with_tools = llm.bind_tools(tools)\n",
    "\n",
    "def chatbot(state: State):\n",
    "    message = llm_with_tools.invoke(state[\"messages\"])\n",
    "    # Because we will be interrupting during tool execution,\n",
    "    # we disable parallel tool calling to avoid repeating any\n",
    "    # tool invocations when we resume.\n",
    "    assert len(message.tool_calls) <= 1\n",
    "    return {\"messages\": [message]}\n",
    "\n",
    "graph_builder.add_node(\"chatbot\", chatbot)\n",
    "\n",
    "tool_node = ToolNode(tools=tools)\n",
    "graph_builder.add_node(\"tools\", tool_node)\n",
    "\n",
    "graph_builder.add_conditional_edges(\n",
    "    \"chatbot\",\n",
    "    tools_condition,\n",
    ")\n",
    "graph_builder.add_edge(\"tools\", \"chatbot\")\n",
    "graph_builder.add_edge(START, \"chatbot\")"
   ]
  },
  {
   "cell_type": "code",
   "execution_count": 9,
   "id": "e6d92165-b8fe-45a4-89f2-167a391b76d1",
   "metadata": {},
   "outputs": [],
   "source": [
    "# Tip  提示\n",
    "\n",
    "# For more information and examples of human-in-the-loop workflows, see Human-in-the-loop.\n",
    "# 有关人机交互工作流程的更多信息和示例，请参阅人机交互 。\n",
    "\n",
    "# https://langchain-ai.github.io/langgraph/concepts/human_in_the_loop/\n",
    "\n"
   ]
  },
  {
   "cell_type": "code",
   "execution_count": 10,
   "id": "df311dad-8994-4a60-ba77-c22901bcc8f2",
   "metadata": {},
   "outputs": [],
   "source": [
    "# 2. Compile the graph¶\n",
    "# 2. 编译图表 ¶\n",
    "# We compile the graph with a checkpointer, as before:\n",
    "# 我们使用检查点来编译图表，就像之前一样：\n"
   ]
  },
  {
   "cell_type": "code",
   "execution_count": 11,
   "id": "46286202-e26d-473f-990b-9d9bcda930d4",
   "metadata": {},
   "outputs": [],
   "source": [
    "memory = MemorySaver()\n",
    "\n",
    "graph = graph_builder.compile(checkpointer=memory)"
   ]
  },
  {
   "cell_type": "code",
   "execution_count": 12,
   "id": "19eb75b5-032e-4c5c-a816-9eb9a80a59e6",
   "metadata": {},
   "outputs": [],
   "source": [
    "# 3. Visualize the graph (optional)¶\n",
    "# 3. 可视化图表（可选） ¶\n",
    "# Visualizing the graph, you get the same layout as before – just with the added tool!\n",
    "# 通过可视化图表，您可以获得与以前相同的布局 - 只需添加工具！\n"
   ]
  },
  {
   "cell_type": "code",
   "execution_count": 13,
   "id": "d2164603-ca6f-4e68-a0bf-b1175008e56a",
   "metadata": {},
   "outputs": [
    {
     "data": {
      "image/png": "[encoded data removed]",
      "text/plain": [
       "<IPython.core.display.Image object>"
      ]
     },
     "metadata": {},
     "output_type": "display_data"
    }
   ],
   "source": [
    "from IPython.display import Image, display\n",
    "\n",
    "try:\n",
    "    display(Image(graph.get_graph().draw_mermaid_png()))\n",
    "except Exception:\n",
    "    # This requires some extra dependencies and is optional\n",
    "    pass"
   ]
  },
  {
   "cell_type": "code",
   "execution_count": 14,
   "id": "6e0750e0-367a-41a4-b5b8-77d25706cfe0",
   "metadata": {},
   "outputs": [],
   "source": [
    "# 4. Prompt the chatbot¶\n",
    "# 4. 提示聊天机器人 ¶\n",
    "# Now, prompt the chatbot with a question that will engage the new human_assistance tool:\n",
    "# 现在，向聊天机器人提出一个问题，该问题将使用新的 human_assistance 工具：\n"
   ]
  },
  {
   "cell_type": "code",
   "execution_count": 15,
   "id": "5f18f4d4-a69c-4051-98fa-d771efba0acd",
   "metadata": {},
   "outputs": [
    {
     "name": "stdout",
     "output_type": "stream",
     "text": [
      "================================\u001b[1m Human Message \u001b[0m=================================\n",
      "\n",
      "I need some expert guidance for building an AI agent. Could you request assistance for me?\n",
      "==================================\u001b[1m Ai Message \u001b[0m==================================\n",
      "Tool Calls:\n",
      "  human_assistance (3fcd4842-0637-479f-9a7a-38c25e47f72a)\n",
      " Call ID: 3fcd4842-0637-479f-9a7a-38c25e47f72a\n",
      "  Args:\n",
      "    query: I need expert guidance on building an AI agent.\n"
     ]
    }
   ],
   "source": [
    "user_input = \"I need some expert guidance for building an AI agent. Could you request assistance for me?\"\n",
    "config = {\"configurable\": {\"thread_id\": \"1\"}}\n",
    "\n",
    "events = graph.stream(\n",
    "    {\"messages\": [{\"role\": \"user\", \"content\": user_input}]},\n",
    "    config,\n",
    "    stream_mode=\"values\",\n",
    ")\n",
    "for event in events:\n",
    "    if \"messages\" in event:\n",
    "        event[\"messages\"][-1].pretty_print()"
   ]
  },
  {
   "cell_type": "code",
   "execution_count": 16,
   "id": "465a9ca2-686c-4fdc-9955-1160e67288a8",
   "metadata": {},
   "outputs": [],
   "source": [
    "# The chatbot generated a tool call, but then execution has been interrupted. If you inspect the graph state, you see that it stopped at the tools node:\n",
    "# 聊天机器人生成了一个工具调用，但随后执行被中断。如果您检查图形状态，您会发现它在工具节点处停止了：\n"
   ]
  },
  {
   "cell_type": "code",
   "execution_count": 17,
   "id": "4d6cb9b7-eb78-4006-a735-7fc5af558518",
   "metadata": {},
   "outputs": [
    {
     "data": {
      "text/plain": [
       "('tools',)"
      ]
     },
     "execution_count": 17,
     "metadata": {},
     "output_type": "execute_result"
    }
   ],
   "source": [
    "snapshot = graph.get_state(config)\n",
    "snapshot.next"
   ]
  },
  {
   "cell_type": "code",
   "execution_count": 18,
   "id": "d04b4880-c503-4f7f-93c7-2300cd8191bd",
   "metadata": {},
   "outputs": [],
   "source": [
    "# Info  信息\n",
    "\n",
    "# Take a closer look at the human_assistance tool:\n",
    "# 仔细看看 human_assistance 工具：\n",
    "\n",
    "\n",
    "# @tool\n",
    "# def human_assistance(query: str) -> str:\n",
    "#     \"\"\"Request assistance from a human.\"\"\"\n",
    "#     human_response = interrupt({\"query\": query})\n",
    "#     return human_response[\"data\"]\n",
    "# Similar to Python's built-in input() function, calling interrupt inside the tool will pause execution. Progress is persisted based on the checkpointer; so if it is persisting with Postgres, it can resume at any time as long as the database is alive. In this example, it is persisting with the in-memory checkpointer and can resume any time if the Python kernel is running.\n",
    "# 与 Python 内置的 input() 函数类似，在工具内部调用 interrupt 会暂停执行。进度会根据检查点进行持久化；因此，如果使用 Postgres 进行持久化，只要数据库还处于活动状态，就可以随时恢复。在本例中，它使用内存中的检查点进行持久化，只要 Python 内核正在运行，就可以随时恢复。\n",
    "\n"
   ]
  },
  {
   "cell_type": "code",
   "execution_count": 19,
   "id": "16e69fcb-be55-4e18-af2e-32238611833e",
   "metadata": {},
   "outputs": [],
   "source": [
    "# 5. Resume execution¶\n",
    "# 5. 恢复执行 ¶\n",
    "# To resume execution, pass a Command object containing data expected by the tool. The format of this data can be customized based on needs. For this example, use a dict with a key \"data\":\n",
    "# 要恢复执行，请传递一个包含工具所需数据的 Command 对象。此数据的格式可以根据需求自定义。在本例中，使用一个带有键 \"data\" 字典：\n"
   ]
  },
  {
   "cell_type": "code",
   "execution_count": 20,
   "id": "97520686-c9b1-45fc-a0d7-a7c4e8e99f81",
   "metadata": {},
   "outputs": [
    {
     "name": "stdout",
     "output_type": "stream",
     "text": [
      "==================================\u001b[1m Ai Message \u001b[0m==================================\n",
      "Tool Calls:\n",
      "  human_assistance (3fcd4842-0637-479f-9a7a-38c25e47f72a)\n",
      " Call ID: 3fcd4842-0637-479f-9a7a-38c25e47f72a\n",
      "  Args:\n",
      "    query: I need expert guidance on building an AI agent.\n",
      "=================================\u001b[1m Tool Message \u001b[0m=================================\n",
      "Name: human_assistance\n",
      "\n",
      "We, the experts are here to help! We'd recommend you check out LangGraph to build your agent. It's much more reliable and extensible than simple autonomous agents.\n",
      "==================================\u001b[1m Ai Message \u001b[0m==================================\n",
      "\n",
      "The experts recommend using LangGraph to build your AI agent, as it is more reliable and extensible than simple autonomous agents.\n"
     ]
    }
   ],
   "source": [
    "human_response = (\n",
    "    \"We, the experts are here to help! We'd recommend you check out LangGraph to build your agent.\"\n",
    "    \" It's much more reliable and extensible than simple autonomous agents.\"\n",
    ")\n",
    "\n",
    "human_command = Command(resume={\"data\": human_response})\n",
    "\n",
    "events = graph.stream(human_command, config, stream_mode=\"values\")\n",
    "for event in events:\n",
    "    if \"messages\" in event:\n",
    "        event[\"messages\"][-1].pretty_print()"
   ]
  },
  {
   "cell_type": "code",
   "execution_count": 21,
   "id": "d7f2e979-87bb-4ebb-9c30-cf96c61cfadf",
   "metadata": {},
   "outputs": [],
   "source": [
    "# The input has been received and processed as a tool message. Review this call's LangSmith trace to see the exact work that was done in the above call. Notice that the state is loaded in the first step so that our chatbot can continue where it left off.\n",
    "# 输入已接收并处理为工具消息。查看此调用的 LangSmith 跟踪 ，了解上述调用中完成的具体工作。请注意，状态已在第一步加载，以便我们的聊天机器人可以从中断处继续执行。\n",
    "\n",
    "# Congratulations! You've used an interrupt to add human-in-the-loop execution to your chatbot, allowing for human oversight and intervention when needed. This opens up the potential UIs you can create with your AI systems. Since you have already added a checkpointer, as long as the underlying persistence layer is running, the graph can be paused indefinitely and resumed at any time as if nothing had happened.\n",
    "# 恭喜！ 您已使用 interrupt 为聊天机器人添加了人机交互执行功能，以便在需要时进行人工监督和干预。这开启了您使用 AI 系统创建潜在 UI 的大门。由于您已添加检查点 ，只要底层持久层正在运行，图表就可以无限期暂停并随时恢复，就像什么都没发生过一样。\n"
   ]
  },
  {
   "cell_type": "code",
   "execution_count": null,
   "id": "0abdf006-31b1-4ef8-8672-6cd121bc3b58",
   "metadata": {},
   "outputs": [],
   "source": []
  },
  {
   "cell_type": "code",
   "execution_count": null,
   "id": "78e96efb-d770-4373-af76-b6b215c7b2f3",
   "metadata": {},
   "outputs": [],
   "source": []
  },
  {
   "cell_type": "code",
   "execution_count": null,
   "id": "8af6339e-c1d9-44c2-983c-abb3a5474b7c",
   "metadata": {},
   "outputs": [],
   "source": []
  },
  {
   "cell_type": "code",
   "execution_count": null,
   "id": "c2813ad7-3b6d-4a09-9319-2c778ab0ad77",
   "metadata": {},
   "outputs": [],
   "source": []
  },
  {
   "cell_type": "code",
   "execution_count": null,
   "id": "51624d30-693c-477d-b362-907004d19902",
   "metadata": {},
   "outputs": [],
   "source": []
  },
  {
   "cell_type": "code",
   "execution_count": null,
   "id": "82d0b1bb-d32e-4acc-aa18-64caa127cafa",
   "metadata": {},
   "outputs": [],
   "source": []
  },
  {
   "cell_type": "code",
   "execution_count": null,
   "id": "38bcab01-3c21-405e-b3a1-2258ea987f9a",
   "metadata": {},
   "outputs": [],
   "source": []
  },
  {
   "cell_type": "code",
   "execution_count": null,
   "id": "71b8f766-56bf-4caf-84a4-732d8883b174",
   "metadata": {},
   "outputs": [],
   "source": []
  },
  {
   "cell_type": "code",
   "execution_count": null,
   "id": "9dd62f75-346d-46d1-a6b9-c5f3f65121a6",
   "metadata": {},
   "outputs": [],
   "source": []
  },
  {
   "cell_type": "code",
   "execution_count": null,
   "id": "aac3e7ae-18f3-43de-bdcc-7603af1d63b2",
   "metadata": {},
   "outputs": [],
   "source": []
  },
  {
   "cell_type": "code",
   "execution_count": null,
   "id": "c596a0d8-09f7-4afd-a3c0-5274720edc2d",
   "metadata": {},
   "outputs": [],
   "source": []
  },
  {
   "cell_type": "code",
   "execution_count": null,
   "id": "51994e88-0282-4aab-8dc0-ba684b19f0c6",
   "metadata": {},
   "outputs": [],
   "source": []
  },
  {
   "cell_type": "code",
   "execution_count": null,
   "id": "5ccd04fc-f61b-4f94-ad68-9683ec54ccac",
   "metadata": {},
   "outputs": [],
   "source": []
  },
  {
   "cell_type": "code",
   "execution_count": null,
   "id": "b506e3e8-a528-448d-8105-ade1a54d9cae",
   "metadata": {},
   "outputs": [],
   "source": []
  },
  {
   "cell_type": "code",
   "execution_count": null,
   "id": "12b4e70f-8289-4e58-ad34-ba0d52c9a0a3",
   "metadata": {},
   "outputs": [],
   "source": []
  },
  {
   "cell_type": "code",
   "execution_count": null,
   "id": "d51032ab-48a7-4174-a887-63081a6fdc58",
   "metadata": {},
   "outputs": [],
   "source": []
  },
  {
   "cell_type": "code",
   "execution_count": null,
   "id": "aafc2f88-6d73-4b75-a447-ef8d01c2bde3",
   "metadata": {},
   "outputs": [],
   "source": []
  },
  {
   "cell_type": "code",
   "execution_count": null,
   "id": "52ae563b-bc37-4f6d-b5e7-04917afe739c",
   "metadata": {},
   "outputs": [],
   "source": []
  },
  {
   "cell_type": "code",
   "execution_count": null,
   "id": "88fd0393-461c-4056-ad7e-e1878a08b343",
   "metadata": {},
   "outputs": [],
   "source": []
  },
  {
   "cell_type": "code",
   "execution_count": null,
   "id": "8df5aafa-65de-4578-a317-f7b6dea6853d",
   "metadata": {},
   "outputs": [],
   "source": []
  },
  {
   "cell_type": "code",
   "execution_count": null,
   "id": "952d220b-b9fe-41a7-b820-483088030b38",
   "metadata": {},
   "outputs": [],
   "source": []
  },
  {
   "cell_type": "code",
   "execution_count": null,
   "id": "610840f5-dc9a-4775-bc7c-d531f1343efd",
   "metadata": {},
   "outputs": [],
   "source": []
  },
  {
   "cell_type": "code",
   "execution_count": null,
   "id": "ca06618c-95eb-49e6-8f7b-1ccb3a3d1065",
   "metadata": {},
   "outputs": [],
   "source": []
  },
  {
   "cell_type": "code",
   "execution_count": null,
   "id": "59417232-6cf6-40cf-a812-17e11af00ae1",
   "metadata": {},
   "outputs": [],
   "source": []
  },
  {
   "cell_type": "code",
   "execution_count": null,
   "id": "5ee73f27-b500-42ca-8000-78e1f9db4d56",
   "metadata": {},
   "outputs": [],
   "source": []
  },
  {
   "cell_type": "code",
   "execution_count": null,
   "id": "7612d36f-ecac-40ff-b8f3-1e3a4b7d8df7",
   "metadata": {},
   "outputs": [],
   "source": []
  },
  {
   "cell_type": "code",
   "execution_count": null,
   "id": "841e2d48-e556-4ff7-a61d-be237652a299",
   "metadata": {},
   "outputs": [],
   "source": []
  }
 ],
 "metadata": {
  "kernelspec": {
   "display_name": "Python 3 (ipykernel)",
   "language": "python",
   "name": "python3"
  },
  "language_info": {
   "codemirror_mode": {
    "name": "ipython",
    "version": 3
   },
   "file_extension": ".py",
   "mimetype": "text/x-python",
   "name": "python",
   "nbconvert_exporter": "python",
   "pygments_lexer": "ipython3",
   "version": "3.10.16"
  }
 },
 "nbformat": 4,
 "nbformat_minor": 5
}
