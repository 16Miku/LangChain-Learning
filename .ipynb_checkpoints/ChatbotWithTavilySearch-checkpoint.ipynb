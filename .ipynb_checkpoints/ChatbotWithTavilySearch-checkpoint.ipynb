{
 "cells": [
  {
   "cell_type": "code",
   "execution_count": null,
   "id": "834497d2-76c9-49cd-9c07-4d2b46763a89",
   "metadata": {},
   "outputs": [],
   "source": [
    "# LangGraph官方文档教程\n",
    "# https://langchain-ai.github.io/langgraph/tutorials/get-started/2-add-tools/\n",
    "\n"
   ]
  },
  {
   "cell_type": "code",
   "execution_count": null,
   "id": "ba2e44f4-081a-40e0-94d5-d2a525036159",
   "metadata": {},
   "outputs": [],
   "source": []
  },
  {
   "cell_type": "code",
   "execution_count": 1,
   "id": "ab1f489b-e1e8-4229-887b-937d77c29bca",
   "metadata": {},
   "outputs": [],
   "source": [
    "# Add tools¶  添加工具 ¶\n",
    "# To handle queries that your chatbot can't answer \"from memory\", integrate a web search tool. The chatbot can use this tool to find relevant information and provide better responses.\n",
    "# 为了处理聊天机器人无法“凭记忆”回答的问题，请集成一个网页搜索工具。聊天机器人可以使用此工具查找相关信息，并提供更准确的回复。\n",
    "# Note  笔记\n",
    "# This tutorial builds on Build a basic chatbot.\n",
    "# 本教程以构建基本聊天机器人为基础。"
   ]
  },
  {
   "cell_type": "code",
   "execution_count": 2,
   "id": "592bb056-aff6-47e4-a088-b858c6ba5f98",
   "metadata": {},
   "outputs": [],
   "source": [
    "# Prerequisites¶\n",
    "# 先决条件 ¶\n",
    "# Before you start this tutorial, ensure you have the following:\n",
    "# 在开始本教程之前，请确保您已具备以下条件：\n",
    "\n",
    "# An API key for the Tavily Search Engine.\n",
    "# Tavily 搜索引擎的 API 密钥。\n"
   ]
  },
  {
   "cell_type": "code",
   "execution_count": 3,
   "id": "37b75d2d-5191-444b-b120-5c826ab44170",
   "metadata": {},
   "outputs": [],
   "source": [
    "# 1. Install the search engine¶\n",
    "# 1. 安装搜索引擎 ¶\n",
    "# Install the requirements to use the Tavily Search Engine:\n",
    "# 安装使用 Tavily 搜索引擎的要求：\n",
    "\n",
    "\n",
    "# pip install -U langchain-tavily\n"
   ]
  },
  {
   "cell_type": "code",
   "execution_count": 4,
   "id": "bf5c9a0b-6431-4598-8a34-fdc491a047a1",
   "metadata": {},
   "outputs": [],
   "source": [
    "# 2. Configure your environment¶\n",
    "# 2. 配置你的环境 ¶\n",
    "# Configure your environment with your search engine API key:\n",
    "# 使用您的搜索引擎 API 密钥配置您的环境：\n"
   ]
  },
  {
   "cell_type": "code",
   "execution_count": 6,
   "id": "6ff9d093-4b68-4f85-a1f5-50a5facfc68f",
   "metadata": {},
   "outputs": [],
   "source": [
    "import os\n",
    "\n",
    "def _set_env(var: str):\n",
    "    if not os.environ.get(var):\n",
    "        os.environ[var] = getpass.getpass(f\"{var}: \")\n",
    "\n",
    "_set_env(\"TAVILY_API_KEY\")"
   ]
  },
  {
   "cell_type": "code",
   "execution_count": 7,
   "id": "2e9e0763-dd1d-47bc-8338-db78f6a93cf9",
   "metadata": {},
   "outputs": [],
   "source": [
    "# os.environ[\"TAVILY_API_KEY\"]:  \"········\""
   ]
  },
  {
   "cell_type": "code",
   "execution_count": 8,
   "id": "2dc3766e-da8b-4ebf-8953-edf35a9a1c91",
   "metadata": {},
   "outputs": [],
   "source": [
    "# 3. Define the tool¶\n",
    "# 3. 定义工具 ¶\n",
    "# Define the web search tool:\n",
    "# 定义网络搜索工具：\n",
    "\n",
    "# API Reference: TavilySearch\n",
    "# API 参考：TavilySearch"
   ]
  },
  {
   "cell_type": "code",
   "execution_count": 9,
   "id": "3e841c3b-9757-42c4-ad5d-b127c67ac377",
   "metadata": {},
   "outputs": [
    {
     "data": {
      "text/plain": [
       "{'query': \"What's a 'node' in LangGraph?\",\n",
       " 'follow_up_questions': None,\n",
       " 'answer': None,\n",
       " 'images': [],\n",
       " 'results': [{'url': 'https://medium.com/@kbdhunga/beginners-guide-to-langgraph-understanding-state-nodes-and-edges-part-1-897e6114fa48',\n",
       "   'title': \"Beginner's Guide to LangGraph: Understanding State, Nodes, and ...\",\n",
       "   'content': 'Beginner’s Guide to LangGraph: Understanding State, Nodes, and Edges — Part 1 | by Kamal Dhungana | Medium Beginner’s Guide to LangGraph: Understanding State, Nodes, and Edges — Part 1 LangGraph — State, Node and Edge Explained Mainly, we will focus on various components of LangGraph: State, Node, and Edges, and how to build a complete graph from these components. The state plays a crucial role in the functionality of LangGraph by enabling nodes to communicate and exchange data. Each node in a LangGraph graph has the ability to access, read, and write to the state. When a node modifies the state, it effectively broadcasts this information to all other nodes within the graph.',\n",
       "   'score': 0.70847535,\n",
       "   'raw_content': None},\n",
       "  {'url': 'https://medium.com/@cplog/introduction-to-langgraph-a-beginners-guide-14f9be027141',\n",
       "   'title': \"Introduction to LangGraph: A Beginner's Guide - Medium\",\n",
       "   'content': '*   **Stateful Graph:** LangGraph revolves around the concept of a stateful graph, where each node in the graph represents a step in your computation, and the graph maintains a state that is passed around and updated as the computation progresses. LangGraph supports conditional edges, allowing you to dynamically determine the next node to execute based on the current state of the graph. Image 10: Introduction to AI Agent with LangChain and LangGraph: A Beginner’s Guide Image 18: How to build LLM Agent with LangGraph\\u200a—\\u200aStateGraph and Reducer Image 20: Simplest Graphs using LangGraph Framework Image 24: Building a ReAct Agent with Langgraph: A Step-by-Step Guide Image 28: Building an Agentic RAG with LangGraph: A Step-by-Step Guide',\n",
       "   'score': 0.65252984,\n",
       "   'raw_content': None}],\n",
       " 'response_time': 1.33}"
      ]
     },
     "execution_count": 9,
     "metadata": {},
     "output_type": "execute_result"
    }
   ],
   "source": [
    "from langchain_tavily import TavilySearch\n",
    "\n",
    "tool = TavilySearch(max_results=2)\n",
    "tools = [tool]\n",
    "tool.invoke(\"What's a 'node' in LangGraph?\")"
   ]
  },
  {
   "cell_type": "code",
   "execution_count": 10,
   "id": "33e3e1ca-1453-4677-8b94-f9c679766657",
   "metadata": {},
   "outputs": [],
   "source": [
    "# The results are page summaries our chat bot can use to answer questions:\n",
    "# 结果是我们的聊天机器人可以用来回答问题的页面摘要：\n"
   ]
  },
  {
   "cell_type": "code",
   "execution_count": 11,
   "id": "3ae3ccd1-f460-47c7-b465-2157ce2e4de0",
   "metadata": {},
   "outputs": [],
   "source": [
    "# 4. Define the graph¶\n",
    "# 4. 定义图 ¶\n",
    "# For the StateGraph you created in the first tutorial, add bind_tools on the LLM. This lets the LLM know the correct JSON format to use if it wants to use the search engine.\n",
    "# 对于您在第一个教程中创建的 StateGraph ，请在 LLM 上添加 bind_tools 。这可以让 LLM 知道如果要使用搜索引擎应该使用正确的 JSON 格式。\n",
    "\n",
    "# Let's first select our LLM:\n",
    "# 我们首先选择我们的法学硕士 (LLM)：\n",
    "# Google Gemini \n"
   ]
  },
  {
   "cell_type": "code",
   "execution_count": 12,
   "id": "61f2f52c-ba34-49ed-ae49-5ace955f8016",
   "metadata": {},
   "outputs": [],
   "source": [
    "import getpass\n",
    "import os\n",
    "from langchain.chat_models import init_chat_model\n",
    "\n",
    "if not os.environ.get(\"GOOGLE_API_KEY\"):\n",
    "  os.environ[\"GOOGLE_API_KEY\"] = getpass.getpass(\"Enter API key for Google Gemini: \")\n",
    "\n",
    "\n",
    "llm = init_chat_model(\"google_genai:gemini-2.0-flash\")"
   ]
  },
  {
   "cell_type": "code",
   "execution_count": 13,
   "id": "590d2b4f-bd6a-454d-a144-96f631ffdec4",
   "metadata": {},
   "outputs": [],
   "source": [
    "# We can now incorporate it into a StateGraph:\n",
    "# 我们现在可以将其合并到 StateGraph 中：\n"
   ]
  },
  {
   "cell_type": "code",
   "execution_count": 14,
   "id": "850a33b3-5638-4200-be26-6d0c16d60bf1",
   "metadata": {},
   "outputs": [
    {
     "data": {
      "text/plain": [
       "<langgraph.graph.state.StateGraph at 0x20406e09810>"
      ]
     },
     "execution_count": 14,
     "metadata": {},
     "output_type": "execute_result"
    }
   ],
   "source": [
    "from typing import Annotated\n",
    "\n",
    "from typing_extensions import TypedDict\n",
    "\n",
    "from langgraph.graph import StateGraph, START, END\n",
    "from langgraph.graph.message import add_messages\n",
    "\n",
    "class State(TypedDict):\n",
    "    messages: Annotated[list, add_messages]\n",
    "\n",
    "graph_builder = StateGraph(State)\n",
    "\n",
    "# Modification: tell the LLM which tools it can call\n",
    "# highlight-next-line\n",
    "llm_with_tools = llm.bind_tools(tools)\n",
    "\n",
    "def chatbot(state: State):\n",
    "    return {\"messages\": [llm_with_tools.invoke(state[\"messages\"])]}\n",
    "\n",
    "graph_builder.add_node(\"chatbot\", chatbot)"
   ]
  },
  {
   "cell_type": "code",
   "execution_count": 15,
   "id": "92ed0725-5c67-4dca-9b8c-d4fbcac49968",
   "metadata": {},
   "outputs": [],
   "source": [
    "# 5. Create a function to run the tools¶\n",
    "# 5. 创建函数来运行工具 ¶\n",
    "# Now, create a function to run the tools if they are called. Do this by adding the tools to a new node calledBasicToolNode that checks the most recent message in the state and calls tools if the message contains tool_calls. It relies on the LLM's tool_calling support, which is available in Anthropic, OpenAI, Google Gemini, and a number of other LLM providers.\n",
    "# 现在，创建一个函数，用于在工具被调用时运行它们。具体方法是将工具添加到一个名为 BasicToolNode 的新节点，该节点会检查状态中的最新消息，并在消息包含 tool_calls 时调用工具。它依赖于 LLM 的 tool_calling 支持，该支持在 Anthropic、OpenAI、Google Gemini 以及其他一些 LLM 提供商中均可用。\n",
    "\n",
    "# API Reference: ToolMessage\n",
    "# API 参考：ToolMessage\n"
   ]
  },
  {
   "cell_type": "code",
   "execution_count": 16,
   "id": "6dd7b4e3-8abb-4c95-95f2-bb562027875f",
   "metadata": {},
   "outputs": [
    {
     "data": {
      "text/plain": [
       "<langgraph.graph.state.StateGraph at 0x20406e09810>"
      ]
     },
     "execution_count": 16,
     "metadata": {},
     "output_type": "execute_result"
    }
   ],
   "source": [
    "import json\n",
    "\n",
    "from langchain_core.messages import ToolMessage\n",
    "\n",
    "\n",
    "class BasicToolNode:\n",
    "    \"\"\"A node that runs the tools requested in the last AIMessage.\"\"\"\n",
    "\n",
    "    def __init__(self, tools: list) -> None:\n",
    "        self.tools_by_name = {tool.name: tool for tool in tools}\n",
    "\n",
    "    def __call__(self, inputs: dict):\n",
    "        if messages := inputs.get(\"messages\", []):\n",
    "            message = messages[-1]\n",
    "        else:\n",
    "            raise ValueError(\"No message found in input\")\n",
    "        outputs = []\n",
    "        for tool_call in message.tool_calls:\n",
    "            tool_result = self.tools_by_name[tool_call[\"name\"]].invoke(\n",
    "                tool_call[\"args\"]\n",
    "            )\n",
    "            outputs.append(\n",
    "                ToolMessage(\n",
    "                    content=json.dumps(tool_result),\n",
    "                    name=tool_call[\"name\"],\n",
    "                    tool_call_id=tool_call[\"id\"],\n",
    "                )\n",
    "            )\n",
    "        return {\"messages\": outputs}\n",
    "\n",
    "\n",
    "tool_node = BasicToolNode(tools=[tool])\n",
    "graph_builder.add_node(\"tools\", tool_node)"
   ]
  },
  {
   "cell_type": "code",
   "execution_count": 17,
   "id": "231a705c-0e94-4154-9428-c9a672d98a76",
   "metadata": {},
   "outputs": [],
   "source": [
    "# Note  笔记\n",
    "\n",
    "# If you do not want to build this yourself in the future, you can use LangGraph's prebuilt ToolNode.\n",
    "# 如果您将来不想自己构建它，您可以使用 LangGraph 预先构建的 ToolNode 。"
   ]
  },
  {
   "cell_type": "code",
   "execution_count": 18,
   "id": "f836ab4b-7e37-4fbd-b30e-718a90525a3b",
   "metadata": {},
   "outputs": [],
   "source": [
    "# 6. Define the conditional_edges¶\n",
    "# 6. 定义 conditional_edges ¶\n",
    "# With the tool node added, now you can define the conditional_edges.\n",
    "# 添加工具节点后，现在您可以定义 conditional_edges 。\n",
    "\n",
    "# Edges route the control flow from one node to the next. Conditional edges start from a single node and usually contain \"if\" statements to route to different nodes depending on the current graph state. These functions receive the current graph state and return a string or list of strings indicating which node(s) to call next.\n",
    "# 边将控制流从一个节点路由到下一个节点。 条件边从单个节点开始，通常包含“if”语句，根据当前图状态路由到不同的节点。这些函数接收当前图 state ，并返回一个字符串或字符串列表，指示接下来要调用哪个节点。\n",
    "\n",
    "# Next, define a router function called route_tools that checks for tool_calls in the chatbot's output. Provide this function to the graph by calling add_conditional_edges, which tells the graph that whenever the chatbot node completes to check this function to see where to go next.\n",
    "# 接下来，定义一个名为 route_tools 的路由器函数，用于检查聊天机器人输出中是否存在 tool_calls 。通过调用 add_conditional_edges 将此函数提供给图，这将告诉图，每当 chatbot 机器人节点完成时，都要检查此函数以确定下一步要去哪里。\n",
    "\n",
    "# The condition will route to tools if tool calls are present and END if not. Because the condition can return END, you do not need to explicitly set a finish_point this time.\n",
    "# 如果存在工具调用，则条件将路由至 tools ；如果不存在，则 END 。由于条件可以返回 END ，因此您这次无需明确设置 finish_point 。\n"
   ]
  },
  {
   "cell_type": "code",
   "execution_count": 19,
   "id": "7f26eb20-3fc3-47c9-a06a-70568d072ba4",
   "metadata": {},
   "outputs": [],
   "source": [
    "def route_tools(\n",
    "    state: State,\n",
    "):\n",
    "    \"\"\"\n",
    "    Use in the conditional_edge to route to the ToolNode if the last message\n",
    "    has tool calls. Otherwise, route to the end.\n",
    "    \"\"\"\n",
    "    if isinstance(state, list):\n",
    "        ai_message = state[-1]\n",
    "    elif messages := state.get(\"messages\", []):\n",
    "        ai_message = messages[-1]\n",
    "    else:\n",
    "        raise ValueError(f\"No messages found in input state to tool_edge: {state}\")\n",
    "    if hasattr(ai_message, \"tool_calls\") and len(ai_message.tool_calls) > 0:\n",
    "        return \"tools\"\n",
    "    return END\n",
    "\n",
    "\n",
    "# The `tools_condition` function returns \"tools\" if the chatbot asks to use a tool, and \"END\" if\n",
    "# it is fine directly responding. This conditional routing defines the main agent loop.\n",
    "graph_builder.add_conditional_edges(\n",
    "    \"chatbot\",\n",
    "    route_tools,\n",
    "    # The following dictionary lets you tell the graph to interpret the condition's outputs as a specific node\n",
    "    # It defaults to the identity function, but if you\n",
    "    # want to use a node named something else apart from \"tools\",\n",
    "    # You can update the value of the dictionary to something else\n",
    "    # e.g., \"tools\": \"my_tools\"\n",
    "    {\"tools\": \"tools\", END: END},\n",
    ")\n",
    "# Any time a tool is called, we return to the chatbot to decide the next step\n",
    "graph_builder.add_edge(\"tools\", \"chatbot\")\n",
    "graph_builder.add_edge(START, \"chatbot\")\n",
    "graph = graph_builder.compile()"
   ]
  },
  {
   "cell_type": "code",
   "execution_count": 20,
   "id": "d4c6fe6d-5b9c-42f3-a76b-12d4e7db466b",
   "metadata": {},
   "outputs": [],
   "source": [
    "# Note  笔记\n",
    "\n",
    "# You can replace this with the prebuilt tools_condition to be more concise.\n",
    "# 您可以用预先构建的 tools_condition 替换它，使其更加简洁。"
   ]
  },
  {
   "cell_type": "code",
   "execution_count": 21,
   "id": "cfdb27f6-8bd1-465a-b4f4-0c8773fa4c5f",
   "metadata": {},
   "outputs": [],
   "source": [
    "# 7. Visualize the graph (optional)¶\n",
    "# 7. 可视化图表（可选） ¶\n",
    "# You can visualize the graph using the get_graph method and one of the \"draw\" methods, like draw_ascii or draw_png. The draw methods each require additional dependencies.\n",
    "# 您可以使用 get_graph 方法和其中一种“draw”方法（例如 draw_ascii 或 draw_png 来可视化图形。每种 draw 方法都需要额外的依赖项。\n"
   ]
  },
  {
   "cell_type": "code",
   "execution_count": 22,
   "id": "30365bd3-e8a7-4f8b-91da-f6ff7d24cf19",
   "metadata": {},
   "outputs": [
    {
     "data": {
      "image/png": "[encoded data removed]",
      "text/plain": [
       "<IPython.core.display.Image object>"
      ]
     },
     "metadata": {},
     "output_type": "display_data"
    }
   ],
   "source": [
    "from IPython.display import Image, display\n",
    "\n",
    "try:\n",
    "    display(Image(graph.get_graph().draw_mermaid_png()))\n",
    "except Exception:\n",
    "    # This requires some extra dependencies and is optional\n",
    "    pass"
   ]
  },
  {
   "cell_type": "code",
   "execution_count": 23,
   "id": "495feab1-4c41-4911-94ae-bcc9a0f94643",
   "metadata": {},
   "outputs": [],
   "source": [
    "# 8. Ask the bot questions¶\n",
    "# 8. 向机器人提问 ¶\n",
    "# Now you can ask the chatbot questions outside its training data:\n",
    "# 现在您可以向聊天机器人询问其训练数据之外的问题："
   ]
  },
  {
   "cell_type": "code",
   "execution_count": 29,
   "id": "75b5795e-05bf-4c89-bbe3-eacd9bc11bf6",
   "metadata": {},
   "outputs": [
    {
     "name": "stdin",
     "output_type": "stream",
     "text": [
      "User:  搜索关于斋藤飞鸟的最新动态\n"
     ]
    },
    {
     "name": "stdout",
     "output_type": "stream",
     "text": [
      "Assistant: \n",
      "Assistant: {\"query\": \"\\u658b\\u85e4\\u98de\\u9e1f \\u6700\\u65b0\\u52a8\\u6001\", \"follow_up_questions\": null, \"answer\": null, \"images\": [], \"results\": [{\"url\": \"https://www.52hrtt.com/angela/n/w/info/F1751333707465\", \"title\": \"\\u658b\\u85e4\\u98de\\u9e1f\\u9996\\u4e2a\\u4e2a\\u4eba\\u51a0\\u540d\\u8282\\u76ee\\u5373\\u5c06\\u64ad- \\u534e\\u4eba\\u5934\\u6761\", \"content\": \"\\u524d\\u4e43\\u6728\\u574246\\u6210\\u5458\\u658b\\u85e4\\u98de\\u9e1f\\u7684\\u9996\\u4e2a\\u4e2a\\u4eba\\u51a0\\u540d\\u8282\\u76ee\\u300a\\u658b\\u85e4\\u98de\\u9e1f\\u7684\\u4eca\\u591c\\u559d\\u5b8c\\u56de\\u5bb6\\u5427\\u300b\\uff0c\\u5c06\\u4ece7\\u67084\\u65e5\\u5f00\\u59cb\\u5728\\u65e5\\u672c\\u7535\\u89c6\\u53f0\\u8fde\\u7eed4\\u5468\\u64ad\\u51fa\\u3002\\u9996\\u671f\\u5609\\u5bbe\\u4e3a\\u6bd5\\u4e1a\\u540e\\u9996\\u6b21\\u540c\\u53f0\\u7684\\u767d\\u77f3\", \"score\": 0.5037359, \"raw_content\": null}, {\"url\": \"https://m.weibo.cn/p/index?extparam=%E6%96%8B%E8%97%A4%E9%A3%9E%E9%B8%9F&containerid=100808eb40d96f33648b7f43b6529f2afbd3d1&luicode=20000061&lfid=5065415498402332\", \"title\": \"\\u658b\\u85e4\\u98de\\u9e1f\", \"content\": \"\\u751f\\u6d3b\\u624b\\u8bb0# \\u658b\\u85e4\\u98de\\u9e1f#\\u658b\\u85e4\\u98de\\u9e1f##\\u4e0a\\u6d77\\u56fd\\u9645\\u7535\\u5f71\\u8282# \\u4e0b\\u5468\\u53ef\\u4ee5\\u5728\\u5927\\u94f6\\u5e55\\u4e0a\\u770b\\u5c0f\\u5706\\u8138\\u5566 [\\u6253call]. \\u8f6c\\u53d1. 1. 3. \\u4e1c\\u5317\\u8001\\u96d555438. \\u6628\\u592909:47 \\u6700\\u540e\\u8bc4\\u8bba \\u6765\\u81ea\\u658b\\u85e4\\u98de\\u9e1f\\u8d85\\u8bdd. \\u658b\\u85e4\\u98de\\u9e1f\", \"score\": 0.47957736, \"raw_content\": null}], \"response_time\": 0.98}\n",
      "Assistant: 斋藤飞鸟的首个个人冠名节目《斋藤飞鸟的今夜喝完回家吧》，将从7月4日开始在日本电视台连续4周播出。首期嘉宾为毕业后首次同台的白石。她也参加了上海国际电影节。\n"
     ]
    },
    {
     "name": "stdin",
     "output_type": "stream",
     "text": [
      "User:  搜索乃木坂46的最新新闻\n"
     ]
    },
    {
     "name": "stdout",
     "output_type": "stream",
     "text": [
      "Assistant: \n",
      "Assistant: {\"query\": \"\\u4e43\\u6728\\u574246 \\u6700\\u65b0\\u65b0\\u95fb\", \"follow_up_questions\": null, \"answer\": null, \"images\": [], \"results\": [{\"url\": \"https://blackpromoterscollective.com/blackpink-kicks-off-deadline-world-tour-with-new-single-jump-billboard-news/\", \"title\": \"BLACKPINK Kicks Off DEADLINE World Tour With New Single \\u2018JUMP\\u2019 | Billboard News - The Black Promoters Collective\", \"score\": 0.099917434, \"published_date\": \"Tue, 08 Jul 2025 04:24:44 GMT\", \"content\": \"BLACKPINK Kicks Off DEADLINE World Tour With New Single \\u2018JUMP\\u2019 | Billboard News - Black Promoters Collective (BPC) BLACKPINK Kicks Off DEADLINE World Tour With New Single \\u2018JUMP\\u2019 | Billboard News Home>News> BLACKPINK Kicks Off DEADLINE World Tour With New Single \\u2018JUMP\\u2019 | Billboard News  BLACKPINK has officially kicked off their DEADLINE World Tour, and the girls got visited by BTS\\u2019 J-Hope during the concert and even previewed their new song \\u201cJUMP.\\u201d Keep watching to get all the latest BLACKPINK updates! BLACKPINK teases their new single \\u201cJUMP\\u201d as they kick off their DEADLINE World Tour, and even J-Hope dropped by. Stay up to date on exciting projects and upcoming events from the Black Promoters Collective. Image 15: Black Promoters Collective\", \"raw_content\": null}, {\"url\": \"https://www.billboard.com/video/blackpink-kick-off-deadline-world-tour-with-new-single-jump/\", \"title\": \"BLACKPINK Kicks Off DEADLINE World Tour With New Single, \\u201cJUMP\\u201d - Billboard\", \"score\": 0.089240246, \"published_date\": \"Mon, 07 Jul 2025 22:27:59 GMT\", \"content\": \"Billboard BLACKPINK Kicks Off DEADLINE World Tour With New Single \\u2018JUMP\\u2019 | Billboard News BLACKPINK has officially kicked off their DEADLINE World Tour, and the girls got visited by BTS\\u2019 J-Hope during the concert and even previewed their new song \\u201cJUMP.\\u201d Keep watching to get all the latest BLACKPINK updates! #### Billboard #### Billboard *   Billboard As explained in our Privacy Policy, we and our ad partners collect certain information from our visitors through cookies and similar technologies and share it with third parties or combine it with information from other businesses to deliver more relevant ads to you and for related advertising activities. As a California consumer, you have the right to opt-out from the sale or sharing of your personal information at any time across business platform, services, businesses and devices.\", \"raw_content\": null}], \"response_time\": 0.42}\n",
      "Assistant: I'm sorry, I couldn't find any relevant news about 乃木坂46. The search results mainly contain information about BLACKPINK. Would you like me to try a different search query or topic?\n"
     ]
    },
    {
     "name": "stdin",
     "output_type": "stream",
     "text": [
      "User:  搜索全球AI大模型技术的最新进展\n"
     ]
    },
    {
     "name": "stdout",
     "output_type": "stream",
     "text": [
      "Assistant: \n",
      "Assistant: {\"query\": \"\\u5168\\u7403AI\\u5927\\u6a21\\u578b\\u6280\\u672f\\u7684\\u6700\\u65b0\\u8fdb\\u5c55\", \"follow_up_questions\": null, \"answer\": null, \"images\": [], \"results\": [{\"url\": \"https://open.alipay.com/portal/forum/post/197001031\", \"title\": \"\\u6211\\u201cAI\\u201d\\u53d1\\u6587| AI\\u5927\\u6a21\\u578b\\u6280\\u672f\\u7684\\u6700\\u65b0\\u8fdb\\u5c55\\uff1a2024\\u5e74\\u5168\\u7403\\u5206\\u4eab\\u7cbe\\u534e\\uff01\", \"content\": \"2024\\u5e74\\uff0cAI\\u5927\\u6a21\\u578b\\u6280\\u672f\\u53d6\\u5f97\\u4e86\\u524d\\u6240\\u672a\\u6709\\u7684\\u8fdb\\u5c55\\u3002 \\u4eceGPT-5\\u7684\\u8bde\\u751f\\uff0c\\u5230AGI\\u7684\\u63a2\\u7d22\\uff0c\\u518d\\u5230\\u591a\\u6a21\\u6001\\u6280\\u672f\\u7684\\u878d\\u5408\\uff0c\\u6211\\u4eec\\u7ad9\\u5728\\u4e86AI\\u6280\\u672f\\u7684\\u6700\\u524d\\u6cbf\\u3002 \\u800c\\u8fd9\\u4e9b\\u8fdb\\u5c55\\uff0c\\u6b63\\u662f\\u79d1\\u6280\\u4e0d\\u65ad\\u63a8\\u8fdb\", \"score\": 0.8939131, \"raw_content\": null}, {\"url\": \"https://app.xinhuanet.com/news/article.html?articleId=21d520fa81dd1fadd56f33c19844ccdf\", \"title\": \"\\u5168\\u7403\\u4eba\\u5de5\\u667a\\u80fd\\u6a21\\u578b\\u53c8\\u6dfb\\u201c\\u65b0\\u6210\\u5458\\u201d\", \"content\": \"\\u7f8e\\u56fd\\u897f\\u90e8\\u65f6\\u95f45\\u670820\\u65e5\\uff0c\\u8c37\\u6b4c\\u5ba3\\u5e03\\u63a8\\u51fa\\u591a\\u4e2a\\u201c\\u53cc\\u5b50\\u5ea72.5\\u201d\\u7cfb\\u5217\\u5927\\u8bed\\u8a00\\u6a21\\u578b\\uff0c\\u6574\\u4f53\\u6027\\u80fd\\u548c\\u667a\\u80fd\\u63a8\\u7406\\u80fd\\u529b\\u5747\\u8f83\\u4ee5\\u5f80\\u7248\\u672c\\u5927\\u5e45\\u63d0\\u5347\\u3002\\u5f53\\u65e5\\uff0c\\u8c37\\u6b4c\\u8fd8\\u53d1\\u5e03\\u4e86\\u591a\\u4e2a\\u591a\\u6a21\\u6001\\u6a21\\u578b\\uff0c\\u5176\\u4e2d\", \"score\": 0.68874115, \"raw_content\": null}], \"response_time\": 1.53}\n",
      "Assistant: 根据搜索结果，2024年AI大模型技术取得了前所未有的进展，例如GPT-5的诞生、AGI的探索和多模态技术的融合。 此外，谷歌发布了多个“双子座2.5”系列大语言模型和多模态模型，整体性能和智能推理能力均较以往版本大幅提升。\n"
     ]
    },
    {
     "name": "stdin",
     "output_type": "stream",
     "text": [
      "User:  搜索洛天依的最新新闻\n"
     ]
    },
    {
     "name": "stdout",
     "output_type": "stream",
     "text": [
      "Assistant: \n",
      "Assistant: {\"query\": \"\\u6d1b\\u5929\\u4f9d \\u6700\\u65b0\\u65b0\\u95fb\", \"follow_up_questions\": null, \"answer\": null, \"images\": [], \"results\": [{\"url\": \"https://www.cnn.com/2025/07/13/entertainment/video/bad-bunny-puerto-rico-residency-starts-fans-react-digvid\", \"title\": \"\\u2018It\\u2019s a once-in-a-lifetime event\\u2019: Bad Bunny fans react to singer's Puerto Rico residency - CNN\", \"score\": 0.054909036, \"published_date\": \"Sun, 13 Jul 2025 15:53:40 GMT\", \"content\": \"Video: Bad Bunny fans in Puerto Rico react to singer\\u2019s sold out residency | CNN Follow CNN Entertainment *   CNN10 *   CNN 5 Things *   About CNN *   CNN Newsletters *   Work for CNN Image 13: <p>Ava Max's new single and video, ZZ Top gets a limited edition vinyl release, and 'Ballerina' is now streaming. Image 16: <p>The 2026 Hollywood Walk of Fame honorees are revealed, a new Foo Fighters single, and a first look at Glen Powell in 'The Running Man.' Douglas Hyde reports.</p> Image 17: clipped thumbnail - hollywood-entertainment-squid-game-season-2-netflix-streaming-television - CNN ID 21227632 - 00:00:44;08 *   CNN10 *   CNN 5 Things *   About CNN *   CNN Newsletters *   Work for CNN Follow CNN Entertainment Image 24: CNN Logo\", \"raw_content\": null}, {\"url\": \"https://wwd.com/footwear-news/shoe-trends/ryan-destiny-shoes-schiaparelli-fall-2025-couture-show-1237969143/\", \"title\": \"Ryan Destiny's Pink Shoes Are Part of Her Schiaparelli Dress in Paris - WWD\", \"score\": 0.044435676, \"published_date\": \"Mon, 07 Jul 2025 16:29:27 GMT\", \"content\": \"Image 5: Ryan Destiny attends the Schiaparelli Haute Couture Fall/Winter 2025/2026 show as part of Paris Fashion Week on July 07, 2025 in Paris, France. Image 14: PARIS, FRANCE - JULY 07: Ryan Destiny and Law Roach attends the Schiaparelli Haute Couture Fall/Winter 2025/2026 show as part of Paris Fashion Week on July 07, 2025 in Paris, France. As explained in our Privacy Policy, we and our ad partners collect certain information from our visitors through cookies and similar technologies and share it with third parties or combine it with information from other businesses to deliver more relevant ads to you and for related advertising activities.\", \"raw_content\": null}], \"response_time\": 0.54}\n",
      "Assistant: 我找不到关于洛天依的最新消息。搜索结果提到了其他主题，例如 Bad Bunny 的演唱会和 Ryan Destiny 在巴黎时装周上的亮相。\n"
     ]
    },
    {
     "name": "stdin",
     "output_type": "stream",
     "text": [
      "User:  搜索筒井彩萌的最新动态\n"
     ]
    },
    {
     "name": "stdout",
     "output_type": "stream",
     "text": [
      "Assistant: \n",
      "Assistant: {\"query\": \"\\u7b52\\u4e95\\u5f69\\u840c \\u6700\\u65b0\\u52a8\\u6001\", \"follow_up_questions\": null, \"answer\": null, \"images\": [], \"results\": [{\"url\": \"https://www.douyin.com/search/%E7%AD%92%E4%BA%95%E5%BD%A9%E8%90%8C%E6%9C%80%E6%96%B0%E5%8A%A8%E6%80%81\", \"title\": \"\\u7b52\\u4e95\\u5f69\\u840c\\u6700\\u65b0\\u52a8\\u6001- \\u6296\\u97f3\", \"content\": \"\\u60a8\\u5728\\u67e5\\u627e\\u7b52\\u4e95\\u5f69\\u840c\\u6700\\u65b0\\u52a8\\u6001\\u5417\\uff1f\\u6296\\u97f3\\u7efc\\u5408\\u641c\\u7d22\\u5e2e\\u4f60\\u627e\\u5230\\u66f4\\u591a\\u76f8\\u5173\\u89c6\\u9891\\u3001\\u56fe\\u6587\\u3001\\u76f4\\u64ad\\u5185\\u5bb9\\uff0c\\u652f\\u6301\\u5728\\u7ebf\\u89c2\\u770b\\u3002\\u66f4\\u6709\\u6d77\\u91cf\\u9ad8\\u6e05\\u89c6\\u9891\\u3001\\u76f8\\u5173\\u76f4\\u64ad\\u3001\\u7528\\u6237\\uff0c\\u6ee1\\u8db3\\u60a8\\u7684\\u5728\\u7ebf\\u89c2\\u770b\\u9700\\u6c42\\u3002\", \"score\": 0.6238588, \"raw_content\": null}, {\"url\": \"https://m.weibo.cn/p/index?extparam=%E7%AD%92%E4%BA%95%E5%BD%A9%E8%90%8C&containerid=10080854d4bbd422a3fb6335179258408be81e&luicode=10000011&lfid=100808808c38f87c2c38a7ed71edc36e45f919&featurecode=newtitle%0A%E3%80%90%E8%A7%A6%E7%9B%AE%E6%83%8A%E5%BF%83%EF%BC%81%E9%BB%91%E9%BE%99%E6%B1%9F%E4%B8%80\", \"title\": \"\\u7b52\\u4e95\\u5f69\\u840c - \\u5fae\\u535a\", \"content\": \"12\\u5c0f\\u65f6\\u524d \\u6765\\u81ea\\u7b52\\u4e95\\u5f69\\u840c\\u8d85\\u8bdd ... \\u6211\\u76841st\\u5199\\u771f\\u96c6\\u5c06\\u6709\\u5e78\\u4e8e6\\u67083\\u65e5\\u6b63\\u5f0f\\u53d1\\u552e\\uff01 ... \\u771f\\u7684\\u662f\\u53d1\\u81ea\\u5185\\u5fc3\\u5730\\u611f\\u8c22\\u5927\\u5bb6\\uff01 \\u8fd9\\u6b21\\u7684\\u62cd\\u6444\\u554a\\uff0c\\u771f\\u7684\\u8d85\\u7ea7\\u5f00\\u5fc3\\uff01 \\u897f\\u73ed\\u7259\\u7684\\u98ce\\u666f\\u4e5f\\u8d85\\u7ea7\\u8ff7\\u4eba\\uff01\", \"score\": 0.58237284, \"raw_content\": null}], \"response_time\": 1.05}\n",
      "Assistant: 筒井彩萌的最新动态：\n",
      "1. 抖音上有更多相关视频、图文、直播内容。\n",
      "2. 她的第一本写真集于6月3日正式发售。拍摄地点在西班牙，她本人表示非常开心。\n"
     ]
    },
    {
     "name": "stdin",
     "output_type": "stream",
     "text": [
      "User:  搜索池田瑛纱的近期新闻\n"
     ]
    },
    {
     "name": "stdout",
     "output_type": "stream",
     "text": [
      "Assistant: \n",
      "Assistant: {\"query\": \"\\u6c60\\u7530\\u745b\\u7eb1 \\u8fd1\\u671f\\u65b0\\u95fb\", \"follow_up_questions\": null, \"answer\": null, \"images\": [], \"results\": [{\"url\": \"https://m.weibo.cn/p/index?extparam=%E6%B1%A0%E7%94%B0%E7%91%9B%E7%BA%B1&containerid=100808d6e7ea97a8be755829586ac2bf64b1e8&featurecode=newtitle%0A%E5%90%AC%E8%AF%B4%E4%B8%89%E8%BF%9E%E6%9C%89%E7%9B%8A%E8%BA%AB%E4%BD%93%E5%81%A5%E5%BA%B7%E5%93%A6%E3%80%82%0A%E6%A0%87%E9%A2%98%E6%98%AF%E5%8E%9F%E6%A0%87%E9%A2%98%0A%E6%9C%AC%E4%BA%BA%E6%90%AC%E8%BF%90%E4%B8%BB%E8%A6%811818%E9%BB%84%E9%87%91%E7%9C%BC%E5%81%B6%E5%B0%94%E6%90%AC%E8%BF%90%E5%85%B6%E4%BB%96%E6%96%B0%E9%97%BB%E3%80%82%0A%E7%82%B9%E4%B8%AA%E5%85%B3%E6%B3%A8%E5%91%97.jpg\", \"title\": \"\\u6c60\\u7530\\u745b\\u7eb1 - \\u5fae\\u535a\", \"content\": \"\\u6c60\\u7530\\u745b\\u7eb1 #\\u6c60\\u7530\\u745b\\u7eb1# via. \\u5c0f\\u5ce0\\u82f1\\u4e8c\\u306e\\u306a\\u3093\\u3066\\u7f8e\\u3060\\uff01 6 \\u670824\\u65e5\\uff08\\u661f\\u671f\\u4e8c\\uff09 \\u665a\\u4e0a24\\u70b9(\\u5317\\u4eac\\u65f6\\u95f423\\u70b9)\\uff5e \\u4e3b\\u9898\\u662f\\u5730\\u56fe\\ud83d\\uddfa \\u5728\\u5f55\\u5236\\u7ed3\\u675f\\u540e\\u91c7\\u8bbf\\u4e86\\u6c60\\u7530\\u745b\\u7eb1\\u6851\\u5728\\u5904\\u7406\\u5730\\u56fe\\u65f6\\u4e0d\\u53ef\\u6216\\u7f3a\\u8be2\\u95ee\", \"score\": 0.5863576, \"raw_content\": null}, {\"url\": \"https://www.pttweb.cc/bbs/SakaTalk/M.1752249145.A.DEE\", \"title\": \"[\\u4e43\\u6728] \\u96fb\\u8996\\u5152\\u7ae5\\u6c60\\u7530\\u745b\\u7d17BLOG 250710 - \\u770b\\u677fSakaTalk - PTT\\u7db2\\u9801\\u7248\", \"content\": \"https://www.nogizaka46.com/s/n46/diary/detail/103601?ima=0407 \\u96fb\\u8996\\u5152\\u7ae5\\u6c60\\u7530\\u745b\\u7d172025/07/10 \\u55ef\\uff5e\\u5fb7\\u857e\\u7d17\\u718a\\u8c93\\u767c\\u73fe\\uff01 . \\u660e\\u660e\\u5df2\\u7d93\\u6e96\\u5099\\u597d\\u8981\\u51fa\\u9580\\u4e86\\uff0c\\u537b\\u56e0\\u70ba\\u7a81\\u5982\\u5176\\u4f86\\u7684\\u96f7\\u96e8\\u6c92\", \"score\": 0.4391465, \"raw_content\": null}], \"response_time\": 0.99}\n",
      "Assistant: 池田瑛纱参与了小峠英二的电视节目录制，该节目于6月24日播出，主题是地图。此外，她还在个人博客上分享了自己作为电视儿童的经历。\n"
     ]
    },
    {
     "name": "stdin",
     "output_type": "stream",
     "text": [
      "User:  quit\n"
     ]
    },
    {
     "name": "stdout",
     "output_type": "stream",
     "text": [
      "Goodbye!\n"
     ]
    }
   ],
   "source": [
    "def stream_graph_updates(user_input: str):\n",
    "    for event in graph.stream({\"messages\": [{\"role\": \"user\", \"content\": user_input}]}):\n",
    "        for value in event.values():\n",
    "            print(\"Assistant:\", value[\"messages\"][-1].content)\n",
    "\n",
    "while True:\n",
    "    try:\n",
    "        user_input = input(\"User: \")\n",
    "        if user_input.lower() in [\"quit\", \"exit\", \"q\"]:\n",
    "            print(\"Goodbye!\")\n",
    "            break\n",
    "\n",
    "        stream_graph_updates(user_input)\n",
    "    except:\n",
    "        # fallback if input() is not available\n",
    "        user_input = \"What do you know about LangGraph?\"\n",
    "        print(\"User: \" + user_input)\n",
    "        stream_graph_updates(user_input)\n",
    "        break"
   ]
  },
  {
   "cell_type": "code",
   "execution_count": 30,
   "id": "013e30e1-5e05-4c4a-9255-3f3e6db8c48b",
   "metadata": {},
   "outputs": [],
   "source": [
    "# 9. Use prebuilts¶\n",
    "# 9. 使用预建 ¶\n",
    "# For ease of use, adjust your code to replace the following with LangGraph prebuilt components. These have built in functionality like parallel API execution.\n",
    "# 为了方便使用，请调整您的代码，将以下内容替换为 LangGraph 预构建组件。这些组件内置了并行 API 执行等功能。\n",
    "\n",
    "# BasicToolNode is replaced with the prebuilt ToolNode\n",
    "# BasicToolNode 被预建的 ToolNode 取代\n",
    "# route_tools is replaced with the prebuilt tools_condition\n",
    "# route_tools 被预建的 tools_condition 替换"
   ]
  },
  {
   "cell_type": "code",
   "execution_count": 31,
   "id": "6ed2ebad-af9b-43e5-8798-61cece56f4b8",
   "metadata": {},
   "outputs": [],
   "source": [
    "# pip install -U \"langchain[google-genai]\""
   ]
  },
  {
   "cell_type": "code",
   "execution_count": 32,
   "id": "55f3bb1d-e34d-48b7-ae60-5ba6a2bc0bf6",
   "metadata": {},
   "outputs": [],
   "source": [
    "import getpass\n",
    "import os\n",
    "from langchain.chat_models import init_chat_model\n",
    "\n",
    "if not os.environ.get(\"GOOGLE_API_KEY\"):\n",
    "  os.environ[\"GOOGLE_API_KEY\"] = getpass.getpass(\"Enter API key for Google Gemini: \")\n",
    "\n",
    "llm = init_chat_model(\"google_genai:gemini-2.0-flash\")"
   ]
  },
  {
   "cell_type": "code",
   "execution_count": 33,
   "id": "cb147508-262c-4a59-af99-7376325ec8f2",
   "metadata": {},
   "outputs": [],
   "source": [
    "# 👉 Read the Google GenAI integration docs\n",
    "# https://python.langchain.com/docs/integrations/chat/google_generative_ai/\n",
    "# 👉 阅读 Google GenAI 集成文档\n",
    "# https://python.langchain.com/docs/integrations/chat/google_generative_ai/"
   ]
  },
  {
   "cell_type": "code",
   "execution_count": 34,
   "id": "9bfdcc10-1914-48dd-bd06-ed755f601fb7",
   "metadata": {
    "scrolled": true
   },
   "outputs": [
    {
     "name": "stdin",
     "output_type": "stream",
     "text": [
      "User:  你好，你有哪些功能？\n"
     ]
    },
    {
     "name": "stdout",
     "output_type": "stream",
     "text": [
      "Assistant: 我可以使用 `tavily_search` 工具来搜索网络信息。你可以给我一个搜索查询，我会尽力帮你找到答案。\n"
     ]
    },
    {
     "name": "stdin",
     "output_type": "stream",
     "text": [
      "User:  调用工具搜索关于乃木坂46演唱会的近期消息\n"
     ]
    },
    {
     "name": "stdout",
     "output_type": "stream",
     "text": [
      "Assistant: \n",
      "Assistant: {\"query\": \"乃木坂46演唱会 近期消息\", \"follow_up_questions\": null, \"answer\": null, \"images\": [], \"results\": [{\"url\": \"https://atc-twn.com/2025/06/25/86585/\", \"title\": \"乃木坂46 新作《Same numbers》賀喜遥香重回C位收錄曲《真夏日 ...\", \"content\": \"今年也將舉辦夏季全國巡演的乃木坂46，確定於9月4日至9月7日在明治神宮棒球場舉辦為期四天的演唱會，這次將是創團以來第十次於明治神宮棒球場進行巡迴演出，對乃木坂46而言，\", \"score\": 0.6554468, \"raw_content\": null}, {\"url\": \"https://www.nogizaka46.com/\", \"title\": \"乃木坂46公式サイト\", \"content\": \"「真夏の全国ツアー2025」東京公演「モバイル会員3次先行」受付スタート！ 2025.07.14. WEB. 「乃木坂工事中」の最新話「勝手に6\", \"score\": 0.48264915, \"raw_content\": null}], \"response_time\": 1.21}\n",
      "Assistant: 根据搜索结果，乃木坂46将于9月4日至9月7日在明治神宫棒球场举办为期四天的演唱会。这将是她们第十次在明治神宫棒球场进行巡回演出。此外，她们的夏季全国巡演也将在今年举办。\n"
     ]
    },
    {
     "name": "stdin",
     "output_type": "stream",
     "text": [
      "User:  调用工具搜索关于洛天依的近期消息\n"
     ]
    },
    {
     "name": "stdout",
     "output_type": "stream",
     "text": [
      "Assistant: \n",
      "Assistant: {\"query\": \"洛天依 近期 消息\", \"follow_up_questions\": null, \"answer\": null, \"images\": [], \"results\": [{\"url\": \"https://zh.wikipedia.org/zh-hans/%E6%B4%9B%E5%A4%A9%E4%BE%9D\", \"title\": \"洛天依- 维基百科，自由的百科全书\", \"content\": \"| 2018年7月20日 | Bilibili Macro Link-Visual Release × Vsinger Live | 〈Connect~心的连接~〉，〈达拉崩吧〉（与言和），〈Hear Me！〉〈夜舞〉〈追光使者〉〈漂亮面对〉〈权御天下〉〈千年食谱颂〉，〈一半一半〉（与言和、乐正绫），〈夏日活荔〉，〈霜雪千年〉（与乐正绫），〈小柠檬〉〈谎言是恋爱的开始〉〈梦想→World→歌唱〉，〈普通Disco〉（与言和、乐正绫、乐正龙牙），〈为了你唱下去〉 | Vocaloid China PROJECT 全世界第一款中文 VOCALOID 声库『洛 天依』将在 2012 年的 CCG EXPO 上首发(PDF) (新闻稿). 4.   ^ **4.0****4.1**@Vsinger_洛天依. [#乐正绫[超话]# [音乐] #Vsinger# 大家期待...](https://weibo.com/5582156776/MafTUw4Ze) (微博). [#洛天依[超话]# “第一个和最后一个我，都将永...](https://weibo.com/5146173015/NC873uJAl) (微博). VOCALOID CHINA PROJECT 七灵石高清版动画 (影片). **^**@VOCALOID-CHINA. **^**@VOCALOID-CHINA. **^**@VOCALOID-CHINA. VOCALOID CHINA PROJECT 动画第三话七灵石官方版 (影片). **^**@VOCALOID-CHINA. VOCALOID CHINA PROJECT宣伝用アニメーション 第05話 (影片). Vocaloid China. **^**@Vsinger_洛天依. **^**@Vsinger_洛天依. **^**@Vsinger_洛天依. **^**@Vsinger_洛天依. [洛天依[超话]# #洛天依0712生日快乐#谢...](https://web.archive.org/web/20220602175523/https://weibo.com/5146173015/Kori1hOqx) (微博). **^**@Vsinger_洛天依. [#洛天依[超话]#大家久等了！我的V5形象今...](https://web.archive.org/web/20220602062010/https://weibo.com/5146173015/Lsxb4zCJG) (微博). Vocaloid China. **^**@G.K. VOCALOID CHINA 为何停运？－ G.K的回答. Vocaloid China. **^**@VOCALOID-CHINA. **^**@VOCALOID-CHINA. Vocaloid China. **^**@VOCALOID-CHINA. [VOCALOID CHINA PROJECT 七灵石高清版动画 [第二话]](https://www.bilibili.com/video/BV1Lx411F7or/) (影片). **^**@VOCALOID-CHINA. **^**@VOCALOID-CHINA. **^**@VOCALOID-CHINA. **^**@VOCALOID-CHINA. **^**@VOCALOID-CHINA. **^**@VOCALOID-CHINA. **^**@VOCALOID-CHINA. [#Vsinger[超话]# 2021年7月10日11日，Vsi...](https://web.archive.org/web/20220601154932/https://weibo.com/5582156776/KnPTyA3jb) (微博). [#Vsinger[超话]# 报 老V带着天依言和...](https://web.archive.org/web/20220601125758/https://weibo.com/5582156776/KDAQ5zT9n) (微博). [#Vsinger[超话]# 全员庆生曲专辑发售预...](https://web.archive.org/web/20220601145325/https://weibo.com/5582156776/L5wjiBV9B) (微博). [#Vsinger[超话]#新的一年，依然闪耀 V...](https://web.archive.org/web/20220601164524/https://weibo.com/5582156776/LbiyfxzPZ) (微博). [#Vsinger[超话]# 我们收集耀眼的光，调和...](https://web.archive.org/web/20220602062010/https://weibo.com/5582156776/LfpShnA37) (微博). [#Vsinger[超话]#小伙伴们，老V成功入驻模...](https://web.archive.org/web/20220601113219/https://weibo.com/5582156776/Lqzqwfu0x) (微博). [#洛天依[超话]##Vsinger创作激励计划# #洛...](https://web.archive.org/web/20220601125803/https://weibo.com/5582156776/LrCr8stRp) (微博). [#洛天依[超话]# AI洛天依（ACE版）形象...](https://web.archive.org/web/20220601145334/https://weibo.com/5146173015/LrTeNd9t3) (微博).\", \"score\": 0.7339103, \"raw_content\": null}, {\"url\": \"https://m.weibo.cn/p/index?extparam=%E6%B4%9B%E5%A4%A9%E4%BE%9D&containerid=1008082b4aeae2d98f0032a2e6fa1f44ed2367&luicode=10000011&lfid=1005053571257405&featurecode=newtitle%E7%9C%8B%E8%B5%B7&launchid=10000360-qq_browser_resou\", \"title\": \"洛天依\", \"content\": \"洛天依「2025无限共鸣·流光协奏」全息巡回演唱会·上海站将于7月11日正式开启售票啦！ 「上海·蓝宝石」城市特别视觉海报和演出时间地点等资讯公开~ 转发关注天依，揪1位\", \"score\": 0.5446325, \"raw_content\": null}], \"response_time\": 1.77}\n",
      "Assistant: 洛天依“2025无限共鸣·流光协奏”全息巡回演唱会·上海站将于7月11日正式开启售票。\n"
     ]
    },
    {
     "name": "stdin",
     "output_type": "stream",
     "text": [
      "User:  调用工具搜索关于筒井彩萌的近期消息\n"
     ]
    },
    {
     "name": "stdout",
     "output_type": "stream",
     "text": [
      "Assistant: \n",
      "Assistant: {\"query\": \"筒井彩萌 近期消息\", \"follow_up_questions\": null, \"answer\": null, \"images\": [], \"results\": [{\"url\": \"https://zh.wikipedia.org/wiki/%E7%AD%92%E4%BA%95%E5%BD%A9%E8%90%8C\", \"title\": \"筒井彩萌- 維基百科，自由的百科全書\", \"content\": \"筒井彩萌（日語：筒井あやめ／つついあやめ Tsutsui Ayame */?，2004年6月8日—）是日本偶像藝人，為女子偶像團體乃木坂46成員，愛知縣名古屋市出身。\", \"score\": 0.48762518, \"raw_content\": null}, {\"url\": \"https://m.weibo.cn/p/10080854d4bbd422a3fb6335179258408be81e?jumpfrom=weibocom\", \"title\": \"筒井彩萌 - 微博\", \"content\": \"东京电视台音乐祭2025夏「Same numbers」电视初披露！ 今天是马尾辫 筒井咩咩字幕组的微博视频.\", \"score\": 0.4766533, \"raw_content\": null}], \"response_time\": 2.01}\n",
      "Assistant: 根据搜索结果，筒井彩萌是乃木坂46的成员。近期消息包括她在东京电视台音乐祭2025夏「Same numbers」的电视初披露，并且当天是马尾辫造型。\n"
     ]
    },
    {
     "name": "stdin",
     "output_type": "stream",
     "text": [
      "User:  调用工具搜索关于马斯克的近期消息\n"
     ]
    },
    {
     "name": "stdout",
     "output_type": "stream",
     "text": [
      "Assistant: \n",
      "Assistant: {\"query\": \"马斯克 近期 消息\", \"follow_up_questions\": null, \"answer\": null, \"images\": [], \"results\": [{\"url\": \"https://www.ithome.com/tags/%E9%A9%AC%E6%96%AF%E5%85%8B/\", \"title\": \"马斯克最新动态 - IT之家\", \"content\": \"小米玄戒 O1 参数公开小米 YU7 预发布：中大型纯电 SUV 续航第一 近期特斯拉公司及其车辆频遭破坏行为，包括纵火等极端方式，这些攻击背后反映出部分人士对特斯拉首席执行官埃隆・马斯克及其政治立场的强烈不满。马斯克表示将严惩肇事者。#特斯拉# #马斯克# Tags：特斯拉，马斯克 05月22日  据《商业内幕》报道，埃隆・马斯克 (Elon Musk) 在接受采访时回应了媒体对于特斯拉收购 Uber 的提议。他表示，特斯拉“没有必要”收购 Uber。 Tags：马斯克，特斯拉 05月21日  马斯克在多哈经济论坛上承诺未来5年继续担任特斯拉CEO，强调控制权比薪酬更重要，并称特斯拉已扭亏为盈，欧洲市场最弱但无需求问题。#特斯拉# #马斯克# Tags：马斯克，特斯拉 05月20日  Neuralink 官方账号昨日（5 月 14 日）在 X 平台发布推文，宣布联合阿布扎比卫生部，在阿布扎比克利夫兰诊所内，将启动其在中东的首次 UAE-PRIME 脑机接入临床试验。 Tags：马斯克，Neuralink 05月15日  特斯拉董事会成立特别委员会，审查CEO马斯克560亿美元薪酬方案。委员会由董事会主席和独立董事组成，可能制定新的股票期权方案。马斯克此前上诉要求恢复薪酬，认为法院撤销时存在法律错误。#特斯拉##马斯克# Tags：马斯克，特斯拉 05月14日  xAI未能在5月10日截止日期前发布修订后的AI安全框架，引发对其AI安全承诺的质疑。报告显示其聊天机器人Grok存在不当内容生成问题，且安全措施薄弱。#AI安全# #马斯克# Tags：xAI，Grok，马斯克 05月14日  特斯拉业绩波动，又一次引发内部动荡，特斯拉多名员工倒反天罡，公开要求马斯克辞职。 Tags：特斯拉，马斯克 05月12日  小米 YU7 预发布：全系 800V / 中大型纯电 SUV 续航第一，7 月上市，“不可能”19.9 万元 小米 15 周年战略新品发布会一文汇总：自研芯片玄戒 O1 / T1 上阵，YU7 首秀，旗舰手机平板登场 小米 YU7 内饰亮相：前排“天际屏”，后排 6.68 英寸移动控制屏 1 分钟速读 5 月 23 日 618 国补攻略：小米 15S Pro 手机首发 9 折 4999 元 24 期免息，搭载玄戒 O1 旗舰处理器 小米 YU7 汽车搭载电动内翻门把手，靠近自动内翻、氛围灯照明 小米 YU7 预发布：全系 800V / 中大型纯电 SUV 续航第一，7 月上市，“不可能”19.9 万元 雷军：小米自主研发设计的 3nm 旗舰芯片玄戒 O1 大规模量产，15S Pro 手机 / 平板 7 Ultra 双旗舰首发 小米 YU7 汽车全新配色「钛金属色」亮相：车身表面增加大颗粒金属铝粉 小米 15S Pro 手机发布：搭载玄戒 O1 旗舰处理器，5499 元起\", \"score\": 0.8127637, \"raw_content\": null}, {\"url\": \"https://sputniknews.cn/person_yilongmasike/\", \"title\": \"伊隆•马斯克- 话题最新新闻 - 俄罗斯卫星通讯社\", \"content\": \"伊隆•马斯克 - 今日最新新闻和有关该话题的主要事件 - 俄罗斯卫星通讯社 俄罗斯卫星通讯社 简体 俄罗斯卫星通讯社简体俄羅斯衛星通訊社繁體 伊隆•马斯克 文章 选择周期 马斯克：美国公务员使用公款租赁体育场举办晚会 5月2日, 20:47 伊隆•马斯克 美国 国际 还有 马斯克称《华尔街日报》有关特斯拉正在寻找其替代者的报道是假的 5月1日, 16:38 伊隆•马斯克 特斯拉 继任者 美国 还有 马斯克支持特朗普关于结束乌克兰冲突的呼吁 4月26日, 08:41 伊隆•马斯克 特朗普 乌克兰冲突 结束 战争 支持 还有 马斯克就特朗普2032年连任发表言论，呼吁“未雨绸缪” 4月25日, 15:03 伊隆•马斯克 特朗普 连任 总统 美国 竞选 还有 美媒：马斯克与美财长在白宫发生争执 4月24日, 12:10 伊隆•马斯克 国际 美国 还有 马斯克在特斯拉利润下滑之际称将减少特朗普政府的工作 4月23日, 08:06 伊隆•马斯克 国际 美国 工作 还有 马斯克：美国可能因移民失去固有的价值观 4月20日, 09:06 伊隆•马斯克 美国 移民 还有 美媒：美国政府效率部的实际节省效果可能不到其声称的15% 4月14日, 04:49 伊隆•马斯克 国际 美国 还有 特朗普拟削减NASA科研经费的决定令马斯克担忧 4月12日, 12:13 伊隆•马斯克 美国 特朗普 还有 BBI：马斯克的财富自11月以来首次跌破3000亿美元 4月8日, 15:11 伊隆•马斯克 财富 股价 下跌 亿万富翁 还有 马斯克拟裁掉负责核导弹改造和维护的员工 伊隆•马斯克 还有 伊隆•马斯克 还有 伊隆•马斯克 还有 伊隆•马斯克 还有 伊隆•马斯克 还有 伊隆•马斯克 还有 伊隆•马斯克 还有 伊隆•马斯克 还有 伊隆•马斯克 还有 伊隆•马斯克 还有 还有 20 篇资料 __俄罗斯卫星通讯社 公众号 小程序 WeChat WeChat\", \"score\": 0.767847, \"raw_content\": null}], \"response_time\": 1.04}\n",
      "Assistant: 根据搜索结果，以下是关于马斯克近期的一些消息：\n",
      "\n",
      "*   **特斯拉相关：** 特斯拉公司及其车辆近期频遭破坏，马斯克表示将严惩肇事者。他还表示特斯拉“没有必要”收购 Uber。马斯克在多哈经济论坛上承诺未来5年继续担任特斯拉CEO。特斯拉董事会成立特别委员会，审查CEO马斯克560亿美元薪酬方案。有报道称特斯拉多名员工公开要求马斯克辞职。\n",
      "*   **Neuralink：** Neuralink 宣布联合阿布扎比卫生部，启动其在中东的首次 UAE-PRIME 脑机接入临床试验。\n",
      "*   **xAI：** xAI未能在5月10日截止日期前发布修订后的AI安全框架，引发对其AI安全承诺的质疑。\n",
      "*   **政治相关：** 马斯克支持特朗普关于结束乌克兰冲突的呼吁。他还就特朗普2032年连任发表言论，呼吁“未雨绸缪”。\n",
      "*   **其他：** 有媒体报道称马斯克与美财长在白宫发生争执。\n"
     ]
    },
    {
     "name": "stdin",
     "output_type": "stream",
     "text": [
      "User:  quit\n"
     ]
    },
    {
     "name": "stdout",
     "output_type": "stream",
     "text": [
      "Goodbye!\n"
     ]
    }
   ],
   "source": [
    "from typing import Annotated\n",
    "\n",
    "from langchain_tavily import TavilySearch\n",
    "from langchain_core.messages import BaseMessage\n",
    "from typing_extensions import TypedDict\n",
    "\n",
    "from langgraph.graph import StateGraph, START, END\n",
    "from langgraph.graph.message import add_messages\n",
    "from langgraph.prebuilt import ToolNode, tools_condition\n",
    "\n",
    "class State(TypedDict):\n",
    "    messages: Annotated[list, add_messages]\n",
    "\n",
    "graph_builder = StateGraph(State)\n",
    "\n",
    "tool = TavilySearch(max_results=2)\n",
    "tools = [tool]\n",
    "llm_with_tools = llm.bind_tools(tools)\n",
    "\n",
    "def chatbot(state: State):\n",
    "    return {\"messages\": [llm_with_tools.invoke(state[\"messages\"])]}\n",
    "\n",
    "graph_builder.add_node(\"chatbot\", chatbot)\n",
    "\n",
    "tool_node = ToolNode(tools=[tool])\n",
    "graph_builder.add_node(\"tools\", tool_node)\n",
    "\n",
    "graph_builder.add_conditional_edges(\n",
    "    \"chatbot\",\n",
    "    tools_condition,\n",
    ")\n",
    "# Any time a tool is called, we return to the chatbot to decide the next step\n",
    "graph_builder.add_edge(\"tools\", \"chatbot\")\n",
    "graph_builder.add_edge(START, \"chatbot\")\n",
    "graph = graph_builder.compile()\n",
    "\n",
    "\n",
    "\n",
    "\n",
    "def stream_graph_updates(user_input: str):\n",
    "    for event in graph.stream({\"messages\": [{\"role\": \"user\", \"content\": user_input}]}):\n",
    "        for value in event.values():\n",
    "            print(\"Assistant:\", value[\"messages\"][-1].content)\n",
    "\n",
    "while True:\n",
    "    try:\n",
    "        user_input = input(\"User: \")\n",
    "        if user_input.lower() in [\"quit\", \"exit\", \"q\"]:\n",
    "            print(\"Goodbye!\")\n",
    "            break\n",
    "\n",
    "        stream_graph_updates(user_input)\n",
    "    except:\n",
    "        # fallback if input() is not available\n",
    "        user_input = \"What do you know about LangGraph?\"\n",
    "        print(\"User: \" + user_input)\n",
    "        stream_graph_updates(user_input)\n",
    "        break"
   ]
  },
  {
   "cell_type": "code",
   "execution_count": null,
   "id": "88a37d50-83e0-4f50-8cde-5861ef822776",
   "metadata": {},
   "outputs": [],
   "source": [
    "# Congratulations! You've created a conversational agent in LangGraph that can use a search engine to retrieve updated information when needed. Now it can handle a wider range of user queries. To inspect all the steps your agent just took, check out this LangSmith trace.\n",
    "# 恭喜！ 您已在 LangGraph 中创建了一个对话代理，它可以使用搜索引擎在需要时检索更新的信息。现在，它可以处理更广泛的用户查询。要检查代理刚刚执行的所有步骤，请查看此 LangSmith 跟踪记录 。\n",
    "\n"
   ]
  },
  {
   "cell_type": "code",
   "execution_count": null,
   "id": "805aec3c-1425-42e0-8b94-34f447567bfb",
   "metadata": {},
   "outputs": [],
   "source": [
    "# Next steps¶  下一步\n",
    "# The chatbot cannot remember past interactions on its own, which limits its ability to have coherent, multi-turn conversations. In the next part, you will add memory to address this.\n",
    "# 聊天机器人无法自行记住过去的互动，这限制了它进行连贯、多轮对话的能力。在下一部分中，你将添加记忆功能来解决这个问题。\n"
   ]
  },
  {
   "cell_type": "code",
   "execution_count": null,
   "id": "38fa7abe-2c7f-4d23-a8ab-df11da2b65ec",
   "metadata": {},
   "outputs": [],
   "source": []
  },
  {
   "cell_type": "code",
   "execution_count": null,
   "id": "3fd13b0f-432c-4444-9e24-2a591d04fc78",
   "metadata": {},
   "outputs": [],
   "source": []
  }
 ],
 "metadata": {
  "kernelspec": {
   "display_name": "Python 3 (ipykernel)",
   "language": "python",
   "name": "python3"
  },
  "language_info": {
   "codemirror_mode": {
    "name": "ipython",
    "version": 3
   },
   "file_extension": ".py",
   "mimetype": "text/x-python",
   "name": "python",
   "nbconvert_exporter": "python",
   "pygments_lexer": "ipython3",
   "version": "3.10.16"
  }
 },
 "nbformat": 4,
 "nbformat_minor": 5
}
