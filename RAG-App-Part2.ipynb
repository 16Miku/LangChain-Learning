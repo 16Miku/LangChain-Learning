{
 "cells": [
  {
   "cell_type": "code",
   "execution_count": null,
   "id": "cbee02ec-2089-49be-ba33-9b4d0bbec070",
   "metadata": {},
   "outputs": [],
   "source": [
    "# 官方教程文档\n",
    "# https://python.langchain.com/docs/tutorials/qa_chat_history/"
   ]
  },
  {
   "cell_type": "code",
   "execution_count": null,
   "id": "98487262-1e56-4faf-96ac-512dd20eb83b",
   "metadata": {},
   "outputs": [],
   "source": [
    "# 构建RAG应用程序：第二部分\n",
    "# 在许多问答应用程序中，我们希望用户能够进行来回的对话，这意味着应用程序需要某种“记忆”来记住过去的问答，并具备将这些信息融入当前思考的逻辑。\n",
    "\n",
    "# 本教程是多部分教程的第二部分：\n",
    "\n",
    "# 第一部分介绍了RAG并展示了一个最小实现。\n",
    "# 第二部分（本指南）将扩展实现，以适应对话式交互和多步检索过程。\n",
    "# 在这里，我们将重点放在添加整合历史消息的逻辑上，这涉及到聊天历史的管理。我们将涵盖两种方法：\n",
    "\n",
    "# 链（Chains）: 最多执行一个检索步骤。\n",
    "# 代理（Agents）: 赋予LLM自由裁量权，以执行多个检索步骤。\n",
    "# 注意: 这里介绍的方法利用了现代聊天模型的工具调用能力。\n",
    "\n",
    "# 对于外部知识源，我们将继续使用第一部分中Lilian Weng的博客文章“LLM Powered Autonomous Agents”。"
   ]
  },
  {
   "cell_type": "code",
   "execution_count": null,
   "id": "fd0c1266-aa1b-457d-8ef2-e1c7e3898a48",
   "metadata": {},
   "outputs": [],
   "source": [
    "# 环境设置 (Setup)\n",
    "# 在开始之前，我们需要安装一些必要的库并配置LangSmith（可选，但强烈推荐用于跟踪应用）。\n",
    "\n",
    "# 1.安装依赖:\n",
    "# 打开您的PowerShell命令行，然后执行以下pip安装命令。"
   ]
  },
  {
   "cell_type": "code",
   "execution_count": null,
   "id": "c36626cf-7030-4441-833c-8d81584619f8",
   "metadata": {},
   "outputs": [],
   "source": [
    "# pip install --quiet --upgrade langchain-text-splitters langchain-community langgraph beautifulsoup4 langchain langchain-core\n",
    "# pip install -qU \"langchain[google-genai]\"\n",
    "# pip install -qU langchain-google-genai\n",
    "# pip install -qU langchain-chroma"
   ]
  },
  {
   "cell_type": "code",
   "execution_count": null,
   "id": "b1bfcbe5-e3f1-42b0-a8c4-d37bfb8b7e26",
   "metadata": {},
   "outputs": [],
   "source": [
    "# --quiet 或 -q 参数是为了在安装过程中减少输出信息。\n",
    "# -U 参数是为了确保安装的库是最新版本。\n",
    "# 我额外添加了 langchain 和 langchain-core，以确保所有LangChain相关的核心组件都更新到最新，避免潜在的MRO（Method Resolution Order）错误。"
   ]
  },
  {
   "cell_type": "code",
   "execution_count": null,
   "id": "4ab1b983-b477-4d0c-b4de-050f2391d1e0",
   "metadata": {},
   "outputs": [],
   "source": [
    "# 2.LangSmith 配置 (可选但推荐):\n",
    "# LangSmith 是 LangChain 应用程序的调试、测试、评估和监控平台。它能帮助我们追踪复杂应用中的LLM调用。\n",
    "\n",
    "# 首先，您需要注册 LangSmith 并获取 LANGSMITH_API_KEY。然后，在您的PowerShell环境中设置环境变量："
   ]
  },
  {
   "cell_type": "code",
   "execution_count": null,
   "id": "eb5fe90e-785a-4fe9-9736-d18be2d65f50",
   "metadata": {},
   "outputs": [],
   "source": [
    "# $env:LANGSMITH_TRACING=\"true\"\n",
    "# $env:LANGSMITH_API_KEY=\"YOUR_LANGSMITH_API_KEY\""
   ]
  },
  {
   "cell_type": "code",
   "execution_count": null,
   "id": "94c9be46-969c-4db5-92f4-fde597d2a767",
   "metadata": {},
   "outputs": [],
   "source": [
    "# 请将 YOUR_LANGSMITH_API_KEY 替换为您自己的LangSmith API Key。\n",
    "\n",
    "# 或者，如果您在Jupyter Notebook中运行，可以使用Python代码设置："
   ]
  },
  {
   "cell_type": "code",
   "execution_count": null,
   "id": "ef03fb8c-d746-4521-a500-223f613fd25c",
   "metadata": {},
   "outputs": [],
   "source": [
    "import getpass\n",
    "import os\n",
    "\n",
    "os.environ[\"LANGSMITH_TRACING\"] = \"true\"\n",
    "# 如果您已经在PowerShell中设置了LANGSMITH_API_KEY，这里可以省略，\n",
    "# 否则，您可以通过getpass输入或直接赋值\n",
    "if not os.environ.get(\"LANGSMITH_API_KEY\"):\n",
    "    os.environ[\"LANGSMITH_API_KEY\"] = getpass.getpass(\"Enter your LangSmith API Key: \")\n",
    "print(\"LangSmith 跟踪已启用。\")"
   ]
  },
  {
   "cell_type": "code",
   "execution_count": null,
   "id": "b0c2d0e5-0a15-40e7-886b-dcc3dc872228",
   "metadata": {},
   "outputs": [],
   "source": [
    "# 3.组件选择:\n",
    "# 我们将从LangChain的集成套件中选择三个核心组件：\n",
    "\n",
    "# 选择聊天模型 (Chat Model):\n",
    "# 我们将使用Google Gemini模型。您需要一个Google Gemini API Key。"
   ]
  },
  {
   "cell_type": "code",
   "execution_count": 1,
   "id": "f2ed98af-1118-48f9-bbc3-a5901139e437",
   "metadata": {},
   "outputs": [
    {
     "name": "stdout",
     "output_type": "stream",
     "text": [
      "聊天模型 (LLM) 已初始化。\n"
     ]
    }
   ],
   "source": [
    "import getpass\n",
    "import os\n",
    "from langchain.chat_models import init_chat_model\n",
    "\n",
    "# 确保GOOGLE_API_KEY环境变量已设置\n",
    "if not os.environ.get(\"GOOGLE_API_KEY\"):\n",
    "    os.environ[\"GOOGLE_API_KEY\"] = getpass.getpass(\"Enter API key for Google Gemini: \")\n",
    "\n",
    "# 初始化聊天模型。 \"gemini-2.5-flash\"是模型名称，model_provider指定提供者。\n",
    "llm = init_chat_model(\"gemini-2.5-flash\", model_provider=\"google_genai\")\n",
    "print(\"聊天模型 (LLM) 已初始化。\")"
   ]
  },
  {
   "cell_type": "code",
   "execution_count": null,
   "id": "7482e4f0-4e78-4727-8565-b3cebc4ed9e8",
   "metadata": {},
   "outputs": [],
   "source": [
    "# 选择嵌入模型 (Embeddings Model):\n",
    "# 我们将使用Google Generative AI Embeddings。"
   ]
  },
  {
   "cell_type": "code",
   "execution_count": 2,
   "id": "98419935-75fe-4bc7-881d-c73b8e0bc492",
   "metadata": {},
   "outputs": [
    {
     "name": "stdout",
     "output_type": "stream",
     "text": [
      "嵌入模型 (Embeddings Model) 已初始化。\n"
     ]
    }
   ],
   "source": [
    "import getpass\n",
    "import os\n",
    "from langchain_google_genai import GoogleGenerativeAIEmbeddings\n",
    "\n",
    "# 确保GOOGLE_API_KEY环境变量已设置\n",
    "if not os.environ.get(\"GOOGLE_API_KEY\"):\n",
    "    os.environ[\"GOOGLE_API_KEY\"] = getpass.getpass(\"Enter API key for Google Gemini: \")\n",
    "\n",
    "# 初始化嵌入模型。 \"models/gemini-embedding-001\"是嵌入模型的名称。\n",
    "embeddings = GoogleGenerativeAIEmbeddings(model=\"models/gemini-embedding-001\")\n",
    "print(\"嵌入模型 (Embeddings Model) 已初始化。\")"
   ]
  },
  {
   "cell_type": "code",
   "execution_count": null,
   "id": "bc527565-97f2-4bdc-943a-992218bcceaf",
   "metadata": {},
   "outputs": [],
   "source": [
    "# 选择向量存储 (Vector Store):\n",
    "# 我们将使用Chroma作为向量存储，它是一个轻量级的本地向量数据库。"
   ]
  },
  {
   "cell_type": "code",
   "execution_count": 3,
   "id": "08a5cdb1-7afa-4053-ae4d-98a4e820d264",
   "metadata": {},
   "outputs": [
    {
     "name": "stdout",
     "output_type": "stream",
     "text": [
      "向量存储 (Vector Store) 已初始化。\n"
     ]
    }
   ],
   "source": [
    "from langchain_chroma import Chroma\n",
    "\n",
    "# 初始化向量存储\n",
    "# collection_name: 存储文档的集合名称，用于区分不同的数据集。\n",
    "# embedding_function: 指定用于生成文档嵌入的函数，这里使用我们之前初始化的embeddings模型。\n",
    "# persist_directory: 指定数据本地保存的路径。如果不需要持久化（例如每次运行都重新生成），可以移除此参数。\n",
    "vector_store = Chroma(\n",
    "    collection_name=\"example_collection\",\n",
    "    embedding_function=embeddings,\n",
    "    persist_directory=\"./chroma_langchain_db\",\n",
    ")\n",
    "print(\"向量存储 (Vector Store) 已初始化。\")"
   ]
  },
  {
   "cell_type": "code",
   "execution_count": null,
   "id": "ab964766-f1cf-4eeb-85b4-c7a7b1a45c4c",
   "metadata": {},
   "outputs": [],
   "source": []
  },
  {
   "cell_type": "code",
   "execution_count": null,
   "id": "9e33496f-9e2c-40cc-bdd0-2fa856ee3186",
   "metadata": {},
   "outputs": [],
   "source": [
    "# 链 (Chains)\n",
    "# 首先，让我们重新审视第一部分中构建的向量存储，它索引了Lilian Weng的博客文章“LLM Powered Autonomous Agents”。"
   ]
  },
  {
   "cell_type": "code",
   "execution_count": 4,
   "id": "eaba471c-6f6a-4fe9-8a66-669ff0846dbf",
   "metadata": {},
   "outputs": [
    {
     "name": "stderr",
     "output_type": "stream",
     "text": [
      "USER_AGENT environment variable not set, consider setting it to identify your requests.\n"
     ]
    },
    {
     "name": "stdout",
     "output_type": "stream",
     "text": [
      "开始加载文档...\n",
      "文档加载完成，共 1 篇文档。\n",
      "开始分割文档...\n",
      "文档分割完成，共 63 个文本块。\n",
      "开始索引文本块到向量存储...\n",
      "文本块索引完成。\n"
     ]
    }
   ],
   "source": [
    "import bs4 # 用于HTML解析\n",
    "from langchain import hub # 用于从LangChain Hub拉取提示模板\n",
    "from langchain_community.document_loaders import WebBaseLoader # 用于从网页加载文档\n",
    "from langchain_core.documents import Document # LangChain文档的基本数据结构\n",
    "from langchain_text_splitters import RecursiveCharacterTextSplitter # 用于递归文本分割\n",
    "from typing_extensions import List, TypedDict # 用于类型提示\n",
    "\n",
    "# --- 1. 索引阶段：加载并分块博客内容 ---\n",
    "print(\"开始加载文档...\")\n",
    "loader = WebBaseLoader(\n",
    "    web_paths=(\"https://lilianweng.github.io/posts/2023-06-23-agent/\",), # 指定要加载的网页URL\n",
    "    bs_kwargs=dict( # 传递给BeautifulSoup解析器的关键字参数\n",
    "        parse_only=bs4.SoupStrainer( # BeautifulSoup的过滤器，只解析指定class的HTML标签\n",
    "            class_=(\"post-content\", \"post-title\", \"post-header\") # 仅保留文章内容、标题和头部\n",
    "        )\n",
    "    ),\n",
    ")\n",
    "docs = loader.load() # 加载文档，返回Document对象列表\n",
    "print(f\"文档加载完成，共 {len(docs)} 篇文档。\")\n",
    "\n",
    "print(\"开始分割文档...\")\n",
    "text_splitter = RecursiveCharacterTextSplitter(\n",
    "    chunk_size=1000, # 每个文本块的最大字符数\n",
    "    chunk_overlap=200 # 文本块之间的重叠字符数，有助于保持上下文\n",
    ")\n",
    "all_splits = text_splitter.split_documents(docs) # 分割文档，返回更小的Document对象列表\n",
    "print(f\"文档分割完成，共 {len(all_splits)} 个文本块。\")\n",
    "\n",
    "# --- 2. 索引文本块到向量存储 ---\n",
    "print(\"开始索引文本块到向量存储...\")\n",
    "# 将所有分割后的文档添加到向量存储中。`_` 表示我们不关心返回的文档ID。\n",
    "_ = vector_store.add_documents(documents=all_splits)\n",
    "print(\"文本块索引完成。\")"
   ]
  },
  {
   "cell_type": "code",
   "execution_count": null,
   "id": "06d8dc98-f24f-4c45-8f44-4c5905c60d41",
   "metadata": {},
   "outputs": [],
   "source": [
    "# 这段代码与第一部分中的索引部分完全相同，它确保我们的向量存储是最新的，包含了博客文章的嵌入式文本块。"
   ]
  },
  {
   "cell_type": "code",
   "execution_count": null,
   "id": "99afbe77-933d-462e-a279-547b5750b2d0",
   "metadata": {},
   "outputs": [],
   "source": [
    "# 在RAG教程的第一部分中，我们将用户输入、检索到的上下文和生成的答案表示为状态中的独立键。对话体验可以用一系列消息自然地表示。除了来自用户和助手的消息外，检索到的文档和其他工件可以通过工具消息（Tool Messages）合并到消息序列中。这促使我们使用消息序列来表示RAG应用程序的状态。具体来说，我们将有：\n",
    "\n",
    "# 用户输入作为 HumanMessage；\n",
    "# 向量存储查询作为带有工具调用的 AIMessage；\n",
    "# 检索到的文档作为 ToolMessage；\n",
    "# 最终响应作为 AIMessage。\n",
    "# LangGraph提供了一个内置的 MessagesState，以方便这种状态模型："
   ]
  },
  {
   "cell_type": "code",
   "execution_count": 5,
   "id": "13fb2abf-e364-420d-8e90-4ebc5e8ea63a",
   "metadata": {},
   "outputs": [
    {
     "name": "stdout",
     "output_type": "stream",
     "text": [
      "LangGraph 的 MessagesState 已初始化。\n"
     ]
    }
   ],
   "source": [
    "from langgraph.graph import MessagesState, StateGraph\n",
    "\n",
    "# StateGraph 是 LangGraph 中用于定义图的基类。\n",
    "# MessagesState 是 LangGraph 提供的一个特殊的状态类型，它将所有消息存储在一个列表中。\n",
    "# 每次更新状态时，新消息都会被追加到 'messages' 列表中，而不是覆盖现有状态。\n",
    "graph_builder = StateGraph(MessagesState)\n",
    "print(\"LangGraph 的 MessagesState 已初始化。\")"
   ]
  },
  {
   "cell_type": "code",
   "execution_count": null,
   "id": "a50d89ca-ce90-4dda-88e2-4dd8ea7b1760",
   "metadata": {},
   "outputs": [],
   "source": [
    "# MessagesState 的使用极大地简化了对话历史的管理，因为它自动处理消息的追加，使我们能够轻松地构建具有记忆的对话应用程序。\n",
    "\n",
    "# 利用工具调用与检索步骤进行交互还有另一个好处，即检索的查询是由我们的模型生成的。这在对话设置中尤其重要，因为用户查询可能需要根据聊天历史进行上下文化。例如，考虑以下对话：\n",
    "\n",
    "# Human: “什么是任务分解？”\n",
    "# AI: “任务分解涉及将复杂任务分解为更小、更简单的步骤，使其更易于代理或模型管理。”\n",
    "# Human: “有哪些常见方法？”\n",
    "# 在这种情况下，模型可以生成一个查询，例如“任务分解的常见方法”。工具调用自然地促进了这一点。正如RAG教程的查询分析部分一样，这允许模型将用户查询重写为更有效的搜索查询。它还支持不涉及检索步骤的直接响应（例如，响应用户的通用问候）。\n",
    "\n",
    "# 现在，让我们将检索步骤转换为一个工具："
   ]
  },
  {
   "cell_type": "code",
   "execution_count": 6,
   "id": "1dcb239c-face-409f-8f56-de1c63d9ac38",
   "metadata": {},
   "outputs": [
    {
     "name": "stdout",
     "output_type": "stream",
     "text": [
      "检索工具 'retrieve' 已定义。\n"
     ]
    }
   ],
   "source": [
    "from langchain_core.tools import tool # 导入 tool 装饰器，用于将函数转换为工具\n",
    "\n",
    "@tool(response_format=\"content_and_artifact\") # 使用 @tool 装饰器将 retrieve 函数注册为一个工具\n",
    "def retrieve(query: str):\n",
    "    \"\"\"\n",
    "    检索工具：根据查询从向量存储中检索相关信息。\n",
    "    此工具被设计为由LLM调用，用于执行信息检索。\n",
    "\n",
    "    Args:\n",
    "        query (str): 用于搜索向量存储的查询字符串。\n",
    "\n",
    "    Returns:\n",
    "        tuple[str, List[Document]]:\n",
    "            - str: 序列化后的文档内容，用于LLM生成答案。\n",
    "            - List[Document]: 原始的检索到的文档对象列表，作为工件存储在状态中。\n",
    "    \"\"\"\n",
    "    print(f\"--- 正在执行工具: retrieve, 查询: '{query}' ---\")\n",
    "    # 从向量存储中执行相似性搜索，k=2表示检索最相似的2个文档。\n",
    "    retrieved_docs = vector_store.similarity_search(query, k=2)\n",
    "    # 将检索到的文档内容格式化为字符串，每个文档包含其元数据和内容。\n",
    "    serialized = \"\\n\\n\".join(\n",
    "        (f\"Source: {doc.metadata}\\nContent: {doc.page_content}\")\n",
    "        for doc in retrieved_docs\n",
    "    )\n",
    "    print(f\"--- 工具 'retrieve' 执行完成，检索到 {len(retrieved_docs)} 篇文档 ---\")\n",
    "    # 返回序列化内容和原始文档列表。\n",
    "    # response_format=\"content_and_artifact\" 允许工具返回两个值：\n",
    "    # 第一个值 (serialized) 作为 ToolMessage 的内容，\n",
    "    # 第二个值 (retrieved_docs) 作为 ToolMessage 的附加工件 (artifact) 存储。\n",
    "    return serialized, retrieved_docs\n",
    "\n",
    "print(\"检索工具 'retrieve' 已定义。\")"
   ]
  },
  {
   "cell_type": "code",
   "execution_count": null,
   "id": "e151fbf8-8ebe-4035-8c3c-12f4e090da4d",
   "metadata": {},
   "outputs": [],
   "source": [
    "# @tool(response_format=\"content_and_artifact\") 详解：\n",
    "\n",
    "# @tool 装饰器：这是LangChain提供的一种将普通Python函数转换为可被LLM调用的“工具”的方式。当LLM被赋予使用工具的能力时，它可以通过生成一个特殊的“工具调用”来调用这些函数。\n",
    "# response_format=\"content_and_artifact\"：这个参数告诉LangGraph（或LangChain的工具调用机制）如何处理工具的返回值。\n",
    "# content：工具返回的第一个值（这里是 serialized 字符串）将被用作 ToolMessage 的主要内容。LLM在后续生成答案时会直接看到这个内容。\n",
    "# artifact：工具返回的第二个值（这里是 retrieved_docs 列表）将被存储在 ToolMessage 的 additional_kwargs 字段中。这允许我们保留原始的文档对象，以便在需要时进行进一步处理或调试，而LLM的上下文不会被这些原始对象占用。"
   ]
  },
  {
   "cell_type": "code",
   "execution_count": null,
   "id": "d92e6322-2d73-41dd-9772-ea4d3da88c4d",
   "metadata": {},
   "outputs": [],
   "source": []
  },
  {
   "cell_type": "code",
   "execution_count": null,
   "id": "169fc96f-b91f-4ab7-a77b-87338714aeb5",
   "metadata": {},
   "outputs": [],
   "source": [
    "# 我们的图将由三个节点组成：\n",
    "\n",
    "# 1.query_or_respond 节点: 处理用户输入，要么生成一个用于检索器的查询，要么直接响应。\n",
    "# 2.tools 节点: 执行检索工具。\n",
    "# 3.generate 节点: 使用检索到的上下文生成最终响应。\n",
    "# 我们将在下面构建它们。请注意，我们利用了另一个预构建的LangGraph组件 ToolNode，它执行工具并将结果作为 ToolMessage 添加到状态中。"
   ]
  },
  {
   "cell_type": "code",
   "execution_count": 7,
   "id": "2ad5b5c8-fb72-4ce2-a50f-3c33b7db3cf8",
   "metadata": {},
   "outputs": [
    {
     "name": "stdout",
     "output_type": "stream",
     "text": [
      "工具节点 'tools' (ToolNode) 已初始化。\n",
      "生成节点 'generate' 已定义。\n"
     ]
    }
   ],
   "source": [
    "from langchain_core.messages import SystemMessage, HumanMessage, AIMessage, ToolMessage # 导入不同类型的消息\n",
    "from langgraph.prebuilt import ToolNode # 导入 LangGraph 的预构建 ToolNode\n",
    "\n",
    "# --- 节点 1: query_or_respond ---\n",
    "# 这个节点负责接收用户输入，并决定是调用检索工具还是直接回复。\n",
    "def query_or_respond(state: MessagesState):\n",
    "    \"\"\"\n",
    "    生成工具调用进行检索或直接响应。\n",
    "    这个节点是图的入口点，LLM会根据对话历史和当前用户输入决定下一步行动。\n",
    "    \"\"\"\n",
    "    print(\"--- 正在执行节点: query_or_respond ---\")\n",
    "    # 将 retrieve 工具绑定到 LLM。这意味着 LLM 现在知道如何使用这个工具。\n",
    "    # llm_with_tools 变成了一个 Runnable，当它认为合适时，可以生成一个 ToolCall。\n",
    "    llm_with_tools = llm.bind_tools([retrieve])\n",
    "    \n",
    "    # 调用 LLM，传入当前的状态消息列表。LLM会根据这些消息决定是生成一个普通回复\n",
    "    # 还是一个工具调用。\n",
    "    response = llm_with_tools.invoke(state[\"messages\"])\n",
    "    \n",
    "    # MessagesState 的特点是它将新消息追加到状态的 'messages' 列表中，而不是覆盖。\n",
    "    # 因此，我们返回一个包含新生成响应的字典，LangGraph 会将其追加到 `state[\"messages\"]`。\n",
    "    print(f\"--- 节点 'query_or_respond' 完成，LLM响应类型: {response.type} ---\")\n",
    "    return {\"messages\": [response]}\n",
    "\n",
    "# --- 节点 2: tools ---\n",
    "# 这个节点负责执行 LLM 生成的工具调用。\n",
    "# ToolNode 是 LangGraph 的一个预构建节点，它会自动解析并执行 LLM 生成的工具调用。\n",
    "# 它接收一个工具列表作为参数。\n",
    "tools = ToolNode([retrieve])\n",
    "print(\"工具节点 'tools' (ToolNode) 已初始化。\")\n",
    "\n",
    "# --- 节点 3: generate ---\n",
    "# 这个节点负责使用检索到的内容（如果有）和对话历史生成最终答案。\n",
    "def generate(state: MessagesState):\n",
    "    \"\"\"\n",
    "    生成答案。\n",
    "    这个节点在工具执行完毕后被调用，用于整合检索到的信息和对话历史来生成用户最终看到的答案。\n",
    "    \"\"\"\n",
    "    print(\"--- 正在执行节点: generate ---\")\n",
    "    # 获取最近的工具消息。这些消息包含了检索工具的执行结果。\n",
    "    recent_tool_messages = []\n",
    "    # 从消息列表的末尾向前遍历，查找类型为 \"tool\" 的消息。\n",
    "    # 这样做是为了确保我们只获取当前回合相关的工具消息。\n",
    "    for message in reversed(state[\"messages\"]):\n",
    "        if message.type == \"tool\":\n",
    "            recent_tool_messages.append(message)\n",
    "        else:\n",
    "            # 如果遇到非工具消息，说明已经超出了当前工具调用的范围，停止遍历。\n",
    "            break\n",
    "    # 将工具消息列表反转，使其按时间顺序排列（从旧到新）。\n",
    "    tool_messages = recent_tool_messages[::-1]\n",
    "\n",
    "    # 从工具消息中提取检索到的文档内容。\n",
    "    # 每个 tool_message.content 包含了 retrieve 工具返回的序列化文档内容。\n",
    "    docs_content = \"\\n\\n\".join(doc.content for doc in tool_messages)\n",
    "    \n",
    "    # 构建系统消息的内容，其中包含通用指令和检索到的上下文。\n",
    "    system_message_content = (\n",
    "        \"You are an assistant for question-answering tasks. \"\n",
    "        \"Use the following pieces of retrieved context to answer \"\n",
    "        \"the question. If you don't know the answer, say that you \"\n",
    "        \"don't know. Use three sentences maximum and keep the \"\n",
    "        \"answer concise.\"\n",
    "        \"\\n\\n\"\n",
    "        f\"Retrieved Context:\\n{docs_content}\" # 明确标记这是检索到的上下文\n",
    "    )\n",
    "    \n",
    "    # 过滤出用于生成最终答案的对话消息。\n",
    "    # 这里我们只保留 HumanMessage、SystemMessage，以及不包含工具调用的 AIMessage。\n",
    "    # 这样可以避免将LLM内部的工具调用思考过程暴露给最终用户。\n",
    "    conversation_messages = [\n",
    "        message\n",
    "        for message in state[\"messages\"]\n",
    "        if message.type in (\"human\", \"system\")\n",
    "        or (message.type == \"ai\" and not message.tool_calls)\n",
    "    ]\n",
    "    \n",
    "    # 构建最终的提示列表，系统消息在前，对话消息在后。\n",
    "    prompt = [SystemMessage(system_message_content)] + conversation_messages\n",
    "\n",
    "    # 调用 LLM 生成最终的响应。\n",
    "    response = llm.invoke(prompt)\n",
    "    \n",
    "    # 将生成的响应作为新的 AIMessage 追加到状态中。\n",
    "    print(f\"--- 节点 'generate' 完成，生成答案: {response.content[:50]}... ---\")\n",
    "    return {\"messages\": [response]}\n",
    "\n",
    "print(\"生成节点 'generate' 已定义。\")"
   ]
  },
  {
   "cell_type": "code",
   "execution_count": null,
   "id": "6c403604-0afe-45df-b1f0-8c0bf8b0237e",
   "metadata": {},
   "outputs": [],
   "source": [
    "# query_or_respond 节点详解：\n",
    "\n",
    "# llm.bind_tools([retrieve])：这是LangChain中一个强大的功能。它将一个或多个工具（这里是我们的 retrieve 工具）“绑定”到LLM上。这意味着LLM在生成响应时，除了生成文本，还可以选择生成一个 ToolCall，指示它想要调用哪个工具以及传递什么参数。\n",
    "# llm_with_tools.invoke(state[\"messages\"])：LLM接收当前所有的对话消息。如果它判断需要外部信息来回答问题，它会生成一个 ToolCall；如果它可以直接回答，或者只是一个问候，它会生成一个普通文本回复。\n",
    "# return {\"messages\": [response]}：LangGraph的 MessagesState 会自动将这个 response 追加到 state[\"messages\"] 列表中。"
   ]
  },
  {
   "cell_type": "code",
   "execution_count": null,
   "id": "0c63207b-0d48-44af-909b-45f56c9cb0e3",
   "metadata": {},
   "outputs": [],
   "source": [
    "# generate 节点详解：\n",
    "\n",
    "# recent_tool_messages 提取：为了确保只使用与当前问题相关的检索结果，我们从 state[\"messages\"] 中反向遍历，收集最近的 ToolMessage。\n",
    "# system_message_content 构建：将检索到的 docs_content 嵌入到系统提示中，明确告诉LLM这是它应该用来回答问题的上下文。\n",
    "# conversation_messages 过滤：这个列表只包含实际的对话消息，排除了LLM内部生成的工具调用消息，确保最终呈现给用户的对话是清晰和自然的。\n",
    "# llm.invoke(prompt)：最后，将包含系统指令、检索上下文和过滤后对话历史的完整提示传递给LLM，生成最终的用户可见答案。"
   ]
  },
  {
   "cell_type": "code",
   "execution_count": null,
   "id": "3587b53d-a547-4d9d-b0fa-8add0abd7203",
   "metadata": {},
   "outputs": [],
   "source": [
    "# 最后，我们编译我们的应用程序到一个单一的图对象中。在这个例子中，我们只是将这些步骤连接成一个序列。我们还允许第一个 query_or_respond 步骤“短路”（short-circuit），如果它没有生成工具调用，则直接响应用户。这使得我们的应用程序能够支持对话体验——例如，响应不需要检索步骤的通用问候。"
   ]
  },
  {
   "cell_type": "code",
   "execution_count": 8,
   "id": "258252cd-908f-4746-a3b7-507b535f289e",
   "metadata": {},
   "outputs": [
    {
     "name": "stdout",
     "output_type": "stream",
     "text": [
      "开始构建和编译LangGraph应用程序...\n",
      "LangGraph应用程序编译完成。\n"
     ]
    }
   ],
   "source": [
    "from langgraph.graph import END # 导入 LangGraph 的 END 节点，表示图的终止\n",
    "from langgraph.prebuilt import tools_condition # 导入 LangGraph 的预构建条件函数\n",
    "\n",
    "print(\"开始构建和编译LangGraph应用程序...\")\n",
    "# 添加节点到图构建器\n",
    "graph_builder.add_node(query_or_respond) # 添加处理用户输入/生成查询的节点\n",
    "graph_builder.add_node(tools) # 添加执行工具的节点\n",
    "graph_builder.add_node(generate) # 添加生成最终答案的节点\n",
    "\n",
    "# 设置图的入口点\n",
    "graph_builder.set_entry_point(\"query_or_respond\") # 应用程序从 query_or_respond 节点开始执行\n",
    "\n",
    "# 添加条件边：根据 query_or_respond 的输出决定下一步走向\n",
    "# tools_condition 是 LangGraph 的一个预构建函数，它检查LLM的响应是否包含工具调用。\n",
    "# 如果包含工具调用，则走向 \"tools\" 节点。\n",
    "# 如果不包含工具调用（即LLM直接生成了答案），则走向 END 节点，结束执行。\n",
    "graph_builder.add_conditional_edges(\n",
    "    \"query_or_respond\", # 条件判断的来源节点\n",
    "    tools_condition,    # 用于判断的条件函数\n",
    "    {\n",
    "        END: END,       # 如果条件函数返回 END，则图执行结束\n",
    "        \"tools\": \"tools\" # 如果条件函数返回 \"tools\"，则图执行转向 \"tools\" 节点\n",
    "    },\n",
    ")\n",
    "\n",
    "# 添加常规边：定义确定性的流程\n",
    "graph_builder.add_edge(\"tools\", \"generate\") # \"tools\" 节点执行完毕后，总是转向 \"generate\" 节点\n",
    "graph_builder.add_edge(\"generate\", END) # \"generate\" 节点执行完毕后，总是转向 END 节点，结束执行\n",
    "\n",
    "# 编译图，生成可执行的应用程序\n",
    "graph = graph_builder.compile()\n",
    "print(\"LangGraph应用程序编译完成。\")"
   ]
  },
  {
   "cell_type": "code",
   "execution_count": null,
   "id": "5928bce0-2885-4557-a37a-7e4c5d58c648",
   "metadata": {},
   "outputs": [],
   "source": [
    "# graph_builder.add_conditional_edges 详解：\n",
    "\n",
    "# 这是LangGraph中实现条件逻辑的关键。它允许图根据某个节点的输出动态地选择下一个执行路径。\n",
    "# \"query_or_respond\"：指定了条件判断发生在哪一个节点之后。\n",
    "# tools_condition：这是一个函数，它会检查 query_or_respond 节点产生的最新消息。如果消息包含 tool_calls（即LLM决定调用工具），它会返回一个特定的键（通常是 tools）；如果消息不包含 tool_calls（即LLM直接给出了文本响应），它会返回 END。\n",
    "# {END: END, \"tools\": \"tools\"}：这是一个映射，将 tools_condition 的返回值映射到下一个节点。\n",
    "# END: END：如果 tools_condition 返回 END，则图的执行终止。这处理了LLM直接回答问题或问候的情况。\n",
    "# \"tools\": \"tools\"：如果 tools_condition 返回 \"tools\"，则图的执行转向名为 \"tools\" 的节点（即我们的 ToolNode）。"
   ]
  },
  {
   "cell_type": "code",
   "execution_count": null,
   "id": "6c5d54bc-7cff-41fe-82de-bffb79e89dbe",
   "metadata": {},
   "outputs": [],
   "source": []
  },
  {
   "cell_type": "code",
   "execution_count": null,
   "id": "5cdf2769-7713-4f88-bbbd-a019781aa9e0",
   "metadata": {},
   "outputs": [],
   "source": [
    "# LangGraph流程图："
   ]
  },
  {
   "cell_type": "code",
   "execution_count": 9,
   "id": "86cec86a-8360-4700-a20c-989d53542e58",
   "metadata": {},
   "outputs": [
    {
     "data": {
      "image/png": "[encoded data removed]",
      "text/plain": [
       "<IPython.core.display.Image object>"
      ]
     },
     "metadata": {},
     "output_type": "display_data"
    }
   ],
   "source": [
    "from IPython.display import Image, display\n",
    "\n",
    "# 绘制Mermaid图并显示\n",
    "# 注意：这需要在您的环境中安装Graphviz或类似的工具来渲染图像。\n",
    "# 如果您在JupyterLab中遇到问题，可能需要安装'python-graphviz'和'graphviz'系统包。\n",
    "# 例如：pip install graphviz 和 sudo apt-get install graphviz (Linux) 或 brew install graphviz (macOS)\n",
    "display(Image(graph.get_graph().draw_mermaid_png()))"
   ]
  },
  {
   "cell_type": "code",
   "execution_count": null,
   "id": "2ed5293c-589b-40d0-9c8e-83251852bd67",
   "metadata": {},
   "outputs": [],
   "source": [
    "# 让我们测试我们的应用程序。\n",
    "\n",
    "# 请注意，它会适当地响应不需要额外检索步骤的消息："
   ]
  },
  {
   "cell_type": "code",
   "execution_count": 10,
   "id": "122b1531-d7ec-44dc-b4a9-3567a36782fe",
   "metadata": {},
   "outputs": [
    {
     "name": "stdout",
     "output_type": "stream",
     "text": [
      "--- 测试简单问候，输入: 'Hello' ---\n",
      "================================\u001b[1m Human Message \u001b[0m=================================\n",
      "\n",
      "Hello\n",
      "--- 正在执行节点: query_or_respond ---\n",
      "--- 节点 'query_or_respond' 完成，LLM响应类型: ai ---\n",
      "==================================\u001b[1m Ai Message \u001b[0m==================================\n",
      "\n",
      "Hello! How can I help you today?\n"
     ]
    }
   ],
   "source": [
    "# 确保 graph 变量在此处可用\n",
    "input_message = \"Hello\" # 用户输入一个简单的问候\n",
    "\n",
    "print(f\"--- 测试简单问候，输入: '{input_message}' ---\")\n",
    "# 调用图的 stream 方法，以流式模式获取每个步骤的输出。\n",
    "# stream_mode=\"values\" 表示每个步骤完成后返回整个状态的最新值。\n",
    "for step in graph.stream(\n",
    "    {\"messages\": [HumanMessage(content=input_message)]}, # 初始状态包含一个 HumanMessage\n",
    "    stream_mode=\"values\",\n",
    "):\n",
    "    # 打印每个步骤中最新的消息。\n",
    "    # pretty_print() 是 LangChain 消息对象的一个方法，用于美观地打印消息内容。\n",
    "    step[\"messages\"][-1].pretty_print()"
   ]
  },
  {
   "cell_type": "code",
   "execution_count": null,
   "id": "e5726617-b493-41d0-a656-1c8c0099ab5f",
   "metadata": {},
   "outputs": [],
   "source": [
    "# 这里 query_or_respond 节点中的LLM判断“Hello”不需要工具调用，直接生成了问候语，并通过 tools_condition 短路到 END。"
   ]
  },
  {
   "cell_type": "code",
   "execution_count": null,
   "id": "bef33ca3-f4c7-43ee-825f-7f6a12f31664",
   "metadata": {},
   "outputs": [],
   "source": [
    "# 当执行搜索时，我们可以流式传输步骤，以观察查询生成、检索和答案生成："
   ]
  },
  {
   "cell_type": "code",
   "execution_count": 11,
   "id": "d6ae754d-da8a-4edb-9726-7d3ac62572c1",
   "metadata": {},
   "outputs": [
    {
     "name": "stdout",
     "output_type": "stream",
     "text": [
      "\n",
      "--- 测试RAG问答，输入: 'What is Task Decomposition?' ---\n",
      "================================\u001b[1m Human Message \u001b[0m=================================\n",
      "\n",
      "What is Task Decomposition?\n",
      "--- 正在执行节点: query_or_respond ---\n",
      "--- 节点 'query_or_respond' 完成，LLM响应类型: ai ---\n",
      "==================================\u001b[1m Ai Message \u001b[0m==================================\n",
      "Tool Calls:\n",
      "  retrieve (985d37ab-7c6e-4c0d-8b46-18f194f2a90a)\n",
      " Call ID: 985d37ab-7c6e-4c0d-8b46-18f194f2a90a\n",
      "  Args:\n",
      "    query: Task Decomposition\n",
      "--- 正在执行工具: retrieve, 查询: 'Task Decomposition' ---\n",
      "--- 工具 'retrieve' 执行完成，检索到 2 篇文档 ---\n",
      "=================================\u001b[1m Tool Message \u001b[0m=================================\n",
      "Name: retrieve\n",
      "\n",
      "Source: {'source': 'https://lilianweng.github.io/posts/2023-06-23-agent/', 'start_index': 2578}\n",
      "Content: Task decomposition can be done (1) by LLM with simple prompting like \"Steps for XYZ.\\n1.\", \"What are the subgoals for achieving XYZ?\", (2) by using task-specific instructions; e.g. \"Write a story outline.\" for writing a novel, or (3) with human inputs.\n",
      "Another quite distinct approach, LLM+P (Liu et al. 2023), involves relying on an external classical planner to do long-horizon planning. This approach utilizes the Planning Domain Definition Language (PDDL) as an intermediate interface to describe the planning problem. In this process, LLM (1) translates the problem into “Problem PDDL”, then (2) requests a classical planner to generate a PDDL plan based on an existing “Domain PDDL”, and finally (3) translates the PDDL plan back into natural language. Essentially, the planning step is outsourced to an external tool, assuming the availability of domain-specific PDDL and a suitable planner which is common in certain robotic setups but not in many other domains.\n",
      "Self-Reflection#\n",
      "\n",
      "Source: {'source': 'https://lilianweng.github.io/posts/2023-06-23-agent/', 'start_index': 2578}\n",
      "Content: Task decomposition can be done (1) by LLM with simple prompting like \"Steps for XYZ.\\n1.\", \"What are the subgoals for achieving XYZ?\", (2) by using task-specific instructions; e.g. \"Write a story outline.\" for writing a novel, or (3) with human inputs.\n",
      "Another quite distinct approach, LLM+P (Liu et al. 2023), involves relying on an external classical planner to do long-horizon planning. This approach utilizes the Planning Domain Definition Language (PDDL) as an intermediate interface to describe the planning problem. In this process, LLM (1) translates the problem into “Problem PDDL”, then (2) requests a classical planner to generate a PDDL plan based on an existing “Domain PDDL”, and finally (3) translates the PDDL plan back into natural language. Essentially, the planning step is outsourced to an external tool, assuming the availability of domain-specific PDDL and a suitable planner which is common in certain robotic setups but not in many other domains.\n",
      "Self-Reflection#\n",
      "--- 正在执行节点: generate ---\n",
      "--- 节点 'generate' 完成，生成答案: Task decomposition involves breaking down a larger... ---\n",
      "==================================\u001b[1m Ai Message \u001b[0m==================================\n",
      "\n",
      "Task decomposition involves breaking down a larger task into smaller, more manageable steps or subgoals. This can be achieved through methods such as using an LLM with simple prompts to identify steps, providing task-specific instructions, or incorporating human inputs.\n"
     ]
    }
   ],
   "source": [
    "# 确保 graph 变量在此处可用\n",
    "input_message = \"What is Task Decomposition?\" # 用户输入一个需要检索的问题\n",
    "\n",
    "print(f\"\\n--- 测试RAG问答，输入: '{input_message}' ---\")\n",
    "# 以流式模式调用图\n",
    "for step in graph.stream(\n",
    "    {\"messages\": [HumanMessage(content=input_message)]}, # 初始状态包含一个 HumanMessage\n",
    "    stream_mode=\"values\",\n",
    "):\n",
    "    # 打印每个步骤中最新的消息\n",
    "    step[\"messages\"][-1].pretty_print()"
   ]
  },
  {
   "cell_type": "code",
   "execution_count": null,
   "id": "54e8e634-1afd-4804-b172-b73a5ab857cc",
   "metadata": {},
   "outputs": [],
   "source": [
    "# 在这里，LLM 在 query_or_respond 步骤中识别出需要检索，生成了 retrieve 工具调用，tools 节点执行了检索，然后 generate 节点利用检索到的信息和原始问题生成了最终答案。"
   ]
  },
  {
   "cell_type": "code",
   "execution_count": null,
   "id": "f34470ed-6c6c-46a1-890b-3e27ea9b8bd7",
   "metadata": {},
   "outputs": [],
   "source": []
  },
  {
   "cell_type": "code",
   "execution_count": null,
   "id": "63abfac6-4a13-403f-9237-e038b7656c4d",
   "metadata": {},
   "outputs": [],
   "source": [
    "# 聊天历史的状态管理 (Stateful management of chat history)\n",
    "# 在生产环境中，问答应用程序通常会将聊天历史持久化到数据库中，并能够适当地读取和更新它。\n",
    "\n",
    "# LangGraph 实现了一个内置的持久化层，使其成为支持多轮对话的聊天应用程序的理想选择。\n",
    "\n",
    "# 为了管理多轮对话和线程，我们所要做的就是在编译应用程序时指定一个 checkpointer。由于图中的节点将消息追加到状态中，我们将在不同的调用中保留一致的聊天历史。\n",
    "\n",
    "# LangGraph 提供了一个简单的内存检查点器 (MemorySaver)，我们将在下面使用它。有关更多详细信息，包括如何使用不同的持久化后端（例如 SQLite 或 Postgres），请参阅其文档。"
   ]
  },
  {
   "cell_type": "code",
   "execution_count": 12,
   "id": "040c2809-08dc-43f4-921b-3d8595d1dfc6",
   "metadata": {},
   "outputs": [
    {
     "name": "stdout",
     "output_type": "stream",
     "text": [
      "内存检查点器 (MemorySaver) 已初始化。\n",
      "LangGraph应用程序已使用 MemorySaver 重新编译。\n",
      "已设置对话线程ID: abc123\n"
     ]
    }
   ],
   "source": [
    "from langgraph.checkpoint.memory import MemorySaver # 导入内存检查点器\n",
    "\n",
    "# 创建一个 MemorySaver 实例。\n",
    "# MemorySaver 会将图的状态保存在内存中，允许在不同调用之间保持对话历史。\n",
    "memory = MemorySaver()\n",
    "print(\"内存检查点器 (MemorySaver) 已初始化。\")\n",
    "\n",
    "# 重新编译图，并指定 checkpointer。\n",
    "# 这样，图在每次运行时都会使用 memory 对象来保存和恢复状态。\n",
    "graph = graph_builder.compile(checkpointer=memory)\n",
    "print(\"LangGraph应用程序已使用 MemorySaver 重新编译。\")\n",
    "\n",
    "# 为对话线程指定一个ID。\n",
    "# 这个ID用于区分不同的对话线程，MemorySaver 会为每个 thread_id 存储独立的对话历史。\n",
    "config = {\"configurable\": {\"thread_id\": \"abc123\"}}\n",
    "print(f\"已设置对话线程ID: {config['configurable']['thread_id']}\")"
   ]
  },
  {
   "cell_type": "code",
   "execution_count": null,
   "id": "096ff600-e2b1-4fc9-a666-070edb61f186",
   "metadata": {},
   "outputs": [],
   "source": [
    "# MemorySaver 详解：\n",
    "\n",
    "# MemorySaver 是LangGraph提供的一个简单的持久化实现，它将每个对话线程的状态保存在Python进程的内存中。\n",
    "# checkpointer=memory：在 graph_builder.compile() 中传入 checkpointer 参数，告诉LangGraph使用这个 memory 对象来管理图的状态持久化。\n",
    "# config = {\"configurable\": {\"thread_id\": \"abc123\"}}：这是LangChain/LangGraph中用于配置可配置组件（如checkpointer）的标准方式。thread_id 是一个唯一的标识符，用于识别特定的对话会话。每次调用 graph.stream 或 graph.invoke 时，如果传入相同的 thread_id，LangGraph就会加载并更新该 thread_id 对应的历史状态。\n",
    "# 我们现在可以像以前一样调用："
   ]
  },
  {
   "cell_type": "code",
   "execution_count": 18,
   "id": "10330a9b-433a-4e62-96d9-58220d59a693",
   "metadata": {},
   "outputs": [
    {
     "name": "stdout",
     "output_type": "stream",
     "text": [
      "--- 第一次询问，输入: 'What is Task Decomposition?' ---\n",
      "================================\u001b[1m Human Message \u001b[0m=================================\n",
      "\n",
      "What is Task Decomposition?\n",
      "--- 正在执行节点: query_or_respond ---\n",
      "--- 节点 'query_or_respond' 完成，LLM响应类型: ai ---\n",
      "==================================\u001b[1m Ai Message \u001b[0m==================================\n",
      "Tool Calls:\n",
      "  retrieve (fc97bc07-e24a-459d-9963-d529e598caf5)\n",
      " Call ID: fc97bc07-e24a-459d-9963-d529e598caf5\n",
      "  Args:\n",
      "    query: Task Decomposition\n",
      "--- 正在执行工具: retrieve, 查询: 'Task Decomposition' ---\n",
      "--- 工具 'retrieve' 执行完成，检索到 2 篇文档 ---\n",
      "=================================\u001b[1m Tool Message \u001b[0m=================================\n",
      "Name: retrieve\n",
      "\n",
      "Source: {'source': 'https://lilianweng.github.io/posts/2023-06-23-agent/', 'start_index': 2578}\n",
      "Content: Task decomposition can be done (1) by LLM with simple prompting like \"Steps for XYZ.\\n1.\", \"What are the subgoals for achieving XYZ?\", (2) by using task-specific instructions; e.g. \"Write a story outline.\" for writing a novel, or (3) with human inputs.\n",
      "Another quite distinct approach, LLM+P (Liu et al. 2023), involves relying on an external classical planner to do long-horizon planning. This approach utilizes the Planning Domain Definition Language (PDDL) as an intermediate interface to describe the planning problem. In this process, LLM (1) translates the problem into “Problem PDDL”, then (2) requests a classical planner to generate a PDDL plan based on an existing “Domain PDDL”, and finally (3) translates the PDDL plan back into natural language. Essentially, the planning step is outsourced to an external tool, assuming the availability of domain-specific PDDL and a suitable planner which is common in certain robotic setups but not in many other domains.\n",
      "Self-Reflection#\n",
      "\n",
      "Source: {'source': 'https://lilianweng.github.io/posts/2023-06-23-agent/', 'start_index': 2578}\n",
      "Content: Task decomposition can be done (1) by LLM with simple prompting like \"Steps for XYZ.\\n1.\", \"What are the subgoals for achieving XYZ?\", (2) by using task-specific instructions; e.g. \"Write a story outline.\" for writing a novel, or (3) with human inputs.\n",
      "Another quite distinct approach, LLM+P (Liu et al. 2023), involves relying on an external classical planner to do long-horizon planning. This approach utilizes the Planning Domain Definition Language (PDDL) as an intermediate interface to describe the planning problem. In this process, LLM (1) translates the problem into “Problem PDDL”, then (2) requests a classical planner to generate a PDDL plan based on an existing “Domain PDDL”, and finally (3) translates the PDDL plan back into natural language. Essentially, the planning step is outsourced to an external tool, assuming the availability of domain-specific PDDL and a suitable planner which is common in certain robotic setups but not in many other domains.\n",
      "Self-Reflection#\n",
      "--- 正在执行节点: generate ---\n",
      "--- 节点 'generate' 完成，生成答案: Task decomposition is the process of breaking down... ---\n",
      "==================================\u001b[1m Ai Message \u001b[0m==================================\n",
      "\n",
      "Task decomposition is the process of breaking down a larger task into smaller, more manageable steps or subgoals. This can be achieved by an LLM using simple prompts, through task-specific instructions, or with human input.\n"
     ]
    }
   ],
   "source": [
    "# 确保 graph 和 config 变量在此处可用\n",
    "input_message = \"What is Task Decomposition?\"\n",
    "\n",
    "print(f\"--- 第一次询问，输入: '{input_message}' ---\")\n",
    "for step in graph.stream(\n",
    "    {\"messages\": [HumanMessage(content=input_message)]},\n",
    "    stream_mode=\"values\",\n",
    "    config=config, # 传入配置，启用状态持久化\n",
    "):\n",
    "    step[\"messages\"][-1].pretty_print()"
   ]
  },
  {
   "cell_type": "code",
   "execution_count": null,
   "id": "5083b057-bade-466d-9c6c-9743eaa1e9df",
   "metadata": {},
   "outputs": [],
   "source": [
    "# 现在，我们进行第二次询问，这次的问题依赖于之前的上下文："
   ]
  },
  {
   "cell_type": "code",
   "execution_count": 19,
   "id": "1dc8727c-d42e-496b-9c57-5d7f3411b069",
   "metadata": {},
   "outputs": [
    {
     "name": "stdout",
     "output_type": "stream",
     "text": [
      "\n",
      "--- 第二次询问，输入: 'Can you look up some common ways of doing it?' ---\n",
      "================================\u001b[1m Human Message \u001b[0m=================================\n",
      "\n",
      "Can you look up some common ways of doing it?\n",
      "--- 正在执行节点: query_or_respond ---\n",
      "--- 节点 'query_or_respond' 完成，LLM响应类型: ai ---\n",
      "==================================\u001b[1m Ai Message \u001b[0m==================================\n",
      "\n",
      "Common ways to perform task decomposition include:\n",
      "\n",
      "1.  **Using an LLM with simple prompting:** This involves giving the LLM prompts like \"Steps for XYZ.\\n1.\" or \"What are the subgoals for achieving XYZ?\" to guide it in breaking down the task.\n",
      "2.  **Using task-specific instructions:** Providing the LLM with specific instructions tailored to the task, such as \"Write a story outline.\" for a novel-writing task.\n",
      "3.  **With human inputs:** Directly involving human users to define or refine the sub-tasks.\n"
     ]
    }
   ],
   "source": [
    "# 确保 graph 和 config 变量在此处可用\n",
    "input_message = \"Can you look up some common ways of doing it?\" # 第二次询问，依赖于“Task Decomposition”的上下文\n",
    "\n",
    "print(f\"\\n--- 第二次询问，输入: '{input_message}' ---\")\n",
    "for step in graph.stream(\n",
    "    {\"messages\": [HumanMessage(content=input_message)]},\n",
    "    stream_mode=\"values\",\n",
    "    config=config, # 再次传入相同的配置，以便加载之前的对话历史\n",
    "):\n",
    "    step[\"messages\"][-1].pretty_print()"
   ]
  },
  {
   "cell_type": "code",
   "execution_count": null,
   "id": "ec2f93a2-ec32-4212-be1a-dcda34987359",
   "metadata": {},
   "outputs": [],
   "source": [
    "# 请注意，在第二个问题中，模型生成的查询 (common methods of task decomposition) 包含了对话上下文。这是因为 query_or_respond 节点中的LLM在生成查询时，能够访问并理解 state[\"messages\"] 中完整的对话历史。\n",
    "\n",
    "# LangSmith 跟踪在这里特别有信息量，因为我们可以清楚地看到在每个步骤中，聊天模型看到了哪些消息。"
   ]
  },
  {
   "cell_type": "code",
   "execution_count": null,
   "id": "b213c163-1c2c-48d7-8fcf-3894b996b73e",
   "metadata": {},
   "outputs": [],
   "source": []
  },
  {
   "cell_type": "code",
   "execution_count": null,
   "id": "ab2bda64-7413-435e-a88b-0c540c10bc72",
   "metadata": {},
   "outputs": [],
   "source": [
    "# 代理 (Agents)\n",
    "# 代理利用LLM的推理能力在执行过程中做出决策。使用代理可以让你在检索过程中获得额外的自由裁量权。虽然它们的行为不如上述“链”可预测，但它们能够执行多个检索步骤以满足查询，或迭代单个搜索。\n",
    "\n",
    "# 下面我们组装一个最小的RAG代理。使用LangGraph预构建的ReAct代理构造函数，我们可以在一行代码中完成此操作。\n",
    "\n",
    "# 提示: 查看LangGraph的Agentic RAG教程，了解更高级的代理实现。"
   ]
  },
  {
   "cell_type": "code",
   "execution_count": 20,
   "id": "04e3009e-6510-4d5f-83df-e144cd16e44f",
   "metadata": {},
   "outputs": [
    {
     "name": "stdout",
     "output_type": "stream",
     "text": [
      "ReAct 代理 (agent_executor) 已创建并编译。\n"
     ]
    }
   ],
   "source": [
    "from langgraph.prebuilt import create_react_agent # 导入 LangGraph 预构建的 ReAct 代理构造函数\n",
    "\n",
    "# 使用 create_react_agent 函数创建一个 ReAct 代理。\n",
    "# llm: 指定用于代理的语言模型。\n",
    "# tools: 指定代理可以使用的工具列表（这里是我们的 retrieve 工具）。\n",
    "# checkpointer: 指定用于持久化代理状态的检查点器（这里是之前定义的 memory）。\n",
    "agent_executor = create_react_agent(llm, [retrieve], checkpointer=memory)\n",
    "print(\"ReAct 代理 (agent_executor) 已创建并编译。\")"
   ]
  },
  {
   "cell_type": "code",
   "execution_count": null,
   "id": "decee497-589d-431b-a521-6b2e3ba52b9e",
   "metadata": {},
   "outputs": [],
   "source": [
    "# create_react_agent 详解：\n",
    "\n",
    "# create_react_agent 是LangGraph提供的一个高级抽象，它基于ReAct（Reasoning and Acting）范式构建了一个代理。\n",
    "# ReAct 代理的工作原理是：LLM会观察当前的对话历史和工具输出，然后思考（Reason）下一步应该做什么（是回答问题，还是调用工具），然后行动（Act）（调用工具或给出最终答案）。这个过程可以循环多次，直到LLM认为问题已解决。\n",
    "# 通过 llm 和 [retrieve] 参数，我们告诉代理使用哪个LLM进行推理，以及它可以使用哪些工具。\n",
    "# checkpointer=memory 确保了代理的对话历史和思考过程也能被持久化，从而支持多轮复杂对话。\n",
    "# 让我们检查一下代理的图："
   ]
  },
  {
   "cell_type": "code",
   "execution_count": 21,
   "id": "f02680b5-ff9a-4aef-af1d-7504efc71598",
   "metadata": {},
   "outputs": [
    {
     "data": {
      "image/png": "[encoded data removed]",
      "text/plain": [
       "<IPython.core.display.Image object>"
      ]
     },
     "metadata": {},
     "output_type": "display_data"
    }
   ],
   "source": [
    "from IPython.display import Image, display\n",
    "\n",
    "display(Image(agent_executor.get_graph().draw_mermaid_png()))"
   ]
  },
  {
   "cell_type": "code",
   "execution_count": null,
   "id": "72c978ed-b650-4e74-9fd6-8fd8f300899e",
   "metadata": {},
   "outputs": [],
   "source": [
    "# 代理图与链图的关键区别：\n",
    "\n",
    "# 循环（Looping）: 代理图的关键区别在于，它不是在 generate 步骤之后结束运行，而是工具调用之后会循环回到原始的LLM调用（这里是 agent 节点）。这意味着LLM可以根据检索到的上下文决定是回答问题，还是生成另一个工具调用以获取更多信息。\n",
    "# 决策权: 代理赋予LLM更大的决策权，让它自己判断是否需要多次检索，以及如何组合信息来回答复杂问题。\n",
    "# 让我们测试一下。我们构建一个通常需要迭代检索步骤才能回答的问题："
   ]
  },
  {
   "cell_type": "code",
   "execution_count": 27,
   "id": "d98be70c-423a-437f-a394-e8393c71e92a",
   "metadata": {},
   "outputs": [
    {
     "name": "stdout",
     "output_type": "stream",
     "text": [
      "已设置新的对话线程ID: def222\n",
      "\n",
      "--- 测试代理多步检索，输入: 'What is the standard method for Task Decomposition?\n",
      "\n",
      "Once you get the answer, look up common extensions of that method.' ---\n",
      "================================\u001b[1m Human Message \u001b[0m=================================\n",
      "\n",
      "What is the standard method for Task Decomposition?\n",
      "\n",
      "Once you get the answer, look up common extensions of that method.\n",
      "==================================\u001b[1m Ai Message \u001b[0m==================================\n",
      "Tool Calls:\n",
      "  retrieve (fff68099-b7a4-4c93-ab9d-168c474672a8)\n",
      " Call ID: fff68099-b7a4-4c93-ab9d-168c474672a8\n",
      "  Args:\n",
      "    query: standard method for Task Decomposition\n",
      "--- 正在执行工具: retrieve, 查询: 'standard method for Task Decomposition' ---\n",
      "--- 工具 'retrieve' 执行完成，检索到 2 篇文档 ---\n",
      "=================================\u001b[1m Tool Message \u001b[0m=================================\n",
      "Name: retrieve\n",
      "\n",
      "Source: {'start_index': 2578, 'source': 'https://lilianweng.github.io/posts/2023-06-23-agent/'}\n",
      "Content: Task decomposition can be done (1) by LLM with simple prompting like \"Steps for XYZ.\\n1.\", \"What are the subgoals for achieving XYZ?\", (2) by using task-specific instructions; e.g. \"Write a story outline.\" for writing a novel, or (3) with human inputs.\n",
      "Another quite distinct approach, LLM+P (Liu et al. 2023), involves relying on an external classical planner to do long-horizon planning. This approach utilizes the Planning Domain Definition Language (PDDL) as an intermediate interface to describe the planning problem. In this process, LLM (1) translates the problem into “Problem PDDL”, then (2) requests a classical planner to generate a PDDL plan based on an existing “Domain PDDL”, and finally (3) translates the PDDL plan back into natural language. Essentially, the planning step is outsourced to an external tool, assuming the availability of domain-specific PDDL and a suitable planner which is common in certain robotic setups but not in many other domains.\n",
      "Self-Reflection#\n",
      "\n",
      "Source: {'start_index': 2578, 'source': 'https://lilianweng.github.io/posts/2023-06-23-agent/'}\n",
      "Content: Task decomposition can be done (1) by LLM with simple prompting like \"Steps for XYZ.\\n1.\", \"What are the subgoals for achieving XYZ?\", (2) by using task-specific instructions; e.g. \"Write a story outline.\" for writing a novel, or (3) with human inputs.\n",
      "Another quite distinct approach, LLM+P (Liu et al. 2023), involves relying on an external classical planner to do long-horizon planning. This approach utilizes the Planning Domain Definition Language (PDDL) as an intermediate interface to describe the planning problem. In this process, LLM (1) translates the problem into “Problem PDDL”, then (2) requests a classical planner to generate a PDDL plan based on an existing “Domain PDDL”, and finally (3) translates the PDDL plan back into natural language. Essentially, the planning step is outsourced to an external tool, assuming the availability of domain-specific PDDL and a suitable planner which is common in certain robotic setups but not in many other domains.\n",
      "Self-Reflection#\n",
      "==================================\u001b[1m Ai Message \u001b[0m==================================\n",
      "\n",
      "Task decomposition can be performed through three main methods:\n",
      "\n",
      "1.  **LLM with simple prompting**: This involves using a Large Language Model (LLM) with straightforward prompts, such as \"Steps for XYZ.\\n1.\" or \"What are the subgoals for achieving XYZ?\".\n",
      "2.  **Task-specific instructions**: Providing the LLM with specific instructions tailored to the task, for example, \"Write a story outline\" for generating a novel.\n",
      "3.  **Human inputs**: Decomposing tasks with direct human intervention and guidance.\n",
      "\n",
      "A common extension to these methods is **LLM+P (Liu et al. 2023)**. This approach leverages an external classical planner for long-horizon planning. It uses the Planning Domain Definition Language (PDDL) as an intermediate interface. The process involves the LLM translating the problem into \"Problem PDDL,\" then requesting a classical planner to generate a PDDL plan based on an existing \"Domain PDDL,\" and finally translating the PDDL plan back into natural language. This essentially outsources the planning step to an external tool, which is common in certain robotic setups.\n"
     ]
    }
   ],
   "source": [
    "# 确保 agent_executor 和 memory 变量在此处可用\n",
    "# 为新的对话线程指定一个ID，以避免与之前的“abc123”线程混淆。\n",
    "config = {\"configurable\": {\"thread_id\": \"def222\"}}\n",
    "print(f\"已设置新的对话线程ID: {config['configurable']['thread_id']}\")\n",
    "\n",
    "input_message = (\n",
    "    \"What is the standard method for Task Decomposition?\\n\\n\"\n",
    "    \"Once you get the answer, look up common extensions of that method.\"\n",
    ")\n",
    "\n",
    "print(f\"\\n--- 测试代理多步检索，输入: '{input_message}' ---\")\n",
    "# 以流式模式调用代理执行器\n",
    "for event in agent_executor.stream(\n",
    "    {\"messages\": [HumanMessage(content=input_message)]},\n",
    "    stream_mode=\"values\",\n",
    "    config=config, # 传入配置，启用状态持久化\n",
    "):\n",
    "    event[\"messages\"][-1].pretty_print()"
   ]
  },
  {
   "cell_type": "code",
   "execution_count": null,
   "id": "3af170a7-9523-472a-bd1e-7e045360e295",
   "metadata": {},
   "outputs": [],
   "source": []
  },
  {
   "cell_type": "code",
   "execution_count": null,
   "id": "fb75505e-51de-4ad4-baac-ea200d706adf",
   "metadata": {},
   "outputs": [],
   "source": []
  },
  {
   "cell_type": "code",
   "execution_count": null,
   "id": "49abddc1-c5be-4acd-bc8f-49948d7bb2ac",
   "metadata": {},
   "outputs": [],
   "source": [
    "# 下一步 (Next steps)\n",
    "# 我们已经涵盖了构建一个基本的对话式问答应用程序的步骤：\n",
    "\n",
    "# 我们使用链构建了一个可预测的应用程序，该应用程序为每个用户输入最多生成一个查询。\n",
    "# 我们使用代理构建了一个可以迭代查询序列的应用程序。\n",
    "# 要探索不同类型的检索器和检索策略，请访问操作指南的检索器部分。有关LangChain对话记忆抽象的详细演练，请访问如何添加消息历史（记忆）指南。要了解有关代理的更多信息，请查看概念指南和LangGraph代理架构页面。"
   ]
  },
  {
   "cell_type": "code",
   "execution_count": null,
   "id": "2d940c46-ef4b-46fe-b2e7-ece300b5d642",
   "metadata": {},
   "outputs": [],
   "source": []
  },
  {
   "cell_type": "code",
   "execution_count": null,
   "id": "a8bc37d9-4f30-4e63-be76-30c541694e20",
   "metadata": {},
   "outputs": [],
   "source": []
  },
  {
   "cell_type": "code",
   "execution_count": null,
   "id": "eac8eac5-89b1-41b6-8ad8-28a78e9e20f0",
   "metadata": {},
   "outputs": [],
   "source": []
  },
  {
   "cell_type": "code",
   "execution_count": null,
   "id": "a3462c59-b9bd-4991-bc10-e8c794823efb",
   "metadata": {},
   "outputs": [],
   "source": []
  },
  {
   "cell_type": "code",
   "execution_count": null,
   "id": "93398e77-e35c-4d81-8b5d-9f8c19b5793d",
   "metadata": {},
   "outputs": [],
   "source": []
  },
  {
   "cell_type": "code",
   "execution_count": null,
   "id": "c283f563-a029-4679-9a2c-840e2149e561",
   "metadata": {},
   "outputs": [],
   "source": []
  },
  {
   "cell_type": "code",
   "execution_count": null,
   "id": "8907a050-3a29-4541-96af-6bfcea01eafc",
   "metadata": {},
   "outputs": [],
   "source": []
  },
  {
   "cell_type": "code",
   "execution_count": null,
   "id": "84e5039d-922b-4c0f-b57d-4ba88f2ee062",
   "metadata": {},
   "outputs": [],
   "source": []
  },
  {
   "cell_type": "code",
   "execution_count": null,
   "id": "d4968a38-e15c-4cd9-b671-87ebbdef6a2b",
   "metadata": {},
   "outputs": [],
   "source": []
  },
  {
   "cell_type": "code",
   "execution_count": null,
   "id": "c5af78a3-b1c3-48bf-9385-b47d75c2a7bb",
   "metadata": {},
   "outputs": [],
   "source": []
  },
  {
   "cell_type": "code",
   "execution_count": null,
   "id": "ac26a27b-414f-49cf-a824-82410daafe81",
   "metadata": {},
   "outputs": [],
   "source": []
  },
  {
   "cell_type": "code",
   "execution_count": null,
   "id": "f9a9cd6e-f3f2-43df-b63d-f3577d515b27",
   "metadata": {},
   "outputs": [],
   "source": []
  },
  {
   "cell_type": "code",
   "execution_count": null,
   "id": "6ab719ca-618f-4732-a739-b78de5be2687",
   "metadata": {},
   "outputs": [],
   "source": []
  }
 ],
 "metadata": {
  "kernelspec": {
   "display_name": "Python 3 (ipykernel)",
   "language": "python",
   "name": "python3"
  },
  "language_info": {
   "codemirror_mode": {
    "name": "ipython",
    "version": 3
   },
   "file_extension": ".py",
   "mimetype": "text/x-python",
   "name": "python",
   "nbconvert_exporter": "python",
   "pygments_lexer": "ipython3",
   "version": "3.12.11"
  }
 },
 "nbformat": 4,
 "nbformat_minor": 5
}
